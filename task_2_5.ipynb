{
 "cells": [
  {
   "cell_type": "markdown",
   "metadata": {},
   "source": [
    "#### Задание\n",
    "\n",
    "Основные цели этого задания:\n",
    "- Попрактиковаться в борьбе с дисбалансом классов\n",
    "- Научиться заполнять пропуски в данных\n",
    "- Научиться использовать категориальные признаки.\\\n",
    "Задача: по различным признакам, связанным с заявкой на грант, предсказать, будет ли заявка принята. "
   ]
  },
  {
   "cell_type": "code",
   "execution_count": 1,
   "metadata": {},
   "outputs": [],
   "source": [
    "#pip install jinja2 missingno category_encoders\n",
    "#"
   ]
  },
  {
   "cell_type": "code",
   "execution_count": 1,
   "metadata": {},
   "outputs": [],
   "source": [
    "import pandas as pd\n",
    "import numpy as np\n",
    "from sklearn.model_selection import train_test_split, GridSearchCV, StratifiedKFold\n",
    "from sklearn.preprocessing import StandardScaler\n",
    "from sklearn.pipeline import Pipeline\n",
    "from sklearn.impute import SimpleImputer\n",
    "from sklearn.compose import ColumnTransformer\n",
    "from sklearn.linear_model import LogisticRegressionCV\n",
    "from sklearn.tree import DecisionTreeClassifier\n",
    "from sklearn.metrics import roc_auc_score, roc_curve, classification_report\n",
    "\n",
    "from imblearn.over_sampling import RandomOverSampler, SMOTE\n",
    "\n",
    "import category_encoders as ce\n",
    "import missingno as msno\n",
    "\n",
    "import matplotlib.pyplot as plt\n",
    "import seaborn as sns\n",
    "\n",
    "\n",
    "# pd.set_option(\"display.max_columns\", None)\n",
    "\n",
    "plt.rcParams[\"figure.figsize\"] = (6, 4)\n",
    "plt.rcParams['font.size'] = 10\n",
    "plt.style.use('dark_background')"
   ]
  },
  {
   "cell_type": "markdown",
   "metadata": {},
   "source": [
    "  1. Загрузите данные из csv файла. Ознакомьтесь с ними, проверьте наличие пропусков, узнайте типы признаков."
   ]
  },
  {
   "cell_type": "code",
   "execution_count": 3,
   "metadata": {},
   "outputs": [],
   "source": [
    "try:\n",
    "    df = pd.read_csv('grant_data_imb.csv') \n",
    "except FileNotFoundError:\n",
    "    print(\"You have to load the file to the directory before opening it.\")"
   ]
  },
  {
   "cell_type": "code",
   "execution_count": 4,
   "metadata": {},
   "outputs": [
    {
     "data": {
      "text/html": [
       "<div>\n",
       "<style scoped>\n",
       "    .dataframe tbody tr th:only-of-type {\n",
       "        vertical-align: middle;\n",
       "    }\n",
       "\n",
       "    .dataframe tbody tr th {\n",
       "        vertical-align: top;\n",
       "    }\n",
       "\n",
       "    .dataframe thead th {\n",
       "        text-align: right;\n",
       "    }\n",
       "</style>\n",
       "<table border=\"1\" class=\"dataframe\">\n",
       "  <thead>\n",
       "    <tr style=\"text-align: right;\">\n",
       "      <th></th>\n",
       "      <th>Grant.Status</th>\n",
       "      <th>Sponsor.Code</th>\n",
       "      <th>Grant.Category.Code</th>\n",
       "      <th>Contract.Value.Band...see.note.A</th>\n",
       "      <th>RFCD.Code.1</th>\n",
       "      <th>RFCD.Percentage.1</th>\n",
       "      <th>RFCD.Code.2</th>\n",
       "      <th>RFCD.Percentage.2</th>\n",
       "      <th>RFCD.Code.3</th>\n",
       "      <th>RFCD.Percentage.3</th>\n",
       "      <th>...</th>\n",
       "      <th>Dept.No..1</th>\n",
       "      <th>Faculty.No..1</th>\n",
       "      <th>With.PHD.1</th>\n",
       "      <th>No..of.Years.in.Uni.at.Time.of.Grant.1</th>\n",
       "      <th>Number.of.Successful.Grant.1</th>\n",
       "      <th>Number.of.Unsuccessful.Grant.1</th>\n",
       "      <th>A..1</th>\n",
       "      <th>A.1</th>\n",
       "      <th>B.1</th>\n",
       "      <th>C.1</th>\n",
       "    </tr>\n",
       "  </thead>\n",
       "  <tbody>\n",
       "    <tr>\n",
       "      <th>945</th>\n",
       "      <td>0</td>\n",
       "      <td>2B</td>\n",
       "      <td>10A</td>\n",
       "      <td>NaN</td>\n",
       "      <td>291702.0</td>\n",
       "      <td>60.0</td>\n",
       "      <td>240401.0</td>\n",
       "      <td>30.0</td>\n",
       "      <td>291804.0</td>\n",
       "      <td>10.0</td>\n",
       "      <td>...</td>\n",
       "      <td>3198.0</td>\n",
       "      <td>31.0</td>\n",
       "      <td>Yes</td>\n",
       "      <td>&gt;=0 to 5</td>\n",
       "      <td>0.0</td>\n",
       "      <td>2.0</td>\n",
       "      <td>5.0</td>\n",
       "      <td>2.0</td>\n",
       "      <td>1.0</td>\n",
       "      <td>0.0</td>\n",
       "    </tr>\n",
       "    <tr>\n",
       "      <th>2</th>\n",
       "      <td>0</td>\n",
       "      <td>317A</td>\n",
       "      <td>30D</td>\n",
       "      <td>NaN</td>\n",
       "      <td>321013.0</td>\n",
       "      <td>100.0</td>\n",
       "      <td>0.0</td>\n",
       "      <td>0.0</td>\n",
       "      <td>0.0</td>\n",
       "      <td>0.0</td>\n",
       "      <td>...</td>\n",
       "      <td>2763.0</td>\n",
       "      <td>25.0</td>\n",
       "      <td>Yes</td>\n",
       "      <td>&gt;5 to 10</td>\n",
       "      <td>4.0</td>\n",
       "      <td>3.0</td>\n",
       "      <td>6.0</td>\n",
       "      <td>25.0</td>\n",
       "      <td>14.0</td>\n",
       "      <td>14.0</td>\n",
       "    </tr>\n",
       "    <tr>\n",
       "      <th>370</th>\n",
       "      <td>1</td>\n",
       "      <td>29A</td>\n",
       "      <td>10B</td>\n",
       "      <td>A</td>\n",
       "      <td>321004.0</td>\n",
       "      <td>100.0</td>\n",
       "      <td>0.0</td>\n",
       "      <td>0.0</td>\n",
       "      <td>0.0</td>\n",
       "      <td>0.0</td>\n",
       "      <td>...</td>\n",
       "      <td>2713.0</td>\n",
       "      <td>25.0</td>\n",
       "      <td>NaN</td>\n",
       "      <td>Less than 0</td>\n",
       "      <td>2.0</td>\n",
       "      <td>1.0</td>\n",
       "      <td>0.0</td>\n",
       "      <td>0.0</td>\n",
       "      <td>0.0</td>\n",
       "      <td>0.0</td>\n",
       "    </tr>\n",
       "    <tr>\n",
       "      <th>491</th>\n",
       "      <td>1</td>\n",
       "      <td>252D</td>\n",
       "      <td>20A</td>\n",
       "      <td>K</td>\n",
       "      <td>321013.0</td>\n",
       "      <td>100.0</td>\n",
       "      <td>0.0</td>\n",
       "      <td>0.0</td>\n",
       "      <td>0.0</td>\n",
       "      <td>0.0</td>\n",
       "      <td>...</td>\n",
       "      <td>NaN</td>\n",
       "      <td>NaN</td>\n",
       "      <td>NaN</td>\n",
       "      <td>NaN</td>\n",
       "      <td>0.0</td>\n",
       "      <td>0.0</td>\n",
       "      <td>0.0</td>\n",
       "      <td>0.0</td>\n",
       "      <td>0.0</td>\n",
       "      <td>0.0</td>\n",
       "    </tr>\n",
       "    <tr>\n",
       "      <th>18</th>\n",
       "      <td>1</td>\n",
       "      <td>21A</td>\n",
       "      <td>50A</td>\n",
       "      <td>A</td>\n",
       "      <td>270105.0</td>\n",
       "      <td>40.0</td>\n",
       "      <td>321010.0</td>\n",
       "      <td>60.0</td>\n",
       "      <td>0.0</td>\n",
       "      <td>0.0</td>\n",
       "      <td>...</td>\n",
       "      <td>2763.0</td>\n",
       "      <td>25.0</td>\n",
       "      <td>Yes</td>\n",
       "      <td>&gt;=0 to 5</td>\n",
       "      <td>1.0</td>\n",
       "      <td>1.0</td>\n",
       "      <td>0.0</td>\n",
       "      <td>1.0</td>\n",
       "      <td>3.0</td>\n",
       "      <td>0.0</td>\n",
       "    </tr>\n",
       "  </tbody>\n",
       "</table>\n",
       "<p>5 rows × 39 columns</p>\n",
       "</div>"
      ],
      "text/plain": [
       "     Grant.Status Sponsor.Code Grant.Category.Code  \\\n",
       "945             0           2B                 10A   \n",
       "2               0         317A                 30D   \n",
       "370             1          29A                 10B   \n",
       "491             1         252D                 20A   \n",
       "18              1          21A                 50A   \n",
       "\n",
       "    Contract.Value.Band...see.note.A  RFCD.Code.1  RFCD.Percentage.1  \\\n",
       "945                              NaN     291702.0               60.0   \n",
       "2                                NaN     321013.0              100.0   \n",
       "370                               A      321004.0              100.0   \n",
       "491                               K      321013.0              100.0   \n",
       "18                                A      270105.0               40.0   \n",
       "\n",
       "     RFCD.Code.2  RFCD.Percentage.2  RFCD.Code.3  RFCD.Percentage.3  ...  \\\n",
       "945     240401.0               30.0     291804.0               10.0  ...   \n",
       "2            0.0                0.0          0.0                0.0  ...   \n",
       "370          0.0                0.0          0.0                0.0  ...   \n",
       "491          0.0                0.0          0.0                0.0  ...   \n",
       "18      321010.0               60.0          0.0                0.0  ...   \n",
       "\n",
       "     Dept.No..1  Faculty.No..1  With.PHD.1  \\\n",
       "945      3198.0           31.0        Yes    \n",
       "2        2763.0           25.0        Yes    \n",
       "370      2713.0           25.0         NaN   \n",
       "491         NaN            NaN         NaN   \n",
       "18       2763.0           25.0        Yes    \n",
       "\n",
       "     No..of.Years.in.Uni.at.Time.of.Grant.1  Number.of.Successful.Grant.1  \\\n",
       "945                                >=0 to 5                           0.0   \n",
       "2                                  >5 to 10                           4.0   \n",
       "370                             Less than 0                           2.0   \n",
       "491                                     NaN                           0.0   \n",
       "18                                 >=0 to 5                           1.0   \n",
       "\n",
       "     Number.of.Unsuccessful.Grant.1  A..1   A.1   B.1   C.1  \n",
       "945                             2.0   5.0   2.0   1.0   0.0  \n",
       "2                               3.0   6.0  25.0  14.0  14.0  \n",
       "370                             1.0   0.0   0.0   0.0   0.0  \n",
       "491                             0.0   0.0   0.0   0.0   0.0  \n",
       "18                              1.0   0.0   1.0   3.0   0.0  \n",
       "\n",
       "[5 rows x 39 columns]"
      ]
     },
     "execution_count": 4,
     "metadata": {},
     "output_type": "execute_result"
    }
   ],
   "source": [
    "df.sample(5)"
   ]
  },
  {
   "cell_type": "code",
   "execution_count": 5,
   "metadata": {},
   "outputs": [
    {
     "data": {
      "text/plain": [
       "Index(['grant.status', 'sponsor.code', 'grant.category.code',\n",
       "       'contract.value.band...see.note.a', 'rfcd.code.1', 'rfcd.percentage.1',\n",
       "       'rfcd.code.2', 'rfcd.percentage.2', 'rfcd.code.3', 'rfcd.percentage.3',\n",
       "       'rfcd.code.4', 'rfcd.percentage.4', 'rfcd.code.5', 'rfcd.percentage.5',\n",
       "       'seo.code.1', 'seo.percentage.1', 'seo.code.2', 'seo.percentage.2',\n",
       "       'seo.code.3', 'seo.percentage.3', 'seo.code.4', 'seo.percentage.4',\n",
       "       'seo.code.5', 'seo.percentage.5', 'person.id.1', 'role.1',\n",
       "       'year.of.birth.1', 'country.of.birth.1', 'home.language.1',\n",
       "       'dept.no..1', 'faculty.no..1', 'with.phd.1',\n",
       "       'no..of.years.in.uni.at.time.of.grant.1',\n",
       "       'number.of.successful.grant.1', 'number.of.unsuccessful.grant.1',\n",
       "       'a..1', 'a.1', 'b.1', 'c.1'],\n",
       "      dtype='object')"
      ]
     },
     "execution_count": 5,
     "metadata": {},
     "output_type": "execute_result"
    }
   ],
   "source": [
    "# для удобства работы заменим названия признаков\n",
    "df.columns = df.columns.str.lower()#.str.replace(\".\", \"_\")\n",
    "df.columns"
   ]
  },
  {
   "cell_type": "code",
   "execution_count": 6,
   "metadata": {},
   "outputs": [
    {
     "name": "stdout",
     "output_type": "stream",
     "text": [
      "<class 'pandas.core.frame.DataFrame'>\n",
      "RangeIndex: 4113 entries, 0 to 4112\n",
      "Data columns (total 39 columns):\n",
      " #   Column                                  Non-Null Count  Dtype  \n",
      "---  ------                                  --------------  -----  \n",
      " 0   grant.status                            4113 non-null   int64  \n",
      " 1   sponsor.code                            3856 non-null   object \n",
      " 2   grant.category.code                     3856 non-null   object \n",
      " 3   contract.value.band...see.note.a        1953 non-null   object \n",
      " 4   rfcd.code.1                             3853 non-null   float64\n",
      " 5   rfcd.percentage.1                       3853 non-null   float64\n",
      " 6   rfcd.code.2                             3853 non-null   float64\n",
      " 7   rfcd.percentage.2                       3853 non-null   float64\n",
      " 8   rfcd.code.3                             3853 non-null   float64\n",
      " 9   rfcd.percentage.3                       3853 non-null   float64\n",
      " 10  rfcd.code.4                             3853 non-null   float64\n",
      " 11  rfcd.percentage.4                       3853 non-null   float64\n",
      " 12  rfcd.code.5                             3853 non-null   float64\n",
      " 13  rfcd.percentage.5                       3853 non-null   float64\n",
      " 14  seo.code.1                              3837 non-null   float64\n",
      " 15  seo.percentage.1                        3837 non-null   float64\n",
      " 16  seo.code.2                              3837 non-null   float64\n",
      " 17  seo.percentage.2                        3837 non-null   float64\n",
      " 18  seo.code.3                              3837 non-null   float64\n",
      " 19  seo.percentage.3                        3837 non-null   float64\n",
      " 20  seo.code.4                              3837 non-null   float64\n",
      " 21  seo.percentage.4                        3837 non-null   float64\n",
      " 22  seo.code.5                              3837 non-null   float64\n",
      " 23  seo.percentage.5                        3837 non-null   float64\n",
      " 24  person.id.1                             3826 non-null   float64\n",
      " 25  role.1                                  4067 non-null   object \n",
      " 26  year.of.birth.1                         3825 non-null   float64\n",
      " 27  country.of.birth.1                      3447 non-null   object \n",
      " 28  home.language.1                         394 non-null    object \n",
      " 29  dept.no..1                              3665 non-null   float64\n",
      " 30  faculty.no..1                           3664 non-null   float64\n",
      " 31  with.phd.1                              2332 non-null   object \n",
      " 32  no..of.years.in.uni.at.time.of.grant.1  3354 non-null   object \n",
      " 33  number.of.successful.grant.1            3826 non-null   float64\n",
      " 34  number.of.unsuccessful.grant.1          3826 non-null   float64\n",
      " 35  a..1                                    3826 non-null   float64\n",
      " 36  a.1                                     3826 non-null   float64\n",
      " 37  b.1                                     3826 non-null   float64\n",
      " 38  c.1                                     3826 non-null   float64\n",
      "dtypes: float64(30), int64(1), object(8)\n",
      "memory usage: 1.2+ MB\n"
     ]
    }
   ],
   "source": [
    "df.info()"
   ]
  },
  {
   "cell_type": "markdown",
   "metadata": {},
   "source": [
    "Удалим дубликаты, если они есть."
   ]
  },
  {
   "cell_type": "code",
   "execution_count": 7,
   "metadata": {},
   "outputs": [
    {
     "name": "stdout",
     "output_type": "stream",
     "text": [
      "Количество дубликатов: 65\n"
     ]
    }
   ],
   "source": [
    "print(f\"Количество дубликатов: {df[df.duplicated()].shape[0]}\")\n",
    "df = df.drop_duplicates().reset_index(drop=True)"
   ]
  },
  {
   "cell_type": "code",
   "execution_count": 8,
   "metadata": {},
   "outputs": [
    {
     "data": {
      "text/plain": [
       "(4048, 39)"
      ]
     },
     "execution_count": 8,
     "metadata": {},
     "output_type": "execute_result"
    }
   ],
   "source": [
    "df.shape"
   ]
  },
  {
   "cell_type": "code",
   "execution_count": 9,
   "metadata": {},
   "outputs": [
    {
     "data": {
      "text/html": [
       "<div>\n",
       "<style scoped>\n",
       "    .dataframe tbody tr th:only-of-type {\n",
       "        vertical-align: middle;\n",
       "    }\n",
       "\n",
       "    .dataframe tbody tr th {\n",
       "        vertical-align: top;\n",
       "    }\n",
       "\n",
       "    .dataframe thead th {\n",
       "        text-align: right;\n",
       "    }\n",
       "</style>\n",
       "<table border=\"1\" class=\"dataframe\">\n",
       "  <thead>\n",
       "    <tr style=\"text-align: right;\">\n",
       "      <th></th>\n",
       "      <th>unique</th>\n",
       "      <th>count</th>\n",
       "      <th>mean</th>\n",
       "      <th>std</th>\n",
       "      <th>min</th>\n",
       "      <th>25%</th>\n",
       "      <th>50%</th>\n",
       "      <th>75%</th>\n",
       "      <th>max</th>\n",
       "    </tr>\n",
       "  </thead>\n",
       "  <tbody>\n",
       "    <tr>\n",
       "      <th>grant.status</th>\n",
       "      <td>2</td>\n",
       "      <td>4048.0</td>\n",
       "      <td>0.207263</td>\n",
       "      <td>0.405396</td>\n",
       "      <td>0.0</td>\n",
       "      <td>0.0</td>\n",
       "      <td>0.0</td>\n",
       "      <td>0.0</td>\n",
       "      <td>1.0</td>\n",
       "    </tr>\n",
       "    <tr>\n",
       "      <th>rfcd.code.1</th>\n",
       "      <td>549</td>\n",
       "      <td>3799.0</td>\n",
       "      <td>314987.705186</td>\n",
       "      <td>47395.004340</td>\n",
       "      <td>210000.0</td>\n",
       "      <td>280401.0</td>\n",
       "      <td>320801.0</td>\n",
       "      <td>321202.0</td>\n",
       "      <td>999999.0</td>\n",
       "    </tr>\n",
       "    <tr>\n",
       "      <th>rfcd.percentage.1</th>\n",
       "      <td>21</td>\n",
       "      <td>3799.0</td>\n",
       "      <td>74.569097</td>\n",
       "      <td>26.855677</td>\n",
       "      <td>5.0</td>\n",
       "      <td>50.0</td>\n",
       "      <td>80.0</td>\n",
       "      <td>100.0</td>\n",
       "      <td>100.0</td>\n",
       "    </tr>\n",
       "    <tr>\n",
       "      <th>rfcd.code.2</th>\n",
       "      <td>526</td>\n",
       "      <td>3799.0</td>\n",
       "      <td>162425.832061</td>\n",
       "      <td>161657.262975</td>\n",
       "      <td>0.0</td>\n",
       "      <td>0.0</td>\n",
       "      <td>240204.0</td>\n",
       "      <td>320704.0</td>\n",
       "      <td>440207.0</td>\n",
       "    </tr>\n",
       "    <tr>\n",
       "      <th>rfcd.percentage.2</th>\n",
       "      <td>19</td>\n",
       "      <td>3799.0</td>\n",
       "      <td>17.726770</td>\n",
       "      <td>19.229527</td>\n",
       "      <td>0.0</td>\n",
       "      <td>0.0</td>\n",
       "      <td>10.0</td>\n",
       "      <td>30.0</td>\n",
       "      <td>90.0</td>\n",
       "    </tr>\n",
       "    <tr>\n",
       "      <th>rfcd.code.3</th>\n",
       "      <td>439</td>\n",
       "      <td>3799.0</td>\n",
       "      <td>97265.227428</td>\n",
       "      <td>149011.083605</td>\n",
       "      <td>0.0</td>\n",
       "      <td>0.0</td>\n",
       "      <td>0.0</td>\n",
       "      <td>270304.0</td>\n",
       "      <td>440207.0</td>\n",
       "    </tr>\n",
       "    <tr>\n",
       "      <th>rfcd.percentage.3</th>\n",
       "      <td>16</td>\n",
       "      <td>3799.0</td>\n",
       "      <td>7.131614</td>\n",
       "      <td>11.938607</td>\n",
       "      <td>0.0</td>\n",
       "      <td>0.0</td>\n",
       "      <td>0.0</td>\n",
       "      <td>20.0</td>\n",
       "      <td>70.0</td>\n",
       "    </tr>\n",
       "    <tr>\n",
       "      <th>rfcd.code.4</th>\n",
       "      <td>75</td>\n",
       "      <td>3799.0</td>\n",
       "      <td>6847.968939</td>\n",
       "      <td>45925.908243</td>\n",
       "      <td>0.0</td>\n",
       "      <td>0.0</td>\n",
       "      <td>0.0</td>\n",
       "      <td>0.0</td>\n",
       "      <td>440105.0</td>\n",
       "    </tr>\n",
       "    <tr>\n",
       "      <th>rfcd.percentage.4</th>\n",
       "      <td>11</td>\n",
       "      <td>3799.0</td>\n",
       "      <td>0.442222</td>\n",
       "      <td>3.226775</td>\n",
       "      <td>0.0</td>\n",
       "      <td>0.0</td>\n",
       "      <td>0.0</td>\n",
       "      <td>0.0</td>\n",
       "      <td>70.0</td>\n",
       "    </tr>\n",
       "    <tr>\n",
       "      <th>rfcd.code.5</th>\n",
       "      <td>20</td>\n",
       "      <td>3799.0</td>\n",
       "      <td>1793.120558</td>\n",
       "      <td>23764.531159</td>\n",
       "      <td>0.0</td>\n",
       "      <td>0.0</td>\n",
       "      <td>0.0</td>\n",
       "      <td>0.0</td>\n",
       "      <td>419999.0</td>\n",
       "    </tr>\n",
       "    <tr>\n",
       "      <th>rfcd.percentage.5</th>\n",
       "      <td>8</td>\n",
       "      <td>3799.0</td>\n",
       "      <td>0.130297</td>\n",
       "      <td>1.850843</td>\n",
       "      <td>0.0</td>\n",
       "      <td>0.0</td>\n",
       "      <td>0.0</td>\n",
       "      <td>0.0</td>\n",
       "      <td>40.0</td>\n",
       "    </tr>\n",
       "    <tr>\n",
       "      <th>seo.code.1</th>\n",
       "      <td>341</td>\n",
       "      <td>3784.0</td>\n",
       "      <td>729038.464059</td>\n",
       "      <td>34714.514632</td>\n",
       "      <td>610102.0</td>\n",
       "      <td>730104.0</td>\n",
       "      <td>730110.5</td>\n",
       "      <td>740301.0</td>\n",
       "      <td>999999.0</td>\n",
       "    </tr>\n",
       "    <tr>\n",
       "      <th>seo.percentage.1</th>\n",
       "      <td>24</td>\n",
       "      <td>3784.0</td>\n",
       "      <td>70.372172</td>\n",
       "      <td>26.842408</td>\n",
       "      <td>5.0</td>\n",
       "      <td>50.0</td>\n",
       "      <td>70.0</td>\n",
       "      <td>100.0</td>\n",
       "      <td>100.0</td>\n",
       "    </tr>\n",
       "    <tr>\n",
       "      <th>seo.code.2</th>\n",
       "      <td>308</td>\n",
       "      <td>3784.0</td>\n",
       "      <td>445947.510571</td>\n",
       "      <td>356124.218765</td>\n",
       "      <td>0.0</td>\n",
       "      <td>0.0</td>\n",
       "      <td>730101.0</td>\n",
       "      <td>730211.0</td>\n",
       "      <td>780199.0</td>\n",
       "    </tr>\n",
       "    <tr>\n",
       "      <th>seo.percentage.2</th>\n",
       "      <td>21</td>\n",
       "      <td>3784.0</td>\n",
       "      <td>21.339403</td>\n",
       "      <td>20.053322</td>\n",
       "      <td>0.0</td>\n",
       "      <td>0.0</td>\n",
       "      <td>20.0</td>\n",
       "      <td>40.0</td>\n",
       "      <td>90.0</td>\n",
       "    </tr>\n",
       "    <tr>\n",
       "      <th>seo.code.3</th>\n",
       "      <td>246</td>\n",
       "      <td>3784.0</td>\n",
       "      <td>235716.176797</td>\n",
       "      <td>341509.658083</td>\n",
       "      <td>0.0</td>\n",
       "      <td>0.0</td>\n",
       "      <td>0.0</td>\n",
       "      <td>730102.0</td>\n",
       "      <td>780199.0</td>\n",
       "    </tr>\n",
       "    <tr>\n",
       "      <th>seo.percentage.3</th>\n",
       "      <td>20</td>\n",
       "      <td>3784.0</td>\n",
       "      <td>7.344715</td>\n",
       "      <td>12.048906</td>\n",
       "      <td>0.0</td>\n",
       "      <td>0.0</td>\n",
       "      <td>0.0</td>\n",
       "      <td>20.0</td>\n",
       "      <td>80.0</td>\n",
       "    </tr>\n",
       "    <tr>\n",
       "      <th>seo.code.4</th>\n",
       "      <td>64</td>\n",
       "      <td>3784.0</td>\n",
       "      <td>32627.954281</td>\n",
       "      <td>150119.297717</td>\n",
       "      <td>0.0</td>\n",
       "      <td>0.0</td>\n",
       "      <td>0.0</td>\n",
       "      <td>0.0</td>\n",
       "      <td>780108.0</td>\n",
       "    </tr>\n",
       "    <tr>\n",
       "      <th>seo.percentage.4</th>\n",
       "      <td>8</td>\n",
       "      <td>3784.0</td>\n",
       "      <td>0.724101</td>\n",
       "      <td>3.734726</td>\n",
       "      <td>0.0</td>\n",
       "      <td>0.0</td>\n",
       "      <td>0.0</td>\n",
       "      <td>0.0</td>\n",
       "      <td>40.0</td>\n",
       "    </tr>\n",
       "    <tr>\n",
       "      <th>seo.code.5</th>\n",
       "      <td>28</td>\n",
       "      <td>3784.0</td>\n",
       "      <td>9544.161205</td>\n",
       "      <td>82561.101575</td>\n",
       "      <td>0.0</td>\n",
       "      <td>0.0</td>\n",
       "      <td>0.0</td>\n",
       "      <td>0.0</td>\n",
       "      <td>780105.0</td>\n",
       "    </tr>\n",
       "    <tr>\n",
       "      <th>seo.percentage.5</th>\n",
       "      <td>7</td>\n",
       "      <td>3784.0</td>\n",
       "      <td>0.219345</td>\n",
       "      <td>2.227359</td>\n",
       "      <td>0.0</td>\n",
       "      <td>0.0</td>\n",
       "      <td>0.0</td>\n",
       "      <td>0.0</td>\n",
       "      <td>50.0</td>\n",
       "    </tr>\n",
       "    <tr>\n",
       "      <th>person.id.1</th>\n",
       "      <td>1669</td>\n",
       "      <td>3784.0</td>\n",
       "      <td>171992.924947</td>\n",
       "      <td>254440.377363</td>\n",
       "      <td>362.0</td>\n",
       "      <td>27632.0</td>\n",
       "      <td>71082.0</td>\n",
       "      <td>122264.5</td>\n",
       "      <td>1145967.0</td>\n",
       "    </tr>\n",
       "    <tr>\n",
       "      <th>year.of.birth.1</th>\n",
       "      <td>12</td>\n",
       "      <td>3783.0</td>\n",
       "      <td>1962.694951</td>\n",
       "      <td>9.431206</td>\n",
       "      <td>1930.0</td>\n",
       "      <td>1955.0</td>\n",
       "      <td>1965.0</td>\n",
       "      <td>1970.0</td>\n",
       "      <td>1985.0</td>\n",
       "    </tr>\n",
       "    <tr>\n",
       "      <th>dept.no..1</th>\n",
       "      <td>97</td>\n",
       "      <td>3624.0</td>\n",
       "      <td>2437.535044</td>\n",
       "      <td>741.594166</td>\n",
       "      <td>28.0</td>\n",
       "      <td>2298.0</td>\n",
       "      <td>2653.0</td>\n",
       "      <td>2813.0</td>\n",
       "      <td>4418.0</td>\n",
       "    </tr>\n",
       "    <tr>\n",
       "      <th>faculty.no..1</th>\n",
       "      <td>18</td>\n",
       "      <td>3623.0</td>\n",
       "      <td>23.789401</td>\n",
       "      <td>11.358331</td>\n",
       "      <td>1.0</td>\n",
       "      <td>25.0</td>\n",
       "      <td>25.0</td>\n",
       "      <td>25.0</td>\n",
       "      <td>187.0</td>\n",
       "    </tr>\n",
       "    <tr>\n",
       "      <th>number.of.successful.grant.1</th>\n",
       "      <td>13</td>\n",
       "      <td>3784.0</td>\n",
       "      <td>1.048890</td>\n",
       "      <td>1.483717</td>\n",
       "      <td>0.0</td>\n",
       "      <td>0.0</td>\n",
       "      <td>1.0</td>\n",
       "      <td>2.0</td>\n",
       "      <td>13.0</td>\n",
       "    </tr>\n",
       "    <tr>\n",
       "      <th>number.of.unsuccessful.grant.1</th>\n",
       "      <td>24</td>\n",
       "      <td>3784.0</td>\n",
       "      <td>2.420455</td>\n",
       "      <td>2.976161</td>\n",
       "      <td>0.0</td>\n",
       "      <td>1.0</td>\n",
       "      <td>1.0</td>\n",
       "      <td>3.0</td>\n",
       "      <td>24.0</td>\n",
       "    </tr>\n",
       "    <tr>\n",
       "      <th>a..1</th>\n",
       "      <td>49</td>\n",
       "      <td>3784.0</td>\n",
       "      <td>3.555497</td>\n",
       "      <td>6.999950</td>\n",
       "      <td>0.0</td>\n",
       "      <td>0.0</td>\n",
       "      <td>1.0</td>\n",
       "      <td>4.0</td>\n",
       "      <td>123.0</td>\n",
       "    </tr>\n",
       "    <tr>\n",
       "      <th>a.1</th>\n",
       "      <td>51</td>\n",
       "      <td>3784.0</td>\n",
       "      <td>5.219345</td>\n",
       "      <td>7.728610</td>\n",
       "      <td>0.0</td>\n",
       "      <td>0.0</td>\n",
       "      <td>3.0</td>\n",
       "      <td>7.0</td>\n",
       "      <td>87.0</td>\n",
       "    </tr>\n",
       "    <tr>\n",
       "      <th>b.1</th>\n",
       "      <td>41</td>\n",
       "      <td>3784.0</td>\n",
       "      <td>4.101480</td>\n",
       "      <td>5.369927</td>\n",
       "      <td>0.0</td>\n",
       "      <td>0.0</td>\n",
       "      <td>2.0</td>\n",
       "      <td>6.0</td>\n",
       "      <td>59.0</td>\n",
       "    </tr>\n",
       "    <tr>\n",
       "      <th>c.1</th>\n",
       "      <td>36</td>\n",
       "      <td>3784.0</td>\n",
       "      <td>2.234672</td>\n",
       "      <td>4.364675</td>\n",
       "      <td>0.0</td>\n",
       "      <td>0.0</td>\n",
       "      <td>1.0</td>\n",
       "      <td>3.0</td>\n",
       "      <td>61.0</td>\n",
       "    </tr>\n",
       "  </tbody>\n",
       "</table>\n",
       "</div>"
      ],
      "text/plain": [
       "                                unique   count           mean            std  \\\n",
       "grant.status                         2  4048.0       0.207263       0.405396   \n",
       "rfcd.code.1                        549  3799.0  314987.705186   47395.004340   \n",
       "rfcd.percentage.1                   21  3799.0      74.569097      26.855677   \n",
       "rfcd.code.2                        526  3799.0  162425.832061  161657.262975   \n",
       "rfcd.percentage.2                   19  3799.0      17.726770      19.229527   \n",
       "rfcd.code.3                        439  3799.0   97265.227428  149011.083605   \n",
       "rfcd.percentage.3                   16  3799.0       7.131614      11.938607   \n",
       "rfcd.code.4                         75  3799.0    6847.968939   45925.908243   \n",
       "rfcd.percentage.4                   11  3799.0       0.442222       3.226775   \n",
       "rfcd.code.5                         20  3799.0    1793.120558   23764.531159   \n",
       "rfcd.percentage.5                    8  3799.0       0.130297       1.850843   \n",
       "seo.code.1                         341  3784.0  729038.464059   34714.514632   \n",
       "seo.percentage.1                    24  3784.0      70.372172      26.842408   \n",
       "seo.code.2                         308  3784.0  445947.510571  356124.218765   \n",
       "seo.percentage.2                    21  3784.0      21.339403      20.053322   \n",
       "seo.code.3                         246  3784.0  235716.176797  341509.658083   \n",
       "seo.percentage.3                    20  3784.0       7.344715      12.048906   \n",
       "seo.code.4                          64  3784.0   32627.954281  150119.297717   \n",
       "seo.percentage.4                     8  3784.0       0.724101       3.734726   \n",
       "seo.code.5                          28  3784.0    9544.161205   82561.101575   \n",
       "seo.percentage.5                     7  3784.0       0.219345       2.227359   \n",
       "person.id.1                       1669  3784.0  171992.924947  254440.377363   \n",
       "year.of.birth.1                     12  3783.0    1962.694951       9.431206   \n",
       "dept.no..1                          97  3624.0    2437.535044     741.594166   \n",
       "faculty.no..1                       18  3623.0      23.789401      11.358331   \n",
       "number.of.successful.grant.1        13  3784.0       1.048890       1.483717   \n",
       "number.of.unsuccessful.grant.1      24  3784.0       2.420455       2.976161   \n",
       "a..1                                49  3784.0       3.555497       6.999950   \n",
       "a.1                                 51  3784.0       5.219345       7.728610   \n",
       "b.1                                 41  3784.0       4.101480       5.369927   \n",
       "c.1                                 36  3784.0       2.234672       4.364675   \n",
       "\n",
       "                                     min       25%       50%       75%  \\\n",
       "grant.status                         0.0       0.0       0.0       0.0   \n",
       "rfcd.code.1                     210000.0  280401.0  320801.0  321202.0   \n",
       "rfcd.percentage.1                    5.0      50.0      80.0     100.0   \n",
       "rfcd.code.2                          0.0       0.0  240204.0  320704.0   \n",
       "rfcd.percentage.2                    0.0       0.0      10.0      30.0   \n",
       "rfcd.code.3                          0.0       0.0       0.0  270304.0   \n",
       "rfcd.percentage.3                    0.0       0.0       0.0      20.0   \n",
       "rfcd.code.4                          0.0       0.0       0.0       0.0   \n",
       "rfcd.percentage.4                    0.0       0.0       0.0       0.0   \n",
       "rfcd.code.5                          0.0       0.0       0.0       0.0   \n",
       "rfcd.percentage.5                    0.0       0.0       0.0       0.0   \n",
       "seo.code.1                      610102.0  730104.0  730110.5  740301.0   \n",
       "seo.percentage.1                     5.0      50.0      70.0     100.0   \n",
       "seo.code.2                           0.0       0.0  730101.0  730211.0   \n",
       "seo.percentage.2                     0.0       0.0      20.0      40.0   \n",
       "seo.code.3                           0.0       0.0       0.0  730102.0   \n",
       "seo.percentage.3                     0.0       0.0       0.0      20.0   \n",
       "seo.code.4                           0.0       0.0       0.0       0.0   \n",
       "seo.percentage.4                     0.0       0.0       0.0       0.0   \n",
       "seo.code.5                           0.0       0.0       0.0       0.0   \n",
       "seo.percentage.5                     0.0       0.0       0.0       0.0   \n",
       "person.id.1                        362.0   27632.0   71082.0  122264.5   \n",
       "year.of.birth.1                   1930.0    1955.0    1965.0    1970.0   \n",
       "dept.no..1                          28.0    2298.0    2653.0    2813.0   \n",
       "faculty.no..1                        1.0      25.0      25.0      25.0   \n",
       "number.of.successful.grant.1         0.0       0.0       1.0       2.0   \n",
       "number.of.unsuccessful.grant.1       0.0       1.0       1.0       3.0   \n",
       "a..1                                 0.0       0.0       1.0       4.0   \n",
       "a.1                                  0.0       0.0       3.0       7.0   \n",
       "b.1                                  0.0       0.0       2.0       6.0   \n",
       "c.1                                  0.0       0.0       1.0       3.0   \n",
       "\n",
       "                                      max  \n",
       "grant.status                          1.0  \n",
       "rfcd.code.1                      999999.0  \n",
       "rfcd.percentage.1                   100.0  \n",
       "rfcd.code.2                      440207.0  \n",
       "rfcd.percentage.2                    90.0  \n",
       "rfcd.code.3                      440207.0  \n",
       "rfcd.percentage.3                    70.0  \n",
       "rfcd.code.4                      440105.0  \n",
       "rfcd.percentage.4                    70.0  \n",
       "rfcd.code.5                      419999.0  \n",
       "rfcd.percentage.5                    40.0  \n",
       "seo.code.1                       999999.0  \n",
       "seo.percentage.1                    100.0  \n",
       "seo.code.2                       780199.0  \n",
       "seo.percentage.2                     90.0  \n",
       "seo.code.3                       780199.0  \n",
       "seo.percentage.3                     80.0  \n",
       "seo.code.4                       780108.0  \n",
       "seo.percentage.4                     40.0  \n",
       "seo.code.5                       780105.0  \n",
       "seo.percentage.5                     50.0  \n",
       "person.id.1                     1145967.0  \n",
       "year.of.birth.1                    1985.0  \n",
       "dept.no..1                         4418.0  \n",
       "faculty.no..1                       187.0  \n",
       "number.of.successful.grant.1         13.0  \n",
       "number.of.unsuccessful.grant.1       24.0  \n",
       "a..1                                123.0  \n",
       "a.1                                  87.0  \n",
       "b.1                                  59.0  \n",
       "c.1                                  61.0  "
      ]
     },
     "execution_count": 9,
     "metadata": {},
     "output_type": "execute_result"
    }
   ],
   "source": [
    "# добавим в описание данных столбец с уникальными значениями.\n",
    "num_feat = df.select_dtypes(include=\"number\")\n",
    "var_ = num_feat.nunique().to_frame(name=\"unique\")\n",
    "pd.concat([var_, num_feat.describe().T], join=\"outer\", axis=1)"
   ]
  },
  {
   "cell_type": "markdown",
   "metadata": {},
   "source": [
    "В числовых данных много пропусков, по большей части столбцов большинство значений находится выше 50% квартиля."
   ]
  },
  {
   "cell_type": "code",
   "execution_count": 10,
   "metadata": {},
   "outputs": [
    {
     "data": {
      "text/html": [
       "<div>\n",
       "<style scoped>\n",
       "    .dataframe tbody tr th:only-of-type {\n",
       "        vertical-align: middle;\n",
       "    }\n",
       "\n",
       "    .dataframe tbody tr th {\n",
       "        vertical-align: top;\n",
       "    }\n",
       "\n",
       "    .dataframe thead th {\n",
       "        text-align: right;\n",
       "    }\n",
       "</style>\n",
       "<table border=\"1\" class=\"dataframe\">\n",
       "  <thead>\n",
       "    <tr style=\"text-align: right;\">\n",
       "      <th></th>\n",
       "      <th>count</th>\n",
       "      <th>unique</th>\n",
       "      <th>top</th>\n",
       "      <th>freq</th>\n",
       "    </tr>\n",
       "  </thead>\n",
       "  <tbody>\n",
       "    <tr>\n",
       "      <th>sponsor.code</th>\n",
       "      <td>3803</td>\n",
       "      <td>226</td>\n",
       "      <td>4D</td>\n",
       "      <td>979</td>\n",
       "    </tr>\n",
       "    <tr>\n",
       "      <th>grant.category.code</th>\n",
       "      <td>3803</td>\n",
       "      <td>13</td>\n",
       "      <td>10A</td>\n",
       "      <td>2020</td>\n",
       "    </tr>\n",
       "    <tr>\n",
       "      <th>contract.value.band...see.note.a</th>\n",
       "      <td>1931</td>\n",
       "      <td>16</td>\n",
       "      <td>A</td>\n",
       "      <td>951</td>\n",
       "    </tr>\n",
       "    <tr>\n",
       "      <th>role.1</th>\n",
       "      <td>4007</td>\n",
       "      <td>7</td>\n",
       "      <td>CHIEF_INVESTIGATOR</td>\n",
       "      <td>3601</td>\n",
       "    </tr>\n",
       "    <tr>\n",
       "      <th>country.of.birth.1</th>\n",
       "      <td>3409</td>\n",
       "      <td>10</td>\n",
       "      <td>Australia</td>\n",
       "      <td>2501</td>\n",
       "    </tr>\n",
       "    <tr>\n",
       "      <th>home.language.1</th>\n",
       "      <td>389</td>\n",
       "      <td>2</td>\n",
       "      <td>English</td>\n",
       "      <td>312</td>\n",
       "    </tr>\n",
       "    <tr>\n",
       "      <th>with.phd.1</th>\n",
       "      <td>2304</td>\n",
       "      <td>1</td>\n",
       "      <td>Yes</td>\n",
       "      <td>2304</td>\n",
       "    </tr>\n",
       "    <tr>\n",
       "      <th>no..of.years.in.uni.at.time.of.grant.1</th>\n",
       "      <td>3313</td>\n",
       "      <td>5</td>\n",
       "      <td>&gt;=0 to 5</td>\n",
       "      <td>1321</td>\n",
       "    </tr>\n",
       "  </tbody>\n",
       "</table>\n",
       "</div>"
      ],
      "text/plain": [
       "                                       count unique                 top  freq\n",
       "sponsor.code                            3803    226                  4D   979\n",
       "grant.category.code                     3803     13                 10A  2020\n",
       "contract.value.band...see.note.a        1931     16                  A    951\n",
       "role.1                                  4007      7  CHIEF_INVESTIGATOR  3601\n",
       "country.of.birth.1                      3409     10           Australia  2501\n",
       "home.language.1                          389      2             English   312\n",
       "with.phd.1                              2304      1                Yes   2304\n",
       "no..of.years.in.uni.at.time.of.grant.1  3313      5            >=0 to 5  1321"
      ]
     },
     "execution_count": 10,
     "metadata": {},
     "output_type": "execute_result"
    }
   ],
   "source": [
    "df.describe(include='object').T"
   ]
  },
  {
   "cell_type": "markdown",
   "metadata": {},
   "source": [
    "В категориальных столбцах представлено небольшое кол-во уникальных значений по каждому (кроме sponsor_code).\\\n",
    "Также есть столбец with_phd_1 с одним значением 'Yes'."
   ]
  },
  {
   "cell_type": "markdown",
   "metadata": {},
   "source": [
    "Итого в датасете после удаления пропусков 4048 строк и 39 столбоцов, из них 30 - float64, 1 - int64 и 8- object."
   ]
  },
  {
   "cell_type": "markdown",
   "metadata": {},
   "source": [
    "#### 2. Подготовьте данные к обучению моделей."
   ]
  },
  {
   "cell_type": "markdown",
   "metadata": {},
   "source": [
    "2.1. Отделите целевую переменную Grant.Status."
   ]
  },
  {
   "cell_type": "code",
   "execution_count": 11,
   "metadata": {},
   "outputs": [],
   "source": [
    "X = df.drop(columns='grant.status')\n",
    "y = df['grant.status']"
   ]
  },
  {
   "cell_type": "markdown",
   "metadata": {},
   "source": [
    "2.2 Заполните пропуски:\n",
    "- в количественных признаках заполните пропуски средними значениями и нулями (у каждой фичи будет по два варианта),\n",
    "- в категориальных признаках выведите значения, которые они принимают, и найдите признак, где пропуски можно заполнить осмысленным значением. В остальных признаках заполните пропуски значением по умолчанию;"
   ]
  },
  {
   "cell_type": "code",
   "execution_count": 12,
   "metadata": {},
   "outputs": [
    {
     "data": {
      "text/plain": [
       "<Axes: >"
      ]
     },
     "execution_count": 12,
     "metadata": {},
     "output_type": "execute_result"
    },
    {
     "data": {
      "image/png": "[encoded data removed]",
      "text/plain": [
       "<Figure size 2500x1000 with 3 Axes>"
      ]
     },
     "metadata": {},
     "output_type": "display_data"
    }
   ],
   "source": [
    "msno.bar(X, color='blue')"
   ]
  },
  {
   "cell_type": "code",
   "execution_count": 13,
   "metadata": {},
   "outputs": [
    {
     "name": "stdout",
     "output_type": "stream",
     "text": [
      "Колонок с пропусками: 30\n"
     ]
    }
   ],
   "source": [
    "num_feat = X.select_dtypes(exclude=\"object\")\n",
    "cols_with_missing = [col for col in num_feat.columns if num_feat[col].isnull().any()]\n",
    "print(\"Колонок с пропусками:\", len(cols_with_missing))\n",
    "# cols_with_missing"
   ]
  },
  {
   "cell_type": "code",
   "execution_count": 14,
   "metadata": {},
   "outputs": [],
   "source": [
    "num_feat_0, num_feat_mean = [], []\n",
    "\n",
    "for col in cols_with_missing:\n",
    "    X[f'{col}_0'] = X[col]\n",
    "    num_feat_0.append(f'{col}_0')\n",
    "    X.rename(columns={col: col +'_mean'}, inplace=True)\n",
    "    num_feat_mean.append(f'{col}_mean')"
   ]
  },
  {
   "cell_type": "code",
   "execution_count": 15,
   "metadata": {},
   "outputs": [
    {
     "data": {
      "text/plain": [
       "(4048, 68)"
      ]
     },
     "execution_count": 15,
     "metadata": {},
     "output_type": "execute_result"
    }
   ],
   "source": [
    "# check\n",
    "X.shape"
   ]
  },
  {
   "cell_type": "markdown",
   "metadata": {},
   "source": [
    "Сделаем пайплайн для заполнения пропусков."
   ]
  },
  {
   "cell_type": "code",
   "execution_count": 16,
   "metadata": {},
   "outputs": [],
   "source": [
    "imputer_num_0 = Pipeline(\n",
    "    steps=[\n",
    "        (\"imputer\", SimpleImputer(strategy=\"constant\", fill_value=0)),\n",
    "    ]\n",
    ")\n",
    "\n",
    "imputer_num_mean = Pipeline(\n",
    "    steps=[\n",
    "        (\"imputer\", SimpleImputer(strategy=\"mean\")),\n",
    "    ]\n",
    ")"
   ]
  },
  {
   "cell_type": "code",
   "execution_count": 17,
   "metadata": {},
   "outputs": [
    {
     "data": {
      "text/html": [
       "<div>\n",
       "<style scoped>\n",
       "    .dataframe tbody tr th:only-of-type {\n",
       "        vertical-align: middle;\n",
       "    }\n",
       "\n",
       "    .dataframe tbody tr th {\n",
       "        vertical-align: top;\n",
       "    }\n",
       "\n",
       "    .dataframe thead th {\n",
       "        text-align: right;\n",
       "    }\n",
       "</style>\n",
       "<table border=\"1\" class=\"dataframe\">\n",
       "  <thead>\n",
       "    <tr style=\"text-align: right;\">\n",
       "      <th></th>\n",
       "      <th>nan</th>\n",
       "    </tr>\n",
       "  </thead>\n",
       "  <tbody>\n",
       "    <tr>\n",
       "      <th>sponsor.code</th>\n",
       "      <td>245</td>\n",
       "    </tr>\n",
       "    <tr>\n",
       "      <th>grant.category.code</th>\n",
       "      <td>245</td>\n",
       "    </tr>\n",
       "    <tr>\n",
       "      <th>contract.value.band...see.note.a</th>\n",
       "      <td>2117</td>\n",
       "    </tr>\n",
       "    <tr>\n",
       "      <th>role.1</th>\n",
       "      <td>41</td>\n",
       "    </tr>\n",
       "    <tr>\n",
       "      <th>country.of.birth.1</th>\n",
       "      <td>639</td>\n",
       "    </tr>\n",
       "    <tr>\n",
       "      <th>home.language.1</th>\n",
       "      <td>3659</td>\n",
       "    </tr>\n",
       "    <tr>\n",
       "      <th>with.phd.1</th>\n",
       "      <td>1744</td>\n",
       "    </tr>\n",
       "    <tr>\n",
       "      <th>no..of.years.in.uni.at.time.of.grant.1</th>\n",
       "      <td>735</td>\n",
       "    </tr>\n",
       "  </tbody>\n",
       "</table>\n",
       "</div>"
      ],
      "text/plain": [
       "                                         nan\n",
       "sponsor.code                             245\n",
       "grant.category.code                      245\n",
       "contract.value.band...see.note.a        2117\n",
       "role.1                                    41\n",
       "country.of.birth.1                       639\n",
       "home.language.1                         3659\n",
       "with.phd.1                              1744\n",
       "no..of.years.in.uni.at.time.of.grant.1   735"
      ]
     },
     "execution_count": 17,
     "metadata": {},
     "output_type": "execute_result"
    }
   ],
   "source": [
    "cat_feat = X.select_dtypes(include=\"object\")\n",
    "cat_feat.isna().sum().to_frame(name='nan')"
   ]
  },
  {
   "cell_type": "markdown",
   "metadata": {},
   "source": [
    "Разберем каждый столбец и примем решение, как заполнять пропуски."
   ]
  },
  {
   "cell_type": "code",
   "execution_count": 18,
   "metadata": {},
   "outputs": [
    {
     "data": {
      "text/html": [
       "<div>\n",
       "<style scoped>\n",
       "    .dataframe tbody tr th:only-of-type {\n",
       "        vertical-align: middle;\n",
       "    }\n",
       "\n",
       "    .dataframe tbody tr th {\n",
       "        vertical-align: top;\n",
       "    }\n",
       "\n",
       "    .dataframe thead th {\n",
       "        text-align: right;\n",
       "    }\n",
       "</style>\n",
       "<table border=\"1\" class=\"dataframe\">\n",
       "  <thead>\n",
       "    <tr style=\"text-align: right;\">\n",
       "      <th></th>\n",
       "      <th>count</th>\n",
       "    </tr>\n",
       "    <tr>\n",
       "      <th>sponsor.code</th>\n",
       "      <th></th>\n",
       "    </tr>\n",
       "  </thead>\n",
       "  <tbody>\n",
       "    <tr>\n",
       "      <th>4D</th>\n",
       "      <td>979</td>\n",
       "    </tr>\n",
       "    <tr>\n",
       "      <th>2B</th>\n",
       "      <td>913</td>\n",
       "    </tr>\n",
       "    <tr>\n",
       "      <th>21A</th>\n",
       "      <td>374</td>\n",
       "    </tr>\n",
       "    <tr>\n",
       "      <th>24D</th>\n",
       "      <td>114</td>\n",
       "    </tr>\n",
       "    <tr>\n",
       "      <th>40D</th>\n",
       "      <td>89</td>\n",
       "    </tr>\n",
       "    <tr>\n",
       "      <th>...</th>\n",
       "      <td>...</td>\n",
       "    </tr>\n",
       "    <tr>\n",
       "      <th>199C</th>\n",
       "      <td>1</td>\n",
       "    </tr>\n",
       "    <tr>\n",
       "      <th>313A</th>\n",
       "      <td>1</td>\n",
       "    </tr>\n",
       "    <tr>\n",
       "      <th>373A</th>\n",
       "      <td>1</td>\n",
       "    </tr>\n",
       "    <tr>\n",
       "      <th>298B</th>\n",
       "      <td>1</td>\n",
       "    </tr>\n",
       "    <tr>\n",
       "      <th>225A</th>\n",
       "      <td>1</td>\n",
       "    </tr>\n",
       "  </tbody>\n",
       "</table>\n",
       "<p>226 rows × 1 columns</p>\n",
       "</div>"
      ],
      "text/plain": [
       "              count\n",
       "sponsor.code       \n",
       "4D              979\n",
       "2B              913\n",
       "21A             374\n",
       "24D             114\n",
       "40D              89\n",
       "...             ...\n",
       "199C              1\n",
       "313A              1\n",
       "373A              1\n",
       "298B              1\n",
       "225A              1\n",
       "\n",
       "[226 rows x 1 columns]"
      ]
     },
     "execution_count": 18,
     "metadata": {},
     "output_type": "execute_result"
    }
   ],
   "source": [
    "X['sponsor.code'].value_counts().to_frame()"
   ]
  },
  {
   "cell_type": "code",
   "execution_count": 19,
   "metadata": {},
   "outputs": [
    {
     "data": {
      "text/html": [
       "<div>\n",
       "<style scoped>\n",
       "    .dataframe tbody tr th:only-of-type {\n",
       "        vertical-align: middle;\n",
       "    }\n",
       "\n",
       "    .dataframe tbody tr th {\n",
       "        vertical-align: top;\n",
       "    }\n",
       "\n",
       "    .dataframe thead th {\n",
       "        text-align: right;\n",
       "    }\n",
       "</style>\n",
       "<table border=\"1\" class=\"dataframe\">\n",
       "  <thead>\n",
       "    <tr style=\"text-align: right;\">\n",
       "      <th></th>\n",
       "      <th>count</th>\n",
       "    </tr>\n",
       "    <tr>\n",
       "      <th>grant.category.code</th>\n",
       "      <th></th>\n",
       "    </tr>\n",
       "  </thead>\n",
       "  <tbody>\n",
       "    <tr>\n",
       "      <th>10A</th>\n",
       "      <td>2020</td>\n",
       "    </tr>\n",
       "    <tr>\n",
       "      <th>30B</th>\n",
       "      <td>699</td>\n",
       "    </tr>\n",
       "    <tr>\n",
       "      <th>50A</th>\n",
       "      <td>374</td>\n",
       "    </tr>\n",
       "    <tr>\n",
       "      <th>10B</th>\n",
       "      <td>207</td>\n",
       "    </tr>\n",
       "    <tr>\n",
       "      <th>20C</th>\n",
       "      <td>177</td>\n",
       "    </tr>\n",
       "    <tr>\n",
       "      <th>30C</th>\n",
       "      <td>145</td>\n",
       "    </tr>\n",
       "    <tr>\n",
       "      <th>30D</th>\n",
       "      <td>91</td>\n",
       "    </tr>\n",
       "    <tr>\n",
       "      <th>20A</th>\n",
       "      <td>48</td>\n",
       "    </tr>\n",
       "    <tr>\n",
       "      <th>30G</th>\n",
       "      <td>34</td>\n",
       "    </tr>\n",
       "    <tr>\n",
       "      <th>30E</th>\n",
       "      <td>5</td>\n",
       "    </tr>\n",
       "    <tr>\n",
       "      <th>30A</th>\n",
       "      <td>1</td>\n",
       "    </tr>\n",
       "    <tr>\n",
       "      <th>40C</th>\n",
       "      <td>1</td>\n",
       "    </tr>\n",
       "    <tr>\n",
       "      <th>30F</th>\n",
       "      <td>1</td>\n",
       "    </tr>\n",
       "  </tbody>\n",
       "</table>\n",
       "</div>"
      ],
      "text/plain": [
       "                     count\n",
       "grant.category.code       \n",
       "10A                   2020\n",
       "30B                    699\n",
       "50A                    374\n",
       "10B                    207\n",
       "20C                    177\n",
       "30C                    145\n",
       "30D                     91\n",
       "20A                     48\n",
       "30G                     34\n",
       "30E                      5\n",
       "30A                      1\n",
       "40C                      1\n",
       "30F                      1"
      ]
     },
     "execution_count": 19,
     "metadata": {},
     "output_type": "execute_result"
    }
   ],
   "source": [
    "X['grant.category.code'].value_counts().to_frame()"
   ]
  },
  {
   "cell_type": "code",
   "execution_count": 20,
   "metadata": {},
   "outputs": [
    {
     "data": {
      "text/html": [
       "<div>\n",
       "<style scoped>\n",
       "    .dataframe tbody tr th:only-of-type {\n",
       "        vertical-align: middle;\n",
       "    }\n",
       "\n",
       "    .dataframe tbody tr th {\n",
       "        vertical-align: top;\n",
       "    }\n",
       "\n",
       "    .dataframe thead th {\n",
       "        text-align: right;\n",
       "    }\n",
       "</style>\n",
       "<table border=\"1\" class=\"dataframe\">\n",
       "  <thead>\n",
       "    <tr style=\"text-align: right;\">\n",
       "      <th></th>\n",
       "      <th>sponsor.code</th>\n",
       "      <th>grant.category.code</th>\n",
       "      <th>contract.value.band...see.note.a</th>\n",
       "      <th>rfcd.code.1_mean</th>\n",
       "      <th>rfcd.percentage.1_mean</th>\n",
       "      <th>rfcd.code.2_mean</th>\n",
       "      <th>rfcd.percentage.2_mean</th>\n",
       "      <th>rfcd.code.3_mean</th>\n",
       "      <th>rfcd.percentage.3_mean</th>\n",
       "      <th>rfcd.code.4_mean</th>\n",
       "      <th>...</th>\n",
       "      <th>person.id.1_0</th>\n",
       "      <th>year.of.birth.1_0</th>\n",
       "      <th>dept.no..1_0</th>\n",
       "      <th>faculty.no..1_0</th>\n",
       "      <th>number.of.successful.grant.1_0</th>\n",
       "      <th>number.of.unsuccessful.grant.1_0</th>\n",
       "      <th>a..1_0</th>\n",
       "      <th>a.1_0</th>\n",
       "      <th>b.1_0</th>\n",
       "      <th>c.1_0</th>\n",
       "    </tr>\n",
       "  </thead>\n",
       "  <tbody>\n",
       "  </tbody>\n",
       "</table>\n",
       "<p>0 rows × 68 columns</p>\n",
       "</div>"
      ],
      "text/plain": [
       "Empty DataFrame\n",
       "Columns: [sponsor.code, grant.category.code, contract.value.band...see.note.a, rfcd.code.1_mean, rfcd.percentage.1_mean, rfcd.code.2_mean, rfcd.percentage.2_mean, rfcd.code.3_mean, rfcd.percentage.3_mean, rfcd.code.4_mean, rfcd.percentage.4_mean, rfcd.code.5_mean, rfcd.percentage.5_mean, seo.code.1_mean, seo.percentage.1_mean, seo.code.2_mean, seo.percentage.2_mean, seo.code.3_mean, seo.percentage.3_mean, seo.code.4_mean, seo.percentage.4_mean, seo.code.5_mean, seo.percentage.5_mean, person.id.1_mean, role.1, year.of.birth.1_mean, country.of.birth.1, home.language.1, dept.no..1_mean, faculty.no..1_mean, with.phd.1, no..of.years.in.uni.at.time.of.grant.1, number.of.successful.grant.1_mean, number.of.unsuccessful.grant.1_mean, a..1_mean, a.1_mean, b.1_mean, c.1_mean, rfcd.code.1_0, rfcd.percentage.1_0, rfcd.code.2_0, rfcd.percentage.2_0, rfcd.code.3_0, rfcd.percentage.3_0, rfcd.code.4_0, rfcd.percentage.4_0, rfcd.code.5_0, rfcd.percentage.5_0, seo.code.1_0, seo.percentage.1_0, seo.code.2_0, seo.percentage.2_0, seo.code.3_0, seo.percentage.3_0, seo.code.4_0, seo.percentage.4_0, seo.code.5_0, seo.percentage.5_0, person.id.1_0, year.of.birth.1_0, dept.no..1_0, faculty.no..1_0, number.of.successful.grant.1_0, number.of.unsuccessful.grant.1_0, a..1_0, a.1_0, b.1_0, c.1_0]\n",
       "Index: []\n",
       "\n",
       "[0 rows x 68 columns]"
      ]
     },
     "execution_count": 20,
     "metadata": {},
     "output_type": "execute_result"
    }
   ],
   "source": [
    "X.loc[(X['sponsor.code'].isna()) & (X['grant.category.code'].notna())]"
   ]
  },
  {
   "cell_type": "markdown",
   "metadata": {},
   "source": [
    "Пропуски по этим двум столбцам одинаковые, возможно по ним нет кодов или данные поступили из другого источника.\\\n",
    "Заполним их по умолчанию."
   ]
  },
  {
   "cell_type": "code",
   "execution_count": 21,
   "metadata": {},
   "outputs": [
    {
     "data": {
      "text/html": [
       "<div>\n",
       "<style scoped>\n",
       "    .dataframe tbody tr th:only-of-type {\n",
       "        vertical-align: middle;\n",
       "    }\n",
       "\n",
       "    .dataframe tbody tr th {\n",
       "        vertical-align: top;\n",
       "    }\n",
       "\n",
       "    .dataframe thead th {\n",
       "        text-align: right;\n",
       "    }\n",
       "</style>\n",
       "<table border=\"1\" class=\"dataframe\">\n",
       "  <thead>\n",
       "    <tr style=\"text-align: right;\">\n",
       "      <th>contract.value.band...see.note.a</th>\n",
       "      <th>A</th>\n",
       "      <th>B</th>\n",
       "      <th>C</th>\n",
       "      <th>D</th>\n",
       "      <th>G</th>\n",
       "      <th>E</th>\n",
       "      <th>F</th>\n",
       "      <th>H</th>\n",
       "      <th>J</th>\n",
       "      <th>I</th>\n",
       "      <th>P</th>\n",
       "      <th>K</th>\n",
       "      <th>M</th>\n",
       "      <th>O</th>\n",
       "      <th>Q</th>\n",
       "      <th>L</th>\n",
       "    </tr>\n",
       "  </thead>\n",
       "  <tbody>\n",
       "    <tr>\n",
       "      <th>count</th>\n",
       "      <td>951</td>\n",
       "      <td>302</td>\n",
       "      <td>156</td>\n",
       "      <td>147</td>\n",
       "      <td>135</td>\n",
       "      <td>97</td>\n",
       "      <td>75</td>\n",
       "      <td>32</td>\n",
       "      <td>18</td>\n",
       "      <td>11</td>\n",
       "      <td>2</td>\n",
       "      <td>1</td>\n",
       "      <td>1</td>\n",
       "      <td>1</td>\n",
       "      <td>1</td>\n",
       "      <td>1</td>\n",
       "    </tr>\n",
       "  </tbody>\n",
       "</table>\n",
       "</div>"
      ],
      "text/plain": [
       "contract.value.band...see.note.a   A    B    C    D    G   E   F   H   J   I   \\\n",
       "count                             951  302  156  147  135  97  75  32  18  11   \n",
       "\n",
       "contract.value.band...see.note.a  P   K   M   O   Q   L   \n",
       "count                              2   1   1   1   1   1  "
      ]
     },
     "execution_count": 21,
     "metadata": {},
     "output_type": "execute_result"
    }
   ],
   "source": [
    "X['contract.value.band...see.note.a'].value_counts().to_frame().T"
   ]
  },
  {
   "cell_type": "code",
   "execution_count": 22,
   "metadata": {},
   "outputs": [
    {
     "data": {
      "text/plain": [
       "np.float64(52.297430830039524)"
      ]
     },
     "execution_count": 22,
     "metadata": {},
     "output_type": "execute_result"
    }
   ],
   "source": [
    "(X[\"contract.value.band...see.note.a\"].isna().sum() / X.shape[0]) * 100"
   ]
  },
  {
   "cell_type": "markdown",
   "metadata": {},
   "source": [
    "В этом столбце много пропусков (52%), заполним по умолчанию."
   ]
  },
  {
   "cell_type": "code",
   "execution_count": 23,
   "metadata": {},
   "outputs": [
    {
     "data": {
      "text/html": [
       "<div>\n",
       "<style scoped>\n",
       "    .dataframe tbody tr th:only-of-type {\n",
       "        vertical-align: middle;\n",
       "    }\n",
       "\n",
       "    .dataframe tbody tr th {\n",
       "        vertical-align: top;\n",
       "    }\n",
       "\n",
       "    .dataframe thead th {\n",
       "        text-align: right;\n",
       "    }\n",
       "</style>\n",
       "<table border=\"1\" class=\"dataframe\">\n",
       "  <thead>\n",
       "    <tr style=\"text-align: right;\">\n",
       "      <th></th>\n",
       "      <th>count</th>\n",
       "    </tr>\n",
       "    <tr>\n",
       "      <th>role.1</th>\n",
       "      <th></th>\n",
       "    </tr>\n",
       "  </thead>\n",
       "  <tbody>\n",
       "    <tr>\n",
       "      <th>CHIEF_INVESTIGATOR</th>\n",
       "      <td>3601</td>\n",
       "    </tr>\n",
       "    <tr>\n",
       "      <th>EXT_CHIEF_INVESTIGATOR</th>\n",
       "      <td>212</td>\n",
       "    </tr>\n",
       "    <tr>\n",
       "      <th>PRINCIPAL_SUPERVISOR</th>\n",
       "      <td>141</td>\n",
       "    </tr>\n",
       "    <tr>\n",
       "      <th>DELEGATED_RESEARCHER</th>\n",
       "      <td>36</td>\n",
       "    </tr>\n",
       "    <tr>\n",
       "      <th>STUD_CHIEF_INVESTIGATOR</th>\n",
       "      <td>10</td>\n",
       "    </tr>\n",
       "    <tr>\n",
       "      <th>HONVISIT</th>\n",
       "      <td>6</td>\n",
       "    </tr>\n",
       "    <tr>\n",
       "      <th>EXTERNAL_ADVISOR</th>\n",
       "      <td>1</td>\n",
       "    </tr>\n",
       "  </tbody>\n",
       "</table>\n",
       "</div>"
      ],
      "text/plain": [
       "                         count\n",
       "role.1                        \n",
       "CHIEF_INVESTIGATOR        3601\n",
       "EXT_CHIEF_INVESTIGATOR     212\n",
       "PRINCIPAL_SUPERVISOR       141\n",
       "DELEGATED_RESEARCHER        36\n",
       "STUD_CHIEF_INVESTIGATOR     10\n",
       "HONVISIT                     6\n",
       "EXTERNAL_ADVISOR             1"
      ]
     },
     "execution_count": 23,
     "metadata": {},
     "output_type": "execute_result"
    }
   ],
   "source": [
    "X[\"role.1\"].value_counts().to_frame()"
   ]
  },
  {
   "cell_type": "markdown",
   "metadata": {},
   "source": [
    "Посмотрим столбцы country_of_birth_1 и home_language_1, по названию между ними должна быть какая-то связь."
   ]
  },
  {
   "cell_type": "code",
   "execution_count": 24,
   "metadata": {},
   "outputs": [
    {
     "data": {
      "text/html": [
       "<div>\n",
       "<style scoped>\n",
       "    .dataframe tbody tr th:only-of-type {\n",
       "        vertical-align: middle;\n",
       "    }\n",
       "\n",
       "    .dataframe tbody tr th {\n",
       "        vertical-align: top;\n",
       "    }\n",
       "\n",
       "    .dataframe thead th {\n",
       "        text-align: right;\n",
       "    }\n",
       "</style>\n",
       "<table border=\"1\" class=\"dataframe\">\n",
       "  <thead>\n",
       "    <tr style=\"text-align: right;\">\n",
       "      <th></th>\n",
       "      <th>proportion</th>\n",
       "    </tr>\n",
       "    <tr>\n",
       "      <th>country.of.birth.1</th>\n",
       "      <th></th>\n",
       "    </tr>\n",
       "  </thead>\n",
       "  <tbody>\n",
       "    <tr>\n",
       "      <th>Australia</th>\n",
       "      <td>0.733646</td>\n",
       "    </tr>\n",
       "    <tr>\n",
       "      <th>Great Britain</th>\n",
       "      <td>0.087416</td>\n",
       "    </tr>\n",
       "    <tr>\n",
       "      <th>Western Europe</th>\n",
       "      <td>0.045468</td>\n",
       "    </tr>\n",
       "    <tr>\n",
       "      <th>Asia Pacific</th>\n",
       "      <td>0.043708</td>\n",
       "    </tr>\n",
       "    <tr>\n",
       "      <th>North America</th>\n",
       "      <td>0.035494</td>\n",
       "    </tr>\n",
       "    <tr>\n",
       "      <th>Eastern Europe</th>\n",
       "      <td>0.017600</td>\n",
       "    </tr>\n",
       "    <tr>\n",
       "      <th>Middle East and Africa</th>\n",
       "      <td>0.011734</td>\n",
       "    </tr>\n",
       "    <tr>\n",
       "      <th>The Americas</th>\n",
       "      <td>0.009387</td>\n",
       "    </tr>\n",
       "    <tr>\n",
       "      <th>New Zealand</th>\n",
       "      <td>0.009094</td>\n",
       "    </tr>\n",
       "    <tr>\n",
       "      <th>South Africa</th>\n",
       "      <td>0.006454</td>\n",
       "    </tr>\n",
       "  </tbody>\n",
       "</table>\n",
       "</div>"
      ],
      "text/plain": [
       "                        proportion\n",
       "country.of.birth.1                \n",
       "Australia                 0.733646\n",
       "Great Britain             0.087416\n",
       "Western Europe            0.045468\n",
       "Asia Pacific              0.043708\n",
       "North America             0.035494\n",
       "Eastern Europe            0.017600\n",
       "Middle East and Africa    0.011734\n",
       "The Americas              0.009387\n",
       "New Zealand               0.009094\n",
       "South Africa              0.006454"
      ]
     },
     "execution_count": 24,
     "metadata": {},
     "output_type": "execute_result"
    }
   ],
   "source": [
    "X[\"country.of.birth.1\"].value_counts(normalize=True).to_frame()"
   ]
  },
  {
   "cell_type": "markdown",
   "metadata": {},
   "source": [
    "Страну можно заменить на самую часто встречающуюся."
   ]
  },
  {
   "cell_type": "code",
   "execution_count": 25,
   "metadata": {},
   "outputs": [
    {
     "data": {
      "text/html": [
       "<div>\n",
       "<style scoped>\n",
       "    .dataframe tbody tr th:only-of-type {\n",
       "        vertical-align: middle;\n",
       "    }\n",
       "\n",
       "    .dataframe tbody tr th {\n",
       "        vertical-align: top;\n",
       "    }\n",
       "\n",
       "    .dataframe thead th {\n",
       "        text-align: right;\n",
       "    }\n",
       "</style>\n",
       "<table border=\"1\" class=\"dataframe\">\n",
       "  <thead>\n",
       "    <tr style=\"text-align: right;\">\n",
       "      <th></th>\n",
       "      <th>count</th>\n",
       "    </tr>\n",
       "    <tr>\n",
       "      <th>home.language.1</th>\n",
       "      <th></th>\n",
       "    </tr>\n",
       "  </thead>\n",
       "  <tbody>\n",
       "    <tr>\n",
       "      <th>English</th>\n",
       "      <td>312</td>\n",
       "    </tr>\n",
       "    <tr>\n",
       "      <th>Other</th>\n",
       "      <td>77</td>\n",
       "    </tr>\n",
       "  </tbody>\n",
       "</table>\n",
       "</div>"
      ],
      "text/plain": [
       "                 count\n",
       "home.language.1       \n",
       "English            312\n",
       "Other               77"
      ]
     },
     "execution_count": 25,
     "metadata": {},
     "output_type": "execute_result"
    }
   ],
   "source": [
    "X[\"home.language.1\"].value_counts().to_frame()"
   ]
  },
  {
   "cell_type": "code",
   "execution_count": 26,
   "metadata": {},
   "outputs": [
    {
     "data": {
      "text/plain": [
       "np.float64(90.3903162055336)"
      ]
     },
     "execution_count": 26,
     "metadata": {},
     "output_type": "execute_result"
    }
   ],
   "source": [
    "(X[\"home.language.1\"].isna().sum() / X.shape[0]) * 100"
   ]
  },
  {
   "cell_type": "markdown",
   "metadata": {},
   "source": [
    "Мы имеем 90% пропусков в данном столбце. Можно посмотреть на его связь с country_of_birth_1."
   ]
  },
  {
   "cell_type": "code",
   "execution_count": 27,
   "metadata": {},
   "outputs": [
    {
     "data": {
      "text/html": [
       "<div>\n",
       "<style scoped>\n",
       "    .dataframe tbody tr th:only-of-type {\n",
       "        vertical-align: middle;\n",
       "    }\n",
       "\n",
       "    .dataframe tbody tr th {\n",
       "        vertical-align: top;\n",
       "    }\n",
       "\n",
       "    .dataframe thead th {\n",
       "        text-align: right;\n",
       "    }\n",
       "</style>\n",
       "<table border=\"1\" class=\"dataframe\">\n",
       "  <thead>\n",
       "    <tr style=\"text-align: right;\">\n",
       "      <th></th>\n",
       "      <th>sponsor.code</th>\n",
       "      <th>grant.category.code</th>\n",
       "      <th>contract.value.band...see.note.a</th>\n",
       "      <th>rfcd.code.1_mean</th>\n",
       "      <th>rfcd.percentage.1_mean</th>\n",
       "      <th>rfcd.code.2_mean</th>\n",
       "      <th>rfcd.percentage.2_mean</th>\n",
       "      <th>rfcd.code.3_mean</th>\n",
       "      <th>rfcd.percentage.3_mean</th>\n",
       "      <th>rfcd.code.4_mean</th>\n",
       "      <th>...</th>\n",
       "      <th>person.id.1_0</th>\n",
       "      <th>year.of.birth.1_0</th>\n",
       "      <th>dept.no..1_0</th>\n",
       "      <th>faculty.no..1_0</th>\n",
       "      <th>number.of.successful.grant.1_0</th>\n",
       "      <th>number.of.unsuccessful.grant.1_0</th>\n",
       "      <th>a..1_0</th>\n",
       "      <th>a.1_0</th>\n",
       "      <th>b.1_0</th>\n",
       "      <th>c.1_0</th>\n",
       "    </tr>\n",
       "  </thead>\n",
       "  <tbody>\n",
       "    <tr>\n",
       "      <th>711</th>\n",
       "      <td>9A</td>\n",
       "      <td>10A</td>\n",
       "      <td>NaN</td>\n",
       "      <td>291803.0</td>\n",
       "      <td>70.0</td>\n",
       "      <td>291801.0</td>\n",
       "      <td>20.0</td>\n",
       "      <td>290201.0</td>\n",
       "      <td>5.0</td>\n",
       "      <td>290501.0</td>\n",
       "      <td>...</td>\n",
       "      <td>498962.0</td>\n",
       "      <td>1970.0</td>\n",
       "      <td>2178.0</td>\n",
       "      <td>19.0</td>\n",
       "      <td>0.0</td>\n",
       "      <td>0.0</td>\n",
       "      <td>4.0</td>\n",
       "      <td>1.0</td>\n",
       "      <td>0.0</td>\n",
       "      <td>0.0</td>\n",
       "    </tr>\n",
       "    <tr>\n",
       "      <th>2125</th>\n",
       "      <td>210B</td>\n",
       "      <td>30B</td>\n",
       "      <td>A</td>\n",
       "      <td>350107.0</td>\n",
       "      <td>100.0</td>\n",
       "      <td>0.0</td>\n",
       "      <td>0.0</td>\n",
       "      <td>0.0</td>\n",
       "      <td>0.0</td>\n",
       "      <td>0.0</td>\n",
       "      <td>...</td>\n",
       "      <td>500252.0</td>\n",
       "      <td>1965.0</td>\n",
       "      <td>1528.0</td>\n",
       "      <td>13.0</td>\n",
       "      <td>0.0</td>\n",
       "      <td>1.0</td>\n",
       "      <td>0.0</td>\n",
       "      <td>0.0</td>\n",
       "      <td>1.0</td>\n",
       "      <td>1.0</td>\n",
       "    </tr>\n",
       "    <tr>\n",
       "      <th>2219</th>\n",
       "      <td>36D</td>\n",
       "      <td>10A</td>\n",
       "      <td>NaN</td>\n",
       "      <td>300406.0</td>\n",
       "      <td>100.0</td>\n",
       "      <td>0.0</td>\n",
       "      <td>0.0</td>\n",
       "      <td>0.0</td>\n",
       "      <td>0.0</td>\n",
       "      <td>0.0</td>\n",
       "      <td>...</td>\n",
       "      <td>573352.0</td>\n",
       "      <td>1965.0</td>\n",
       "      <td>1038.0</td>\n",
       "      <td>1.0</td>\n",
       "      <td>0.0</td>\n",
       "      <td>1.0</td>\n",
       "      <td>0.0</td>\n",
       "      <td>0.0</td>\n",
       "      <td>0.0</td>\n",
       "      <td>0.0</td>\n",
       "    </tr>\n",
       "    <tr>\n",
       "      <th>3365</th>\n",
       "      <td>2B</td>\n",
       "      <td>10A</td>\n",
       "      <td>C</td>\n",
       "      <td>280112.0</td>\n",
       "      <td>50.0</td>\n",
       "      <td>280302.0</td>\n",
       "      <td>50.0</td>\n",
       "      <td>0.0</td>\n",
       "      <td>0.0</td>\n",
       "      <td>0.0</td>\n",
       "      <td>...</td>\n",
       "      <td>500202.0</td>\n",
       "      <td>1965.0</td>\n",
       "      <td>NaN</td>\n",
       "      <td>NaN</td>\n",
       "      <td>0.0</td>\n",
       "      <td>0.0</td>\n",
       "      <td>0.0</td>\n",
       "      <td>0.0</td>\n",
       "      <td>0.0</td>\n",
       "      <td>0.0</td>\n",
       "    </tr>\n",
       "  </tbody>\n",
       "</table>\n",
       "<p>4 rows × 68 columns</p>\n",
       "</div>"
      ],
      "text/plain": [
       "     sponsor.code grant.category.code contract.value.band...see.note.a  \\\n",
       "711            9A                 10A                              NaN   \n",
       "2125         210B                 30B                               A    \n",
       "2219          36D                 10A                              NaN   \n",
       "3365           2B                 10A                               C    \n",
       "\n",
       "      rfcd.code.1_mean  rfcd.percentage.1_mean  rfcd.code.2_mean  \\\n",
       "711           291803.0                    70.0          291801.0   \n",
       "2125          350107.0                   100.0               0.0   \n",
       "2219          300406.0                   100.0               0.0   \n",
       "3365          280112.0                    50.0          280302.0   \n",
       "\n",
       "      rfcd.percentage.2_mean  rfcd.code.3_mean  rfcd.percentage.3_mean  \\\n",
       "711                     20.0          290201.0                     5.0   \n",
       "2125                     0.0               0.0                     0.0   \n",
       "2219                     0.0               0.0                     0.0   \n",
       "3365                    50.0               0.0                     0.0   \n",
       "\n",
       "      rfcd.code.4_mean  ...  person.id.1_0  year.of.birth.1_0  dept.no..1_0  \\\n",
       "711           290501.0  ...       498962.0             1970.0        2178.0   \n",
       "2125               0.0  ...       500252.0             1965.0        1528.0   \n",
       "2219               0.0  ...       573352.0             1965.0        1038.0   \n",
       "3365               0.0  ...       500202.0             1965.0           NaN   \n",
       "\n",
       "      faculty.no..1_0  number.of.successful.grant.1_0  \\\n",
       "711              19.0                             0.0   \n",
       "2125             13.0                             0.0   \n",
       "2219              1.0                             0.0   \n",
       "3365              NaN                             0.0   \n",
       "\n",
       "      number.of.unsuccessful.grant.1_0  a..1_0  a.1_0  b.1_0  c.1_0  \n",
       "711                                0.0     4.0    1.0    0.0    0.0  \n",
       "2125                               1.0     0.0    0.0    1.0    1.0  \n",
       "2219                               1.0     0.0    0.0    0.0    0.0  \n",
       "3365                               0.0     0.0    0.0    0.0    0.0  \n",
       "\n",
       "[4 rows x 68 columns]"
      ]
     },
     "execution_count": 27,
     "metadata": {},
     "output_type": "execute_result"
    }
   ],
   "source": [
    "X.loc[(X[\"country.of.birth.1\"].isna()) & (X[\"home.language.1\"].notna())]"
   ]
  },
  {
   "cell_type": "code",
   "execution_count": 28,
   "metadata": {},
   "outputs": [
    {
     "data": {
      "text/plain": [
       "country.of.birth.1      home.language.1\n",
       "Asia Pacific            English             10\n",
       "                        Other               13\n",
       "Australia               English            206\n",
       "                        Other                3\n",
       "Eastern Europe          English              7\n",
       "                        Other                8\n",
       "Great Britain           English             55\n",
       "Middle East and Africa  English              1\n",
       "                        Other                7\n",
       "North America           English             13\n",
       "                        Other                1\n",
       "The Americas            English              9\n",
       "                        Other                8\n",
       "Western Europe          English             10\n",
       "                        Other               34\n",
       "Name: home.language.1, dtype: int64"
      ]
     },
     "execution_count": 28,
     "metadata": {},
     "output_type": "execute_result"
    }
   ],
   "source": [
    "X.groupby([\"country.of.birth.1\", \"home.language.1\"])[\"home.language.1\"].agg(\"count\")"
   ]
  },
  {
   "cell_type": "markdown",
   "metadata": {},
   "source": [
    "На основании данных можно заполнить пропуски по столбцу home_language_1 со значением Great Britain\\\n",
    "в столбце country_of_birth_1.\\\n",
    "Но по сути все пропуски по стране и языку совпадают (кроме 4 строк), можно заполнить их самым частым языком."
   ]
  },
  {
   "cell_type": "code",
   "execution_count": 29,
   "metadata": {},
   "outputs": [],
   "source": [
    "# X.loc[X['country.of.birth.1']== 'Great Britain']['home.language.1'].isna().sum()\n",
    "# X.loc[X[\"country.of.birth.1\"] == \"Great Britain\", \"home.language.1\"] = X.loc[\n",
    "#     X[\"country.of.birth.1\"] == \"Great Britain\", \"home.language.1\"\n",
    "# ].fillna(\"English\")\n",
    "# (X['home.language.1'].isna().sum()/X.shape[0]) * 100"
   ]
  },
  {
   "cell_type": "code",
   "execution_count": 30,
   "metadata": {},
   "outputs": [
    {
     "data": {
      "text/html": [
       "<div>\n",
       "<style scoped>\n",
       "    .dataframe tbody tr th:only-of-type {\n",
       "        vertical-align: middle;\n",
       "    }\n",
       "\n",
       "    .dataframe tbody tr th {\n",
       "        vertical-align: top;\n",
       "    }\n",
       "\n",
       "    .dataframe thead th {\n",
       "        text-align: right;\n",
       "    }\n",
       "</style>\n",
       "<table border=\"1\" class=\"dataframe\">\n",
       "  <thead>\n",
       "    <tr style=\"text-align: right;\">\n",
       "      <th></th>\n",
       "      <th>count</th>\n",
       "    </tr>\n",
       "    <tr>\n",
       "      <th>with.phd.1</th>\n",
       "      <th></th>\n",
       "    </tr>\n",
       "  </thead>\n",
       "  <tbody>\n",
       "    <tr>\n",
       "      <th>Yes</th>\n",
       "      <td>2304</td>\n",
       "    </tr>\n",
       "  </tbody>\n",
       "</table>\n",
       "</div>"
      ],
      "text/plain": [
       "            count\n",
       "with.phd.1       \n",
       "Yes          2304"
      ]
     },
     "execution_count": 30,
     "metadata": {},
     "output_type": "execute_result"
    }
   ],
   "source": [
    "X['with.phd.1'].value_counts().to_frame()"
   ]
  },
  {
   "cell_type": "markdown",
   "metadata": {},
   "source": [
    "В столбце with_phd_1 скорее всего пропуски это значения 'No',\\\n",
    "так как phd это ученая степень.\\\n",
    "Этот столбец заполним 'No'."
   ]
  },
  {
   "cell_type": "code",
   "execution_count": 31,
   "metadata": {},
   "outputs": [
    {
     "data": {
      "text/html": [
       "<div>\n",
       "<style scoped>\n",
       "    .dataframe tbody tr th:only-of-type {\n",
       "        vertical-align: middle;\n",
       "    }\n",
       "\n",
       "    .dataframe tbody tr th {\n",
       "        vertical-align: top;\n",
       "    }\n",
       "\n",
       "    .dataframe thead th {\n",
       "        text-align: right;\n",
       "    }\n",
       "</style>\n",
       "<table border=\"1\" class=\"dataframe\">\n",
       "  <thead>\n",
       "    <tr style=\"text-align: right;\">\n",
       "      <th></th>\n",
       "      <th>count</th>\n",
       "    </tr>\n",
       "    <tr>\n",
       "      <th>no..of.years.in.uni.at.time.of.grant.1</th>\n",
       "      <th></th>\n",
       "    </tr>\n",
       "  </thead>\n",
       "  <tbody>\n",
       "    <tr>\n",
       "      <th>&gt;=0 to 5</th>\n",
       "      <td>1321</td>\n",
       "    </tr>\n",
       "    <tr>\n",
       "      <th>&gt;5 to 10</th>\n",
       "      <td>728</td>\n",
       "    </tr>\n",
       "    <tr>\n",
       "      <th>Less than 0</th>\n",
       "      <td>492</td>\n",
       "    </tr>\n",
       "    <tr>\n",
       "      <th>&gt;10 to 15</th>\n",
       "      <td>413</td>\n",
       "    </tr>\n",
       "    <tr>\n",
       "      <th>more than 15</th>\n",
       "      <td>359</td>\n",
       "    </tr>\n",
       "  </tbody>\n",
       "</table>\n",
       "</div>"
      ],
      "text/plain": [
       "                                        count\n",
       "no..of.years.in.uni.at.time.of.grant.1       \n",
       ">=0 to 5                                 1321\n",
       ">5 to 10                                  728\n",
       "Less than 0                               492\n",
       ">10 to 15                                 413\n",
       "more than 15                              359"
      ]
     },
     "execution_count": 31,
     "metadata": {},
     "output_type": "execute_result"
    }
   ],
   "source": [
    "X[\"no..of.years.in.uni.at.time.of.grant.1\"].value_counts().to_frame()"
   ]
  },
  {
   "cell_type": "markdown",
   "metadata": {},
   "source": [
    "Тоже заполним по умолчанию."
   ]
  },
  {
   "cell_type": "code",
   "execution_count": 32,
   "metadata": {},
   "outputs": [],
   "source": [
    "imputer_cat_unknown = Pipeline(\n",
    "    steps=[(\"imputer\", SimpleImputer(strategy=\"constant\", fill_value=\"Unknown\"))]\n",
    ")\n",
    "\n",
    "imputer_cat_no = Pipeline(\n",
    "    steps=[(\"imputer\", SimpleImputer(strategy=\"constant\", fill_value=\"No\"))]\n",
    ")\n",
    "\n",
    "imputer_cat_country = Pipeline(\n",
    "    steps=[(\"imputer\", SimpleImputer(strategy=\"most_frequent\"))]\n",
    ")\n"
   ]
  },
  {
   "cell_type": "code",
   "execution_count": 33,
   "metadata": {},
   "outputs": [],
   "source": [
    "preprocessor = ColumnTransformer(\n",
    "    transformers=[\n",
    "        (\"imputer_num_0\", imputer_num_0, num_feat_0),\n",
    "        (\"imputer_num_mean\", imputer_num_mean, num_feat_mean),\n",
    "        (\"imputer_with_phd_1\", imputer_cat_no, [\"with.phd.1\"]),\n",
    "        (\"imputer_counrty\", imputer_cat_country, [\"country.of.birth.1\", \"home.language.1\"]),\n",
    "        (\n",
    "            \"imputer_categoric\",\n",
    "            imputer_cat_unknown,\n",
    "            cat_feat.drop(columns=[\"with.phd.1\", \"country.of.birth.1\", \"home.language.1\"], axis=1).columns,\n",
    "        ),\n",
    "    ]\n",
    ")\n",
    "preprocessor.fit(X)\n",
    "X = pd.DataFrame(\n",
    "    preprocessor.transform(X),\n",
    "    columns=[x.split(\"__\")[-1] for x in preprocessor.get_feature_names_out()],\n",
    ")"
   ]
  },
  {
   "cell_type": "markdown",
   "metadata": {},
   "source": [
    "Проверим результат:"
   ]
  },
  {
   "cell_type": "code",
   "execution_count": 34,
   "metadata": {},
   "outputs": [
    {
     "name": "stdout",
     "output_type": "stream",
     "text": [
      "Колонок с пропусками: 0\n"
     ]
    }
   ],
   "source": [
    "cols_with_missing = [col for col in X.columns if X[col].isnull().any()]\n",
    "print(\"Колонок с пропусками:\", len(cols_with_missing))"
   ]
  },
  {
   "cell_type": "markdown",
   "metadata": {},
   "source": [
    "Уменьшим размерность числовых признаков"
   ]
  },
  {
   "cell_type": "code",
   "execution_count": 35,
   "metadata": {},
   "outputs": [],
   "source": [
    "num_feat = num_feat_0 + num_feat_mean\n",
    "X[num_feat] = X[num_feat].astype(np.float64)"
   ]
  },
  {
   "cell_type": "code",
   "execution_count": 36,
   "metadata": {},
   "outputs": [],
   "source": [
    "for el in num_feat:\n",
    "    for n_type in (np.int32, np.int16, np.int8):\n",
    "        if (X[el] == X[el].astype(n_type)).sum() == len(X):\n",
    "            X[el] = X[el].astype(n_type)"
   ]
  },
  {
   "cell_type": "markdown",
   "metadata": {},
   "source": [
    "2.3. Преобразуйте категориальные признаки в количественные с помощью прямого кодирования."
   ]
  },
  {
   "cell_type": "code",
   "execution_count": 37,
   "metadata": {},
   "outputs": [],
   "source": [
    "# X = pd.get_dummies(X, drop_first=True, columns=cat_feat.columns)"
   ]
  },
  {
   "cell_type": "code",
   "execution_count": 38,
   "metadata": {},
   "outputs": [],
   "source": [
    "encoder = ce.OneHotEncoder(cols=cat_feat.columns)\n",
    "X = encoder.fit_transform(X)"
   ]
  },
  {
   "cell_type": "code",
   "execution_count": 39,
   "metadata": {},
   "outputs": [
    {
     "data": {
      "text/plain": [
       "(4048, 346)"
      ]
     },
     "execution_count": 39,
     "metadata": {},
     "output_type": "execute_result"
    }
   ],
   "source": [
    "X.shape"
   ]
  },
  {
   "cell_type": "markdown",
   "metadata": {},
   "source": [
    "2.4. Разделите данные на обучающую и тестовую части."
   ]
  },
  {
   "cell_type": "code",
   "execution_count": 40,
   "metadata": {},
   "outputs": [],
   "source": [
    "X_train, X_test, y_train, y_test = train_test_split(X, y, random_state=123, test_size=0.3)"
   ]
  },
  {
   "cell_type": "markdown",
   "metadata": {},
   "source": [
    "2.5. Используйте масштабирование для получения признаков одинакового масштаба."
   ]
  },
  {
   "cell_type": "code",
   "execution_count": 41,
   "metadata": {},
   "outputs": [
    {
     "data": {
      "text/html": [
       "<div>\n",
       "<style scoped>\n",
       "    .dataframe tbody tr th:only-of-type {\n",
       "        vertical-align: middle;\n",
       "    }\n",
       "\n",
       "    .dataframe tbody tr th {\n",
       "        vertical-align: top;\n",
       "    }\n",
       "\n",
       "    .dataframe thead th {\n",
       "        text-align: right;\n",
       "    }\n",
       "</style>\n",
       "<table border=\"1\" class=\"dataframe\">\n",
       "  <thead>\n",
       "    <tr style=\"text-align: right;\">\n",
       "      <th></th>\n",
       "      <th>rfcd.code.1_0</th>\n",
       "      <th>rfcd.percentage.1_0</th>\n",
       "      <th>rfcd.code.2_0</th>\n",
       "      <th>rfcd.percentage.2_0</th>\n",
       "      <th>rfcd.code.3_0</th>\n",
       "      <th>rfcd.percentage.3_0</th>\n",
       "      <th>rfcd.code.4_0</th>\n",
       "      <th>rfcd.percentage.4_0</th>\n",
       "      <th>rfcd.code.5_0</th>\n",
       "      <th>rfcd.percentage.5_0</th>\n",
       "      <th>...</th>\n",
       "      <th>role.1_5</th>\n",
       "      <th>role.1_6</th>\n",
       "      <th>role.1_7</th>\n",
       "      <th>role.1_8</th>\n",
       "      <th>no..of.years.in.uni.at.time.of.grant.1_1</th>\n",
       "      <th>no..of.years.in.uni.at.time.of.grant.1_2</th>\n",
       "      <th>no..of.years.in.uni.at.time.of.grant.1_3</th>\n",
       "      <th>no..of.years.in.uni.at.time.of.grant.1_4</th>\n",
       "      <th>no..of.years.in.uni.at.time.of.grant.1_5</th>\n",
       "      <th>no..of.years.in.uni.at.time.of.grant.1_6</th>\n",
       "    </tr>\n",
       "  </thead>\n",
       "  <tbody>\n",
       "    <tr>\n",
       "      <th>1853</th>\n",
       "      <td>-0.292645</td>\n",
       "      <td>-0.957691</td>\n",
       "      <td>0.733222</td>\n",
       "      <td>1.219980</td>\n",
       "      <td>1.238126</td>\n",
       "      <td>1.153172</td>\n",
       "      <td>-0.144527</td>\n",
       "      <td>-0.131985</td>\n",
       "      <td>-0.072423</td>\n",
       "      <td>-0.06718</td>\n",
       "      <td>...</td>\n",
       "      <td>-0.037602</td>\n",
       "      <td>-0.098093</td>\n",
       "      <td>-0.053215</td>\n",
       "      <td>-0.018791</td>\n",
       "      <td>-0.339639</td>\n",
       "      <td>-0.366207</td>\n",
       "      <td>2.144485</td>\n",
       "      <td>-0.701872</td>\n",
       "      <td>-0.471354</td>\n",
       "      <td>-0.310423</td>\n",
       "    </tr>\n",
       "    <tr>\n",
       "      <th>1384</th>\n",
       "      <td>0.276102</td>\n",
       "      <td>0.947157</td>\n",
       "      <td>-0.942657</td>\n",
       "      <td>-0.869213</td>\n",
       "      <td>-0.619679</td>\n",
       "      <td>-0.567536</td>\n",
       "      <td>-0.144527</td>\n",
       "      <td>-0.131985</td>\n",
       "      <td>-0.072423</td>\n",
       "      <td>-0.06718</td>\n",
       "      <td>...</td>\n",
       "      <td>-0.037602</td>\n",
       "      <td>-0.098093</td>\n",
       "      <td>-0.053215</td>\n",
       "      <td>-0.018791</td>\n",
       "      <td>-0.339639</td>\n",
       "      <td>-0.366207</td>\n",
       "      <td>2.144485</td>\n",
       "      <td>-0.701872</td>\n",
       "      <td>-0.471354</td>\n",
       "      <td>-0.310423</td>\n",
       "    </tr>\n",
       "    <tr>\n",
       "      <th>1785</th>\n",
       "      <td>0.276292</td>\n",
       "      <td>0.947157</td>\n",
       "      <td>-0.942657</td>\n",
       "      <td>-0.869213</td>\n",
       "      <td>-0.619679</td>\n",
       "      <td>-0.567536</td>\n",
       "      <td>-0.144527</td>\n",
       "      <td>-0.131985</td>\n",
       "      <td>-0.072423</td>\n",
       "      <td>-0.06718</td>\n",
       "      <td>...</td>\n",
       "      <td>-0.037602</td>\n",
       "      <td>-0.098093</td>\n",
       "      <td>-0.053215</td>\n",
       "      <td>-0.018791</td>\n",
       "      <td>-0.339639</td>\n",
       "      <td>-0.366207</td>\n",
       "      <td>-0.466313</td>\n",
       "      <td>1.424762</td>\n",
       "      <td>-0.471354</td>\n",
       "      <td>-0.310423</td>\n",
       "    </tr>\n",
       "  </tbody>\n",
       "</table>\n",
       "<p>3 rows × 346 columns</p>\n",
       "</div>"
      ],
      "text/plain": [
       "      rfcd.code.1_0  rfcd.percentage.1_0  rfcd.code.2_0  rfcd.percentage.2_0  \\\n",
       "1853      -0.292645            -0.957691       0.733222             1.219980   \n",
       "1384       0.276102             0.947157      -0.942657            -0.869213   \n",
       "1785       0.276292             0.947157      -0.942657            -0.869213   \n",
       "\n",
       "      rfcd.code.3_0  rfcd.percentage.3_0  rfcd.code.4_0  rfcd.percentage.4_0  \\\n",
       "1853       1.238126             1.153172      -0.144527            -0.131985   \n",
       "1384      -0.619679            -0.567536      -0.144527            -0.131985   \n",
       "1785      -0.619679            -0.567536      -0.144527            -0.131985   \n",
       "\n",
       "      rfcd.code.5_0  rfcd.percentage.5_0  ...  role.1_5  role.1_6  role.1_7  \\\n",
       "1853      -0.072423             -0.06718  ... -0.037602 -0.098093 -0.053215   \n",
       "1384      -0.072423             -0.06718  ... -0.037602 -0.098093 -0.053215   \n",
       "1785      -0.072423             -0.06718  ... -0.037602 -0.098093 -0.053215   \n",
       "\n",
       "      role.1_8  no..of.years.in.uni.at.time.of.grant.1_1  \\\n",
       "1853 -0.018791                                 -0.339639   \n",
       "1384 -0.018791                                 -0.339639   \n",
       "1785 -0.018791                                 -0.339639   \n",
       "\n",
       "      no..of.years.in.uni.at.time.of.grant.1_2  \\\n",
       "1853                                 -0.366207   \n",
       "1384                                 -0.366207   \n",
       "1785                                 -0.366207   \n",
       "\n",
       "      no..of.years.in.uni.at.time.of.grant.1_3  \\\n",
       "1853                                  2.144485   \n",
       "1384                                  2.144485   \n",
       "1785                                 -0.466313   \n",
       "\n",
       "      no..of.years.in.uni.at.time.of.grant.1_4  \\\n",
       "1853                                 -0.701872   \n",
       "1384                                 -0.701872   \n",
       "1785                                  1.424762   \n",
       "\n",
       "      no..of.years.in.uni.at.time.of.grant.1_5  \\\n",
       "1853                                 -0.471354   \n",
       "1384                                 -0.471354   \n",
       "1785                                 -0.471354   \n",
       "\n",
       "      no..of.years.in.uni.at.time.of.grant.1_6  \n",
       "1853                                 -0.310423  \n",
       "1384                                 -0.310423  \n",
       "1785                                 -0.310423  \n",
       "\n",
       "[3 rows x 346 columns]"
      ]
     },
     "execution_count": 41,
     "metadata": {},
     "output_type": "execute_result"
    }
   ],
   "source": [
    "scaler = StandardScaler()\n",
    "scaler.fit(X_train)\n",
    "X_train_scaled = scaler.transform(X_train)\n",
    "X_test_scaled = scaler.transform(X_test)\n",
    "# check\n",
    "pd.DataFrame(X_train_scaled, columns = X_train.columns).sample(3)"
   ]
  },
  {
   "cell_type": "markdown",
   "metadata": {},
   "source": [
    "2.6. Изучите распределение по целевой переменной, чтобы выяснить, сбалансированы ли классы.\\\n",
    "Если классы не сбалансированы, используйте в работе хотя бы один из изученных методов борьбы с дисбалансом классов."
   ]
  },
  {
   "cell_type": "code",
   "execution_count": 42,
   "metadata": {},
   "outputs": [
    {
     "data": {
      "text/plain": [
       "np.int64(0)"
      ]
     },
     "execution_count": 42,
     "metadata": {},
     "output_type": "execute_result"
    }
   ],
   "source": [
    "y.isna().sum()"
   ]
  },
  {
   "cell_type": "code",
   "execution_count": 43,
   "metadata": {},
   "outputs": [
    {
     "data": {
      "text/plain": [
       "grant.status\n",
       "0    3209\n",
       "1     839\n",
       "Name: count, dtype: int64"
      ]
     },
     "execution_count": 43,
     "metadata": {},
     "output_type": "execute_result"
    }
   ],
   "source": [
    "y.value_counts()"
   ]
  },
  {
   "cell_type": "code",
   "execution_count": 44,
   "metadata": {},
   "outputs": [
    {
     "data": {
      "image/png": "[encoded data removed]",
      "text/plain": [
       "<Figure size 600x400 with 1 Axes>"
      ]
     },
     "metadata": {},
     "output_type": "display_data"
    }
   ],
   "source": [
    "plt.title(\"Распределение целевой переменной по классам.\")\n",
    "ax = sns.countplot(data=y.to_frame(), x=\"grant.status\", color=\"blue\", stat=\"percent\")\n",
    "ax.bar_label(ax.containers[0], fmt=\"%.2f%%\")\n",
    "plt.show()"
   ]
  },
  {
   "cell_type": "markdown",
   "metadata": {},
   "source": [
    "По целевой переменной наблюдается дисбаланс классов: класса 1 в 4 раза меньше, чем класса 0."
   ]
  },
  {
   "cell_type": "markdown",
   "metadata": {},
   "source": [
    "Сделаем для баланса ресемплинг и SMOTE - генерацию новых примеров. Запишем их в отдельные переменные."
   ]
  },
  {
   "cell_type": "code",
   "execution_count": 45,
   "metadata": {},
   "outputs": [
    {
     "data": {
      "text/plain": [
       "grant.status\n",
       "0    2277\n",
       "1    2277\n",
       "Name: count, dtype: int64"
      ]
     },
     "execution_count": 45,
     "metadata": {},
     "output_type": "execute_result"
    }
   ],
   "source": [
    "oversampler = RandomOverSampler()\n",
    "X_resampled, y_resampled = oversampler.fit_resample(X_train_scaled, y_train)\n",
    "y_resampled.value_counts()"
   ]
  },
  {
   "cell_type": "code",
   "execution_count": 46,
   "metadata": {},
   "outputs": [
    {
     "data": {
      "text/plain": [
       "grant.status\n",
       "0    2277\n",
       "1    2277\n",
       "Name: count, dtype: int64"
      ]
     },
     "execution_count": 46,
     "metadata": {},
     "output_type": "execute_result"
    }
   ],
   "source": [
    "smote = SMOTE()\n",
    "X_smote, y_smote = smote.fit_resample(X_train_scaled, y_train)\n",
    "y_smote.value_counts()"
   ]
  },
  {
   "cell_type": "markdown",
   "metadata": {},
   "source": [
    "#### 3. Обучите модели и выберите лучшую."
   ]
  },
  {
   "cell_type": "code",
   "execution_count": 47,
   "metadata": {},
   "outputs": [],
   "source": [
    "def visualize_roc(fpr, tpr, roc_auc, title):\n",
    "    plt.title(title)\n",
    "    plt.plot(fpr, tpr, color=\"blue\", label=f\"AUC = {roc_auc:.4f}\")\n",
    "    plt.legend(loc=\"lower right\")\n",
    "    plt.plot([0, 1], [0, 1], linestyle=\"--\")\n",
    "    plt.axis(\"tight\")\n",
    "    plt.ylabel(\"True Positive Rate\")\n",
    "    plt.xlabel(\"False Positive Rate\")\n",
    "    plt.show()"
   ]
  },
  {
   "cell_type": "code",
   "execution_count": 48,
   "metadata": {},
   "outputs": [],
   "source": [
    "def get_metrics_LR(model, X_train, y_train, X_test, y_test):\n",
    "    model.fit(X_train, y_train)\n",
    "    y_predict_proba = model.predict_proba(X_test)[:, 1]\n",
    "    roc_auc = roc_auc_score(y_test, y_predict_proba)\n",
    "    fpr, tpr, thresholds = roc_curve(y_test, y_predict_proba)\n",
    "    print(f\"Roc-auc: {roc_auc:.6f}\")\n",
    "    y_predict = model.predict(X_test)\n",
    "    print(classification_report(y_test, y_predict))\n",
    "    return roc_auc, fpr, tpr, thresholds"
   ]
  },
  {
   "cell_type": "code",
   "execution_count": 49,
   "metadata": {},
   "outputs": [],
   "source": [
    "# определим параметры для моделей\n",
    "cv = 10\n",
    "max_iter = 100 # для ускорения работы при проверке"
   ]
  },
  {
   "cell_type": "markdown",
   "metadata": {},
   "source": [
    "3.1. Обучите модель логистической регрессии, используя кросс-валидацию. Оцените ее качество с помощью метрики rocauc."
   ]
  },
  {
   "cell_type": "markdown",
   "metadata": {},
   "source": [
    "Для сравнения обучим модель с дибалансом."
   ]
  },
  {
   "cell_type": "code",
   "execution_count": 50,
   "metadata": {},
   "outputs": [
    {
     "name": "stdout",
     "output_type": "stream",
     "text": [
      "Roc-auc: 0.860352\n",
      "              precision    recall  f1-score   support\n",
      "\n",
      "           0       0.87      0.94      0.91       932\n",
      "           1       0.74      0.55      0.63       283\n",
      "\n",
      "    accuracy                           0.85      1215\n",
      "   macro avg       0.80      0.75      0.77      1215\n",
      "weighted avg       0.84      0.85      0.84      1215\n",
      "\n"
     ]
    }
   ],
   "source": [
    "model = LogisticRegressionCV(\n",
    "    solver=\"liblinear\", random_state=123, cv=cv, max_iter=max_iter, n_jobs=-1\n",
    ")\n",
    "roc_auc, fpr, tpr, thresholds = get_metrics_LR(\n",
    "    model, X_train_scaled, y_train, X_test_scaled, y_test\n",
    ")"
   ]
  },
  {
   "cell_type": "code",
   "execution_count": 51,
   "metadata": {},
   "outputs": [
    {
     "data": {
      "image/png": "[encoded data removed]",
      "text/plain": [
       "<Figure size 600x400 with 1 Axes>"
      ]
     },
     "metadata": {},
     "output_type": "display_data"
    }
   ],
   "source": [
    "visualize_roc(fpr, tpr, roc_auc, \"Кривая ROC с дисбалансом классов\")"
   ]
  },
  {
   "cell_type": "code",
   "execution_count": 52,
   "metadata": {},
   "outputs": [
    {
     "data": {
      "text/plain": [
       "np.float64(0.8603519919925993)"
      ]
     },
     "execution_count": 52,
     "metadata": {},
     "output_type": "execute_result"
    }
   ],
   "source": [
    "# запишем лучший результат\n",
    "total_result = {}\n",
    "total_result.setdefault('LogisticRegression disbalance', roc_auc)"
   ]
  },
  {
   "cell_type": "markdown",
   "metadata": {},
   "source": [
    "Обучим модель с гиперпараметром class_weight='balanced'."
   ]
  },
  {
   "cell_type": "code",
   "execution_count": 53,
   "metadata": {},
   "outputs": [
    {
     "name": "stdout",
     "output_type": "stream",
     "text": [
      "Roc-auc: 0.864420\n",
      "              precision    recall  f1-score   support\n",
      "\n",
      "           0       0.93      0.83      0.87       932\n",
      "           1       0.58      0.78      0.67       283\n",
      "\n",
      "    accuracy                           0.82      1215\n",
      "   macro avg       0.75      0.81      0.77      1215\n",
      "weighted avg       0.85      0.82      0.83      1215\n",
      "\n"
     ]
    }
   ],
   "source": [
    "model = LogisticRegressionCV(\n",
    "    solver=\"liblinear\",\n",
    "    random_state=123,\n",
    "    class_weight=\"balanced\",\n",
    "    cv=cv,\n",
    "    max_iter=max_iter,\n",
    "    n_jobs=-1\n",
    ")\n",
    "roc_auc, fpr, tpr, thresholds = get_metrics_LR(\n",
    "    model, X_train_scaled, y_train, X_test_scaled, y_test\n",
    ")"
   ]
  },
  {
   "cell_type": "code",
   "execution_count": 54,
   "metadata": {},
   "outputs": [
    {
     "data": {
      "image/png": "[encoded data removed]",
      "text/plain": [
       "<Figure size 600x400 with 1 Axes>"
      ]
     },
     "metadata": {},
     "output_type": "display_data"
    }
   ],
   "source": [
    "visualize_roc(fpr, tpr, roc_auc, \"Кривая ROC лог регрессия + class_weight\")"
   ]
  },
  {
   "cell_type": "code",
   "execution_count": 55,
   "metadata": {},
   "outputs": [
    {
     "data": {
      "text/plain": [
       "np.float64(0.8644201458924158)"
      ]
     },
     "execution_count": 55,
     "metadata": {},
     "output_type": "execute_result"
    }
   ],
   "source": [
    "total_result.setdefault('LogisticRegression class_weight balanced', roc_auc)"
   ]
  },
  {
   "cell_type": "markdown",
   "metadata": {},
   "source": [
    "Посмотрим, что будет, если перебрать разные пороги для вероятностей."
   ]
  },
  {
   "cell_type": "code",
   "execution_count": 56,
   "metadata": {},
   "outputs": [
    {
     "name": "stdout",
     "output_type": "stream",
     "text": [
      "Treshhold: 0.3, Roc_auc 0.801568\n"
     ]
    }
   ],
   "source": [
    "# перебор порогов вероятностей\n",
    "thresholds = np.arange(0.1, 1.1, 0.1)\n",
    "model = LogisticRegressionCV(\n",
    "    solver=\"liblinear\", random_state=123, cv=cv, max_iter=max_iter, n_jobs=-1\n",
    ")\n",
    "model.fit(X_train_scaled, y_train)\n",
    "\n",
    "res = []\n",
    "for threshold in thresholds:\n",
    "    # вероятности быть классом 1\n",
    "    y_predict_proba = model.predict_proba(X_test_scaled)[:, -1] > threshold\n",
    "    roc_auc = roc_auc_score(y_test, y_predict_proba)\n",
    "    res.append([threshold, roc_auc])\n",
    "\n",
    "    # print(f'Treshhold: {threshold:.1f}, Roc_auc: {roc_auc:.6f}')\n",
    "    # print('-' * 40)\n",
    "roc_auc = max(res, key=lambda x: x[1])\n",
    "print(f\"Treshhold: {roc_auc[0]:.1f}, Roc_auc {roc_auc[1]:.6f}\")"
   ]
  },
  {
   "cell_type": "code",
   "execution_count": 57,
   "metadata": {},
   "outputs": [
    {
     "data": {
      "text/plain": [
       "np.float64(0.801568)"
      ]
     },
     "execution_count": 57,
     "metadata": {},
     "output_type": "execute_result"
    }
   ],
   "source": [
    "total_result.setdefault('LogisticRegression balanced by threshold', round(roc_auc[1], 6))"
   ]
  },
  {
   "cell_type": "code",
   "execution_count": 58,
   "metadata": {},
   "outputs": [
    {
     "data": {
      "text/plain": [
       "<Axes: xlabel='threshold'>"
      ]
     },
     "execution_count": 58,
     "metadata": {},
     "output_type": "execute_result"
    },
    {
     "data": {
      "image/png": "[encoded data removed]",
      "text/plain": [
       "<Figure size 600x400 with 1 Axes>"
      ]
     },
     "metadata": {},
     "output_type": "display_data"
    }
   ],
   "source": [
    "res_pd = pd.DataFrame(res, columns = ['threshold', 'roc_auc'])\n",
    "res_pd.set_index('threshold')['roc_auc'].plot(color='blue')"
   ]
  },
  {
   "cell_type": "markdown",
   "metadata": {},
   "source": [
    "Посмотрим, как будет работать модель на данных после ресемплинга и после генерации SMOTE."
   ]
  },
  {
   "cell_type": "code",
   "execution_count": 59,
   "metadata": {},
   "outputs": [
    {
     "name": "stdout",
     "output_type": "stream",
     "text": [
      "Roc-auc: 0.868666\n",
      "              precision    recall  f1-score   support\n",
      "\n",
      "           0       0.93      0.82      0.87       932\n",
      "           1       0.58      0.78      0.66       283\n",
      "\n",
      "    accuracy                           0.81      1215\n",
      "   macro avg       0.75      0.80      0.77      1215\n",
      "weighted avg       0.84      0.81      0.82      1215\n",
      "\n"
     ]
    }
   ],
   "source": [
    "model = LogisticRegressionCV(\n",
    "    solver=\"liblinear\", random_state=123, cv=cv, max_iter=max_iter, n_jobs=-1\n",
    ")\n",
    "roc_auc, fpr, tpr, thresholds = get_metrics_LR(\n",
    "    model, X_resampled, y_resampled, X_test_scaled, y_test\n",
    ")"
   ]
  },
  {
   "cell_type": "code",
   "execution_count": 60,
   "metadata": {},
   "outputs": [
    {
     "name": "stdout",
     "output_type": "stream",
     "text": [
      "Roc-auc: 0.858358\n",
      "              precision    recall  f1-score   support\n",
      "\n",
      "           0       0.92      0.83      0.87       932\n",
      "           1       0.58      0.77      0.66       283\n",
      "\n",
      "    accuracy                           0.82      1215\n",
      "   macro avg       0.75      0.80      0.77      1215\n",
      "weighted avg       0.84      0.82      0.82      1215\n",
      "\n"
     ]
    }
   ],
   "source": [
    "model = LogisticRegressionCV(\n",
    "    solver=\"liblinear\", random_state=123, cv=cv, max_iter=max_iter, n_jobs=-1\n",
    ")\n",
    "roc_auc_s, fpr_s, tpr_s, thresholds_s = get_metrics_LR(\n",
    "    model, X_smote, y_smote, X_test_scaled, y_test\n",
    ")"
   ]
  },
  {
   "cell_type": "code",
   "execution_count": 61,
   "metadata": {},
   "outputs": [
    {
     "data": {
      "image/png": "[encoded data removed]",
      "text/plain": [
       "<Figure size 600x400 with 1 Axes>"
      ]
     },
     "metadata": {},
     "output_type": "display_data"
    }
   ],
   "source": [
    "plt.title(\"Кривая ROC лог регрессия + resampling/SMOTE\")\n",
    "plt.plot(fpr, tpr, color=\"blue\", label=f\"AUC = {roc_auc:.4f}\")\n",
    "plt.plot(fpr_s, tpr_s, color=\"red\", label=f\"AUC = {roc_auc_s:.4f}\")\n",
    "plt.legend(loc=\"lower right\")\n",
    "plt.plot([0, 1], [0, 1], linestyle=\"--\")\n",
    "plt.axis(\"tight\")\n",
    "plt.ylabel(\"True Positive Rate\")\n",
    "plt.xlabel(\"False Positive Rate\")\n",
    "plt.show()"
   ]
  },
  {
   "cell_type": "code",
   "execution_count": 62,
   "metadata": {},
   "outputs": [
    {
     "data": {
      "text/plain": [
       "np.float64(0.858358)"
      ]
     },
     "execution_count": 62,
     "metadata": {},
     "output_type": "execute_result"
    }
   ],
   "source": [
    "total_result.setdefault('LogisticRegression balanced by resampling', round(roc_auc, 6))\n",
    "total_result.setdefault('LogisticRegression balanced by SMOTE', round(roc_auc_s, 6))"
   ]
  },
  {
   "cell_type": "markdown",
   "metadata": {},
   "source": [
    "3.1.1. Выведите топ-10 признаков по важности, согласно обученной модели."
   ]
  },
  {
   "cell_type": "markdown",
   "metadata": {},
   "source": [
    "Для удобства возьмем последнюю обученную модель"
   ]
  },
  {
   "cell_type": "code",
   "execution_count": 63,
   "metadata": {},
   "outputs": [
    {
     "data": {
      "text/html": [
       "<style type=\"text/css\">\n",
       "#T_dc76a_row0_col1 {\n",
       "  background-color: #023858;\n",
       "  color: #f1f1f1;\n",
       "}\n",
       "#T_dc76a_row1_col1 {\n",
       "  background-color: #94b6d7;\n",
       "  color: #000000;\n",
       "}\n",
       "#T_dc76a_row2_col1, #T_dc76a_row3_col1 {\n",
       "  background-color: #ced0e6;\n",
       "  color: #000000;\n",
       "}\n",
       "#T_dc76a_row4_col1 {\n",
       "  background-color: #e9e5f1;\n",
       "  color: #000000;\n",
       "}\n",
       "#T_dc76a_row5_col1 {\n",
       "  background-color: #f0eaf4;\n",
       "  color: #000000;\n",
       "}\n",
       "#T_dc76a_row6_col1 {\n",
       "  background-color: #f5eff6;\n",
       "  color: #000000;\n",
       "}\n",
       "#T_dc76a_row7_col1 {\n",
       "  background-color: #f8f1f8;\n",
       "  color: #000000;\n",
       "}\n",
       "#T_dc76a_row8_col1 {\n",
       "  background-color: #fbf3f9;\n",
       "  color: #000000;\n",
       "}\n",
       "#T_dc76a_row9_col1 {\n",
       "  background-color: #fff7fb;\n",
       "  color: #000000;\n",
       "}\n",
       "</style>\n",
       "<table id=\"T_dc76a\">\n",
       "  <thead>\n",
       "    <tr>\n",
       "      <th class=\"blank level0\" >&nbsp;</th>\n",
       "      <th id=\"T_dc76a_level0_col0\" class=\"col_heading level0 col0\" >feature</th>\n",
       "      <th id=\"T_dc76a_level0_col1\" class=\"col_heading level0 col1\" >importance</th>\n",
       "    </tr>\n",
       "  </thead>\n",
       "  <tbody>\n",
       "    <tr>\n",
       "      <th id=\"T_dc76a_level0_row0\" class=\"row_heading level0 row0\" >330</th>\n",
       "      <td id=\"T_dc76a_row0_col0\" class=\"data row0 col0\" >contract.value.band...see.note.a_16</td>\n",
       "      <td id=\"T_dc76a_row0_col1\" class=\"data row0 col1\" >7.235023</td>\n",
       "    </tr>\n",
       "    <tr>\n",
       "      <th id=\"T_dc76a_level0_row1\" class=\"row_heading level0 row1\" >298</th>\n",
       "      <td id=\"T_dc76a_row1_col0\" class=\"data row1 col0\" >sponsor.code_225</td>\n",
       "      <td id=\"T_dc76a_row1_col1\" class=\"data row1 col1\" >3.769763</td>\n",
       "    </tr>\n",
       "    <tr>\n",
       "      <th id=\"T_dc76a_level0_row2\" class=\"row_heading level0 row2\" >312</th>\n",
       "      <td id=\"T_dc76a_row2_col0\" class=\"data row2 col0\" >grant.category.code_12</td>\n",
       "      <td id=\"T_dc76a_row2_col1\" class=\"data row2 col1\" >2.786370</td>\n",
       "    </tr>\n",
       "    <tr>\n",
       "      <th id=\"T_dc76a_level0_row3\" class=\"row_heading level0 row3\" >136</th>\n",
       "      <td id=\"T_dc76a_row3_col0\" class=\"data row3 col0\" >sponsor.code_63</td>\n",
       "      <td id=\"T_dc76a_row3_col1\" class=\"data row3 col1\" >2.786370</td>\n",
       "    </tr>\n",
       "    <tr>\n",
       "      <th id=\"T_dc76a_level0_row4\" class=\"row_heading level0 row4\" >21</th>\n",
       "      <td id=\"T_dc76a_row4_col0\" class=\"data row4 col0\" >year.of.birth.1_0</td>\n",
       "      <td id=\"T_dc76a_row4_col1\" class=\"data row4 col1\" >2.081230</td>\n",
       "    </tr>\n",
       "    <tr>\n",
       "      <th id=\"T_dc76a_level0_row5\" class=\"row_heading level0 row5\" >23</th>\n",
       "      <td id=\"T_dc76a_row5_col0\" class=\"data row5 col0\" >faculty.no..1_0</td>\n",
       "      <td id=\"T_dc76a_row5_col1\" class=\"data row5 col1\" >1.842684</td>\n",
       "    </tr>\n",
       "    <tr>\n",
       "      <th id=\"T_dc76a_level0_row6\" class=\"row_heading level0 row6\" >123</th>\n",
       "      <td id=\"T_dc76a_row6_col0\" class=\"data row6 col0\" >sponsor.code_50</td>\n",
       "      <td id=\"T_dc76a_row6_col1\" class=\"data row6 col1\" >1.640715</td>\n",
       "    </tr>\n",
       "    <tr>\n",
       "      <th id=\"T_dc76a_level0_row7\" class=\"row_heading level0 row7\" >53</th>\n",
       "      <td id=\"T_dc76a_row7_col0\" class=\"data row7 col0\" >faculty.no..1_mean</td>\n",
       "      <td id=\"T_dc76a_row7_col1\" class=\"data row7 col1\" >1.522553</td>\n",
       "    </tr>\n",
       "    <tr>\n",
       "      <th id=\"T_dc76a_level0_row8\" class=\"row_heading level0 row8\" >22</th>\n",
       "      <td id=\"T_dc76a_row8_col0\" class=\"data row8 col0\" >dept.no..1_0</td>\n",
       "      <td id=\"T_dc76a_row8_col1\" class=\"data row8 col1\" >1.423982</td>\n",
       "    </tr>\n",
       "    <tr>\n",
       "      <th id=\"T_dc76a_level0_row9\" class=\"row_heading level0 row9\" >166</th>\n",
       "      <td id=\"T_dc76a_row9_col0\" class=\"data row9 col0\" >sponsor.code_93</td>\n",
       "      <td id=\"T_dc76a_row9_col1\" class=\"data row9 col1\" >1.253698</td>\n",
       "    </tr>\n",
       "  </tbody>\n",
       "</table>\n"
      ],
      "text/plain": [
       "<pandas.io.formats.style.Styler at 0x74fe5287a140>"
      ]
     },
     "execution_count": 63,
     "metadata": {},
     "output_type": "execute_result"
    }
   ],
   "source": [
    "pd.DataFrame(\n",
    "    zip(list(X_train.columns), list(abs(model.coef_[0]))), \n",
    "    columns=['feature', 'importance']\n",
    ").sort_values(by=['importance'], ascending=False).head(10).style.background_gradient()"
   ]
  },
  {
   "cell_type": "markdown",
   "metadata": {},
   "source": [
    "3.2. Обучите модель случайного леса."
   ]
  },
  {
   "cell_type": "markdown",
   "metadata": {},
   "source": [
    "3.2.1. Для подбора гиперпараметров и кросс-валидации используйте структуру GridSearchCV."
   ]
  },
  {
   "cell_type": "code",
   "execution_count": 64,
   "metadata": {},
   "outputs": [
    {
     "data": {
      "text/html": [
       "<style>#sk-container-id-1 {\n",
       "  /* Definition of color scheme common for light and dark mode */\n",
       "  --sklearn-color-text: black;\n",
       "  --sklearn-color-line: gray;\n",
       "  /* Definition of color scheme for unfitted estimators */\n",
       "  --sklearn-color-unfitted-level-0: #fff5e6;\n",
       "  --sklearn-color-unfitted-level-1: #f6e4d2;\n",
       "  --sklearn-color-unfitted-level-2: #ffe0b3;\n",
       "  --sklearn-color-unfitted-level-3: chocolate;\n",
       "  /* Definition of color scheme for fitted estimators */\n",
       "  --sklearn-color-fitted-level-0: #f0f8ff;\n",
       "  --sklearn-color-fitted-level-1: #d4ebff;\n",
       "  --sklearn-color-fitted-level-2: #b3dbfd;\n",
       "  --sklearn-color-fitted-level-3: cornflowerblue;\n",
       "\n",
       "  /* Specific color for light theme */\n",
       "  --sklearn-color-text-on-default-background: var(--sg-text-color, var(--theme-code-foreground, var(--jp-content-font-color1, black)));\n",
       "  --sklearn-color-background: var(--sg-background-color, var(--theme-background, var(--jp-layout-color0, white)));\n",
       "  --sklearn-color-border-box: var(--sg-text-color, var(--theme-code-foreground, var(--jp-content-font-color1, black)));\n",
       "  --sklearn-color-icon: #696969;\n",
       "\n",
       "  @media (prefers-color-scheme: dark) {\n",
       "    /* Redefinition of color scheme for dark theme */\n",
       "    --sklearn-color-text-on-default-background: var(--sg-text-color, var(--theme-code-foreground, var(--jp-content-font-color1, white)));\n",
       "    --sklearn-color-background: var(--sg-background-color, var(--theme-background, var(--jp-layout-color0, #111)));\n",
       "    --sklearn-color-border-box: var(--sg-text-color, var(--theme-code-foreground, var(--jp-content-font-color1, white)));\n",
       "    --sklearn-color-icon: #878787;\n",
       "  }\n",
       "}\n",
       "\n",
       "#sk-container-id-1 {\n",
       "  color: var(--sklearn-color-text);\n",
       "}\n",
       "\n",
       "#sk-container-id-1 pre {\n",
       "  padding: 0;\n",
       "}\n",
       "\n",
       "#sk-container-id-1 input.sk-hidden--visually {\n",
       "  border: 0;\n",
       "  clip: rect(1px 1px 1px 1px);\n",
       "  clip: rect(1px, 1px, 1px, 1px);\n",
       "  height: 1px;\n",
       "  margin: -1px;\n",
       "  overflow: hidden;\n",
       "  padding: 0;\n",
       "  position: absolute;\n",
       "  width: 1px;\n",
       "}\n",
       "\n",
       "#sk-container-id-1 div.sk-dashed-wrapped {\n",
       "  border: 1px dashed var(--sklearn-color-line);\n",
       "  margin: 0 0.4em 0.5em 0.4em;\n",
       "  box-sizing: border-box;\n",
       "  padding-bottom: 0.4em;\n",
       "  background-color: var(--sklearn-color-background);\n",
       "}\n",
       "\n",
       "#sk-container-id-1 div.sk-container {\n",
       "  /* jupyter's `normalize.less` sets `[hidden] { display: none; }`\n",
       "     but bootstrap.min.css set `[hidden] { display: none !important; }`\n",
       "     so we also need the `!important` here to be able to override the\n",
       "     default hidden behavior on the sphinx rendered scikit-learn.org.\n",
       "     See: https://github.com/scikit-learn/scikit-learn/issues/21755 */\n",
       "  display: inline-block !important;\n",
       "  position: relative;\n",
       "}\n",
       "\n",
       "#sk-container-id-1 div.sk-text-repr-fallback {\n",
       "  display: none;\n",
       "}\n",
       "\n",
       "div.sk-parallel-item,\n",
       "div.sk-serial,\n",
       "div.sk-item {\n",
       "  /* draw centered vertical line to link estimators */\n",
       "  background-image: linear-gradient(var(--sklearn-color-text-on-default-background), var(--sklearn-color-text-on-default-background));\n",
       "  background-size: 2px 100%;\n",
       "  background-repeat: no-repeat;\n",
       "  background-position: center center;\n",
       "}\n",
       "\n",
       "/* Parallel-specific style estimator block */\n",
       "\n",
       "#sk-container-id-1 div.sk-parallel-item::after {\n",
       "  content: \"\";\n",
       "  width: 100%;\n",
       "  border-bottom: 2px solid var(--sklearn-color-text-on-default-background);\n",
       "  flex-grow: 1;\n",
       "}\n",
       "\n",
       "#sk-container-id-1 div.sk-parallel {\n",
       "  display: flex;\n",
       "  align-items: stretch;\n",
       "  justify-content: center;\n",
       "  background-color: var(--sklearn-color-background);\n",
       "  position: relative;\n",
       "}\n",
       "\n",
       "#sk-container-id-1 div.sk-parallel-item {\n",
       "  display: flex;\n",
       "  flex-direction: column;\n",
       "}\n",
       "\n",
       "#sk-container-id-1 div.sk-parallel-item:first-child::after {\n",
       "  align-self: flex-end;\n",
       "  width: 50%;\n",
       "}\n",
       "\n",
       "#sk-container-id-1 div.sk-parallel-item:last-child::after {\n",
       "  align-self: flex-start;\n",
       "  width: 50%;\n",
       "}\n",
       "\n",
       "#sk-container-id-1 div.sk-parallel-item:only-child::after {\n",
       "  width: 0;\n",
       "}\n",
       "\n",
       "/* Serial-specific style estimator block */\n",
       "\n",
       "#sk-container-id-1 div.sk-serial {\n",
       "  display: flex;\n",
       "  flex-direction: column;\n",
       "  align-items: center;\n",
       "  background-color: var(--sklearn-color-background);\n",
       "  padding-right: 1em;\n",
       "  padding-left: 1em;\n",
       "}\n",
       "\n",
       "\n",
       "/* Toggleable style: style used for estimator/Pipeline/ColumnTransformer box that is\n",
       "clickable and can be expanded/collapsed.\n",
       "- Pipeline and ColumnTransformer use this feature and define the default style\n",
       "- Estimators will overwrite some part of the style using the `sk-estimator` class\n",
       "*/\n",
       "\n",
       "/* Pipeline and ColumnTransformer style (default) */\n",
       "\n",
       "#sk-container-id-1 div.sk-toggleable {\n",
       "  /* Default theme specific background. It is overwritten whether we have a\n",
       "  specific estimator or a Pipeline/ColumnTransformer */\n",
       "  background-color: var(--sklearn-color-background);\n",
       "}\n",
       "\n",
       "/* Toggleable label */\n",
       "#sk-container-id-1 label.sk-toggleable__label {\n",
       "  cursor: pointer;\n",
       "  display: block;\n",
       "  width: 100%;\n",
       "  margin-bottom: 0;\n",
       "  padding: 0.5em;\n",
       "  box-sizing: border-box;\n",
       "  text-align: center;\n",
       "}\n",
       "\n",
       "#sk-container-id-1 label.sk-toggleable__label-arrow:before {\n",
       "  /* Arrow on the left of the label */\n",
       "  content: \"▸\";\n",
       "  float: left;\n",
       "  margin-right: 0.25em;\n",
       "  color: var(--sklearn-color-icon);\n",
       "}\n",
       "\n",
       "#sk-container-id-1 label.sk-toggleable__label-arrow:hover:before {\n",
       "  color: var(--sklearn-color-text);\n",
       "}\n",
       "\n",
       "/* Toggleable content - dropdown */\n",
       "\n",
       "#sk-container-id-1 div.sk-toggleable__content {\n",
       "  max-height: 0;\n",
       "  max-width: 0;\n",
       "  overflow: hidden;\n",
       "  text-align: left;\n",
       "  /* unfitted */\n",
       "  background-color: var(--sklearn-color-unfitted-level-0);\n",
       "}\n",
       "\n",
       "#sk-container-id-1 div.sk-toggleable__content.fitted {\n",
       "  /* fitted */\n",
       "  background-color: var(--sklearn-color-fitted-level-0);\n",
       "}\n",
       "\n",
       "#sk-container-id-1 div.sk-toggleable__content pre {\n",
       "  margin: 0.2em;\n",
       "  border-radius: 0.25em;\n",
       "  color: var(--sklearn-color-text);\n",
       "  /* unfitted */\n",
       "  background-color: var(--sklearn-color-unfitted-level-0);\n",
       "}\n",
       "\n",
       "#sk-container-id-1 div.sk-toggleable__content.fitted pre {\n",
       "  /* unfitted */\n",
       "  background-color: var(--sklearn-color-fitted-level-0);\n",
       "}\n",
       "\n",
       "#sk-container-id-1 input.sk-toggleable__control:checked~div.sk-toggleable__content {\n",
       "  /* Expand drop-down */\n",
       "  max-height: 200px;\n",
       "  max-width: 100%;\n",
       "  overflow: auto;\n",
       "}\n",
       "\n",
       "#sk-container-id-1 input.sk-toggleable__control:checked~label.sk-toggleable__label-arrow:before {\n",
       "  content: \"▾\";\n",
       "}\n",
       "\n",
       "/* Pipeline/ColumnTransformer-specific style */\n",
       "\n",
       "#sk-container-id-1 div.sk-label input.sk-toggleable__control:checked~label.sk-toggleable__label {\n",
       "  color: var(--sklearn-color-text);\n",
       "  background-color: var(--sklearn-color-unfitted-level-2);\n",
       "}\n",
       "\n",
       "#sk-container-id-1 div.sk-label.fitted input.sk-toggleable__control:checked~label.sk-toggleable__label {\n",
       "  background-color: var(--sklearn-color-fitted-level-2);\n",
       "}\n",
       "\n",
       "/* Estimator-specific style */\n",
       "\n",
       "/* Colorize estimator box */\n",
       "#sk-container-id-1 div.sk-estimator input.sk-toggleable__control:checked~label.sk-toggleable__label {\n",
       "  /* unfitted */\n",
       "  background-color: var(--sklearn-color-unfitted-level-2);\n",
       "}\n",
       "\n",
       "#sk-container-id-1 div.sk-estimator.fitted input.sk-toggleable__control:checked~label.sk-toggleable__label {\n",
       "  /* fitted */\n",
       "  background-color: var(--sklearn-color-fitted-level-2);\n",
       "}\n",
       "\n",
       "#sk-container-id-1 div.sk-label label.sk-toggleable__label,\n",
       "#sk-container-id-1 div.sk-label label {\n",
       "  /* The background is the default theme color */\n",
       "  color: var(--sklearn-color-text-on-default-background);\n",
       "}\n",
       "\n",
       "/* On hover, darken the color of the background */\n",
       "#sk-container-id-1 div.sk-label:hover label.sk-toggleable__label {\n",
       "  color: var(--sklearn-color-text);\n",
       "  background-color: var(--sklearn-color-unfitted-level-2);\n",
       "}\n",
       "\n",
       "/* Label box, darken color on hover, fitted */\n",
       "#sk-container-id-1 div.sk-label.fitted:hover label.sk-toggleable__label.fitted {\n",
       "  color: var(--sklearn-color-text);\n",
       "  background-color: var(--sklearn-color-fitted-level-2);\n",
       "}\n",
       "\n",
       "/* Estimator label */\n",
       "\n",
       "#sk-container-id-1 div.sk-label label {\n",
       "  font-family: monospace;\n",
       "  font-weight: bold;\n",
       "  display: inline-block;\n",
       "  line-height: 1.2em;\n",
       "}\n",
       "\n",
       "#sk-container-id-1 div.sk-label-container {\n",
       "  text-align: center;\n",
       "}\n",
       "\n",
       "/* Estimator-specific */\n",
       "#sk-container-id-1 div.sk-estimator {\n",
       "  font-family: monospace;\n",
       "  border: 1px dotted var(--sklearn-color-border-box);\n",
       "  border-radius: 0.25em;\n",
       "  box-sizing: border-box;\n",
       "  margin-bottom: 0.5em;\n",
       "  /* unfitted */\n",
       "  background-color: var(--sklearn-color-unfitted-level-0);\n",
       "}\n",
       "\n",
       "#sk-container-id-1 div.sk-estimator.fitted {\n",
       "  /* fitted */\n",
       "  background-color: var(--sklearn-color-fitted-level-0);\n",
       "}\n",
       "\n",
       "/* on hover */\n",
       "#sk-container-id-1 div.sk-estimator:hover {\n",
       "  /* unfitted */\n",
       "  background-color: var(--sklearn-color-unfitted-level-2);\n",
       "}\n",
       "\n",
       "#sk-container-id-1 div.sk-estimator.fitted:hover {\n",
       "  /* fitted */\n",
       "  background-color: var(--sklearn-color-fitted-level-2);\n",
       "}\n",
       "\n",
       "/* Specification for estimator info (e.g. \"i\" and \"?\") */\n",
       "\n",
       "/* Common style for \"i\" and \"?\" */\n",
       "\n",
       ".sk-estimator-doc-link,\n",
       "a:link.sk-estimator-doc-link,\n",
       "a:visited.sk-estimator-doc-link {\n",
       "  float: right;\n",
       "  font-size: smaller;\n",
       "  line-height: 1em;\n",
       "  font-family: monospace;\n",
       "  background-color: var(--sklearn-color-background);\n",
       "  border-radius: 1em;\n",
       "  height: 1em;\n",
       "  width: 1em;\n",
       "  text-decoration: none !important;\n",
       "  margin-left: 1ex;\n",
       "  /* unfitted */\n",
       "  border: var(--sklearn-color-unfitted-level-1) 1pt solid;\n",
       "  color: var(--sklearn-color-unfitted-level-1);\n",
       "}\n",
       "\n",
       ".sk-estimator-doc-link.fitted,\n",
       "a:link.sk-estimator-doc-link.fitted,\n",
       "a:visited.sk-estimator-doc-link.fitted {\n",
       "  /* fitted */\n",
       "  border: var(--sklearn-color-fitted-level-1) 1pt solid;\n",
       "  color: var(--sklearn-color-fitted-level-1);\n",
       "}\n",
       "\n",
       "/* On hover */\n",
       "div.sk-estimator:hover .sk-estimator-doc-link:hover,\n",
       ".sk-estimator-doc-link:hover,\n",
       "div.sk-label-container:hover .sk-estimator-doc-link:hover,\n",
       ".sk-estimator-doc-link:hover {\n",
       "  /* unfitted */\n",
       "  background-color: var(--sklearn-color-unfitted-level-3);\n",
       "  color: var(--sklearn-color-background);\n",
       "  text-decoration: none;\n",
       "}\n",
       "\n",
       "div.sk-estimator.fitted:hover .sk-estimator-doc-link.fitted:hover,\n",
       ".sk-estimator-doc-link.fitted:hover,\n",
       "div.sk-label-container:hover .sk-estimator-doc-link.fitted:hover,\n",
       ".sk-estimator-doc-link.fitted:hover {\n",
       "  /* fitted */\n",
       "  background-color: var(--sklearn-color-fitted-level-3);\n",
       "  color: var(--sklearn-color-background);\n",
       "  text-decoration: none;\n",
       "}\n",
       "\n",
       "/* Span, style for the box shown on hovering the info icon */\n",
       ".sk-estimator-doc-link span {\n",
       "  display: none;\n",
       "  z-index: 9999;\n",
       "  position: relative;\n",
       "  font-weight: normal;\n",
       "  right: .2ex;\n",
       "  padding: .5ex;\n",
       "  margin: .5ex;\n",
       "  width: min-content;\n",
       "  min-width: 20ex;\n",
       "  max-width: 50ex;\n",
       "  color: var(--sklearn-color-text);\n",
       "  box-shadow: 2pt 2pt 4pt #999;\n",
       "  /* unfitted */\n",
       "  background: var(--sklearn-color-unfitted-level-0);\n",
       "  border: .5pt solid var(--sklearn-color-unfitted-level-3);\n",
       "}\n",
       "\n",
       ".sk-estimator-doc-link.fitted span {\n",
       "  /* fitted */\n",
       "  background: var(--sklearn-color-fitted-level-0);\n",
       "  border: var(--sklearn-color-fitted-level-3);\n",
       "}\n",
       "\n",
       ".sk-estimator-doc-link:hover span {\n",
       "  display: block;\n",
       "}\n",
       "\n",
       "/* \"?\"-specific style due to the `<a>` HTML tag */\n",
       "\n",
       "#sk-container-id-1 a.estimator_doc_link {\n",
       "  float: right;\n",
       "  font-size: 1rem;\n",
       "  line-height: 1em;\n",
       "  font-family: monospace;\n",
       "  background-color: var(--sklearn-color-background);\n",
       "  border-radius: 1rem;\n",
       "  height: 1rem;\n",
       "  width: 1rem;\n",
       "  text-decoration: none;\n",
       "  /* unfitted */\n",
       "  color: var(--sklearn-color-unfitted-level-1);\n",
       "  border: var(--sklearn-color-unfitted-level-1) 1pt solid;\n",
       "}\n",
       "\n",
       "#sk-container-id-1 a.estimator_doc_link.fitted {\n",
       "  /* fitted */\n",
       "  border: var(--sklearn-color-fitted-level-1) 1pt solid;\n",
       "  color: var(--sklearn-color-fitted-level-1);\n",
       "}\n",
       "\n",
       "/* On hover */\n",
       "#sk-container-id-1 a.estimator_doc_link:hover {\n",
       "  /* unfitted */\n",
       "  background-color: var(--sklearn-color-unfitted-level-3);\n",
       "  color: var(--sklearn-color-background);\n",
       "  text-decoration: none;\n",
       "}\n",
       "\n",
       "#sk-container-id-1 a.estimator_doc_link.fitted:hover {\n",
       "  /* fitted */\n",
       "  background-color: var(--sklearn-color-fitted-level-3);\n",
       "}\n",
       "</style><div id=\"sk-container-id-1\" class=\"sk-top-container\"><div class=\"sk-text-repr-fallback\"><pre>GridSearchCV(cv=10,\n",
       "             estimator=DecisionTreeClassifier(class_weight=&#x27;balanced&#x27;,\n",
       "                                              random_state=111),\n",
       "             n_jobs=-1,\n",
       "             param_grid={&#x27;criterion&#x27;: [&#x27;entropy&#x27;, &#x27;gini&#x27;],\n",
       "                         &#x27;max_depth&#x27;: range(1, 10),\n",
       "                         &#x27;min_samples_leaf&#x27;: range(1, 6, 2),\n",
       "                         &#x27;min_samples_split&#x27;: range(2, 8, 2)},\n",
       "             scoring=&#x27;roc_auc&#x27;, verbose=False)</pre><b>In a Jupyter environment, please rerun this cell to show the HTML representation or trust the notebook. <br />On GitHub, the HTML representation is unable to render, please try loading this page with nbviewer.org.</b></div><div class=\"sk-container\" hidden><div class=\"sk-item sk-dashed-wrapped\"><div class=\"sk-label-container\"><div class=\"sk-label fitted sk-toggleable\"><input class=\"sk-toggleable__control sk-hidden--visually\" id=\"sk-estimator-id-1\" type=\"checkbox\" ><label for=\"sk-estimator-id-1\" class=\"sk-toggleable__label fitted sk-toggleable__label-arrow fitted\">&nbsp;&nbsp;GridSearchCV<a class=\"sk-estimator-doc-link fitted\" rel=\"noreferrer\" target=\"_blank\" href=\"https://scikit-learn.org/1.5/modules/generated/sklearn.model_selection.GridSearchCV.html\">?<span>Documentation for GridSearchCV</span></a><span class=\"sk-estimator-doc-link fitted\">i<span>Fitted</span></span></label><div class=\"sk-toggleable__content fitted\"><pre>GridSearchCV(cv=10,\n",
       "             estimator=DecisionTreeClassifier(class_weight=&#x27;balanced&#x27;,\n",
       "                                              random_state=111),\n",
       "             n_jobs=-1,\n",
       "             param_grid={&#x27;criterion&#x27;: [&#x27;entropy&#x27;, &#x27;gini&#x27;],\n",
       "                         &#x27;max_depth&#x27;: range(1, 10),\n",
       "                         &#x27;min_samples_leaf&#x27;: range(1, 6, 2),\n",
       "                         &#x27;min_samples_split&#x27;: range(2, 8, 2)},\n",
       "             scoring=&#x27;roc_auc&#x27;, verbose=False)</pre></div> </div></div><div class=\"sk-parallel\"><div class=\"sk-parallel-item\"><div class=\"sk-item\"><div class=\"sk-label-container\"><div class=\"sk-label fitted sk-toggleable\"><input class=\"sk-toggleable__control sk-hidden--visually\" id=\"sk-estimator-id-2\" type=\"checkbox\" ><label for=\"sk-estimator-id-2\" class=\"sk-toggleable__label fitted sk-toggleable__label-arrow fitted\">best_estimator_: DecisionTreeClassifier</label><div class=\"sk-toggleable__content fitted\"><pre>DecisionTreeClassifier(class_weight=&#x27;balanced&#x27;, criterion=&#x27;entropy&#x27;,\n",
       "                       max_depth=4, min_samples_leaf=3, random_state=111)</pre></div> </div></div><div class=\"sk-serial\"><div class=\"sk-item\"><div class=\"sk-estimator fitted sk-toggleable\"><input class=\"sk-toggleable__control sk-hidden--visually\" id=\"sk-estimator-id-3\" type=\"checkbox\" ><label for=\"sk-estimator-id-3\" class=\"sk-toggleable__label fitted sk-toggleable__label-arrow fitted\">&nbsp;DecisionTreeClassifier<a class=\"sk-estimator-doc-link fitted\" rel=\"noreferrer\" target=\"_blank\" href=\"https://scikit-learn.org/1.5/modules/generated/sklearn.tree.DecisionTreeClassifier.html\">?<span>Documentation for DecisionTreeClassifier</span></a></label><div class=\"sk-toggleable__content fitted\"><pre>DecisionTreeClassifier(class_weight=&#x27;balanced&#x27;, criterion=&#x27;entropy&#x27;,\n",
       "                       max_depth=4, min_samples_leaf=3, random_state=111)</pre></div> </div></div></div></div></div></div></div></div></div>"
      ],
      "text/plain": [
       "GridSearchCV(cv=10,\n",
       "             estimator=DecisionTreeClassifier(class_weight='balanced',\n",
       "                                              random_state=111),\n",
       "             n_jobs=-1,\n",
       "             param_grid={'criterion': ['entropy', 'gini'],\n",
       "                         'max_depth': range(1, 10),\n",
       "                         'min_samples_leaf': range(1, 6, 2),\n",
       "                         'min_samples_split': range(2, 8, 2)},\n",
       "             scoring='roc_auc', verbose=False)"
      ]
     },
     "execution_count": 64,
     "metadata": {},
     "output_type": "execute_result"
    }
   ],
   "source": [
    "model = DecisionTreeClassifier(random_state=111, class_weight='balanced')\n",
    "\n",
    "# параметры для перебора\n",
    "param_grid = dict(\n",
    "    max_depth=range(1, 10),\n",
    "    min_samples_leaf=range(1, 6, 2),\n",
    "    min_samples_split=range(2, 8, 2), \n",
    "    criterion=['entropy', 'gini'],\n",
    ")\n",
    "\n",
    "grid_search = GridSearchCV(\n",
    "    estimator=model,\n",
    "    param_grid=param_grid,\n",
    "    n_jobs=-1,\n",
    "    scoring='roc_auc',\n",
    "    cv=cv,\n",
    "    verbose=False,\n",
    ")\n",
    "\n",
    "grid_search.fit(X_train_scaled, y_train)"
   ]
  },
  {
   "cell_type": "markdown",
   "metadata": {},
   "source": [
    "3.2.2 Выберите наилучший вариант случайного леса и выведите его параметры."
   ]
  },
  {
   "cell_type": "code",
   "execution_count": 65,
   "metadata": {},
   "outputs": [
    {
     "data": {
      "text/plain": [
       "{'criterion': 'entropy',\n",
       " 'max_depth': 4,\n",
       " 'min_samples_leaf': 3,\n",
       " 'min_samples_split': 2}"
      ]
     },
     "execution_count": 65,
     "metadata": {},
     "output_type": "execute_result"
    }
   ],
   "source": [
    "grid_search.best_params_"
   ]
  },
  {
   "cell_type": "markdown",
   "metadata": {},
   "source": [
    "3.2.3. Оцените качество выбранной модели с помощью метрики rocauc."
   ]
  },
  {
   "cell_type": "code",
   "execution_count": 66,
   "metadata": {},
   "outputs": [
    {
     "data": {
      "text/plain": [
       "np.float64(0.8899712110673159)"
      ]
     },
     "execution_count": 66,
     "metadata": {},
     "output_type": "execute_result"
    }
   ],
   "source": [
    "grid_search.best_score_"
   ]
  },
  {
   "cell_type": "code",
   "execution_count": 67,
   "metadata": {},
   "outputs": [
    {
     "data": {
      "text/plain": [
       "np.float64(0.899)"
      ]
     },
     "execution_count": 67,
     "metadata": {},
     "output_type": "execute_result"
    }
   ],
   "source": [
    "# получить модель с лучшими параметрами\n",
    "model = grid_search.best_estimator_\n",
    "\n",
    "y_predict_proba = model.predict_proba(X_test_scaled)[:, 1]\n",
    "roc_auc = roc_auc_score(y_test, y_predict_proba)\n",
    "fpr, tpr, thresholds = roc_curve(y_test, y_predict_proba)\n",
    "round(roc_auc, 4)"
   ]
  },
  {
   "cell_type": "code",
   "execution_count": 68,
   "metadata": {},
   "outputs": [
    {
     "data": {
      "image/png": "[encoded data removed]",
      "text/plain": [
       "<Figure size 600x400 with 1 Axes>"
      ]
     },
     "metadata": {},
     "output_type": "display_data"
    }
   ],
   "source": [
    "visualize_roc(fpr, tpr, roc_auc, \"Кривая ROC для дерева решений с class_weight\")"
   ]
  },
  {
   "cell_type": "code",
   "execution_count": 69,
   "metadata": {},
   "outputs": [
    {
     "data": {
      "text/plain": [
       "np.float64(0.899017)"
      ]
     },
     "execution_count": 69,
     "metadata": {},
     "output_type": "execute_result"
    }
   ],
   "source": [
    "total_result.setdefault('DecisionTreeClassifier balanced by class_weight', round(roc_auc, 6))"
   ]
  },
  {
   "cell_type": "markdown",
   "metadata": {},
   "source": [
    "Попробуем дерево решений на ресемплированных данных."
   ]
  },
  {
   "cell_type": "code",
   "execution_count": 70,
   "metadata": {},
   "outputs": [
    {
     "data": {
      "text/html": [
       "<style>#sk-container-id-2 {\n",
       "  /* Definition of color scheme common for light and dark mode */\n",
       "  --sklearn-color-text: black;\n",
       "  --sklearn-color-line: gray;\n",
       "  /* Definition of color scheme for unfitted estimators */\n",
       "  --sklearn-color-unfitted-level-0: #fff5e6;\n",
       "  --sklearn-color-unfitted-level-1: #f6e4d2;\n",
       "  --sklearn-color-unfitted-level-2: #ffe0b3;\n",
       "  --sklearn-color-unfitted-level-3: chocolate;\n",
       "  /* Definition of color scheme for fitted estimators */\n",
       "  --sklearn-color-fitted-level-0: #f0f8ff;\n",
       "  --sklearn-color-fitted-level-1: #d4ebff;\n",
       "  --sklearn-color-fitted-level-2: #b3dbfd;\n",
       "  --sklearn-color-fitted-level-3: cornflowerblue;\n",
       "\n",
       "  /* Specific color for light theme */\n",
       "  --sklearn-color-text-on-default-background: var(--sg-text-color, var(--theme-code-foreground, var(--jp-content-font-color1, black)));\n",
       "  --sklearn-color-background: var(--sg-background-color, var(--theme-background, var(--jp-layout-color0, white)));\n",
       "  --sklearn-color-border-box: var(--sg-text-color, var(--theme-code-foreground, var(--jp-content-font-color1, black)));\n",
       "  --sklearn-color-icon: #696969;\n",
       "\n",
       "  @media (prefers-color-scheme: dark) {\n",
       "    /* Redefinition of color scheme for dark theme */\n",
       "    --sklearn-color-text-on-default-background: var(--sg-text-color, var(--theme-code-foreground, var(--jp-content-font-color1, white)));\n",
       "    --sklearn-color-background: var(--sg-background-color, var(--theme-background, var(--jp-layout-color0, #111)));\n",
       "    --sklearn-color-border-box: var(--sg-text-color, var(--theme-code-foreground, var(--jp-content-font-color1, white)));\n",
       "    --sklearn-color-icon: #878787;\n",
       "  }\n",
       "}\n",
       "\n",
       "#sk-container-id-2 {\n",
       "  color: var(--sklearn-color-text);\n",
       "}\n",
       "\n",
       "#sk-container-id-2 pre {\n",
       "  padding: 0;\n",
       "}\n",
       "\n",
       "#sk-container-id-2 input.sk-hidden--visually {\n",
       "  border: 0;\n",
       "  clip: rect(1px 1px 1px 1px);\n",
       "  clip: rect(1px, 1px, 1px, 1px);\n",
       "  height: 1px;\n",
       "  margin: -1px;\n",
       "  overflow: hidden;\n",
       "  padding: 0;\n",
       "  position: absolute;\n",
       "  width: 1px;\n",
       "}\n",
       "\n",
       "#sk-container-id-2 div.sk-dashed-wrapped {\n",
       "  border: 1px dashed var(--sklearn-color-line);\n",
       "  margin: 0 0.4em 0.5em 0.4em;\n",
       "  box-sizing: border-box;\n",
       "  padding-bottom: 0.4em;\n",
       "  background-color: var(--sklearn-color-background);\n",
       "}\n",
       "\n",
       "#sk-container-id-2 div.sk-container {\n",
       "  /* jupyter's `normalize.less` sets `[hidden] { display: none; }`\n",
       "     but bootstrap.min.css set `[hidden] { display: none !important; }`\n",
       "     so we also need the `!important` here to be able to override the\n",
       "     default hidden behavior on the sphinx rendered scikit-learn.org.\n",
       "     See: https://github.com/scikit-learn/scikit-learn/issues/21755 */\n",
       "  display: inline-block !important;\n",
       "  position: relative;\n",
       "}\n",
       "\n",
       "#sk-container-id-2 div.sk-text-repr-fallback {\n",
       "  display: none;\n",
       "}\n",
       "\n",
       "div.sk-parallel-item,\n",
       "div.sk-serial,\n",
       "div.sk-item {\n",
       "  /* draw centered vertical line to link estimators */\n",
       "  background-image: linear-gradient(var(--sklearn-color-text-on-default-background), var(--sklearn-color-text-on-default-background));\n",
       "  background-size: 2px 100%;\n",
       "  background-repeat: no-repeat;\n",
       "  background-position: center center;\n",
       "}\n",
       "\n",
       "/* Parallel-specific style estimator block */\n",
       "\n",
       "#sk-container-id-2 div.sk-parallel-item::after {\n",
       "  content: \"\";\n",
       "  width: 100%;\n",
       "  border-bottom: 2px solid var(--sklearn-color-text-on-default-background);\n",
       "  flex-grow: 1;\n",
       "}\n",
       "\n",
       "#sk-container-id-2 div.sk-parallel {\n",
       "  display: flex;\n",
       "  align-items: stretch;\n",
       "  justify-content: center;\n",
       "  background-color: var(--sklearn-color-background);\n",
       "  position: relative;\n",
       "}\n",
       "\n",
       "#sk-container-id-2 div.sk-parallel-item {\n",
       "  display: flex;\n",
       "  flex-direction: column;\n",
       "}\n",
       "\n",
       "#sk-container-id-2 div.sk-parallel-item:first-child::after {\n",
       "  align-self: flex-end;\n",
       "  width: 50%;\n",
       "}\n",
       "\n",
       "#sk-container-id-2 div.sk-parallel-item:last-child::after {\n",
       "  align-self: flex-start;\n",
       "  width: 50%;\n",
       "}\n",
       "\n",
       "#sk-container-id-2 div.sk-parallel-item:only-child::after {\n",
       "  width: 0;\n",
       "}\n",
       "\n",
       "/* Serial-specific style estimator block */\n",
       "\n",
       "#sk-container-id-2 div.sk-serial {\n",
       "  display: flex;\n",
       "  flex-direction: column;\n",
       "  align-items: center;\n",
       "  background-color: var(--sklearn-color-background);\n",
       "  padding-right: 1em;\n",
       "  padding-left: 1em;\n",
       "}\n",
       "\n",
       "\n",
       "/* Toggleable style: style used for estimator/Pipeline/ColumnTransformer box that is\n",
       "clickable and can be expanded/collapsed.\n",
       "- Pipeline and ColumnTransformer use this feature and define the default style\n",
       "- Estimators will overwrite some part of the style using the `sk-estimator` class\n",
       "*/\n",
       "\n",
       "/* Pipeline and ColumnTransformer style (default) */\n",
       "\n",
       "#sk-container-id-2 div.sk-toggleable {\n",
       "  /* Default theme specific background. It is overwritten whether we have a\n",
       "  specific estimator or a Pipeline/ColumnTransformer */\n",
       "  background-color: var(--sklearn-color-background);\n",
       "}\n",
       "\n",
       "/* Toggleable label */\n",
       "#sk-container-id-2 label.sk-toggleable__label {\n",
       "  cursor: pointer;\n",
       "  display: block;\n",
       "  width: 100%;\n",
       "  margin-bottom: 0;\n",
       "  padding: 0.5em;\n",
       "  box-sizing: border-box;\n",
       "  text-align: center;\n",
       "}\n",
       "\n",
       "#sk-container-id-2 label.sk-toggleable__label-arrow:before {\n",
       "  /* Arrow on the left of the label */\n",
       "  content: \"▸\";\n",
       "  float: left;\n",
       "  margin-right: 0.25em;\n",
       "  color: var(--sklearn-color-icon);\n",
       "}\n",
       "\n",
       "#sk-container-id-2 label.sk-toggleable__label-arrow:hover:before {\n",
       "  color: var(--sklearn-color-text);\n",
       "}\n",
       "\n",
       "/* Toggleable content - dropdown */\n",
       "\n",
       "#sk-container-id-2 div.sk-toggleable__content {\n",
       "  max-height: 0;\n",
       "  max-width: 0;\n",
       "  overflow: hidden;\n",
       "  text-align: left;\n",
       "  /* unfitted */\n",
       "  background-color: var(--sklearn-color-unfitted-level-0);\n",
       "}\n",
       "\n",
       "#sk-container-id-2 div.sk-toggleable__content.fitted {\n",
       "  /* fitted */\n",
       "  background-color: var(--sklearn-color-fitted-level-0);\n",
       "}\n",
       "\n",
       "#sk-container-id-2 div.sk-toggleable__content pre {\n",
       "  margin: 0.2em;\n",
       "  border-radius: 0.25em;\n",
       "  color: var(--sklearn-color-text);\n",
       "  /* unfitted */\n",
       "  background-color: var(--sklearn-color-unfitted-level-0);\n",
       "}\n",
       "\n",
       "#sk-container-id-2 div.sk-toggleable__content.fitted pre {\n",
       "  /* unfitted */\n",
       "  background-color: var(--sklearn-color-fitted-level-0);\n",
       "}\n",
       "\n",
       "#sk-container-id-2 input.sk-toggleable__control:checked~div.sk-toggleable__content {\n",
       "  /* Expand drop-down */\n",
       "  max-height: 200px;\n",
       "  max-width: 100%;\n",
       "  overflow: auto;\n",
       "}\n",
       "\n",
       "#sk-container-id-2 input.sk-toggleable__control:checked~label.sk-toggleable__label-arrow:before {\n",
       "  content: \"▾\";\n",
       "}\n",
       "\n",
       "/* Pipeline/ColumnTransformer-specific style */\n",
       "\n",
       "#sk-container-id-2 div.sk-label input.sk-toggleable__control:checked~label.sk-toggleable__label {\n",
       "  color: var(--sklearn-color-text);\n",
       "  background-color: var(--sklearn-color-unfitted-level-2);\n",
       "}\n",
       "\n",
       "#sk-container-id-2 div.sk-label.fitted input.sk-toggleable__control:checked~label.sk-toggleable__label {\n",
       "  background-color: var(--sklearn-color-fitted-level-2);\n",
       "}\n",
       "\n",
       "/* Estimator-specific style */\n",
       "\n",
       "/* Colorize estimator box */\n",
       "#sk-container-id-2 div.sk-estimator input.sk-toggleable__control:checked~label.sk-toggleable__label {\n",
       "  /* unfitted */\n",
       "  background-color: var(--sklearn-color-unfitted-level-2);\n",
       "}\n",
       "\n",
       "#sk-container-id-2 div.sk-estimator.fitted input.sk-toggleable__control:checked~label.sk-toggleable__label {\n",
       "  /* fitted */\n",
       "  background-color: var(--sklearn-color-fitted-level-2);\n",
       "}\n",
       "\n",
       "#sk-container-id-2 div.sk-label label.sk-toggleable__label,\n",
       "#sk-container-id-2 div.sk-label label {\n",
       "  /* The background is the default theme color */\n",
       "  color: var(--sklearn-color-text-on-default-background);\n",
       "}\n",
       "\n",
       "/* On hover, darken the color of the background */\n",
       "#sk-container-id-2 div.sk-label:hover label.sk-toggleable__label {\n",
       "  color: var(--sklearn-color-text);\n",
       "  background-color: var(--sklearn-color-unfitted-level-2);\n",
       "}\n",
       "\n",
       "/* Label box, darken color on hover, fitted */\n",
       "#sk-container-id-2 div.sk-label.fitted:hover label.sk-toggleable__label.fitted {\n",
       "  color: var(--sklearn-color-text);\n",
       "  background-color: var(--sklearn-color-fitted-level-2);\n",
       "}\n",
       "\n",
       "/* Estimator label */\n",
       "\n",
       "#sk-container-id-2 div.sk-label label {\n",
       "  font-family: monospace;\n",
       "  font-weight: bold;\n",
       "  display: inline-block;\n",
       "  line-height: 1.2em;\n",
       "}\n",
       "\n",
       "#sk-container-id-2 div.sk-label-container {\n",
       "  text-align: center;\n",
       "}\n",
       "\n",
       "/* Estimator-specific */\n",
       "#sk-container-id-2 div.sk-estimator {\n",
       "  font-family: monospace;\n",
       "  border: 1px dotted var(--sklearn-color-border-box);\n",
       "  border-radius: 0.25em;\n",
       "  box-sizing: border-box;\n",
       "  margin-bottom: 0.5em;\n",
       "  /* unfitted */\n",
       "  background-color: var(--sklearn-color-unfitted-level-0);\n",
       "}\n",
       "\n",
       "#sk-container-id-2 div.sk-estimator.fitted {\n",
       "  /* fitted */\n",
       "  background-color: var(--sklearn-color-fitted-level-0);\n",
       "}\n",
       "\n",
       "/* on hover */\n",
       "#sk-container-id-2 div.sk-estimator:hover {\n",
       "  /* unfitted */\n",
       "  background-color: var(--sklearn-color-unfitted-level-2);\n",
       "}\n",
       "\n",
       "#sk-container-id-2 div.sk-estimator.fitted:hover {\n",
       "  /* fitted */\n",
       "  background-color: var(--sklearn-color-fitted-level-2);\n",
       "}\n",
       "\n",
       "/* Specification for estimator info (e.g. \"i\" and \"?\") */\n",
       "\n",
       "/* Common style for \"i\" and \"?\" */\n",
       "\n",
       ".sk-estimator-doc-link,\n",
       "a:link.sk-estimator-doc-link,\n",
       "a:visited.sk-estimator-doc-link {\n",
       "  float: right;\n",
       "  font-size: smaller;\n",
       "  line-height: 1em;\n",
       "  font-family: monospace;\n",
       "  background-color: var(--sklearn-color-background);\n",
       "  border-radius: 1em;\n",
       "  height: 1em;\n",
       "  width: 1em;\n",
       "  text-decoration: none !important;\n",
       "  margin-left: 1ex;\n",
       "  /* unfitted */\n",
       "  border: var(--sklearn-color-unfitted-level-1) 1pt solid;\n",
       "  color: var(--sklearn-color-unfitted-level-1);\n",
       "}\n",
       "\n",
       ".sk-estimator-doc-link.fitted,\n",
       "a:link.sk-estimator-doc-link.fitted,\n",
       "a:visited.sk-estimator-doc-link.fitted {\n",
       "  /* fitted */\n",
       "  border: var(--sklearn-color-fitted-level-1) 1pt solid;\n",
       "  color: var(--sklearn-color-fitted-level-1);\n",
       "}\n",
       "\n",
       "/* On hover */\n",
       "div.sk-estimator:hover .sk-estimator-doc-link:hover,\n",
       ".sk-estimator-doc-link:hover,\n",
       "div.sk-label-container:hover .sk-estimator-doc-link:hover,\n",
       ".sk-estimator-doc-link:hover {\n",
       "  /* unfitted */\n",
       "  background-color: var(--sklearn-color-unfitted-level-3);\n",
       "  color: var(--sklearn-color-background);\n",
       "  text-decoration: none;\n",
       "}\n",
       "\n",
       "div.sk-estimator.fitted:hover .sk-estimator-doc-link.fitted:hover,\n",
       ".sk-estimator-doc-link.fitted:hover,\n",
       "div.sk-label-container:hover .sk-estimator-doc-link.fitted:hover,\n",
       ".sk-estimator-doc-link.fitted:hover {\n",
       "  /* fitted */\n",
       "  background-color: var(--sklearn-color-fitted-level-3);\n",
       "  color: var(--sklearn-color-background);\n",
       "  text-decoration: none;\n",
       "}\n",
       "\n",
       "/* Span, style for the box shown on hovering the info icon */\n",
       ".sk-estimator-doc-link span {\n",
       "  display: none;\n",
       "  z-index: 9999;\n",
       "  position: relative;\n",
       "  font-weight: normal;\n",
       "  right: .2ex;\n",
       "  padding: .5ex;\n",
       "  margin: .5ex;\n",
       "  width: min-content;\n",
       "  min-width: 20ex;\n",
       "  max-width: 50ex;\n",
       "  color: var(--sklearn-color-text);\n",
       "  box-shadow: 2pt 2pt 4pt #999;\n",
       "  /* unfitted */\n",
       "  background: var(--sklearn-color-unfitted-level-0);\n",
       "  border: .5pt solid var(--sklearn-color-unfitted-level-3);\n",
       "}\n",
       "\n",
       ".sk-estimator-doc-link.fitted span {\n",
       "  /* fitted */\n",
       "  background: var(--sklearn-color-fitted-level-0);\n",
       "  border: var(--sklearn-color-fitted-level-3);\n",
       "}\n",
       "\n",
       ".sk-estimator-doc-link:hover span {\n",
       "  display: block;\n",
       "}\n",
       "\n",
       "/* \"?\"-specific style due to the `<a>` HTML tag */\n",
       "\n",
       "#sk-container-id-2 a.estimator_doc_link {\n",
       "  float: right;\n",
       "  font-size: 1rem;\n",
       "  line-height: 1em;\n",
       "  font-family: monospace;\n",
       "  background-color: var(--sklearn-color-background);\n",
       "  border-radius: 1rem;\n",
       "  height: 1rem;\n",
       "  width: 1rem;\n",
       "  text-decoration: none;\n",
       "  /* unfitted */\n",
       "  color: var(--sklearn-color-unfitted-level-1);\n",
       "  border: var(--sklearn-color-unfitted-level-1) 1pt solid;\n",
       "}\n",
       "\n",
       "#sk-container-id-2 a.estimator_doc_link.fitted {\n",
       "  /* fitted */\n",
       "  border: var(--sklearn-color-fitted-level-1) 1pt solid;\n",
       "  color: var(--sklearn-color-fitted-level-1);\n",
       "}\n",
       "\n",
       "/* On hover */\n",
       "#sk-container-id-2 a.estimator_doc_link:hover {\n",
       "  /* unfitted */\n",
       "  background-color: var(--sklearn-color-unfitted-level-3);\n",
       "  color: var(--sklearn-color-background);\n",
       "  text-decoration: none;\n",
       "}\n",
       "\n",
       "#sk-container-id-2 a.estimator_doc_link.fitted:hover {\n",
       "  /* fitted */\n",
       "  background-color: var(--sklearn-color-fitted-level-3);\n",
       "}\n",
       "</style><div id=\"sk-container-id-2\" class=\"sk-top-container\"><div class=\"sk-text-repr-fallback\"><pre>GridSearchCV(cv=10, estimator=DecisionTreeClassifier(random_state=123),\n",
       "             n_jobs=-1,\n",
       "             param_grid={&#x27;criterion&#x27;: [&#x27;entropy&#x27;, &#x27;gini&#x27;],\n",
       "                         &#x27;max_depth&#x27;: range(1, 10),\n",
       "                         &#x27;min_samples_leaf&#x27;: range(1, 6, 2),\n",
       "                         &#x27;min_samples_split&#x27;: range(2, 8, 2)},\n",
       "             scoring=&#x27;roc_auc&#x27;, verbose=False)</pre><b>In a Jupyter environment, please rerun this cell to show the HTML representation or trust the notebook. <br />On GitHub, the HTML representation is unable to render, please try loading this page with nbviewer.org.</b></div><div class=\"sk-container\" hidden><div class=\"sk-item sk-dashed-wrapped\"><div class=\"sk-label-container\"><div class=\"sk-label fitted sk-toggleable\"><input class=\"sk-toggleable__control sk-hidden--visually\" id=\"sk-estimator-id-4\" type=\"checkbox\" ><label for=\"sk-estimator-id-4\" class=\"sk-toggleable__label fitted sk-toggleable__label-arrow fitted\">&nbsp;&nbsp;GridSearchCV<a class=\"sk-estimator-doc-link fitted\" rel=\"noreferrer\" target=\"_blank\" href=\"https://scikit-learn.org/1.5/modules/generated/sklearn.model_selection.GridSearchCV.html\">?<span>Documentation for GridSearchCV</span></a><span class=\"sk-estimator-doc-link fitted\">i<span>Fitted</span></span></label><div class=\"sk-toggleable__content fitted\"><pre>GridSearchCV(cv=10, estimator=DecisionTreeClassifier(random_state=123),\n",
       "             n_jobs=-1,\n",
       "             param_grid={&#x27;criterion&#x27;: [&#x27;entropy&#x27;, &#x27;gini&#x27;],\n",
       "                         &#x27;max_depth&#x27;: range(1, 10),\n",
       "                         &#x27;min_samples_leaf&#x27;: range(1, 6, 2),\n",
       "                         &#x27;min_samples_split&#x27;: range(2, 8, 2)},\n",
       "             scoring=&#x27;roc_auc&#x27;, verbose=False)</pre></div> </div></div><div class=\"sk-parallel\"><div class=\"sk-parallel-item\"><div class=\"sk-item\"><div class=\"sk-label-container\"><div class=\"sk-label fitted sk-toggleable\"><input class=\"sk-toggleable__control sk-hidden--visually\" id=\"sk-estimator-id-5\" type=\"checkbox\" ><label for=\"sk-estimator-id-5\" class=\"sk-toggleable__label fitted sk-toggleable__label-arrow fitted\">best_estimator_: DecisionTreeClassifier</label><div class=\"sk-toggleable__content fitted\"><pre>DecisionTreeClassifier(criterion=&#x27;entropy&#x27;, max_depth=8, min_samples_leaf=5,\n",
       "                       random_state=123)</pre></div> </div></div><div class=\"sk-serial\"><div class=\"sk-item\"><div class=\"sk-estimator fitted sk-toggleable\"><input class=\"sk-toggleable__control sk-hidden--visually\" id=\"sk-estimator-id-6\" type=\"checkbox\" ><label for=\"sk-estimator-id-6\" class=\"sk-toggleable__label fitted sk-toggleable__label-arrow fitted\">&nbsp;DecisionTreeClassifier<a class=\"sk-estimator-doc-link fitted\" rel=\"noreferrer\" target=\"_blank\" href=\"https://scikit-learn.org/1.5/modules/generated/sklearn.tree.DecisionTreeClassifier.html\">?<span>Documentation for DecisionTreeClassifier</span></a></label><div class=\"sk-toggleable__content fitted\"><pre>DecisionTreeClassifier(criterion=&#x27;entropy&#x27;, max_depth=8, min_samples_leaf=5,\n",
       "                       random_state=123)</pre></div> </div></div></div></div></div></div></div></div></div>"
      ],
      "text/plain": [
       "GridSearchCV(cv=10, estimator=DecisionTreeClassifier(random_state=123),\n",
       "             n_jobs=-1,\n",
       "             param_grid={'criterion': ['entropy', 'gini'],\n",
       "                         'max_depth': range(1, 10),\n",
       "                         'min_samples_leaf': range(1, 6, 2),\n",
       "                         'min_samples_split': range(2, 8, 2)},\n",
       "             scoring='roc_auc', verbose=False)"
      ]
     },
     "execution_count": 70,
     "metadata": {},
     "output_type": "execute_result"
    }
   ],
   "source": [
    "model = DecisionTreeClassifier(random_state=123)\n",
    "\n",
    "grid_search = GridSearchCV(\n",
    "    estimator=model,\n",
    "    param_grid=param_grid,\n",
    "    n_jobs=-1,\n",
    "    scoring='roc_auc',\n",
    "    cv=10,\n",
    "    verbose=False,\n",
    ")\n",
    "\n",
    "grid_search.fit(X_smote, y_smote)"
   ]
  },
  {
   "cell_type": "code",
   "execution_count": 71,
   "metadata": {},
   "outputs": [
    {
     "data": {
      "text/plain": [
       "{'criterion': 'entropy',\n",
       " 'max_depth': 8,\n",
       " 'min_samples_leaf': 5,\n",
       " 'min_samples_split': 2}"
      ]
     },
     "execution_count": 71,
     "metadata": {},
     "output_type": "execute_result"
    }
   ],
   "source": [
    "grid_search.best_params_"
   ]
  },
  {
   "cell_type": "code",
   "execution_count": 72,
   "metadata": {},
   "outputs": [
    {
     "data": {
      "text/plain": [
       "np.float64(0.9556330489015258)"
      ]
     },
     "execution_count": 72,
     "metadata": {},
     "output_type": "execute_result"
    }
   ],
   "source": [
    "grid_search.best_score_"
   ]
  },
  {
   "cell_type": "code",
   "execution_count": 73,
   "metadata": {},
   "outputs": [
    {
     "data": {
      "text/plain": [
       "np.float64(0.8699)"
      ]
     },
     "execution_count": 73,
     "metadata": {},
     "output_type": "execute_result"
    }
   ],
   "source": [
    "model = grid_search.best_estimator_\n",
    "\n",
    "y_predict_proba = model.predict_proba(X_test_scaled)[:, 1]\n",
    "roc_auc = roc_auc_score(y_test, y_predict_proba)\n",
    "round(roc_auc, 4)"
   ]
  },
  {
   "cell_type": "code",
   "execution_count": 74,
   "metadata": {},
   "outputs": [
    {
     "data": {
      "text/plain": [
       "np.float64(0.869863)"
      ]
     },
     "execution_count": 74,
     "metadata": {},
     "output_type": "execute_result"
    }
   ],
   "source": [
    "total_result.setdefault('DecisionTreeClassifier balanced by SMOTE', round(roc_auc, 6))"
   ]
  },
  {
   "cell_type": "markdown",
   "metadata": {},
   "source": [
    "3.2.4. Выведите топ-10 признаков по важности. Используйте атрибут feature_importances_, чтобы узнать важность признаков в деревянных моделях."
   ]
  },
  {
   "cell_type": "code",
   "execution_count": 75,
   "metadata": {},
   "outputs": [
    {
     "data": {
      "image/png": "[encoded data removed]",
      "text/plain": [
       "<Figure size 1200x500 with 1 Axes>"
      ]
     },
     "metadata": {},
     "output_type": "display_data"
    }
   ],
   "source": [
    "# Выбор важных признаков\n",
    "feature_importances = pd.Series(model.feature_importances_, index=X_train.columns).sort_values(ascending=False)\n",
    "plt.title('Важные признаки')\n",
    "feature_importances[:10].plot(kind='barh', figsize=(12, 5), color='blue')\n",
    "plt.show()"
   ]
  },
  {
   "cell_type": "markdown",
   "metadata": {},
   "source": [
    "3.3. Напишите вывод, в котором будет содержаться информация о том, какие признаки важны согласно обеим моделям, и какая модель оказалась наилучшей для решения поставленной задачи."
   ]
  },
  {
   "cell_type": "code",
   "execution_count": 76,
   "metadata": {},
   "outputs": [
    {
     "data": {
      "text/plain": [
       "'DecisionTreeClassifier balanced by class_weight'"
      ]
     },
     "execution_count": 76,
     "metadata": {},
     "output_type": "execute_result"
    }
   ],
   "source": [
    "best_lr = (max(total_result, key=total_result.get))\n",
    "best_lr"
   ]
  },
  {
   "cell_type": "code",
   "execution_count": 77,
   "metadata": {},
   "outputs": [
    {
     "data": {
      "text/html": [
       "<div>\n",
       "<style scoped>\n",
       "    .dataframe tbody tr th:only-of-type {\n",
       "        vertical-align: middle;\n",
       "    }\n",
       "\n",
       "    .dataframe tbody tr th {\n",
       "        vertical-align: top;\n",
       "    }\n",
       "\n",
       "    .dataframe thead th {\n",
       "        text-align: right;\n",
       "    }\n",
       "</style>\n",
       "<table border=\"1\" class=\"dataframe\">\n",
       "  <thead>\n",
       "    <tr style=\"text-align: right;\">\n",
       "      <th></th>\n",
       "      <th>roc auc</th>\n",
       "    </tr>\n",
       "  </thead>\n",
       "  <tbody>\n",
       "    <tr>\n",
       "      <th>LogisticRegression balanced by threshold</th>\n",
       "      <td>0.801568</td>\n",
       "    </tr>\n",
       "    <tr>\n",
       "      <th>LogisticRegression balanced by SMOTE</th>\n",
       "      <td>0.858358</td>\n",
       "    </tr>\n",
       "    <tr>\n",
       "      <th>LogisticRegression disbalance</th>\n",
       "      <td>0.860352</td>\n",
       "    </tr>\n",
       "    <tr>\n",
       "      <th>LogisticRegression class_weight balanced</th>\n",
       "      <td>0.864420</td>\n",
       "    </tr>\n",
       "    <tr>\n",
       "      <th>LogisticRegression balanced by resampling</th>\n",
       "      <td>0.868666</td>\n",
       "    </tr>\n",
       "    <tr>\n",
       "      <th>DecisionTreeClassifier balanced by SMOTE</th>\n",
       "      <td>0.869863</td>\n",
       "    </tr>\n",
       "    <tr>\n",
       "      <th>DecisionTreeClassifier balanced by class_weight</th>\n",
       "      <td>0.899017</td>\n",
       "    </tr>\n",
       "  </tbody>\n",
       "</table>\n",
       "</div>"
      ],
      "text/plain": [
       "                                                  roc auc\n",
       "LogisticRegression balanced by threshold         0.801568\n",
       "LogisticRegression balanced by SMOTE             0.858358\n",
       "LogisticRegression disbalance                    0.860352\n",
       "LogisticRegression class_weight balanced         0.864420\n",
       "LogisticRegression balanced by resampling        0.868666\n",
       "DecisionTreeClassifier balanced by SMOTE         0.869863\n",
       "DecisionTreeClassifier balanced by class_weight  0.899017"
      ]
     },
     "execution_count": 77,
     "metadata": {},
     "output_type": "execute_result"
    }
   ],
   "source": [
    "pd.DataFrame.from_dict(total_result, 'index', columns=['roc auc']).sort_values(by='roc auc')"
   ]
  },
  {
   "cell_type": "markdown",
   "metadata": {},
   "source": [
    "*Вывод*:\\\n",
    "Деревянная модель показала себя однозначно лучше.\n",
    "Лучшим показал себя способ балансировки через гиперпараметр class_weight,\\\n",
    "на втором месте генерация искусственных объектов.\n",
    "Самым важным признаком по моделям дерева и логистической регрессии является - contract.value.band...see.note.a.\n"
   ]
  }
 ],
 "metadata": {
  "kernelspec": {
   "display_name": "venv",
   "language": "python",
   "name": "python3"
  },
  "language_info": {
   "codemirror_mode": {
    "name": "ipython",
    "version": 3
   },
   "file_extension": ".py",
   "mimetype": "text/x-python",
   "name": "python",
   "nbconvert_exporter": "python",
   "pygments_lexer": "ipython3",
   "version": "3.10.12"
  }
 },
 "nbformat": 4,
 "nbformat_minor": 2
}
