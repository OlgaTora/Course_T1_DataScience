{
 "cells": [
  {
   "cell_type": "markdown",
   "metadata": {},
   "source": [
    "1. Загрузите данные, объедините источники в один датафрейм. Составьте целевую переменную на основе файла, из которого вы получили часть данных (бинарный признак, принимающий значение 1 для данных из файла про красное вино и 0 для данных из файла про белое вино), изучите распределение по ней. Проверьте отсутствие пропусков в данных, отделите фичи и целевой признак друг от друга, разделите данные на обучающую и валидационную части.\n",
    "2. Поскольку выборка несбалансирована, воспользуемся для оценки качества модели новой метрикой balanced_accuracy_score. Изучите формулу расчета метрики в документации и реализуйте функцию balanced_accuracy_score_my для ее расчета. На вход она должна принимать правильные и прогнозные метки классов, а возвращать число от 0 до 1. Убедитесь, что вы корректно реализовали расчет, сравнив значения, получаемые библиотечной реализацией и собственной, подавая на вход векторы:\n",
    "    ```\n",
    "    y_true =  [0, 1, 1, 1, 1, 1, 1, 0, 1]\n",
    "    y_pred = [1, 0, 1, 1, 1, 1, 0, 0, 1]\n",
    "    ```\n",
    "3. Подберите лучшую модель решающего дерева:\n",
    "    - Переберите несколько значений какого-либо гиперпараметра, отвечающего за сложность дерева, для каждого значения оцените качество на обучающей и валидационной частях;\n",
    "    - Визуализируйте зависимость качества модели от значения гиперпараметров. Опишите зоны недообучения и переобучения, если вы их наблюдаете;\n",
    "    - Выведите значение гиперпараметра, при котором качество модели на валидационной части наилучшее. \n",
    "4. Подберите лучшую модель случайного леса:\n",
    "    - Переберите несколько значений какого-либо гиперпараметра дерева и для каждого из них — несколько значений гиперпараметра, отвечающего за количество решающих деревьев в случайном лесу. Для каждой комбинации гиперпараметров оцените качество на валидационной части.\n",
    "    - Визуализируйте зависимость качества модели от значений гиперпараметров с помощью функции imshow. Опишите особенности, которые вы наблюдаете.\n",
    "    - Выведите значения гиперпараметров, при которых качество модели на валидационной части выборки наилучшее.\n",
    "5. Подберите лучший вариант градиентного бустинга:\n",
    "    - Выделите из обучающей части данных часть для валидации градиентного бустинга в ходе обучения.\n",
    "    - Зафиксируйте небольшое количество деревьев, значение какого-либо параметра, отвечающего за сложность решающих деревьев и значение величины шага градиентного бустинга. Обучите градиентный бустинг с выбранными параметрами, выводя в процессе обучения значение функции потерь на обучающей и валидационной частях. Выведите значение метрики качества на экран.\n",
    "    - На фиксированном небольшом количестве деревьев сравните 3-4 комбинации значений параметров величины шага градиентного бустинга и какого-либо параметра, отвечающего за сложность решающих деревьев.\n",
    "    - Выберите из рассмотренных комбинаций лучшую и обоснуйте свой выбор.\n",
    "    - Увеличьте количество деревьев и опишите эффект. Изучите значение гиперпараметра early_stopping_rounds и воспользуйтесь им, чтобы сэкономить время, войдя в переобучение модели.\\\n",
    "В выводах напишите, какая модель показала себя лучше всего, какого качества удалось достичь."
   ]
  },
  {
   "cell_type": "code",
   "execution_count": 1,
   "metadata": {},
   "outputs": [],
   "source": [
    "import numpy as np\n",
    "import pandas as pd\n",
    "import io\n",
    "import zipfile\n",
    "import seaborn as sns\n",
    "from matplotlib import pyplot as plt\n",
    "from sklearn.model_selection import train_test_split\n",
    "from sklearn.metrics import (\n",
    "    balanced_accuracy_score,\n",
    "    confusion_matrix,\n",
    "    log_loss\n",
    ")\n",
    "from sklearn.tree import DecisionTreeClassifier\n",
    "from sklearn.ensemble import RandomForestClassifier\n",
    "from xgboost import XGBClassifier"
   ]
  },
  {
   "cell_type": "markdown",
   "metadata": {},
   "source": [
    "#### 1. Загрузите данные, объедините источники в один датафрейм."
   ]
  },
  {
   "cell_type": "markdown",
   "metadata": {},
   "source": [
    "Составьте целевую переменную на основе файла, из которого вы получили часть данных (бинарный признак, принимающий значение 1 для данных из файла про красное вино и 0 для данных из файла про белое вино), изучите распределение по ней. Проверьте отсутствие пропусков в данных, отделите фичи и целевой признак друг от друга, разделите данные на обучающую и валидационную части."
   ]
  },
  {
   "cell_type": "code",
   "execution_count": 2,
   "metadata": {},
   "outputs": [
    {
     "name": "stdout",
     "output_type": "stream",
     "text": [
      "['winequality-red.csv', 'winequality-white.csv']\n"
     ]
    }
   ],
   "source": [
    "try:\n",
    "    archive = zipfile.ZipFile(\"wine+quality.zip\", \"r\")\n",
    "    files_list = [i.filename for i in archive.filelist if i.filename.endswith(\".csv\")]\n",
    "    print(files_list)\n",
    "    for i in range(len(files_list)):\n",
    "        txtdata = archive.read(files_list[i])\n",
    "        locals()[f\"df_{i}\"] = pd.read_csv(io.BytesIO(txtdata), sep=\";\")\n",
    "except FileNotFoundError:\n",
    "    print(\"You have to load the file to the directory before opening it.\")"
   ]
  },
  {
   "cell_type": "code",
   "execution_count": 3,
   "metadata": {},
   "outputs": [
    {
     "data": {
      "text/html": [
       "<div>\n",
       "<style scoped>\n",
       "    .dataframe tbody tr th:only-of-type {\n",
       "        vertical-align: middle;\n",
       "    }\n",
       "\n",
       "    .dataframe tbody tr th {\n",
       "        vertical-align: top;\n",
       "    }\n",
       "\n",
       "    .dataframe thead th {\n",
       "        text-align: right;\n",
       "    }\n",
       "</style>\n",
       "<table border=\"1\" class=\"dataframe\">\n",
       "  <thead>\n",
       "    <tr style=\"text-align: right;\">\n",
       "      <th></th>\n",
       "      <th>fixed acidity</th>\n",
       "      <th>volatile acidity</th>\n",
       "      <th>citric acid</th>\n",
       "      <th>residual sugar</th>\n",
       "      <th>chlorides</th>\n",
       "      <th>free sulfur dioxide</th>\n",
       "      <th>total sulfur dioxide</th>\n",
       "      <th>density</th>\n",
       "      <th>pH</th>\n",
       "      <th>sulphates</th>\n",
       "      <th>alcohol</th>\n",
       "      <th>quality</th>\n",
       "    </tr>\n",
       "  </thead>\n",
       "  <tbody>\n",
       "    <tr>\n",
       "      <th>0</th>\n",
       "      <td>7.4</td>\n",
       "      <td>0.70</td>\n",
       "      <td>0.00</td>\n",
       "      <td>1.9</td>\n",
       "      <td>0.076</td>\n",
       "      <td>11.0</td>\n",
       "      <td>34.0</td>\n",
       "      <td>0.9978</td>\n",
       "      <td>3.51</td>\n",
       "      <td>0.56</td>\n",
       "      <td>9.4</td>\n",
       "      <td>5</td>\n",
       "    </tr>\n",
       "    <tr>\n",
       "      <th>1</th>\n",
       "      <td>7.8</td>\n",
       "      <td>0.88</td>\n",
       "      <td>0.00</td>\n",
       "      <td>2.6</td>\n",
       "      <td>0.098</td>\n",
       "      <td>25.0</td>\n",
       "      <td>67.0</td>\n",
       "      <td>0.9968</td>\n",
       "      <td>3.20</td>\n",
       "      <td>0.68</td>\n",
       "      <td>9.8</td>\n",
       "      <td>5</td>\n",
       "    </tr>\n",
       "    <tr>\n",
       "      <th>2</th>\n",
       "      <td>7.8</td>\n",
       "      <td>0.76</td>\n",
       "      <td>0.04</td>\n",
       "      <td>2.3</td>\n",
       "      <td>0.092</td>\n",
       "      <td>15.0</td>\n",
       "      <td>54.0</td>\n",
       "      <td>0.9970</td>\n",
       "      <td>3.26</td>\n",
       "      <td>0.65</td>\n",
       "      <td>9.8</td>\n",
       "      <td>5</td>\n",
       "    </tr>\n",
       "    <tr>\n",
       "      <th>3</th>\n",
       "      <td>11.2</td>\n",
       "      <td>0.28</td>\n",
       "      <td>0.56</td>\n",
       "      <td>1.9</td>\n",
       "      <td>0.075</td>\n",
       "      <td>17.0</td>\n",
       "      <td>60.0</td>\n",
       "      <td>0.9980</td>\n",
       "      <td>3.16</td>\n",
       "      <td>0.58</td>\n",
       "      <td>9.8</td>\n",
       "      <td>6</td>\n",
       "    </tr>\n",
       "    <tr>\n",
       "      <th>4</th>\n",
       "      <td>7.4</td>\n",
       "      <td>0.70</td>\n",
       "      <td>0.00</td>\n",
       "      <td>1.9</td>\n",
       "      <td>0.076</td>\n",
       "      <td>11.0</td>\n",
       "      <td>34.0</td>\n",
       "      <td>0.9978</td>\n",
       "      <td>3.51</td>\n",
       "      <td>0.56</td>\n",
       "      <td>9.4</td>\n",
       "      <td>5</td>\n",
       "    </tr>\n",
       "  </tbody>\n",
       "</table>\n",
       "</div>"
      ],
      "text/plain": [
       "   fixed acidity  volatile acidity  citric acid  residual sugar  chlorides  \\\n",
       "0            7.4              0.70         0.00             1.9      0.076   \n",
       "1            7.8              0.88         0.00             2.6      0.098   \n",
       "2            7.8              0.76         0.04             2.3      0.092   \n",
       "3           11.2              0.28         0.56             1.9      0.075   \n",
       "4            7.4              0.70         0.00             1.9      0.076   \n",
       "\n",
       "   free sulfur dioxide  total sulfur dioxide  density    pH  sulphates  \\\n",
       "0                 11.0                  34.0   0.9978  3.51       0.56   \n",
       "1                 25.0                  67.0   0.9968  3.20       0.68   \n",
       "2                 15.0                  54.0   0.9970  3.26       0.65   \n",
       "3                 17.0                  60.0   0.9980  3.16       0.58   \n",
       "4                 11.0                  34.0   0.9978  3.51       0.56   \n",
       "\n",
       "   alcohol  quality  \n",
       "0      9.4        5  \n",
       "1      9.8        5  \n",
       "2      9.8        5  \n",
       "3      9.8        6  \n",
       "4      9.4        5  "
      ]
     },
     "execution_count": 3,
     "metadata": {},
     "output_type": "execute_result"
    }
   ],
   "source": [
    "df_0.head()"
   ]
  },
  {
   "cell_type": "code",
   "execution_count": 4,
   "metadata": {},
   "outputs": [
    {
     "data": {
      "text/html": [
       "<div>\n",
       "<style scoped>\n",
       "    .dataframe tbody tr th:only-of-type {\n",
       "        vertical-align: middle;\n",
       "    }\n",
       "\n",
       "    .dataframe tbody tr th {\n",
       "        vertical-align: top;\n",
       "    }\n",
       "\n",
       "    .dataframe thead th {\n",
       "        text-align: right;\n",
       "    }\n",
       "</style>\n",
       "<table border=\"1\" class=\"dataframe\">\n",
       "  <thead>\n",
       "    <tr style=\"text-align: right;\">\n",
       "      <th></th>\n",
       "      <th>fixed acidity</th>\n",
       "      <th>volatile acidity</th>\n",
       "      <th>citric acid</th>\n",
       "      <th>residual sugar</th>\n",
       "      <th>chlorides</th>\n",
       "      <th>free sulfur dioxide</th>\n",
       "      <th>total sulfur dioxide</th>\n",
       "      <th>density</th>\n",
       "      <th>pH</th>\n",
       "      <th>sulphates</th>\n",
       "      <th>alcohol</th>\n",
       "      <th>quality</th>\n",
       "    </tr>\n",
       "  </thead>\n",
       "  <tbody>\n",
       "    <tr>\n",
       "      <th>0</th>\n",
       "      <td>7.0</td>\n",
       "      <td>0.27</td>\n",
       "      <td>0.36</td>\n",
       "      <td>20.7</td>\n",
       "      <td>0.045</td>\n",
       "      <td>45.0</td>\n",
       "      <td>170.0</td>\n",
       "      <td>1.0010</td>\n",
       "      <td>3.00</td>\n",
       "      <td>0.45</td>\n",
       "      <td>8.8</td>\n",
       "      <td>6</td>\n",
       "    </tr>\n",
       "    <tr>\n",
       "      <th>1</th>\n",
       "      <td>6.3</td>\n",
       "      <td>0.30</td>\n",
       "      <td>0.34</td>\n",
       "      <td>1.6</td>\n",
       "      <td>0.049</td>\n",
       "      <td>14.0</td>\n",
       "      <td>132.0</td>\n",
       "      <td>0.9940</td>\n",
       "      <td>3.30</td>\n",
       "      <td>0.49</td>\n",
       "      <td>9.5</td>\n",
       "      <td>6</td>\n",
       "    </tr>\n",
       "    <tr>\n",
       "      <th>2</th>\n",
       "      <td>8.1</td>\n",
       "      <td>0.28</td>\n",
       "      <td>0.40</td>\n",
       "      <td>6.9</td>\n",
       "      <td>0.050</td>\n",
       "      <td>30.0</td>\n",
       "      <td>97.0</td>\n",
       "      <td>0.9951</td>\n",
       "      <td>3.26</td>\n",
       "      <td>0.44</td>\n",
       "      <td>10.1</td>\n",
       "      <td>6</td>\n",
       "    </tr>\n",
       "    <tr>\n",
       "      <th>3</th>\n",
       "      <td>7.2</td>\n",
       "      <td>0.23</td>\n",
       "      <td>0.32</td>\n",
       "      <td>8.5</td>\n",
       "      <td>0.058</td>\n",
       "      <td>47.0</td>\n",
       "      <td>186.0</td>\n",
       "      <td>0.9956</td>\n",
       "      <td>3.19</td>\n",
       "      <td>0.40</td>\n",
       "      <td>9.9</td>\n",
       "      <td>6</td>\n",
       "    </tr>\n",
       "    <tr>\n",
       "      <th>4</th>\n",
       "      <td>7.2</td>\n",
       "      <td>0.23</td>\n",
       "      <td>0.32</td>\n",
       "      <td>8.5</td>\n",
       "      <td>0.058</td>\n",
       "      <td>47.0</td>\n",
       "      <td>186.0</td>\n",
       "      <td>0.9956</td>\n",
       "      <td>3.19</td>\n",
       "      <td>0.40</td>\n",
       "      <td>9.9</td>\n",
       "      <td>6</td>\n",
       "    </tr>\n",
       "  </tbody>\n",
       "</table>\n",
       "</div>"
      ],
      "text/plain": [
       "   fixed acidity  volatile acidity  citric acid  residual sugar  chlorides  \\\n",
       "0            7.0              0.27         0.36            20.7      0.045   \n",
       "1            6.3              0.30         0.34             1.6      0.049   \n",
       "2            8.1              0.28         0.40             6.9      0.050   \n",
       "3            7.2              0.23         0.32             8.5      0.058   \n",
       "4            7.2              0.23         0.32             8.5      0.058   \n",
       "\n",
       "   free sulfur dioxide  total sulfur dioxide  density    pH  sulphates  \\\n",
       "0                 45.0                 170.0   1.0010  3.00       0.45   \n",
       "1                 14.0                 132.0   0.9940  3.30       0.49   \n",
       "2                 30.0                  97.0   0.9951  3.26       0.44   \n",
       "3                 47.0                 186.0   0.9956  3.19       0.40   \n",
       "4                 47.0                 186.0   0.9956  3.19       0.40   \n",
       "\n",
       "   alcohol  quality  \n",
       "0      8.8        6  \n",
       "1      9.5        6  \n",
       "2     10.1        6  \n",
       "3      9.9        6  \n",
       "4      9.9        6  "
      ]
     },
     "execution_count": 4,
     "metadata": {},
     "output_type": "execute_result"
    }
   ],
   "source": [
    "df_1.head()"
   ]
  },
  {
   "cell_type": "markdown",
   "metadata": {},
   "source": [
    "Составим целевую переменную по цвету вина: 1 - красное, 0 - белое. "
   ]
  },
  {
   "cell_type": "code",
   "execution_count": 5,
   "metadata": {},
   "outputs": [],
   "source": [
    "df_0[\"target\"] = 1\n",
    "df_1[\"target\"] = 0"
   ]
  },
  {
   "cell_type": "code",
   "execution_count": 6,
   "metadata": {},
   "outputs": [],
   "source": [
    "df = pd.concat([df_0, df_1], ignore_index=True)"
   ]
  },
  {
   "cell_type": "markdown",
   "metadata": {},
   "source": [
    "Проверим, верно ли соединились датафреймы."
   ]
  },
  {
   "cell_type": "code",
   "execution_count": 7,
   "metadata": {},
   "outputs": [
    {
     "name": "stdout",
     "output_type": "stream",
     "text": [
      "df shape: (6497, 13), df_0 shape: (1599, 13), df_1 shape: (4898, 13)\n"
     ]
    }
   ],
   "source": [
    "print(f\"df shape: {df.shape}, df_0 shape: {df_0.shape}, df_1 shape: {df_1.shape}\")"
   ]
  },
  {
   "cell_type": "code",
   "execution_count": 8,
   "metadata": {},
   "outputs": [
    {
     "data": {
      "text/html": [
       "<div>\n",
       "<style scoped>\n",
       "    .dataframe tbody tr th:only-of-type {\n",
       "        vertical-align: middle;\n",
       "    }\n",
       "\n",
       "    .dataframe tbody tr th {\n",
       "        vertical-align: top;\n",
       "    }\n",
       "\n",
       "    .dataframe thead th {\n",
       "        text-align: right;\n",
       "    }\n",
       "</style>\n",
       "<table border=\"1\" class=\"dataframe\">\n",
       "  <thead>\n",
       "    <tr style=\"text-align: right;\">\n",
       "      <th></th>\n",
       "      <th>fixed acidity</th>\n",
       "      <th>volatile acidity</th>\n",
       "      <th>citric acid</th>\n",
       "      <th>residual sugar</th>\n",
       "      <th>chlorides</th>\n",
       "      <th>free sulfur dioxide</th>\n",
       "      <th>total sulfur dioxide</th>\n",
       "      <th>density</th>\n",
       "      <th>pH</th>\n",
       "      <th>sulphates</th>\n",
       "      <th>alcohol</th>\n",
       "      <th>quality</th>\n",
       "      <th>target</th>\n",
       "    </tr>\n",
       "  </thead>\n",
       "  <tbody>\n",
       "    <tr>\n",
       "      <th>6492</th>\n",
       "      <td>6.2</td>\n",
       "      <td>0.21</td>\n",
       "      <td>0.29</td>\n",
       "      <td>1.6</td>\n",
       "      <td>0.039</td>\n",
       "      <td>24.0</td>\n",
       "      <td>92.0</td>\n",
       "      <td>0.99114</td>\n",
       "      <td>3.27</td>\n",
       "      <td>0.50</td>\n",
       "      <td>11.2</td>\n",
       "      <td>6</td>\n",
       "      <td>0</td>\n",
       "    </tr>\n",
       "    <tr>\n",
       "      <th>6493</th>\n",
       "      <td>6.6</td>\n",
       "      <td>0.32</td>\n",
       "      <td>0.36</td>\n",
       "      <td>8.0</td>\n",
       "      <td>0.047</td>\n",
       "      <td>57.0</td>\n",
       "      <td>168.0</td>\n",
       "      <td>0.99490</td>\n",
       "      <td>3.15</td>\n",
       "      <td>0.46</td>\n",
       "      <td>9.6</td>\n",
       "      <td>5</td>\n",
       "      <td>0</td>\n",
       "    </tr>\n",
       "    <tr>\n",
       "      <th>6494</th>\n",
       "      <td>6.5</td>\n",
       "      <td>0.24</td>\n",
       "      <td>0.19</td>\n",
       "      <td>1.2</td>\n",
       "      <td>0.041</td>\n",
       "      <td>30.0</td>\n",
       "      <td>111.0</td>\n",
       "      <td>0.99254</td>\n",
       "      <td>2.99</td>\n",
       "      <td>0.46</td>\n",
       "      <td>9.4</td>\n",
       "      <td>6</td>\n",
       "      <td>0</td>\n",
       "    </tr>\n",
       "    <tr>\n",
       "      <th>6495</th>\n",
       "      <td>5.5</td>\n",
       "      <td>0.29</td>\n",
       "      <td>0.30</td>\n",
       "      <td>1.1</td>\n",
       "      <td>0.022</td>\n",
       "      <td>20.0</td>\n",
       "      <td>110.0</td>\n",
       "      <td>0.98869</td>\n",
       "      <td>3.34</td>\n",
       "      <td>0.38</td>\n",
       "      <td>12.8</td>\n",
       "      <td>7</td>\n",
       "      <td>0</td>\n",
       "    </tr>\n",
       "    <tr>\n",
       "      <th>6496</th>\n",
       "      <td>6.0</td>\n",
       "      <td>0.21</td>\n",
       "      <td>0.38</td>\n",
       "      <td>0.8</td>\n",
       "      <td>0.020</td>\n",
       "      <td>22.0</td>\n",
       "      <td>98.0</td>\n",
       "      <td>0.98941</td>\n",
       "      <td>3.26</td>\n",
       "      <td>0.32</td>\n",
       "      <td>11.8</td>\n",
       "      <td>6</td>\n",
       "      <td>0</td>\n",
       "    </tr>\n",
       "  </tbody>\n",
       "</table>\n",
       "</div>"
      ],
      "text/plain": [
       "      fixed acidity  volatile acidity  citric acid  residual sugar  chlorides  \\\n",
       "6492            6.2              0.21         0.29             1.6      0.039   \n",
       "6493            6.6              0.32         0.36             8.0      0.047   \n",
       "6494            6.5              0.24         0.19             1.2      0.041   \n",
       "6495            5.5              0.29         0.30             1.1      0.022   \n",
       "6496            6.0              0.21         0.38             0.8      0.020   \n",
       "\n",
       "      free sulfur dioxide  total sulfur dioxide  density    pH  sulphates  \\\n",
       "6492                 24.0                  92.0  0.99114  3.27       0.50   \n",
       "6493                 57.0                 168.0  0.99490  3.15       0.46   \n",
       "6494                 30.0                 111.0  0.99254  2.99       0.46   \n",
       "6495                 20.0                 110.0  0.98869  3.34       0.38   \n",
       "6496                 22.0                  98.0  0.98941  3.26       0.32   \n",
       "\n",
       "      alcohol  quality  target  \n",
       "6492     11.2        6       0  \n",
       "6493      9.6        5       0  \n",
       "6494      9.4        6       0  \n",
       "6495     12.8        7       0  \n",
       "6496     11.8        6       0  "
      ]
     },
     "execution_count": 8,
     "metadata": {},
     "output_type": "execute_result"
    }
   ],
   "source": [
    "df.tail(5)"
   ]
  },
  {
   "cell_type": "code",
   "execution_count": 9,
   "metadata": {},
   "outputs": [
    {
     "name": "stdout",
     "output_type": "stream",
     "text": [
      "<class 'pandas.core.frame.DataFrame'>\n",
      "RangeIndex: 6497 entries, 0 to 6496\n",
      "Data columns (total 13 columns):\n",
      " #   Column                Non-Null Count  Dtype  \n",
      "---  ------                --------------  -----  \n",
      " 0   fixed acidity         6497 non-null   float64\n",
      " 1   volatile acidity      6497 non-null   float64\n",
      " 2   citric acid           6497 non-null   float64\n",
      " 3   residual sugar        6497 non-null   float64\n",
      " 4   chlorides             6497 non-null   float64\n",
      " 5   free sulfur dioxide   6497 non-null   float64\n",
      " 6   total sulfur dioxide  6497 non-null   float64\n",
      " 7   density               6497 non-null   float64\n",
      " 8   pH                    6497 non-null   float64\n",
      " 9   sulphates             6497 non-null   float64\n",
      " 10  alcohol               6497 non-null   float64\n",
      " 11  quality               6497 non-null   int64  \n",
      " 12  target                6497 non-null   int64  \n",
      "dtypes: float64(11), int64(2)\n",
      "memory usage: 660.0 KB\n"
     ]
    }
   ],
   "source": [
    "df.info()"
   ]
  },
  {
   "cell_type": "markdown",
   "metadata": {},
   "source": [
    "Все столбцы числовые: 11 - float,  2 - int."
   ]
  },
  {
   "cell_type": "code",
   "execution_count": 10,
   "metadata": {},
   "outputs": [
    {
     "name": "stdout",
     "output_type": "stream",
     "text": [
      "Количество дубликатов: 1177\n"
     ]
    }
   ],
   "source": [
    "print(f\"Количество дубликатов: {df[df.duplicated()].shape[0]}\")\n",
    "df.drop_duplicates(inplace=True)"
   ]
  },
  {
   "cell_type": "code",
   "execution_count": 11,
   "metadata": {},
   "outputs": [
    {
     "data": {
      "text/plain": [
       "(5320, 13)"
      ]
     },
     "execution_count": 11,
     "metadata": {},
     "output_type": "execute_result"
    }
   ],
   "source": [
    "df.shape"
   ]
  },
  {
   "cell_type": "markdown",
   "metadata": {},
   "source": [
    "После удаления дубликатов осталось 5320 строк."
   ]
  },
  {
   "cell_type": "code",
   "execution_count": 12,
   "metadata": {},
   "outputs": [
    {
     "data": {
      "image/png": "[encoded data removed]",
      "text/plain": [
       "<Figure size 500x400 with 1 Axes>"
      ]
     },
     "metadata": {},
     "output_type": "display_data"
    }
   ],
   "source": [
    "plt.figure(figsize=[5, 4])\n",
    "plt.suptitle(\"Данные по распределению вин по цвету\")\n",
    "ax = sns.countplot(x=df.target, color=\"orange\", stat=\"percent\")\n",
    "ax.bar_label(ax.containers[0], fmt=\"%.2f%%\")\n",
    "plt.show()"
   ]
  },
  {
   "cell_type": "markdown",
   "metadata": {},
   "source": [
    "Вывод: красных вин в датасете представлено меньше, чем белых в 3 раза."
   ]
  },
  {
   "cell_type": "code",
   "execution_count": 13,
   "metadata": {},
   "outputs": [
    {
     "data": {
      "text/plain": [
       "fixed acidity           0\n",
       "volatile acidity        0\n",
       "citric acid             0\n",
       "residual sugar          0\n",
       "chlorides               0\n",
       "free sulfur dioxide     0\n",
       "total sulfur dioxide    0\n",
       "density                 0\n",
       "pH                      0\n",
       "sulphates               0\n",
       "alcohol                 0\n",
       "quality                 0\n",
       "target                  0\n",
       "dtype: int64"
      ]
     },
     "execution_count": 13,
     "metadata": {},
     "output_type": "execute_result"
    }
   ],
   "source": [
    "df.isna().sum()"
   ]
  },
  {
   "cell_type": "markdown",
   "metadata": {},
   "source": [
    "Пропусков в датасете нет. "
   ]
  },
  {
   "cell_type": "markdown",
   "metadata": {},
   "source": [
    "Разделим данные на обучающую и валидационную части."
   ]
  },
  {
   "cell_type": "code",
   "execution_count": 14,
   "metadata": {},
   "outputs": [],
   "source": [
    "X = df.drop([\"target\"], axis=1)\n",
    "y = df.target"
   ]
  },
  {
   "cell_type": "code",
   "execution_count": 15,
   "metadata": {},
   "outputs": [],
   "source": [
    "X_train, X_test, y_train, y_test = train_test_split(\n",
    "    X, y, test_size=0.3, random_state=123\n",
    ")"
   ]
  },
  {
   "cell_type": "markdown",
   "metadata": {},
   "source": [
    "#### 2. Реализуйте функцию balanced_accuracy_score_my."
   ]
  },
  {
   "cell_type": "markdown",
   "metadata": {},
   "source": [
    " На вход она должна принимать правильные и прогнозные метки классов, а возвращать число от 0 до 1. Убедитесь, что вы корректно реализовали расчет, сравнив значения, получаемые библиотечной реализацией и собственной, подавая на вход векторы:\n",
    " ```\n",
    "y_true =  [0, 1, 1, 1, 1, 1, 1, 0, 1]\n",
    "y_pred = [1, 0, 1, 1, 1, 1, 0, 0, 1]\n",
    "```"
   ]
  },
  {
   "cell_type": "code",
   "execution_count": 16,
   "metadata": {},
   "outputs": [],
   "source": [
    "y_true = [0, 1, 0, 0, 1, 0]\n",
    "y_pred = [0, 1, 0, 0, 0, 1]"
   ]
  },
  {
   "cell_type": "code",
   "execution_count": 17,
   "metadata": {},
   "outputs": [],
   "source": [
    "def balanced_accuracy_score_my(y_true, y_pred):\n",
    "    cm = confusion_matrix(y_true, y_pred)\n",
    "    TP, TN, FN, FP = cm[0][0], cm[1][1], cm[0][1], cm[1][0]\n",
    "    TPR = TP / (TP + FN)\n",
    "    TNR = TN / (TN + FP)\n",
    "    return (TPR + TNR) / 2"
   ]
  },
  {
   "cell_type": "code",
   "execution_count": 18,
   "metadata": {},
   "outputs": [
    {
     "name": "stdout",
     "output_type": "stream",
     "text": [
      "Built-in balanced accuracy score=0.625,\n",
      "custom balanced accuracy score=0.625\n"
     ]
    }
   ],
   "source": [
    "print(\n",
    "    f\"Built-in balanced accuracy score={balanced_accuracy_score(y_true, y_pred)},\\n\\\n",
    "custom balanced accuracy score={balanced_accuracy_score_my(y_true, y_pred)}\"\n",
    ")"
   ]
  },
  {
   "cell_type": "markdown",
   "metadata": {},
   "source": [
    "Вывод: кастомная фунция balanced accuracy score дает результат, как библиотечная.\\\n",
    "(библиотечная тоже написана на матрице, только другими методыми)."
   ]
  },
  {
   "cell_type": "markdown",
   "metadata": {},
   "source": [
    "#### 3. Подберите лучшую модель решающего дерева."
   ]
  },
  {
   "cell_type": "markdown",
   "metadata": {},
   "source": [
    "3.1. Переберите несколько значений какого-либо гиперпараметра, отвечающего за сложность дерева, для каждого значения оцените качество на обучающей и валидационной частях"
   ]
  },
  {
   "cell_type": "code",
   "execution_count": 19,
   "metadata": {},
   "outputs": [
    {
     "name": "stdout",
     "output_type": "stream",
     "text": [
      "gini:\n",
      "Точность на обучающей выборке: 0.999481\n",
      "Точность на валидационной выборке: 0.973965\n",
      "_____________\n",
      "entropy:\n",
      "Точность на обучающей выборке: 0.999481\n",
      "Точность на валидационной выборке: 0.978586\n",
      "_____________\n",
      "log_loss:\n",
      "Точность на обучающей выборке: 0.999481\n",
      "Точность на валидационной выборке: 0.978586\n",
      "_____________\n"
     ]
    }
   ],
   "source": [
    "for criterion in [\"gini\", \"entropy\", \"log_loss\"]:\n",
    "    model = DecisionTreeClassifier(criterion=criterion, random_state=123)\n",
    "    model.fit(X_train, y_train)\n",
    "    y_pred_train = model.predict(X_train)\n",
    "    y_pred_test = model.predict(X_test)\n",
    "    print(\n",
    "        f\"{criterion}:\\nТочность на обучающей выборке: {round(balanced_accuracy_score(y_train, y_pred_train), 6)}\\n\"\n",
    "        f\"Точность на валидационной выборке: {round(balanced_accuracy_score(y_test, y_pred_test), 6)}\",\n",
    "    )\n",
    "    print(\"_____________\")"
   ]
  },
  {
   "cell_type": "markdown",
   "metadata": {},
   "source": [
    "Лучший результат при использовании гиперпараметра \"критерий\": entropy и log_loss."
   ]
  },
  {
   "cell_type": "markdown",
   "metadata": {},
   "source": [
    "Создадим класс AccuracyMetric для удобства получения данных по модели."
   ]
  },
  {
   "cell_type": "code",
   "execution_count": 20,
   "metadata": {},
   "outputs": [],
   "source": [
    "class AccuracyMetric:\n",
    "\n",
    "    def __init__(self, model, X_train, y_train, X_test, y_test) -> None:\n",
    "        self.model = model\n",
    "        self.X_train = X_train\n",
    "        self.y_train = y_train\n",
    "        self.X_test = X_test\n",
    "        self.y_test = y_test\n",
    "\n",
    "    def get_accuracy_test(self):\n",
    "        \"\"\"\n",
    "        Function for get balanced accuracy metrics for test data.\n",
    "        \"\"\"\n",
    "        self.model.fit(self.X_train, self.y_train)\n",
    "        y_pred_test = self.model.predict(self.X_test)\n",
    "        return round(balanced_accuracy_score(self.y_test, y_pred_test), 6)\n",
    "\n",
    "    def get_all_accuracy(self):\n",
    "        \"\"\"\n",
    "        Function for get balanced accuracy metrics for train and test data.\n",
    "        \"\"\"\n",
    "        self.model.fit(self.X_train, self.y_train)\n",
    "        y_pred_train = self.model.predict(self.X_train)\n",
    "        y_pred_test = self.model.predict(X_test)\n",
    "        return (\n",
    "            round(balanced_accuracy_score(self.y_train, y_pred_train), 6),\n",
    "            round(balanced_accuracy_score(self.y_test, y_pred_test), 6),\n",
    "        )\n",
    "\n",
    "    def get_parametres(self):\n",
    "        params = str(model.get_params)\n",
    "        start = params.find(\"(\") + 1\n",
    "        end = params.rfind(\")\")\n",
    "        return params[start:end]\n",
    "\n",
    "    def print_all_metrics(self) -> str:\n",
    "        accuracy_train, accuracy_test = self.get_all_accuracy()\n",
    "        params = self.get_parametres()\n",
    "        print(\n",
    "            f\"Параметры модели: {params}\\n\"\n",
    "            f\"Точность на обучающей выборке: {accuracy_train}\\n\"\n",
    "            f\"Точность на валидационной выборке: {accuracy_test}\"\n",
    "        )\n",
    "\n",
    "    def print_test_metrica(self) -> str:\n",
    "        accuracy_test = self.get_accuracy_test()\n",
    "        params = self.get_parametres()\n",
    "        print(\n",
    "            f\"Параметры модели: {params}\\n\"\n",
    "            f\"Точность на валидационной выборке: {accuracy_test}\",\n",
    "        )"
   ]
  },
  {
   "cell_type": "markdown",
   "metadata": {},
   "source": [
    "3.2. Визуализируйте зависимость качества модели от значения гиперпараметров. \\\n",
    "Опишите зоны недообучения и переобучения, если вы их наблюдаете."
   ]
  },
  {
   "cell_type": "markdown",
   "metadata": {},
   "source": [
    "В модели будем использовать два постоянных гиперпараметра:\n",
    "- критерий log_loss, так как он уже показал хороший результат на данных;\n",
    "-  random_state, чтоб генерируемые псевдослучайные величины имели одни и те же значения при каждом вызове.\\\n",
    " \n",
    "Будем перебирать значения следующих гиперпараметров:\n",
    "- минимальное количество объектов для разделения узла (min_samples_split);\n",
    "- глубина дерева (max_depth);\n",
    "- минимальное число объектов в листьях (min_samples_leaf)."
   ]
  },
  {
   "cell_type": "code",
   "execution_count": 21,
   "metadata": {},
   "outputs": [],
   "source": [
    "# определим гиперпараметры\n",
    "min_samples_split = range(2, 10)\n",
    "depths = range(1, 51, 3)\n",
    "min_samples_leaf = range(1, 10)"
   ]
  },
  {
   "cell_type": "code",
   "execution_count": 22,
   "metadata": {},
   "outputs": [],
   "source": [
    "result = []\n",
    "for depth in depths:\n",
    "    model = DecisionTreeClassifier(\n",
    "        max_depth=depth, criterion=\"log_loss\", random_state=123\n",
    "    )\n",
    "    accuracy_train, accuracy_test = AccuracyMetric(\n",
    "        model, X_train, y_train, X_test, y_test\n",
    "    ).get_all_accuracy()\n",
    "    result.append([depth, accuracy_train, accuracy_test])\n",
    "result = pd.DataFrame(result, columns=[\"depth\", \"accuracy_train\", \"accuracy_test\"])"
   ]
  },
  {
   "cell_type": "code",
   "execution_count": 23,
   "metadata": {},
   "outputs": [
    {
     "data": {
      "text/html": [
       "<div>\n",
       "<style scoped>\n",
       "    .dataframe tbody tr th:only-of-type {\n",
       "        vertical-align: middle;\n",
       "    }\n",
       "\n",
       "    .dataframe tbody tr th {\n",
       "        vertical-align: top;\n",
       "    }\n",
       "\n",
       "    .dataframe thead th {\n",
       "        text-align: right;\n",
       "    }\n",
       "</style>\n",
       "<table border=\"1\" class=\"dataframe\">\n",
       "  <thead>\n",
       "    <tr style=\"text-align: right;\">\n",
       "      <th></th>\n",
       "      <th>depth</th>\n",
       "      <th>accuracy_train</th>\n",
       "      <th>accuracy_test</th>\n",
       "    </tr>\n",
       "  </thead>\n",
       "  <tbody>\n",
       "    <tr>\n",
       "      <th>3</th>\n",
       "      <td>10</td>\n",
       "      <td>0.998442</td>\n",
       "      <td>0.980682</td>\n",
       "    </tr>\n",
       "  </tbody>\n",
       "</table>\n",
       "</div>"
      ],
      "text/plain": [
       "   depth  accuracy_train  accuracy_test\n",
       "3     10        0.998442       0.980682"
      ]
     },
     "execution_count": 23,
     "metadata": {},
     "output_type": "execute_result"
    }
   ],
   "source": [
    "result[result.accuracy_test == result.accuracy_test.max()]"
   ]
  },
  {
   "cell_type": "code",
   "execution_count": 24,
   "metadata": {},
   "outputs": [],
   "source": [
    "# parametrs for plot\n",
    "color_1 = \"red\"\n",
    "color_2 = \"green\"\n",
    "marker = \"o\"\n",
    "markersize = 6\n",
    "linestyle = \"dashdot\"\n",
    "linewidth = 2"
   ]
  },
  {
   "cell_type": "code",
   "execution_count": 25,
   "metadata": {},
   "outputs": [],
   "source": [
    "def visualization(title: str, param: str):\n",
    "    \"\"\"\n",
    "    Function for visualize accuracy metrica.\n",
    "    \"\"\"\n",
    "    plt.figure(figsize=(6, 4))\n",
    "    plt.title(title)\n",
    "    result.set_index(param)[\"accuracy_train\"].plot(\n",
    "        label=\"accuracy_train\",\n",
    "        color=color_1,\n",
    "        linewidth=linewidth,\n",
    "        markersize=markersize,\n",
    "        linestyle=linestyle,\n",
    "        marker=marker,\n",
    "    )\n",
    "    result.set_index(param)[\"accuracy_test\"].plot(\n",
    "        label=\"accuracy_test\",\n",
    "        color=color_2,\n",
    "        linewidth=linewidth,\n",
    "        markersize=markersize,\n",
    "        linestyle=linestyle,\n",
    "        marker=marker,\n",
    "    )\n",
    "    plt.legend()\n",
    "    plt.ylabel(\"Accuracy\")\n",
    "    plt.show()"
   ]
  },
  {
   "cell_type": "code",
   "execution_count": 26,
   "metadata": {},
   "outputs": [
    {
     "data": {
      "image/png": "[encoded data removed]",
      "text/plain": [
       "<Figure size 600x400 with 1 Axes>"
      ]
     },
     "metadata": {},
     "output_type": "display_data"
    }
   ],
   "source": [
    "visualization(\"Динамика предсказаний решающего дерева с изменением глубины\", \"depth\")"
   ]
  },
  {
   "cell_type": "markdown",
   "metadata": {},
   "source": [
    "Лучший результат показывает дерево с глубиной 10 - 0.9984 train, 0.9806 test.\\\n",
    "Затем модель начинает переобучаться, и результат становится несколько ниже."
   ]
  },
  {
   "cell_type": "code",
   "execution_count": 27,
   "metadata": {},
   "outputs": [],
   "source": [
    "result = []\n",
    "for samples in min_samples_split:\n",
    "    model = DecisionTreeClassifier(\n",
    "        max_depth=10, random_state=123, min_samples_split=samples, criterion=\"log_loss\"\n",
    "    )\n",
    "    accuracy_train, accuracy_test = AccuracyMetric(\n",
    "        model, X_train, y_train, X_test, y_test\n",
    "    ).get_all_accuracy()\n",
    "    result.append([samples, accuracy_train, accuracy_test])\n",
    "result = pd.DataFrame(result, columns=[\"samples\", \"accuracy_train\", \"accuracy_test\"])"
   ]
  },
  {
   "cell_type": "code",
   "execution_count": 28,
   "metadata": {},
   "outputs": [
    {
     "data": {
      "text/html": [
       "<div>\n",
       "<style scoped>\n",
       "    .dataframe tbody tr th:only-of-type {\n",
       "        vertical-align: middle;\n",
       "    }\n",
       "\n",
       "    .dataframe tbody tr th {\n",
       "        vertical-align: top;\n",
       "    }\n",
       "\n",
       "    .dataframe thead th {\n",
       "        text-align: right;\n",
       "    }\n",
       "</style>\n",
       "<table border=\"1\" class=\"dataframe\">\n",
       "  <thead>\n",
       "    <tr style=\"text-align: right;\">\n",
       "      <th></th>\n",
       "      <th>samples</th>\n",
       "      <th>accuracy_train</th>\n",
       "      <th>accuracy_test</th>\n",
       "    </tr>\n",
       "  </thead>\n",
       "  <tbody>\n",
       "    <tr>\n",
       "      <th>4</th>\n",
       "      <td>6</td>\n",
       "      <td>0.996704</td>\n",
       "      <td>0.981515</td>\n",
       "    </tr>\n",
       "    <tr>\n",
       "      <th>5</th>\n",
       "      <td>7</td>\n",
       "      <td>0.996704</td>\n",
       "      <td>0.981515</td>\n",
       "    </tr>\n",
       "  </tbody>\n",
       "</table>\n",
       "</div>"
      ],
      "text/plain": [
       "   samples  accuracy_train  accuracy_test\n",
       "4        6        0.996704       0.981515\n",
       "5        7        0.996704       0.981515"
      ]
     },
     "execution_count": 28,
     "metadata": {},
     "output_type": "execute_result"
    }
   ],
   "source": [
    "result[result.accuracy_test == result.accuracy_test.max()]"
   ]
  },
  {
   "cell_type": "code",
   "execution_count": 29,
   "metadata": {},
   "outputs": [
    {
     "data": {
      "image/png": "[encoded data removed]",
      "text/plain": [
       "<Figure size 600x400 with 1 Axes>"
      ]
     },
     "metadata": {},
     "output_type": "display_data"
    }
   ],
   "source": [
    "visualization(\n",
    "    \"Динамика предсказаний решающего дерева с изменением минимума объектов для разделения узла.\",\n",
    "    \"samples\",\n",
    ")"
   ]
  },
  {
   "cell_type": "markdown",
   "metadata": {},
   "source": [
    "Лучший результат показывает дерево с минимумальным количеством 6 объектов для разделения узла - 0.9967 train, 0.9815 test.\\\n",
    "С увеличением минимума объектов значение метрики падает на обеих выборках."
   ]
  },
  {
   "cell_type": "code",
   "execution_count": 30,
   "metadata": {},
   "outputs": [],
   "source": [
    "result = []\n",
    "for samples in min_samples_leaf:\n",
    "    model = DecisionTreeClassifier(\n",
    "        max_depth=10,\n",
    "        random_state=123,\n",
    "        min_samples_split=6,\n",
    "        criterion=\"log_loss\",\n",
    "        min_samples_leaf=samples,\n",
    "    )\n",
    "    accuracy_train, accuracy_test = AccuracyMetric(\n",
    "        model, X_train, y_train, X_test, y_test\n",
    "    ).get_all_accuracy()\n",
    "    result.append([samples, accuracy_train, accuracy_test])\n",
    "result = pd.DataFrame(result, columns=[\"samples\", \"accuracy_train\", \"accuracy_test\"])"
   ]
  },
  {
   "cell_type": "code",
   "execution_count": 31,
   "metadata": {},
   "outputs": [
    {
     "data": {
      "text/html": [
       "<div>\n",
       "<style scoped>\n",
       "    .dataframe tbody tr th:only-of-type {\n",
       "        vertical-align: middle;\n",
       "    }\n",
       "\n",
       "    .dataframe tbody tr th {\n",
       "        vertical-align: top;\n",
       "    }\n",
       "\n",
       "    .dataframe thead th {\n",
       "        text-align: right;\n",
       "    }\n",
       "</style>\n",
       "<table border=\"1\" class=\"dataframe\">\n",
       "  <thead>\n",
       "    <tr style=\"text-align: right;\">\n",
       "      <th></th>\n",
       "      <th>samples</th>\n",
       "      <th>accuracy_train</th>\n",
       "      <th>accuracy_test</th>\n",
       "    </tr>\n",
       "  </thead>\n",
       "  <tbody>\n",
       "    <tr>\n",
       "      <th>0</th>\n",
       "      <td>1</td>\n",
       "      <td>0.996704</td>\n",
       "      <td>0.981515</td>\n",
       "    </tr>\n",
       "    <tr>\n",
       "      <th>3</th>\n",
       "      <td>4</td>\n",
       "      <td>0.991306</td>\n",
       "      <td>0.981515</td>\n",
       "    </tr>\n",
       "  </tbody>\n",
       "</table>\n",
       "</div>"
      ],
      "text/plain": [
       "   samples  accuracy_train  accuracy_test\n",
       "0        1        0.996704       0.981515\n",
       "3        4        0.991306       0.981515"
      ]
     },
     "execution_count": 31,
     "metadata": {},
     "output_type": "execute_result"
    }
   ],
   "source": [
    "result[result.accuracy_test == result.accuracy_test.max()]"
   ]
  },
  {
   "cell_type": "code",
   "execution_count": 32,
   "metadata": {},
   "outputs": [
    {
     "data": {
      "image/png": "[encoded data removed]",
      "text/plain": [
       "<Figure size 600x400 with 1 Axes>"
      ]
     },
     "metadata": {},
     "output_type": "display_data"
    }
   ],
   "source": [
    "visualization(\n",
    "    \"Динамика предсказаний решающего дерева с изменением минимума объектов в листьях.\",\n",
    "    \"samples\",\n",
    ")"
   ]
  },
  {
   "cell_type": "markdown",
   "metadata": {},
   "source": [
    "Лучший результат показывает дерево с минимум одним объектом в каждом листе: - 0.9967 train, 0.9815 test.\\\n",
    "С увеличением минимума объектов метрика снижается на обеих выборках."
   ]
  },
  {
   "cell_type": "markdown",
   "metadata": {},
   "source": [
    "3.3. Выведите значение гиперпараметра, при котором качество модели на валидационной части наилучшее. "
   ]
  },
  {
   "cell_type": "code",
   "execution_count": 33,
   "metadata": {},
   "outputs": [
    {
     "name": "stdout",
     "output_type": "stream",
     "text": [
      "Параметры модели: criterion='log_loss', max_depth=10, min_samples_leaf=4,\n",
      "                       min_samples_split=6, random_state=123\n",
      "Точность на обучающей выборке: 0.991306\n",
      "Точность на валидационной выборке: 0.981515\n"
     ]
    }
   ],
   "source": [
    "# запустим лучшую модель\n",
    "model = DecisionTreeClassifier(\n",
    "    max_depth=10,\n",
    "    random_state=123,\n",
    "    min_samples_split=6,\n",
    "    criterion=\"log_loss\",\n",
    "    min_samples_leaf=4,\n",
    ")\n",
    "accuracy_ = AccuracyMetric(model, X_train, y_train, X_test, y_test)\n",
    "accuracy_test = accuracy_.get_accuracy_test()\n",
    "accuracy_.print_all_metrics()"
   ]
  },
  {
   "cell_type": "code",
   "execution_count": 34,
   "metadata": {},
   "outputs": [
    {
     "data": {
      "text/plain": [
       "np.float64(0.981515)"
      ]
     },
     "execution_count": 34,
     "metadata": {},
     "output_type": "execute_result"
    }
   ],
   "source": [
    "# запишем лучший результат\n",
    "total_result = {}\n",
    "total_result.setdefault('DecisionTreeClassifier', accuracy_test)"
   ]
  },
  {
   "cell_type": "markdown",
   "metadata": {},
   "source": [
    "#### 4. Подберите лучшую модель случайного леса:"
   ]
  },
  {
   "cell_type": "markdown",
   "metadata": {},
   "source": [
    "4.1. Переберите несколько значений какого-либо гиперпараметра дерева и для каждого из них — несколько значений гиперпараметра, отвечающего за количество решающих деревьев в случайном лесу. Для каждой комбинации гиперпараметров оцените качество на валидационной части."
   ]
  },
  {
   "cell_type": "markdown",
   "metadata": {},
   "source": [
    "В модели будем использовать два постоянных гиперпараметра:\n",
    "- параллельное построение деревьев и параллельное вычисление прогнозов с помощью n_jobs.\\\n",
    " Если n_jobs=-1 тогда используются все ядра, имеющиеся на машине.\n",
    " -  random_state, чтоб генерируемые псевдослучайные величины имели одни и те же значения при каждом вызове.\\\n",
    " \n",
    "Будем перебирать значения следующих гиперпараметров:\n",
    "- минимальное количество объектов для разделения узла (min_samples_split)\n",
    "- глубина дерева (max_depth)\n",
    "- максимальное количество листьев (max_leaf_nodes)"
   ]
  },
  {
   "cell_type": "code",
   "execution_count": 35,
   "metadata": {},
   "outputs": [],
   "source": [
    "# определим гиперпараметры\n",
    "min_samples_split = range(2, 10)\n",
    "estimators = range(1, 202, 20)\n",
    "depths = range(1, 20, 2)\n",
    "max_leaf_nodes = range(2, 52, 10)"
   ]
  },
  {
   "cell_type": "code",
   "execution_count": 36,
   "metadata": {},
   "outputs": [],
   "source": [
    "result_samples = []\n",
    "for samples in min_samples_split:\n",
    "    for estimator in estimators:\n",
    "        model = RandomForestClassifier(\n",
    "            random_state=123,\n",
    "            n_estimators=estimator,\n",
    "            min_samples_split=samples,\n",
    "            n_jobs=-1,\n",
    "        )\n",
    "        accuracy_ = AccuracyMetric(model, X_train, y_train, X_test, y_test)\n",
    "        result_samples.append((samples, estimator, accuracy_.get_accuracy_test()))\n",
    "result_samples = pd.DataFrame(\n",
    "    result_samples, columns=[\"samples\", \"estimator\", \"accuracy_test\"]\n",
    ")"
   ]
  },
  {
   "cell_type": "markdown",
   "metadata": {},
   "source": [
    "Посмотрим на лучший результат с минимальным значением параметра min_samples_split."
   ]
  },
  {
   "cell_type": "code",
   "execution_count": 37,
   "metadata": {},
   "outputs": [
    {
     "data": {
      "text/plain": [
       "samples           5.000000\n",
       "estimator        21.000000\n",
       "accuracy_test     0.989912\n",
       "Name: 34, dtype: float64"
      ]
     },
     "execution_count": 37,
     "metadata": {},
     "output_type": "execute_result"
    }
   ],
   "source": [
    "samples = (\n",
    "    result_samples[result_samples.accuracy_test == result_samples.accuracy_test.max()]\n",
    "    .sort_values(by=\"samples\")\n",
    "    .iloc[0]\n",
    ")\n",
    "samples"
   ]
  },
  {
   "cell_type": "markdown",
   "metadata": {},
   "source": [
    "Создадим словарь для лучших значений."
   ]
  },
  {
   "cell_type": "code",
   "execution_count": 38,
   "metadata": {},
   "outputs": [],
   "source": [
    "result_dict = {}\n",
    "result_dict.setdefault(\"Accuracy\", []).append(samples.accuracy_test)\n",
    "result_dict.setdefault(\"Estimators\", []).append(samples.estimator)\n",
    "result_dict.setdefault(\"Parameter\", []).append(samples.samples)"
   ]
  },
  {
   "cell_type": "code",
   "execution_count": 39,
   "metadata": {},
   "outputs": [],
   "source": [
    "result_depth = []\n",
    "for depth in depths:\n",
    "    for estimator in estimators:\n",
    "        model = RandomForestClassifier(\n",
    "            random_state=123,\n",
    "            n_estimators=estimator,\n",
    "            max_depth=depth,\n",
    "            n_jobs=-1\n",
    "        )\n",
    "        accuracy_ = AccuracyMetric(model, X_train, y_train, X_test, y_test)\n",
    "        result_depth.append((depth, estimator, accuracy_.get_accuracy_test()))\n",
    "result_depth = pd.DataFrame(\n",
    "    result_depth, columns=[\"depth\", \"estimator\", \"accuracy_test\"]\n",
    ")"
   ]
  },
  {
   "cell_type": "markdown",
   "metadata": {},
   "source": [
    "Посмотрим на лучший результат с минимальным значением параметра max_depth."
   ]
  },
  {
   "cell_type": "code",
   "execution_count": 40,
   "metadata": {},
   "outputs": [
    {
     "data": {
      "text/plain": [
       "depth             7.000000\n",
       "estimator        81.000000\n",
       "accuracy_test     0.989482\n",
       "Name: 37, dtype: float64"
      ]
     },
     "execution_count": 40,
     "metadata": {},
     "output_type": "execute_result"
    }
   ],
   "source": [
    "depth = (\n",
    "    result_depth[result_depth.accuracy_test == result_depth.accuracy_test.max()]\n",
    "    .sort_values(by=\"depth\")\n",
    "    .iloc[0]\n",
    ")\n",
    "depth"
   ]
  },
  {
   "cell_type": "code",
   "execution_count": 41,
   "metadata": {},
   "outputs": [],
   "source": [
    "result_dict.setdefault(\"Accuracy\", []).append(depth.accuracy_test)\n",
    "result_dict.setdefault(\"Estimators\", []).append(depth.estimator)\n",
    "result_dict.setdefault(\"Parameter\", []).append(depth.depth)"
   ]
  },
  {
   "cell_type": "code",
   "execution_count": 42,
   "metadata": {},
   "outputs": [],
   "source": [
    "result_nodes = []\n",
    "for leaf_nodes in max_leaf_nodes:\n",
    "    for estimator in estimators:\n",
    "        model = RandomForestClassifier(\n",
    "            random_state=123,\n",
    "            n_estimators=estimator,\n",
    "            max_leaf_nodes=leaf_nodes,\n",
    "            n_jobs=-1\n",
    "        )\n",
    "        accuracy_ = AccuracyMetric(model, X_train, y_train, X_test, y_test)\n",
    "        result_nodes.append((leaf_nodes, estimator, accuracy_.get_accuracy_test()))\n",
    "result_nodes = pd.DataFrame(\n",
    "    result_nodes, columns=[\"leaf_nodes\", \"estimator\", \"accuracy_test\"]\n",
    ")"
   ]
  },
  {
   "cell_type": "markdown",
   "metadata": {},
   "source": [
    "Посмотрим на лучший результат с минимальным значением параметра max_leaf_nodes."
   ]
  },
  {
   "cell_type": "code",
   "execution_count": 43,
   "metadata": {},
   "outputs": [
    {
     "data": {
      "text/plain": [
       "leaf_nodes        42.000000\n",
       "estimator        141.000000\n",
       "accuracy_test      0.987803\n",
       "Name: 51, dtype: float64"
      ]
     },
     "execution_count": 43,
     "metadata": {},
     "output_type": "execute_result"
    }
   ],
   "source": [
    "nodes = (\n",
    "    result_nodes[result_nodes.accuracy_test == result_nodes.accuracy_test.max()]\n",
    "    .sort_values(by=\"leaf_nodes\")\n",
    "    .iloc[0]\n",
    ")\n",
    "result_dict.setdefault(\"Accuracy\", []).append(nodes.accuracy_test)\n",
    "result_dict.setdefault(\"Estimators\", []).append(nodes.estimator)\n",
    "result_dict.setdefault(\"Parameter\", []).append(nodes.leaf_nodes)\n",
    "nodes"
   ]
  },
  {
   "cell_type": "markdown",
   "metadata": {},
   "source": [
    "4.2. Визуализируйте зависимость качества модели от значений гиперпараметров с помощью функции imshow.\\\n",
    "Опишите особенности, которые вы наблюдаете."
   ]
  },
  {
   "cell_type": "code",
   "execution_count": 44,
   "metadata": {},
   "outputs": [],
   "source": [
    "# создание индексов для построения графиков\n",
    "min_samples_split_idx = np.arange(len(min_samples_split))\n",
    "estimators_idx = np.arange(len(estimators))\n",
    "depths_idx = np.arange(len(depths))\n",
    "max_leaf_nodes_idx = np.arange(len(max_leaf_nodes))"
   ]
  },
  {
   "cell_type": "code",
   "execution_count": 45,
   "metadata": {},
   "outputs": [],
   "source": [
    "# перевод данных в двумерных массив для работы с imshow\n",
    "data = np.array(result_depth.accuracy_test).reshape(len(depths), len(estimators))"
   ]
  },
  {
   "cell_type": "code",
   "execution_count": 46,
   "metadata": {},
   "outputs": [
    {
     "data": {
      "image/png": "[encoded data removed]",
      "text/plain": [
       "<Figure size 600x400 with 2 Axes>"
      ]
     },
     "metadata": {},
     "output_type": "display_data"
    }
   ],
   "source": [
    "plt.figure(figsize=(6, 4))\n",
    "plt.title(\"Динамика предсказаний леса с изменением кол-ва деревьев\\n и глубины дерева.\")\n",
    "plt.imshow(data, interpolation=\"nearest\", cmap=\"autumn\")\n",
    "plt.xlabel(\"estimators\")\n",
    "plt.ylabel(\"depth\")\n",
    "plt.colorbar(label=\"balanced_accuracy_score\")\n",
    "plt.yticks(depths_idx, depths)\n",
    "plt.xticks(estimators_idx, estimators)\n",
    "plt.show()"
   ]
  },
  {
   "cell_type": "markdown",
   "metadata": {},
   "source": [
    "На графике видно, как с увеличение глубины дерева растет метрика качества даже при минимальном кол-ве деревьев.\\\n",
    "Увеличение кол-ва деревьев работает вместе с их глубиной.\\\n",
    "По графику начиная от глубины 11 лучший результат достигается уже на 21 дереве."
   ]
  },
  {
   "cell_type": "code",
   "execution_count": 47,
   "metadata": {},
   "outputs": [],
   "source": [
    "data = np.array(result_samples.accuracy_test).reshape(\n",
    "    len(min_samples_split), len(estimators)\n",
    ")"
   ]
  },
  {
   "cell_type": "code",
   "execution_count": 48,
   "metadata": {},
   "outputs": [
    {
     "data": {
      "image/png": "[encoded data removed]",
      "text/plain": [
       "<Figure size 600x400 with 2 Axes>"
      ]
     },
     "metadata": {},
     "output_type": "display_data"
    }
   ],
   "source": [
    "plt.figure(figsize=(6, 4))\n",
    "plt.title(\n",
    "    \"Динамика предсказаний леса с изменением кол-ва деревьев\\n и кол-ва объектов для разделения узла.\"\n",
    ")\n",
    "plt.imshow(data, interpolation=\"nearest\", cmap=\"autumn\")\n",
    "plt.xlabel(\"estimators\")\n",
    "plt.ylabel(\"min_samples_split\")\n",
    "plt.colorbar(label=\"balanced_accuracy_score\")\n",
    "plt.yticks(min_samples_split_idx, min_samples_split)\n",
    "plt.xticks(estimators_idx, estimators)\n",
    "plt.show()"
   ]
  },
  {
   "cell_type": "markdown",
   "metadata": {},
   "source": [
    "На данном графике уже нет такой зависимости гиперпараметров. Мы видим, что увеличение кол-ва объектов для узла требует большего числа деревьев.\n",
    "Лучший результат достигается уже на 21 дереве."
   ]
  },
  {
   "cell_type": "code",
   "execution_count": 49,
   "metadata": {},
   "outputs": [],
   "source": [
    "data = np.array(result_nodes.accuracy_test).reshape(\n",
    "    len(max_leaf_nodes), len(estimators)\n",
    ")"
   ]
  },
  {
   "cell_type": "code",
   "execution_count": 50,
   "metadata": {},
   "outputs": [
    {
     "data": {
      "image/png": "[encoded data removed]",
      "text/plain": [
       "<Figure size 600x400 with 2 Axes>"
      ]
     },
     "metadata": {},
     "output_type": "display_data"
    }
   ],
   "source": [
    "plt.figure(figsize=(6, 4))\n",
    "plt.title(\"Динамика предсказаний леса с изменением\\nкол-ва деревьев и кол-ва листьев.\")\n",
    "plt.imshow(data, interpolation=\"nearest\", cmap=\"autumn\")\n",
    "plt.xlabel(\"estimators\")\n",
    "plt.ylabel(\"max_leaf_nodes\")\n",
    "plt.colorbar(label=\"balanced_accuracy_score\")\n",
    "plt.yticks(max_leaf_nodes_idx, max_leaf_nodes)\n",
    "plt.xticks(estimators_idx, estimators)\n",
    "plt.show()"
   ]
  },
  {
   "cell_type": "markdown",
   "metadata": {},
   "source": [
    "На данном графике мы видим, что ограничение кол-ва листьев небольшими значениями уменьшает метрику.\n",
    "Как и в прошлых случаях, все решает кол-во деревьев.\\\n",
    "Можно сделать вывод, что из исследуюемых трех гиперпараметров кол-во деревьев - самый важный."
   ]
  },
  {
   "cell_type": "markdown",
   "metadata": {},
   "source": [
    "4.3. Выведите значения гиперпараметров, при которых качество модели на валидационной части выборки наилучшее."
   ]
  },
  {
   "cell_type": "code",
   "execution_count": 51,
   "metadata": {},
   "outputs": [
    {
     "data": {
      "text/html": [
       "<div>\n",
       "<style scoped>\n",
       "    .dataframe tbody tr th:only-of-type {\n",
       "        vertical-align: middle;\n",
       "    }\n",
       "\n",
       "    .dataframe tbody tr th {\n",
       "        vertical-align: top;\n",
       "    }\n",
       "\n",
       "    .dataframe thead th {\n",
       "        text-align: right;\n",
       "    }\n",
       "</style>\n",
       "<table border=\"1\" class=\"dataframe\">\n",
       "  <thead>\n",
       "    <tr style=\"text-align: right;\">\n",
       "      <th></th>\n",
       "      <th>Accuracy</th>\n",
       "      <th>Estimators</th>\n",
       "      <th>Parameter</th>\n",
       "    </tr>\n",
       "  </thead>\n",
       "  <tbody>\n",
       "    <tr>\n",
       "      <th>min_samples_split</th>\n",
       "      <td>0.989912</td>\n",
       "      <td>21</td>\n",
       "      <td>5</td>\n",
       "    </tr>\n",
       "    <tr>\n",
       "      <th>max_depth</th>\n",
       "      <td>0.989482</td>\n",
       "      <td>81</td>\n",
       "      <td>7</td>\n",
       "    </tr>\n",
       "    <tr>\n",
       "      <th>max_leaf_nodes</th>\n",
       "      <td>0.987803</td>\n",
       "      <td>141</td>\n",
       "      <td>42</td>\n",
       "    </tr>\n",
       "  </tbody>\n",
       "</table>\n",
       "</div>"
      ],
      "text/plain": [
       "                   Accuracy  Estimators  Parameter\n",
       "min_samples_split  0.989912          21          5\n",
       "max_depth          0.989482          81          7\n",
       "max_leaf_nodes     0.987803         141         42"
      ]
     },
     "execution_count": 51,
     "metadata": {},
     "output_type": "execute_result"
    }
   ],
   "source": [
    "# сделаем датафрейм из словаря с лучшими значениями\n",
    "columns = [\n",
    "    \"min_samples_split\",\n",
    "    \"max_depth\",\n",
    "    \"max_leaf_nodes\",\n",
    "]\n",
    "metrics = pd.DataFrame(result_dict, columns)\n",
    "metrics[[\"Estimators\", \"Parameter\"]] = metrics[[\"Estimators\", \"Parameter\"]].astype(\n",
    "    \"int16\"\n",
    ")\n",
    "metrics"
   ]
  },
  {
   "cell_type": "markdown",
   "metadata": {},
   "source": [
    "Переберем все варианты кол-ва деревьев."
   ]
  },
  {
   "cell_type": "code",
   "execution_count": 52,
   "metadata": {},
   "outputs": [
    {
     "name": "stdout",
     "output_type": "stream",
     "text": [
      "Параметры модели: criterion='log_loss', max_depth=7, max_leaf_nodes=42,\n",
      "                       min_samples_split=5, n_estimators=21, random_state=123\n",
      "Точность на валидационной выборке: 0.98654\n",
      "--------------------\n",
      "Параметры модели: criterion='log_loss', max_depth=7, max_leaf_nodes=42,\n",
      "                       min_samples_split=5, n_estimators=81, random_state=123\n",
      "Точность на валидационной выборке: 0.988649\n",
      "--------------------\n",
      "Параметры модели: criterion='log_loss', max_depth=7, max_leaf_nodes=42,\n",
      "                       min_samples_split=5, n_estimators=141, random_state=123\n",
      "Точность на валидационной выборке: 0.989066\n",
      "--------------------\n"
     ]
    }
   ],
   "source": [
    "result = []\n",
    "for estimator in (metrics.Estimators).to_list():\n",
    "    model = RandomForestClassifier(\n",
    "        random_state=123,\n",
    "        min_samples_split=5,\n",
    "        max_depth=7,\n",
    "        max_leaf_nodes=42,\n",
    "        n_estimators=estimator,\n",
    "        criterion='log_loss'\n",
    "    )\n",
    "    accuracy_ = AccuracyMetric(model, X_train, y_train, X_test, y_test)\n",
    "    accuracy_ = AccuracyMetric(model, X_train, y_train, X_test, y_test)\n",
    "    result.append(accuracy_.get_accuracy_test())\n",
    "    accuracy_.print_test_metrica()\n",
    "    print('--------------------')"
   ]
  },
  {
   "cell_type": "markdown",
   "metadata": {},
   "source": [
    "Лучший результат показала модель со следующими гиперпараметрами:\n",
    "- criterion='log_loss',\n",
    "- max_depth=7,\n",
    "- max_leaf_nodes=42,\n",
    "- min_samples_split=5,\n",
    "- n_estimators=141,\n",
    "- random_state=123\n",
    "\n",
    "Точность на валидационной выборке: 0.989066"
   ]
  },
  {
   "cell_type": "code",
   "execution_count": 53,
   "metadata": {},
   "outputs": [
    {
     "data": {
      "text/plain": [
       "np.float64(0.989066)"
      ]
     },
     "execution_count": 53,
     "metadata": {},
     "output_type": "execute_result"
    }
   ],
   "source": [
    "total_result.setdefault('RandomForestClassifier', max(result))"
   ]
  },
  {
   "cell_type": "markdown",
   "metadata": {},
   "source": [
    "#### 5. Подберите лучший вариант градиентного бустинга:"
   ]
  },
  {
   "cell_type": "markdown",
   "metadata": {},
   "source": [
    "5.1. Выделите из обучающей части данных часть для валидации градиентного бустинга в ходе обучения."
   ]
  },
  {
   "cell_type": "code",
   "execution_count": 54,
   "metadata": {},
   "outputs": [],
   "source": [
    "X_train, X_val, y_train, y_val = train_test_split(\n",
    "    X_train, y_train, test_size=0.2, random_state=0\n",
    ")"
   ]
  },
  {
   "cell_type": "markdown",
   "metadata": {},
   "source": [
    "5.2. Зафиксируйте небольшое количество деревьев, значение какого-либо параметра, отвечающего за сложность решающих деревьев и значение величины шага градиентного бустинга. Обучите градиентный бустинг с выбранными параметрами, выводя в процессе обучения значение функции потерь на обучающей и валидационной частях. Выведите значение метрики качества на экран.\\\n",
    "ВОПРОС: какая метрика имелась ввиду: точность или потеря?"
   ]
  },
  {
   "cell_type": "code",
   "execution_count": 55,
   "metadata": {},
   "outputs": [
    {
     "name": "stdout",
     "output_type": "stream",
     "text": [
      "[0]\tvalidation_0-logloss:0.49284\tvalidation_1-logloss:0.47439\n",
      "[1]\tvalidation_0-logloss:0.42860\tvalidation_1-logloss:0.41521\n",
      "[2]\tvalidation_0-logloss:0.37715\tvalidation_1-logloss:0.36784\n",
      "[3]\tvalidation_0-logloss:0.33460\tvalidation_1-logloss:0.32899\n",
      "[4]\tvalidation_0-logloss:0.29859\tvalidation_1-logloss:0.29503\n",
      "[5]\tvalidation_0-logloss:0.26743\tvalidation_1-logloss:0.26521\n",
      "[6]\tvalidation_0-logloss:0.24066\tvalidation_1-logloss:0.23954\n",
      "[7]\tvalidation_0-logloss:0.21728\tvalidation_1-logloss:0.21721\n",
      "[8]\tvalidation_0-logloss:0.19683\tvalidation_1-logloss:0.19781\n",
      "[9]\tvalidation_0-logloss:0.17864\tvalidation_1-logloss:0.17978\n",
      "Точность на обучающей выборке: 0.986303\n",
      "Точность на валидационной выборке: 0.979619\n",
      "\n"
     ]
    }
   ],
   "source": [
    "model = XGBClassifier(max_depth=5, learning_rate=0.1, n_estimators=10)\n",
    "model.fit(X_train, y_train, eval_set=[(X_train, y_train), (X_val, y_val)])\n",
    "accuracy_train = balanced_accuracy_score(y_train, model.predict(X_train))\n",
    "accuracy_val = balanced_accuracy_score(y_val, model.predict(X_val))\n",
    "\n",
    "print(\n",
    "    f\"Точность на обучающей выборке: {round(accuracy_train, 6)}\\n\"\n",
    "    f\"Точность на валидационной выборке: {round(accuracy_val, 6)}\\n\"\n",
    ")"
   ]
  },
  {
   "cell_type": "markdown",
   "metadata": {},
   "source": [
    "Фунция потерь близка на обеих выборках, за 10 деревьев она снизилась с 0.49 до 0.17."
   ]
  },
  {
   "cell_type": "markdown",
   "metadata": {},
   "source": [
    "5.3. На фиксированном небольшом количестве деревьев сравните 3-4 комбинации значений параметров величины шага градиентного бустинга и какого-либо параметра, отвечающего за сложность решающих деревьев.\\\n",
    "5.4. Выберите из рассмотренных комбинаций лучшую и обоснуйте свой выбор."
   ]
  },
  {
   "cell_type": "code",
   "execution_count": 56,
   "metadata": {},
   "outputs": [],
   "source": [
    "# определим гиперпараметры\n",
    "estimators = 10\n",
    "depths = 2, 5\n",
    "learning_rates = 0.1, 0.03"
   ]
  },
  {
   "cell_type": "code",
   "execution_count": 57,
   "metadata": {},
   "outputs": [
    {
     "name": "stdout",
     "output_type": "stream",
     "text": [
      "depth=2, learning_rate=0.1\n",
      "Функция потерь на валидационной выборке: 0.210528\n",
      "-----------------\n",
      "depth=2, learning_rate=0.03\n",
      "Функция потерь на валидационной выборке: 0.388111\n",
      "-----------------\n",
      "depth=5, learning_rate=0.1\n",
      "Функция потерь на валидационной выборке: 0.179776\n",
      "-----------------\n",
      "depth=5, learning_rate=0.03\n",
      "Функция потерь на валидационной выборке: 0.374264\n",
      "-----------------\n"
     ]
    }
   ],
   "source": [
    "for depth in depths:\n",
    "    for learning_rate in learning_rates:\n",
    "        model = XGBClassifier(\n",
    "            random_state=123,\n",
    "            n_estimators=10,\n",
    "            max_depth=depth,\n",
    "            learning_rate=learning_rate,\n",
    "        )\n",
    "        model.fit(X_train, y_train)\n",
    "        # функция потерь определяется на основании данных, полученных методом predict_proba\n",
    "        val_loss = log_loss(y_val, model.predict_proba(X_val))\n",
    "        print(\n",
    "            f\"depth={depth}, learning_rate={learning_rate}\\n\"\n",
    "            f\"Функция потерь на валидационной выборке: {round(val_loss, 6)}\"\n",
    "        )\n",
    "        print(\"-----------------\")"
   ]
  },
  {
   "cell_type": "markdown",
   "metadata": {},
   "source": [
    "Лучший результат функции потерь на валидационной выборке: 0.179776\\\n",
    "при комбинации depth=5, learning_rate=0.1"
   ]
  },
  {
   "cell_type": "markdown",
   "metadata": {},
   "source": [
    "5.5. Увеличьте количество деревьев и опишите эффект."
   ]
  },
  {
   "cell_type": "code",
   "execution_count": 58,
   "metadata": {},
   "outputs": [
    {
     "data": {
      "text/html": [
       "<style>#sk-container-id-1 {\n",
       "  /* Definition of color scheme common for light and dark mode */\n",
       "  --sklearn-color-text: black;\n",
       "  --sklearn-color-line: gray;\n",
       "  /* Definition of color scheme for unfitted estimators */\n",
       "  --sklearn-color-unfitted-level-0: #fff5e6;\n",
       "  --sklearn-color-unfitted-level-1: #f6e4d2;\n",
       "  --sklearn-color-unfitted-level-2: #ffe0b3;\n",
       "  --sklearn-color-unfitted-level-3: chocolate;\n",
       "  /* Definition of color scheme for fitted estimators */\n",
       "  --sklearn-color-fitted-level-0: #f0f8ff;\n",
       "  --sklearn-color-fitted-level-1: #d4ebff;\n",
       "  --sklearn-color-fitted-level-2: #b3dbfd;\n",
       "  --sklearn-color-fitted-level-3: cornflowerblue;\n",
       "\n",
       "  /* Specific color for light theme */\n",
       "  --sklearn-color-text-on-default-background: var(--sg-text-color, var(--theme-code-foreground, var(--jp-content-font-color1, black)));\n",
       "  --sklearn-color-background: var(--sg-background-color, var(--theme-background, var(--jp-layout-color0, white)));\n",
       "  --sklearn-color-border-box: var(--sg-text-color, var(--theme-code-foreground, var(--jp-content-font-color1, black)));\n",
       "  --sklearn-color-icon: #696969;\n",
       "\n",
       "  @media (prefers-color-scheme: dark) {\n",
       "    /* Redefinition of color scheme for dark theme */\n",
       "    --sklearn-color-text-on-default-background: var(--sg-text-color, var(--theme-code-foreground, var(--jp-content-font-color1, white)));\n",
       "    --sklearn-color-background: var(--sg-background-color, var(--theme-background, var(--jp-layout-color0, #111)));\n",
       "    --sklearn-color-border-box: var(--sg-text-color, var(--theme-code-foreground, var(--jp-content-font-color1, white)));\n",
       "    --sklearn-color-icon: #878787;\n",
       "  }\n",
       "}\n",
       "\n",
       "#sk-container-id-1 {\n",
       "  color: var(--sklearn-color-text);\n",
       "}\n",
       "\n",
       "#sk-container-id-1 pre {\n",
       "  padding: 0;\n",
       "}\n",
       "\n",
       "#sk-container-id-1 input.sk-hidden--visually {\n",
       "  border: 0;\n",
       "  clip: rect(1px 1px 1px 1px);\n",
       "  clip: rect(1px, 1px, 1px, 1px);\n",
       "  height: 1px;\n",
       "  margin: -1px;\n",
       "  overflow: hidden;\n",
       "  padding: 0;\n",
       "  position: absolute;\n",
       "  width: 1px;\n",
       "}\n",
       "\n",
       "#sk-container-id-1 div.sk-dashed-wrapped {\n",
       "  border: 1px dashed var(--sklearn-color-line);\n",
       "  margin: 0 0.4em 0.5em 0.4em;\n",
       "  box-sizing: border-box;\n",
       "  padding-bottom: 0.4em;\n",
       "  background-color: var(--sklearn-color-background);\n",
       "}\n",
       "\n",
       "#sk-container-id-1 div.sk-container {\n",
       "  /* jupyter's `normalize.less` sets `[hidden] { display: none; }`\n",
       "     but bootstrap.min.css set `[hidden] { display: none !important; }`\n",
       "     so we also need the `!important` here to be able to override the\n",
       "     default hidden behavior on the sphinx rendered scikit-learn.org.\n",
       "     See: https://github.com/scikit-learn/scikit-learn/issues/21755 */\n",
       "  display: inline-block !important;\n",
       "  position: relative;\n",
       "}\n",
       "\n",
       "#sk-container-id-1 div.sk-text-repr-fallback {\n",
       "  display: none;\n",
       "}\n",
       "\n",
       "div.sk-parallel-item,\n",
       "div.sk-serial,\n",
       "div.sk-item {\n",
       "  /* draw centered vertical line to link estimators */\n",
       "  background-image: linear-gradient(var(--sklearn-color-text-on-default-background), var(--sklearn-color-text-on-default-background));\n",
       "  background-size: 2px 100%;\n",
       "  background-repeat: no-repeat;\n",
       "  background-position: center center;\n",
       "}\n",
       "\n",
       "/* Parallel-specific style estimator block */\n",
       "\n",
       "#sk-container-id-1 div.sk-parallel-item::after {\n",
       "  content: \"\";\n",
       "  width: 100%;\n",
       "  border-bottom: 2px solid var(--sklearn-color-text-on-default-background);\n",
       "  flex-grow: 1;\n",
       "}\n",
       "\n",
       "#sk-container-id-1 div.sk-parallel {\n",
       "  display: flex;\n",
       "  align-items: stretch;\n",
       "  justify-content: center;\n",
       "  background-color: var(--sklearn-color-background);\n",
       "  position: relative;\n",
       "}\n",
       "\n",
       "#sk-container-id-1 div.sk-parallel-item {\n",
       "  display: flex;\n",
       "  flex-direction: column;\n",
       "}\n",
       "\n",
       "#sk-container-id-1 div.sk-parallel-item:first-child::after {\n",
       "  align-self: flex-end;\n",
       "  width: 50%;\n",
       "}\n",
       "\n",
       "#sk-container-id-1 div.sk-parallel-item:last-child::after {\n",
       "  align-self: flex-start;\n",
       "  width: 50%;\n",
       "}\n",
       "\n",
       "#sk-container-id-1 div.sk-parallel-item:only-child::after {\n",
       "  width: 0;\n",
       "}\n",
       "\n",
       "/* Serial-specific style estimator block */\n",
       "\n",
       "#sk-container-id-1 div.sk-serial {\n",
       "  display: flex;\n",
       "  flex-direction: column;\n",
       "  align-items: center;\n",
       "  background-color: var(--sklearn-color-background);\n",
       "  padding-right: 1em;\n",
       "  padding-left: 1em;\n",
       "}\n",
       "\n",
       "\n",
       "/* Toggleable style: style used for estimator/Pipeline/ColumnTransformer box that is\n",
       "clickable and can be expanded/collapsed.\n",
       "- Pipeline and ColumnTransformer use this feature and define the default style\n",
       "- Estimators will overwrite some part of the style using the `sk-estimator` class\n",
       "*/\n",
       "\n",
       "/* Pipeline and ColumnTransformer style (default) */\n",
       "\n",
       "#sk-container-id-1 div.sk-toggleable {\n",
       "  /* Default theme specific background. It is overwritten whether we have a\n",
       "  specific estimator or a Pipeline/ColumnTransformer */\n",
       "  background-color: var(--sklearn-color-background);\n",
       "}\n",
       "\n",
       "/* Toggleable label */\n",
       "#sk-container-id-1 label.sk-toggleable__label {\n",
       "  cursor: pointer;\n",
       "  display: block;\n",
       "  width: 100%;\n",
       "  margin-bottom: 0;\n",
       "  padding: 0.5em;\n",
       "  box-sizing: border-box;\n",
       "  text-align: center;\n",
       "}\n",
       "\n",
       "#sk-container-id-1 label.sk-toggleable__label-arrow:before {\n",
       "  /* Arrow on the left of the label */\n",
       "  content: \"▸\";\n",
       "  float: left;\n",
       "  margin-right: 0.25em;\n",
       "  color: var(--sklearn-color-icon);\n",
       "}\n",
       "\n",
       "#sk-container-id-1 label.sk-toggleable__label-arrow:hover:before {\n",
       "  color: var(--sklearn-color-text);\n",
       "}\n",
       "\n",
       "/* Toggleable content - dropdown */\n",
       "\n",
       "#sk-container-id-1 div.sk-toggleable__content {\n",
       "  max-height: 0;\n",
       "  max-width: 0;\n",
       "  overflow: hidden;\n",
       "  text-align: left;\n",
       "  /* unfitted */\n",
       "  background-color: var(--sklearn-color-unfitted-level-0);\n",
       "}\n",
       "\n",
       "#sk-container-id-1 div.sk-toggleable__content.fitted {\n",
       "  /* fitted */\n",
       "  background-color: var(--sklearn-color-fitted-level-0);\n",
       "}\n",
       "\n",
       "#sk-container-id-1 div.sk-toggleable__content pre {\n",
       "  margin: 0.2em;\n",
       "  border-radius: 0.25em;\n",
       "  color: var(--sklearn-color-text);\n",
       "  /* unfitted */\n",
       "  background-color: var(--sklearn-color-unfitted-level-0);\n",
       "}\n",
       "\n",
       "#sk-container-id-1 div.sk-toggleable__content.fitted pre {\n",
       "  /* unfitted */\n",
       "  background-color: var(--sklearn-color-fitted-level-0);\n",
       "}\n",
       "\n",
       "#sk-container-id-1 input.sk-toggleable__control:checked~div.sk-toggleable__content {\n",
       "  /* Expand drop-down */\n",
       "  max-height: 200px;\n",
       "  max-width: 100%;\n",
       "  overflow: auto;\n",
       "}\n",
       "\n",
       "#sk-container-id-1 input.sk-toggleable__control:checked~label.sk-toggleable__label-arrow:before {\n",
       "  content: \"▾\";\n",
       "}\n",
       "\n",
       "/* Pipeline/ColumnTransformer-specific style */\n",
       "\n",
       "#sk-container-id-1 div.sk-label input.sk-toggleable__control:checked~label.sk-toggleable__label {\n",
       "  color: var(--sklearn-color-text);\n",
       "  background-color: var(--sklearn-color-unfitted-level-2);\n",
       "}\n",
       "\n",
       "#sk-container-id-1 div.sk-label.fitted input.sk-toggleable__control:checked~label.sk-toggleable__label {\n",
       "  background-color: var(--sklearn-color-fitted-level-2);\n",
       "}\n",
       "\n",
       "/* Estimator-specific style */\n",
       "\n",
       "/* Colorize estimator box */\n",
       "#sk-container-id-1 div.sk-estimator input.sk-toggleable__control:checked~label.sk-toggleable__label {\n",
       "  /* unfitted */\n",
       "  background-color: var(--sklearn-color-unfitted-level-2);\n",
       "}\n",
       "\n",
       "#sk-container-id-1 div.sk-estimator.fitted input.sk-toggleable__control:checked~label.sk-toggleable__label {\n",
       "  /* fitted */\n",
       "  background-color: var(--sklearn-color-fitted-level-2);\n",
       "}\n",
       "\n",
       "#sk-container-id-1 div.sk-label label.sk-toggleable__label,\n",
       "#sk-container-id-1 div.sk-label label {\n",
       "  /* The background is the default theme color */\n",
       "  color: var(--sklearn-color-text-on-default-background);\n",
       "}\n",
       "\n",
       "/* On hover, darken the color of the background */\n",
       "#sk-container-id-1 div.sk-label:hover label.sk-toggleable__label {\n",
       "  color: var(--sklearn-color-text);\n",
       "  background-color: var(--sklearn-color-unfitted-level-2);\n",
       "}\n",
       "\n",
       "/* Label box, darken color on hover, fitted */\n",
       "#sk-container-id-1 div.sk-label.fitted:hover label.sk-toggleable__label.fitted {\n",
       "  color: var(--sklearn-color-text);\n",
       "  background-color: var(--sklearn-color-fitted-level-2);\n",
       "}\n",
       "\n",
       "/* Estimator label */\n",
       "\n",
       "#sk-container-id-1 div.sk-label label {\n",
       "  font-family: monospace;\n",
       "  font-weight: bold;\n",
       "  display: inline-block;\n",
       "  line-height: 1.2em;\n",
       "}\n",
       "\n",
       "#sk-container-id-1 div.sk-label-container {\n",
       "  text-align: center;\n",
       "}\n",
       "\n",
       "/* Estimator-specific */\n",
       "#sk-container-id-1 div.sk-estimator {\n",
       "  font-family: monospace;\n",
       "  border: 1px dotted var(--sklearn-color-border-box);\n",
       "  border-radius: 0.25em;\n",
       "  box-sizing: border-box;\n",
       "  margin-bottom: 0.5em;\n",
       "  /* unfitted */\n",
       "  background-color: var(--sklearn-color-unfitted-level-0);\n",
       "}\n",
       "\n",
       "#sk-container-id-1 div.sk-estimator.fitted {\n",
       "  /* fitted */\n",
       "  background-color: var(--sklearn-color-fitted-level-0);\n",
       "}\n",
       "\n",
       "/* on hover */\n",
       "#sk-container-id-1 div.sk-estimator:hover {\n",
       "  /* unfitted */\n",
       "  background-color: var(--sklearn-color-unfitted-level-2);\n",
       "}\n",
       "\n",
       "#sk-container-id-1 div.sk-estimator.fitted:hover {\n",
       "  /* fitted */\n",
       "  background-color: var(--sklearn-color-fitted-level-2);\n",
       "}\n",
       "\n",
       "/* Specification for estimator info (e.g. \"i\" and \"?\") */\n",
       "\n",
       "/* Common style for \"i\" and \"?\" */\n",
       "\n",
       ".sk-estimator-doc-link,\n",
       "a:link.sk-estimator-doc-link,\n",
       "a:visited.sk-estimator-doc-link {\n",
       "  float: right;\n",
       "  font-size: smaller;\n",
       "  line-height: 1em;\n",
       "  font-family: monospace;\n",
       "  background-color: var(--sklearn-color-background);\n",
       "  border-radius: 1em;\n",
       "  height: 1em;\n",
       "  width: 1em;\n",
       "  text-decoration: none !important;\n",
       "  margin-left: 1ex;\n",
       "  /* unfitted */\n",
       "  border: var(--sklearn-color-unfitted-level-1) 1pt solid;\n",
       "  color: var(--sklearn-color-unfitted-level-1);\n",
       "}\n",
       "\n",
       ".sk-estimator-doc-link.fitted,\n",
       "a:link.sk-estimator-doc-link.fitted,\n",
       "a:visited.sk-estimator-doc-link.fitted {\n",
       "  /* fitted */\n",
       "  border: var(--sklearn-color-fitted-level-1) 1pt solid;\n",
       "  color: var(--sklearn-color-fitted-level-1);\n",
       "}\n",
       "\n",
       "/* On hover */\n",
       "div.sk-estimator:hover .sk-estimator-doc-link:hover,\n",
       ".sk-estimator-doc-link:hover,\n",
       "div.sk-label-container:hover .sk-estimator-doc-link:hover,\n",
       ".sk-estimator-doc-link:hover {\n",
       "  /* unfitted */\n",
       "  background-color: var(--sklearn-color-unfitted-level-3);\n",
       "  color: var(--sklearn-color-background);\n",
       "  text-decoration: none;\n",
       "}\n",
       "\n",
       "div.sk-estimator.fitted:hover .sk-estimator-doc-link.fitted:hover,\n",
       ".sk-estimator-doc-link.fitted:hover,\n",
       "div.sk-label-container:hover .sk-estimator-doc-link.fitted:hover,\n",
       ".sk-estimator-doc-link.fitted:hover {\n",
       "  /* fitted */\n",
       "  background-color: var(--sklearn-color-fitted-level-3);\n",
       "  color: var(--sklearn-color-background);\n",
       "  text-decoration: none;\n",
       "}\n",
       "\n",
       "/* Span, style for the box shown on hovering the info icon */\n",
       ".sk-estimator-doc-link span {\n",
       "  display: none;\n",
       "  z-index: 9999;\n",
       "  position: relative;\n",
       "  font-weight: normal;\n",
       "  right: .2ex;\n",
       "  padding: .5ex;\n",
       "  margin: .5ex;\n",
       "  width: min-content;\n",
       "  min-width: 20ex;\n",
       "  max-width: 50ex;\n",
       "  color: var(--sklearn-color-text);\n",
       "  box-shadow: 2pt 2pt 4pt #999;\n",
       "  /* unfitted */\n",
       "  background: var(--sklearn-color-unfitted-level-0);\n",
       "  border: .5pt solid var(--sklearn-color-unfitted-level-3);\n",
       "}\n",
       "\n",
       ".sk-estimator-doc-link.fitted span {\n",
       "  /* fitted */\n",
       "  background: var(--sklearn-color-fitted-level-0);\n",
       "  border: var(--sklearn-color-fitted-level-3);\n",
       "}\n",
       "\n",
       ".sk-estimator-doc-link:hover span {\n",
       "  display: block;\n",
       "}\n",
       "\n",
       "/* \"?\"-specific style due to the `<a>` HTML tag */\n",
       "\n",
       "#sk-container-id-1 a.estimator_doc_link {\n",
       "  float: right;\n",
       "  font-size: 1rem;\n",
       "  line-height: 1em;\n",
       "  font-family: monospace;\n",
       "  background-color: var(--sklearn-color-background);\n",
       "  border-radius: 1rem;\n",
       "  height: 1rem;\n",
       "  width: 1rem;\n",
       "  text-decoration: none;\n",
       "  /* unfitted */\n",
       "  color: var(--sklearn-color-unfitted-level-1);\n",
       "  border: var(--sklearn-color-unfitted-level-1) 1pt solid;\n",
       "}\n",
       "\n",
       "#sk-container-id-1 a.estimator_doc_link.fitted {\n",
       "  /* fitted */\n",
       "  border: var(--sklearn-color-fitted-level-1) 1pt solid;\n",
       "  color: var(--sklearn-color-fitted-level-1);\n",
       "}\n",
       "\n",
       "/* On hover */\n",
       "#sk-container-id-1 a.estimator_doc_link:hover {\n",
       "  /* unfitted */\n",
       "  background-color: var(--sklearn-color-unfitted-level-3);\n",
       "  color: var(--sklearn-color-background);\n",
       "  text-decoration: none;\n",
       "}\n",
       "\n",
       "#sk-container-id-1 a.estimator_doc_link.fitted:hover {\n",
       "  /* fitted */\n",
       "  background-color: var(--sklearn-color-fitted-level-3);\n",
       "}\n",
       "</style><div id=\"sk-container-id-1\" class=\"sk-top-container\"><div class=\"sk-text-repr-fallback\"><pre>XGBClassifier(base_score=None, booster=None, callbacks=None,\n",
       "              colsample_bylevel=None, colsample_bynode=None,\n",
       "              colsample_bytree=None, device=None, early_stopping_rounds=None,\n",
       "              enable_categorical=False, eval_metric=None, feature_types=None,\n",
       "              gamma=None, grow_policy=None, importance_type=None,\n",
       "              interaction_constraints=None, learning_rate=0.1, max_bin=None,\n",
       "              max_cat_threshold=None, max_cat_to_onehot=None,\n",
       "              max_delta_step=None, max_depth=5, max_leaves=None,\n",
       "              min_child_weight=None, missing=nan, monotone_constraints=None,\n",
       "              multi_strategy=None, n_estimators=1000, n_jobs=None,\n",
       "              num_parallel_tree=None, random_state=123, ...)</pre><b>In a Jupyter environment, please rerun this cell to show the HTML representation or trust the notebook. <br />On GitHub, the HTML representation is unable to render, please try loading this page with nbviewer.org.</b></div><div class=\"sk-container\" hidden><div class=\"sk-item\"><div class=\"sk-estimator fitted sk-toggleable\"><input class=\"sk-toggleable__control sk-hidden--visually\" id=\"sk-estimator-id-1\" type=\"checkbox\" checked><label for=\"sk-estimator-id-1\" class=\"sk-toggleable__label fitted sk-toggleable__label-arrow fitted\">&nbsp;XGBClassifier<span class=\"sk-estimator-doc-link fitted\">i<span>Fitted</span></span></label><div class=\"sk-toggleable__content fitted\"><pre>XGBClassifier(base_score=None, booster=None, callbacks=None,\n",
       "              colsample_bylevel=None, colsample_bynode=None,\n",
       "              colsample_bytree=None, device=None, early_stopping_rounds=None,\n",
       "              enable_categorical=False, eval_metric=None, feature_types=None,\n",
       "              gamma=None, grow_policy=None, importance_type=None,\n",
       "              interaction_constraints=None, learning_rate=0.1, max_bin=None,\n",
       "              max_cat_threshold=None, max_cat_to_onehot=None,\n",
       "              max_delta_step=None, max_depth=5, max_leaves=None,\n",
       "              min_child_weight=None, missing=nan, monotone_constraints=None,\n",
       "              multi_strategy=None, n_estimators=1000, n_jobs=None,\n",
       "              num_parallel_tree=None, random_state=123, ...)</pre></div> </div></div></div></div>"
      ],
      "text/plain": [
       "XGBClassifier(base_score=None, booster=None, callbacks=None,\n",
       "              colsample_bylevel=None, colsample_bynode=None,\n",
       "              colsample_bytree=None, device=None, early_stopping_rounds=None,\n",
       "              enable_categorical=False, eval_metric=None, feature_types=None,\n",
       "              gamma=None, grow_policy=None, importance_type=None,\n",
       "              interaction_constraints=None, learning_rate=0.1, max_bin=None,\n",
       "              max_cat_threshold=None, max_cat_to_onehot=None,\n",
       "              max_delta_step=None, max_depth=5, max_leaves=None,\n",
       "              min_child_weight=None, missing=nan, monotone_constraints=None,\n",
       "              multi_strategy=None, n_estimators=1000, n_jobs=None,\n",
       "              num_parallel_tree=None, random_state=123, ...)"
      ]
     },
     "execution_count": 58,
     "metadata": {},
     "output_type": "execute_result"
    }
   ],
   "source": [
    "model = XGBClassifier(\n",
    "    random_state=123,\n",
    "    n_estimators=1000,\n",
    "    max_depth=5,\n",
    "    learning_rate=0.1,\n",
    "    verbosity=1,\n",
    ")\n",
    "model.fit(X_train, y_train, eval_set=[(X_train, y_train), (X_val, y_val)], verbose=False)"
   ]
  },
  {
   "cell_type": "code",
   "execution_count": 59,
   "metadata": {},
   "outputs": [
    {
     "name": "stdout",
     "output_type": "stream",
     "text": [
      "Минимальная функция потерь составляет 0.006483 на 298 итерации.\n"
     ]
    }
   ],
   "source": [
    "results = model.evals_result()\n",
    "min_logloss = min(results['validation_1']['logloss'])\n",
    "best_iteration = results['validation_1']['logloss'].index(min_logloss)\n",
    "print(f'Минимальная функция потерь составляет {round(min_logloss, 6)} на {best_iteration} итерации.')"
   ]
  },
  {
   "cell_type": "code",
   "execution_count": 60,
   "metadata": {},
   "outputs": [
    {
     "data": {
      "image/png": "[encoded data removed]",
      "text/plain": [
       "<Figure size 800x500 with 1 Axes>"
      ]
     },
     "metadata": {},
     "output_type": "display_data"
    }
   ],
   "source": [
    "plt.figure(figsize=(8, 5))\n",
    "plt.title(\"График функции потерь при увеличении до 1000 деревьев.\")\n",
    "plt.plot(\n",
    "    results[\"validation_0\"][\"logloss\"],\n",
    "    label=\"Training loss\",\n",
    "    color=color_1,\n",
    "    linewidth=linewidth,\n",
    ")\n",
    "plt.plot(\n",
    "    results[\"validation_1\"][\"logloss\"],\n",
    "    label=\"Validation loss\",\n",
    "    color=color_2,\n",
    "    linewidth=linewidth,\n",
    ")\n",
    "plt.axvline(best_iteration, color=\"orange\", label=\"Optimal tree number\", linewidth=5)\n",
    "plt.xlabel(\"Кол-во деревьев\")\n",
    "plt.ylabel(\"Функция потерь\")\n",
    "plt.legend()\n",
    "plt.show()"
   ]
  },
  {
   "cell_type": "markdown",
   "metadata": {},
   "source": [
    "При увеличении количества деревьев появляется риск переобучения.\\\n",
    "Он хорошо виден на графике: фунция потерь на тренировочных и валидационных данных практически не изменяются."
   ]
  },
  {
   "cell_type": "markdown",
   "metadata": {},
   "source": [
    "5.5. Изучите значение гиперпараметра early_stopping_rounds и воспользуйтесь им, чтобы сэкономить время, войдя в переобучение модели."
   ]
  },
  {
   "cell_type": "code",
   "execution_count": 61,
   "metadata": {},
   "outputs": [
    {
     "name": "stdout",
     "output_type": "stream",
     "text": [
      "[0]\tvalidation_0-logloss:0.49284\tvalidation_1-logloss:0.47439\n",
      "[1]\tvalidation_0-logloss:0.42860\tvalidation_1-logloss:0.41521\n",
      "[2]\tvalidation_0-logloss:0.37715\tvalidation_1-logloss:0.36784\n",
      "[3]\tvalidation_0-logloss:0.33460\tvalidation_1-logloss:0.32899\n",
      "[4]\tvalidation_0-logloss:0.29859\tvalidation_1-logloss:0.29503\n",
      "[5]\tvalidation_0-logloss:0.26743\tvalidation_1-logloss:0.26521\n",
      "[6]\tvalidation_0-logloss:0.24066\tvalidation_1-logloss:0.23954\n",
      "[7]\tvalidation_0-logloss:0.21728\tvalidation_1-logloss:0.21721\n",
      "[8]\tvalidation_0-logloss:0.19683\tvalidation_1-logloss:0.19781\n",
      "[9]\tvalidation_0-logloss:0.17864\tvalidation_1-logloss:0.17978\n",
      "[10]\tvalidation_0-logloss:0.16247\tvalidation_1-logloss:0.16424\n",
      "[11]\tvalidation_0-logloss:0.14794\tvalidation_1-logloss:0.15034\n",
      "[12]\tvalidation_0-logloss:0.13513\tvalidation_1-logloss:0.13866\n",
      "[13]\tvalidation_0-logloss:0.12362\tvalidation_1-logloss:0.12775\n",
      "[14]\tvalidation_0-logloss:0.11337\tvalidation_1-logloss:0.11768\n",
      "[15]\tvalidation_0-logloss:0.10417\tvalidation_1-logloss:0.10833\n",
      "[16]\tvalidation_0-logloss:0.09547\tvalidation_1-logloss:0.09973\n",
      "[17]\tvalidation_0-logloss:0.08788\tvalidation_1-logloss:0.09213\n",
      "[18]\tvalidation_0-logloss:0.08107\tvalidation_1-logloss:0.08502\n",
      "[19]\tvalidation_0-logloss:0.07475\tvalidation_1-logloss:0.07868\n",
      "[20]\tvalidation_0-logloss:0.06889\tvalidation_1-logloss:0.07295\n",
      "[21]\tvalidation_0-logloss:0.06374\tvalidation_1-logloss:0.06805\n",
      "[22]\tvalidation_0-logloss:0.05910\tvalidation_1-logloss:0.06341\n",
      "[23]\tvalidation_0-logloss:0.05479\tvalidation_1-logloss:0.05914\n",
      "[24]\tvalidation_0-logloss:0.05086\tvalidation_1-logloss:0.05521\n",
      "[25]\tvalidation_0-logloss:0.04735\tvalidation_1-logloss:0.05165\n",
      "[26]\tvalidation_0-logloss:0.04415\tvalidation_1-logloss:0.04837\n",
      "[27]\tvalidation_0-logloss:0.04128\tvalidation_1-logloss:0.04570\n",
      "[28]\tvalidation_0-logloss:0.03871\tvalidation_1-logloss:0.04310\n",
      "[29]\tvalidation_0-logloss:0.03627\tvalidation_1-logloss:0.04044\n",
      "[30]\tvalidation_0-logloss:0.03402\tvalidation_1-logloss:0.03809\n",
      "[31]\tvalidation_0-logloss:0.03209\tvalidation_1-logloss:0.03614\n",
      "[32]\tvalidation_0-logloss:0.03020\tvalidation_1-logloss:0.03416\n",
      "[33]\tvalidation_0-logloss:0.02847\tvalidation_1-logloss:0.03220\n",
      "[34]\tvalidation_0-logloss:0.02683\tvalidation_1-logloss:0.03055\n",
      "[35]\tvalidation_0-logloss:0.02522\tvalidation_1-logloss:0.02896\n",
      "[36]\tvalidation_0-logloss:0.02380\tvalidation_1-logloss:0.02753\n",
      "[37]\tvalidation_0-logloss:0.02246\tvalidation_1-logloss:0.02622\n",
      "[38]\tvalidation_0-logloss:0.02129\tvalidation_1-logloss:0.02512\n",
      "[39]\tvalidation_0-logloss:0.02025\tvalidation_1-logloss:0.02404\n",
      "[40]\tvalidation_0-logloss:0.01930\tvalidation_1-logloss:0.02313\n",
      "[41]\tvalidation_0-logloss:0.01827\tvalidation_1-logloss:0.02210\n",
      "[42]\tvalidation_0-logloss:0.01734\tvalidation_1-logloss:0.02121\n",
      "[43]\tvalidation_0-logloss:0.01659\tvalidation_1-logloss:0.02033\n",
      "[44]\tvalidation_0-logloss:0.01589\tvalidation_1-logloss:0.01960\n",
      "[45]\tvalidation_0-logloss:0.01523\tvalidation_1-logloss:0.01887\n",
      "[46]\tvalidation_0-logloss:0.01457\tvalidation_1-logloss:0.01841\n",
      "[47]\tvalidation_0-logloss:0.01398\tvalidation_1-logloss:0.01795\n",
      "[48]\tvalidation_0-logloss:0.01340\tvalidation_1-logloss:0.01740\n",
      "[49]\tvalidation_0-logloss:0.01290\tvalidation_1-logloss:0.01708\n",
      "[50]\tvalidation_0-logloss:0.01231\tvalidation_1-logloss:0.01638\n",
      "[51]\tvalidation_0-logloss:0.01186\tvalidation_1-logloss:0.01592\n",
      "[52]\tvalidation_0-logloss:0.01145\tvalidation_1-logloss:0.01563\n",
      "[53]\tvalidation_0-logloss:0.01102\tvalidation_1-logloss:0.01509\n",
      "[54]\tvalidation_0-logloss:0.01069\tvalidation_1-logloss:0.01482\n",
      "[55]\tvalidation_0-logloss:0.01031\tvalidation_1-logloss:0.01445\n",
      "[56]\tvalidation_0-logloss:0.00993\tvalidation_1-logloss:0.01401\n",
      "[57]\tvalidation_0-logloss:0.00961\tvalidation_1-logloss:0.01375\n",
      "[58]\tvalidation_0-logloss:0.00931\tvalidation_1-logloss:0.01343\n",
      "[59]\tvalidation_0-logloss:0.00907\tvalidation_1-logloss:0.01321\n",
      "[60]\tvalidation_0-logloss:0.00879\tvalidation_1-logloss:0.01290\n",
      "[61]\tvalidation_0-logloss:0.00854\tvalidation_1-logloss:0.01270\n",
      "[62]\tvalidation_0-logloss:0.00829\tvalidation_1-logloss:0.01253\n",
      "[63]\tvalidation_0-logloss:0.00808\tvalidation_1-logloss:0.01239\n",
      "[64]\tvalidation_0-logloss:0.00784\tvalidation_1-logloss:0.01212\n",
      "[65]\tvalidation_0-logloss:0.00768\tvalidation_1-logloss:0.01202\n",
      "[66]\tvalidation_0-logloss:0.00749\tvalidation_1-logloss:0.01185\n",
      "[67]\tvalidation_0-logloss:0.00731\tvalidation_1-logloss:0.01168\n",
      "[68]\tvalidation_0-logloss:0.00714\tvalidation_1-logloss:0.01146\n",
      "[69]\tvalidation_0-logloss:0.00694\tvalidation_1-logloss:0.01142\n",
      "[70]\tvalidation_0-logloss:0.00675\tvalidation_1-logloss:0.01132\n",
      "[71]\tvalidation_0-logloss:0.00660\tvalidation_1-logloss:0.01123\n",
      "[72]\tvalidation_0-logloss:0.00646\tvalidation_1-logloss:0.01116\n",
      "[73]\tvalidation_0-logloss:0.00631\tvalidation_1-logloss:0.01106\n",
      "[74]\tvalidation_0-logloss:0.00617\tvalidation_1-logloss:0.01085\n",
      "[75]\tvalidation_0-logloss:0.00603\tvalidation_1-logloss:0.01073\n",
      "[76]\tvalidation_0-logloss:0.00589\tvalidation_1-logloss:0.01062\n",
      "[77]\tvalidation_0-logloss:0.00577\tvalidation_1-logloss:0.01056\n",
      "[78]\tvalidation_0-logloss:0.00563\tvalidation_1-logloss:0.01056\n",
      "[79]\tvalidation_0-logloss:0.00551\tvalidation_1-logloss:0.01034\n",
      "[80]\tvalidation_0-logloss:0.00542\tvalidation_1-logloss:0.01017\n",
      "[81]\tvalidation_0-logloss:0.00531\tvalidation_1-logloss:0.01013\n",
      "[82]\tvalidation_0-logloss:0.00519\tvalidation_1-logloss:0.01013\n",
      "[83]\tvalidation_0-logloss:0.00509\tvalidation_1-logloss:0.01011\n",
      "[84]\tvalidation_0-logloss:0.00500\tvalidation_1-logloss:0.01008\n",
      "[85]\tvalidation_0-logloss:0.00492\tvalidation_1-logloss:0.00994\n",
      "[86]\tvalidation_0-logloss:0.00484\tvalidation_1-logloss:0.00991\n",
      "[87]\tvalidation_0-logloss:0.00474\tvalidation_1-logloss:0.00984\n",
      "[88]\tvalidation_0-logloss:0.00466\tvalidation_1-logloss:0.00975\n",
      "[89]\tvalidation_0-logloss:0.00458\tvalidation_1-logloss:0.00961\n",
      "[90]\tvalidation_0-logloss:0.00450\tvalidation_1-logloss:0.00955\n",
      "[91]\tvalidation_0-logloss:0.00444\tvalidation_1-logloss:0.00955\n",
      "[92]\tvalidation_0-logloss:0.00436\tvalidation_1-logloss:0.00944\n",
      "[93]\tvalidation_0-logloss:0.00428\tvalidation_1-logloss:0.00938\n",
      "[94]\tvalidation_0-logloss:0.00421\tvalidation_1-logloss:0.00924\n",
      "[95]\tvalidation_0-logloss:0.00414\tvalidation_1-logloss:0.00914\n",
      "[96]\tvalidation_0-logloss:0.00408\tvalidation_1-logloss:0.00902\n",
      "[97]\tvalidation_0-logloss:0.00402\tvalidation_1-logloss:0.00896\n",
      "[98]\tvalidation_0-logloss:0.00396\tvalidation_1-logloss:0.00887\n",
      "[99]\tvalidation_0-logloss:0.00391\tvalidation_1-logloss:0.00876\n",
      "[100]\tvalidation_0-logloss:0.00386\tvalidation_1-logloss:0.00870\n",
      "[101]\tvalidation_0-logloss:0.00381\tvalidation_1-logloss:0.00856\n",
      "[102]\tvalidation_0-logloss:0.00376\tvalidation_1-logloss:0.00847\n",
      "[103]\tvalidation_0-logloss:0.00371\tvalidation_1-logloss:0.00839\n",
      "[104]\tvalidation_0-logloss:0.00367\tvalidation_1-logloss:0.00833\n",
      "[105]\tvalidation_0-logloss:0.00363\tvalidation_1-logloss:0.00828\n",
      "[106]\tvalidation_0-logloss:0.00358\tvalidation_1-logloss:0.00822\n",
      "[107]\tvalidation_0-logloss:0.00355\tvalidation_1-logloss:0.00823\n",
      "[108]\tvalidation_0-logloss:0.00351\tvalidation_1-logloss:0.00812\n",
      "[109]\tvalidation_0-logloss:0.00347\tvalidation_1-logloss:0.00810\n",
      "[110]\tvalidation_0-logloss:0.00344\tvalidation_1-logloss:0.00811\n",
      "[111]\tvalidation_0-logloss:0.00340\tvalidation_1-logloss:0.00805\n",
      "[112]\tvalidation_0-logloss:0.00337\tvalidation_1-logloss:0.00801\n",
      "[113]\tvalidation_0-logloss:0.00334\tvalidation_1-logloss:0.00793\n",
      "[114]\tvalidation_0-logloss:0.00331\tvalidation_1-logloss:0.00786\n",
      "[115]\tvalidation_0-logloss:0.00328\tvalidation_1-logloss:0.00787\n",
      "[116]\tvalidation_0-logloss:0.00326\tvalidation_1-logloss:0.00788\n",
      "[117]\tvalidation_0-logloss:0.00323\tvalidation_1-logloss:0.00785\n",
      "[118]\tvalidation_0-logloss:0.00320\tvalidation_1-logloss:0.00783\n",
      "[119]\tvalidation_0-logloss:0.00317\tvalidation_1-logloss:0.00781\n",
      "[120]\tvalidation_0-logloss:0.00314\tvalidation_1-logloss:0.00775\n",
      "[121]\tvalidation_0-logloss:0.00312\tvalidation_1-logloss:0.00776\n",
      "[122]\tvalidation_0-logloss:0.00309\tvalidation_1-logloss:0.00770\n",
      "[123]\tvalidation_0-logloss:0.00306\tvalidation_1-logloss:0.00770\n",
      "[124]\tvalidation_0-logloss:0.00304\tvalidation_1-logloss:0.00766\n",
      "[125]\tvalidation_0-logloss:0.00301\tvalidation_1-logloss:0.00757\n",
      "[126]\tvalidation_0-logloss:0.00299\tvalidation_1-logloss:0.00752\n",
      "[127]\tvalidation_0-logloss:0.00296\tvalidation_1-logloss:0.00747\n",
      "[128]\tvalidation_0-logloss:0.00294\tvalidation_1-logloss:0.00742\n",
      "[129]\tvalidation_0-logloss:0.00292\tvalidation_1-logloss:0.00740\n",
      "[130]\tvalidation_0-logloss:0.00290\tvalidation_1-logloss:0.00740\n",
      "[131]\tvalidation_0-logloss:0.00288\tvalidation_1-logloss:0.00731\n",
      "[132]\tvalidation_0-logloss:0.00286\tvalidation_1-logloss:0.00733\n",
      "[133]\tvalidation_0-logloss:0.00283\tvalidation_1-logloss:0.00727\n",
      "[134]\tvalidation_0-logloss:0.00282\tvalidation_1-logloss:0.00729\n",
      "[135]\tvalidation_0-logloss:0.00279\tvalidation_1-logloss:0.00727\n",
      "[136]\tvalidation_0-logloss:0.00277\tvalidation_1-logloss:0.00723\n",
      "[137]\tvalidation_0-logloss:0.00276\tvalidation_1-logloss:0.00719\n",
      "[138]\tvalidation_0-logloss:0.00273\tvalidation_1-logloss:0.00713\n",
      "[139]\tvalidation_0-logloss:0.00271\tvalidation_1-logloss:0.00708\n",
      "[140]\tvalidation_0-logloss:0.00270\tvalidation_1-logloss:0.00708\n",
      "[141]\tvalidation_0-logloss:0.00268\tvalidation_1-logloss:0.00704\n",
      "[142]\tvalidation_0-logloss:0.00266\tvalidation_1-logloss:0.00705\n",
      "[143]\tvalidation_0-logloss:0.00265\tvalidation_1-logloss:0.00707\n",
      "[144]\tvalidation_0-logloss:0.00263\tvalidation_1-logloss:0.00701\n",
      "[145]\tvalidation_0-logloss:0.00262\tvalidation_1-logloss:0.00697\n",
      "[146]\tvalidation_0-logloss:0.00261\tvalidation_1-logloss:0.00698\n",
      "[147]\tvalidation_0-logloss:0.00259\tvalidation_1-logloss:0.00693\n",
      "[148]\tvalidation_0-logloss:0.00258\tvalidation_1-logloss:0.00693\n",
      "[149]\tvalidation_0-logloss:0.00257\tvalidation_1-logloss:0.00693\n",
      "[150]\tvalidation_0-logloss:0.00255\tvalidation_1-logloss:0.00694\n",
      "[151]\tvalidation_0-logloss:0.00254\tvalidation_1-logloss:0.00695\n",
      "[152]\tvalidation_0-logloss:0.00253\tvalidation_1-logloss:0.00690\n",
      "[153]\tvalidation_0-logloss:0.00252\tvalidation_1-logloss:0.00689\n",
      "[154]\tvalidation_0-logloss:0.00250\tvalidation_1-logloss:0.00689\n",
      "[155]\tvalidation_0-logloss:0.00249\tvalidation_1-logloss:0.00691\n",
      "[156]\tvalidation_0-logloss:0.00248\tvalidation_1-logloss:0.00686\n",
      "[157]\tvalidation_0-logloss:0.00247\tvalidation_1-logloss:0.00686\n",
      "[158]\tvalidation_0-logloss:0.00246\tvalidation_1-logloss:0.00687\n",
      "[159]\tvalidation_0-logloss:0.00244\tvalidation_1-logloss:0.00683\n",
      "[160]\tvalidation_0-logloss:0.00243\tvalidation_1-logloss:0.00681\n",
      "[161]\tvalidation_0-logloss:0.00242\tvalidation_1-logloss:0.00681\n",
      "[162]\tvalidation_0-logloss:0.00241\tvalidation_1-logloss:0.00679\n",
      "[163]\tvalidation_0-logloss:0.00239\tvalidation_1-logloss:0.00678\n",
      "[164]\tvalidation_0-logloss:0.00238\tvalidation_1-logloss:0.00678\n",
      "[165]\tvalidation_0-logloss:0.00238\tvalidation_1-logloss:0.00680\n",
      "[166]\tvalidation_0-logloss:0.00237\tvalidation_1-logloss:0.00674\n",
      "[167]\tvalidation_0-logloss:0.00236\tvalidation_1-logloss:0.00675\n",
      "[168]\tvalidation_0-logloss:0.00235\tvalidation_1-logloss:0.00672\n",
      "[169]\tvalidation_0-logloss:0.00234\tvalidation_1-logloss:0.00673\n",
      "[170]\tvalidation_0-logloss:0.00233\tvalidation_1-logloss:0.00674\n",
      "[171]\tvalidation_0-logloss:0.00232\tvalidation_1-logloss:0.00674\n",
      "[172]\tvalidation_0-logloss:0.00231\tvalidation_1-logloss:0.00671\n",
      "[173]\tvalidation_0-logloss:0.00230\tvalidation_1-logloss:0.00671\n",
      "[174]\tvalidation_0-logloss:0.00229\tvalidation_1-logloss:0.00670\n",
      "[175]\tvalidation_0-logloss:0.00229\tvalidation_1-logloss:0.00671\n",
      "[176]\tvalidation_0-logloss:0.00228\tvalidation_1-logloss:0.00670\n",
      "[177]\tvalidation_0-logloss:0.00227\tvalidation_1-logloss:0.00671\n",
      "[178]\tvalidation_0-logloss:0.00227\tvalidation_1-logloss:0.00672\n",
      "[179]\tvalidation_0-logloss:0.00226\tvalidation_1-logloss:0.00672\n",
      "[180]\tvalidation_0-logloss:0.00225\tvalidation_1-logloss:0.00667\n",
      "[181]\tvalidation_0-logloss:0.00224\tvalidation_1-logloss:0.00665\n",
      "[182]\tvalidation_0-logloss:0.00224\tvalidation_1-logloss:0.00666\n",
      "[183]\tvalidation_0-logloss:0.00223\tvalidation_1-logloss:0.00661\n",
      "[184]\tvalidation_0-logloss:0.00222\tvalidation_1-logloss:0.00663\n",
      "[185]\tvalidation_0-logloss:0.00222\tvalidation_1-logloss:0.00663\n",
      "[186]\tvalidation_0-logloss:0.00221\tvalidation_1-logloss:0.00663\n",
      "[187]\tvalidation_0-logloss:0.00221\tvalidation_1-logloss:0.00662\n",
      "[188]\tvalidation_0-logloss:0.00220\tvalidation_1-logloss:0.00657\n",
      "[189]\tvalidation_0-logloss:0.00219\tvalidation_1-logloss:0.00660\n",
      "[190]\tvalidation_0-logloss:0.00218\tvalidation_1-logloss:0.00658\n",
      "[191]\tvalidation_0-logloss:0.00218\tvalidation_1-logloss:0.00658\n",
      "[192]\tvalidation_0-logloss:0.00217\tvalidation_1-logloss:0.00657\n",
      "[193]\tvalidation_0-logloss:0.00216\tvalidation_1-logloss:0.00661\n",
      "[194]\tvalidation_0-logloss:0.00215\tvalidation_1-logloss:0.00661\n",
      "[195]\tvalidation_0-logloss:0.00215\tvalidation_1-logloss:0.00662\n",
      "[196]\tvalidation_0-logloss:0.00214\tvalidation_1-logloss:0.00660\n",
      "[197]\tvalidation_0-logloss:0.00214\tvalidation_1-logloss:0.00658\n"
     ]
    },
    {
     "data": {
      "text/html": [
       "<style>#sk-container-id-2 {\n",
       "  /* Definition of color scheme common for light and dark mode */\n",
       "  --sklearn-color-text: black;\n",
       "  --sklearn-color-line: gray;\n",
       "  /* Definition of color scheme for unfitted estimators */\n",
       "  --sklearn-color-unfitted-level-0: #fff5e6;\n",
       "  --sklearn-color-unfitted-level-1: #f6e4d2;\n",
       "  --sklearn-color-unfitted-level-2: #ffe0b3;\n",
       "  --sklearn-color-unfitted-level-3: chocolate;\n",
       "  /* Definition of color scheme for fitted estimators */\n",
       "  --sklearn-color-fitted-level-0: #f0f8ff;\n",
       "  --sklearn-color-fitted-level-1: #d4ebff;\n",
       "  --sklearn-color-fitted-level-2: #b3dbfd;\n",
       "  --sklearn-color-fitted-level-3: cornflowerblue;\n",
       "\n",
       "  /* Specific color for light theme */\n",
       "  --sklearn-color-text-on-default-background: var(--sg-text-color, var(--theme-code-foreground, var(--jp-content-font-color1, black)));\n",
       "  --sklearn-color-background: var(--sg-background-color, var(--theme-background, var(--jp-layout-color0, white)));\n",
       "  --sklearn-color-border-box: var(--sg-text-color, var(--theme-code-foreground, var(--jp-content-font-color1, black)));\n",
       "  --sklearn-color-icon: #696969;\n",
       "\n",
       "  @media (prefers-color-scheme: dark) {\n",
       "    /* Redefinition of color scheme for dark theme */\n",
       "    --sklearn-color-text-on-default-background: var(--sg-text-color, var(--theme-code-foreground, var(--jp-content-font-color1, white)));\n",
       "    --sklearn-color-background: var(--sg-background-color, var(--theme-background, var(--jp-layout-color0, #111)));\n",
       "    --sklearn-color-border-box: var(--sg-text-color, var(--theme-code-foreground, var(--jp-content-font-color1, white)));\n",
       "    --sklearn-color-icon: #878787;\n",
       "  }\n",
       "}\n",
       "\n",
       "#sk-container-id-2 {\n",
       "  color: var(--sklearn-color-text);\n",
       "}\n",
       "\n",
       "#sk-container-id-2 pre {\n",
       "  padding: 0;\n",
       "}\n",
       "\n",
       "#sk-container-id-2 input.sk-hidden--visually {\n",
       "  border: 0;\n",
       "  clip: rect(1px 1px 1px 1px);\n",
       "  clip: rect(1px, 1px, 1px, 1px);\n",
       "  height: 1px;\n",
       "  margin: -1px;\n",
       "  overflow: hidden;\n",
       "  padding: 0;\n",
       "  position: absolute;\n",
       "  width: 1px;\n",
       "}\n",
       "\n",
       "#sk-container-id-2 div.sk-dashed-wrapped {\n",
       "  border: 1px dashed var(--sklearn-color-line);\n",
       "  margin: 0 0.4em 0.5em 0.4em;\n",
       "  box-sizing: border-box;\n",
       "  padding-bottom: 0.4em;\n",
       "  background-color: var(--sklearn-color-background);\n",
       "}\n",
       "\n",
       "#sk-container-id-2 div.sk-container {\n",
       "  /* jupyter's `normalize.less` sets `[hidden] { display: none; }`\n",
       "     but bootstrap.min.css set `[hidden] { display: none !important; }`\n",
       "     so we also need the `!important` here to be able to override the\n",
       "     default hidden behavior on the sphinx rendered scikit-learn.org.\n",
       "     See: https://github.com/scikit-learn/scikit-learn/issues/21755 */\n",
       "  display: inline-block !important;\n",
       "  position: relative;\n",
       "}\n",
       "\n",
       "#sk-container-id-2 div.sk-text-repr-fallback {\n",
       "  display: none;\n",
       "}\n",
       "\n",
       "div.sk-parallel-item,\n",
       "div.sk-serial,\n",
       "div.sk-item {\n",
       "  /* draw centered vertical line to link estimators */\n",
       "  background-image: linear-gradient(var(--sklearn-color-text-on-default-background), var(--sklearn-color-text-on-default-background));\n",
       "  background-size: 2px 100%;\n",
       "  background-repeat: no-repeat;\n",
       "  background-position: center center;\n",
       "}\n",
       "\n",
       "/* Parallel-specific style estimator block */\n",
       "\n",
       "#sk-container-id-2 div.sk-parallel-item::after {\n",
       "  content: \"\";\n",
       "  width: 100%;\n",
       "  border-bottom: 2px solid var(--sklearn-color-text-on-default-background);\n",
       "  flex-grow: 1;\n",
       "}\n",
       "\n",
       "#sk-container-id-2 div.sk-parallel {\n",
       "  display: flex;\n",
       "  align-items: stretch;\n",
       "  justify-content: center;\n",
       "  background-color: var(--sklearn-color-background);\n",
       "  position: relative;\n",
       "}\n",
       "\n",
       "#sk-container-id-2 div.sk-parallel-item {\n",
       "  display: flex;\n",
       "  flex-direction: column;\n",
       "}\n",
       "\n",
       "#sk-container-id-2 div.sk-parallel-item:first-child::after {\n",
       "  align-self: flex-end;\n",
       "  width: 50%;\n",
       "}\n",
       "\n",
       "#sk-container-id-2 div.sk-parallel-item:last-child::after {\n",
       "  align-self: flex-start;\n",
       "  width: 50%;\n",
       "}\n",
       "\n",
       "#sk-container-id-2 div.sk-parallel-item:only-child::after {\n",
       "  width: 0;\n",
       "}\n",
       "\n",
       "/* Serial-specific style estimator block */\n",
       "\n",
       "#sk-container-id-2 div.sk-serial {\n",
       "  display: flex;\n",
       "  flex-direction: column;\n",
       "  align-items: center;\n",
       "  background-color: var(--sklearn-color-background);\n",
       "  padding-right: 1em;\n",
       "  padding-left: 1em;\n",
       "}\n",
       "\n",
       "\n",
       "/* Toggleable style: style used for estimator/Pipeline/ColumnTransformer box that is\n",
       "clickable and can be expanded/collapsed.\n",
       "- Pipeline and ColumnTransformer use this feature and define the default style\n",
       "- Estimators will overwrite some part of the style using the `sk-estimator` class\n",
       "*/\n",
       "\n",
       "/* Pipeline and ColumnTransformer style (default) */\n",
       "\n",
       "#sk-container-id-2 div.sk-toggleable {\n",
       "  /* Default theme specific background. It is overwritten whether we have a\n",
       "  specific estimator or a Pipeline/ColumnTransformer */\n",
       "  background-color: var(--sklearn-color-background);\n",
       "}\n",
       "\n",
       "/* Toggleable label */\n",
       "#sk-container-id-2 label.sk-toggleable__label {\n",
       "  cursor: pointer;\n",
       "  display: block;\n",
       "  width: 100%;\n",
       "  margin-bottom: 0;\n",
       "  padding: 0.5em;\n",
       "  box-sizing: border-box;\n",
       "  text-align: center;\n",
       "}\n",
       "\n",
       "#sk-container-id-2 label.sk-toggleable__label-arrow:before {\n",
       "  /* Arrow on the left of the label */\n",
       "  content: \"▸\";\n",
       "  float: left;\n",
       "  margin-right: 0.25em;\n",
       "  color: var(--sklearn-color-icon);\n",
       "}\n",
       "\n",
       "#sk-container-id-2 label.sk-toggleable__label-arrow:hover:before {\n",
       "  color: var(--sklearn-color-text);\n",
       "}\n",
       "\n",
       "/* Toggleable content - dropdown */\n",
       "\n",
       "#sk-container-id-2 div.sk-toggleable__content {\n",
       "  max-height: 0;\n",
       "  max-width: 0;\n",
       "  overflow: hidden;\n",
       "  text-align: left;\n",
       "  /* unfitted */\n",
       "  background-color: var(--sklearn-color-unfitted-level-0);\n",
       "}\n",
       "\n",
       "#sk-container-id-2 div.sk-toggleable__content.fitted {\n",
       "  /* fitted */\n",
       "  background-color: var(--sklearn-color-fitted-level-0);\n",
       "}\n",
       "\n",
       "#sk-container-id-2 div.sk-toggleable__content pre {\n",
       "  margin: 0.2em;\n",
       "  border-radius: 0.25em;\n",
       "  color: var(--sklearn-color-text);\n",
       "  /* unfitted */\n",
       "  background-color: var(--sklearn-color-unfitted-level-0);\n",
       "}\n",
       "\n",
       "#sk-container-id-2 div.sk-toggleable__content.fitted pre {\n",
       "  /* unfitted */\n",
       "  background-color: var(--sklearn-color-fitted-level-0);\n",
       "}\n",
       "\n",
       "#sk-container-id-2 input.sk-toggleable__control:checked~div.sk-toggleable__content {\n",
       "  /* Expand drop-down */\n",
       "  max-height: 200px;\n",
       "  max-width: 100%;\n",
       "  overflow: auto;\n",
       "}\n",
       "\n",
       "#sk-container-id-2 input.sk-toggleable__control:checked~label.sk-toggleable__label-arrow:before {\n",
       "  content: \"▾\";\n",
       "}\n",
       "\n",
       "/* Pipeline/ColumnTransformer-specific style */\n",
       "\n",
       "#sk-container-id-2 div.sk-label input.sk-toggleable__control:checked~label.sk-toggleable__label {\n",
       "  color: var(--sklearn-color-text);\n",
       "  background-color: var(--sklearn-color-unfitted-level-2);\n",
       "}\n",
       "\n",
       "#sk-container-id-2 div.sk-label.fitted input.sk-toggleable__control:checked~label.sk-toggleable__label {\n",
       "  background-color: var(--sklearn-color-fitted-level-2);\n",
       "}\n",
       "\n",
       "/* Estimator-specific style */\n",
       "\n",
       "/* Colorize estimator box */\n",
       "#sk-container-id-2 div.sk-estimator input.sk-toggleable__control:checked~label.sk-toggleable__label {\n",
       "  /* unfitted */\n",
       "  background-color: var(--sklearn-color-unfitted-level-2);\n",
       "}\n",
       "\n",
       "#sk-container-id-2 div.sk-estimator.fitted input.sk-toggleable__control:checked~label.sk-toggleable__label {\n",
       "  /* fitted */\n",
       "  background-color: var(--sklearn-color-fitted-level-2);\n",
       "}\n",
       "\n",
       "#sk-container-id-2 div.sk-label label.sk-toggleable__label,\n",
       "#sk-container-id-2 div.sk-label label {\n",
       "  /* The background is the default theme color */\n",
       "  color: var(--sklearn-color-text-on-default-background);\n",
       "}\n",
       "\n",
       "/* On hover, darken the color of the background */\n",
       "#sk-container-id-2 div.sk-label:hover label.sk-toggleable__label {\n",
       "  color: var(--sklearn-color-text);\n",
       "  background-color: var(--sklearn-color-unfitted-level-2);\n",
       "}\n",
       "\n",
       "/* Label box, darken color on hover, fitted */\n",
       "#sk-container-id-2 div.sk-label.fitted:hover label.sk-toggleable__label.fitted {\n",
       "  color: var(--sklearn-color-text);\n",
       "  background-color: var(--sklearn-color-fitted-level-2);\n",
       "}\n",
       "\n",
       "/* Estimator label */\n",
       "\n",
       "#sk-container-id-2 div.sk-label label {\n",
       "  font-family: monospace;\n",
       "  font-weight: bold;\n",
       "  display: inline-block;\n",
       "  line-height: 1.2em;\n",
       "}\n",
       "\n",
       "#sk-container-id-2 div.sk-label-container {\n",
       "  text-align: center;\n",
       "}\n",
       "\n",
       "/* Estimator-specific */\n",
       "#sk-container-id-2 div.sk-estimator {\n",
       "  font-family: monospace;\n",
       "  border: 1px dotted var(--sklearn-color-border-box);\n",
       "  border-radius: 0.25em;\n",
       "  box-sizing: border-box;\n",
       "  margin-bottom: 0.5em;\n",
       "  /* unfitted */\n",
       "  background-color: var(--sklearn-color-unfitted-level-0);\n",
       "}\n",
       "\n",
       "#sk-container-id-2 div.sk-estimator.fitted {\n",
       "  /* fitted */\n",
       "  background-color: var(--sklearn-color-fitted-level-0);\n",
       "}\n",
       "\n",
       "/* on hover */\n",
       "#sk-container-id-2 div.sk-estimator:hover {\n",
       "  /* unfitted */\n",
       "  background-color: var(--sklearn-color-unfitted-level-2);\n",
       "}\n",
       "\n",
       "#sk-container-id-2 div.sk-estimator.fitted:hover {\n",
       "  /* fitted */\n",
       "  background-color: var(--sklearn-color-fitted-level-2);\n",
       "}\n",
       "\n",
       "/* Specification for estimator info (e.g. \"i\" and \"?\") */\n",
       "\n",
       "/* Common style for \"i\" and \"?\" */\n",
       "\n",
       ".sk-estimator-doc-link,\n",
       "a:link.sk-estimator-doc-link,\n",
       "a:visited.sk-estimator-doc-link {\n",
       "  float: right;\n",
       "  font-size: smaller;\n",
       "  line-height: 1em;\n",
       "  font-family: monospace;\n",
       "  background-color: var(--sklearn-color-background);\n",
       "  border-radius: 1em;\n",
       "  height: 1em;\n",
       "  width: 1em;\n",
       "  text-decoration: none !important;\n",
       "  margin-left: 1ex;\n",
       "  /* unfitted */\n",
       "  border: var(--sklearn-color-unfitted-level-1) 1pt solid;\n",
       "  color: var(--sklearn-color-unfitted-level-1);\n",
       "}\n",
       "\n",
       ".sk-estimator-doc-link.fitted,\n",
       "a:link.sk-estimator-doc-link.fitted,\n",
       "a:visited.sk-estimator-doc-link.fitted {\n",
       "  /* fitted */\n",
       "  border: var(--sklearn-color-fitted-level-1) 1pt solid;\n",
       "  color: var(--sklearn-color-fitted-level-1);\n",
       "}\n",
       "\n",
       "/* On hover */\n",
       "div.sk-estimator:hover .sk-estimator-doc-link:hover,\n",
       ".sk-estimator-doc-link:hover,\n",
       "div.sk-label-container:hover .sk-estimator-doc-link:hover,\n",
       ".sk-estimator-doc-link:hover {\n",
       "  /* unfitted */\n",
       "  background-color: var(--sklearn-color-unfitted-level-3);\n",
       "  color: var(--sklearn-color-background);\n",
       "  text-decoration: none;\n",
       "}\n",
       "\n",
       "div.sk-estimator.fitted:hover .sk-estimator-doc-link.fitted:hover,\n",
       ".sk-estimator-doc-link.fitted:hover,\n",
       "div.sk-label-container:hover .sk-estimator-doc-link.fitted:hover,\n",
       ".sk-estimator-doc-link.fitted:hover {\n",
       "  /* fitted */\n",
       "  background-color: var(--sklearn-color-fitted-level-3);\n",
       "  color: var(--sklearn-color-background);\n",
       "  text-decoration: none;\n",
       "}\n",
       "\n",
       "/* Span, style for the box shown on hovering the info icon */\n",
       ".sk-estimator-doc-link span {\n",
       "  display: none;\n",
       "  z-index: 9999;\n",
       "  position: relative;\n",
       "  font-weight: normal;\n",
       "  right: .2ex;\n",
       "  padding: .5ex;\n",
       "  margin: .5ex;\n",
       "  width: min-content;\n",
       "  min-width: 20ex;\n",
       "  max-width: 50ex;\n",
       "  color: var(--sklearn-color-text);\n",
       "  box-shadow: 2pt 2pt 4pt #999;\n",
       "  /* unfitted */\n",
       "  background: var(--sklearn-color-unfitted-level-0);\n",
       "  border: .5pt solid var(--sklearn-color-unfitted-level-3);\n",
       "}\n",
       "\n",
       ".sk-estimator-doc-link.fitted span {\n",
       "  /* fitted */\n",
       "  background: var(--sklearn-color-fitted-level-0);\n",
       "  border: var(--sklearn-color-fitted-level-3);\n",
       "}\n",
       "\n",
       ".sk-estimator-doc-link:hover span {\n",
       "  display: block;\n",
       "}\n",
       "\n",
       "/* \"?\"-specific style due to the `<a>` HTML tag */\n",
       "\n",
       "#sk-container-id-2 a.estimator_doc_link {\n",
       "  float: right;\n",
       "  font-size: 1rem;\n",
       "  line-height: 1em;\n",
       "  font-family: monospace;\n",
       "  background-color: var(--sklearn-color-background);\n",
       "  border-radius: 1rem;\n",
       "  height: 1rem;\n",
       "  width: 1rem;\n",
       "  text-decoration: none;\n",
       "  /* unfitted */\n",
       "  color: var(--sklearn-color-unfitted-level-1);\n",
       "  border: var(--sklearn-color-unfitted-level-1) 1pt solid;\n",
       "}\n",
       "\n",
       "#sk-container-id-2 a.estimator_doc_link.fitted {\n",
       "  /* fitted */\n",
       "  border: var(--sklearn-color-fitted-level-1) 1pt solid;\n",
       "  color: var(--sklearn-color-fitted-level-1);\n",
       "}\n",
       "\n",
       "/* On hover */\n",
       "#sk-container-id-2 a.estimator_doc_link:hover {\n",
       "  /* unfitted */\n",
       "  background-color: var(--sklearn-color-unfitted-level-3);\n",
       "  color: var(--sklearn-color-background);\n",
       "  text-decoration: none;\n",
       "}\n",
       "\n",
       "#sk-container-id-2 a.estimator_doc_link.fitted:hover {\n",
       "  /* fitted */\n",
       "  background-color: var(--sklearn-color-fitted-level-3);\n",
       "}\n",
       "</style><div id=\"sk-container-id-2\" class=\"sk-top-container\"><div class=\"sk-text-repr-fallback\"><pre>XGBClassifier(base_score=None, booster=None, callbacks=None,\n",
       "              colsample_bylevel=None, colsample_bynode=None,\n",
       "              colsample_bytree=None, device=None, early_stopping_rounds=5,\n",
       "              enable_categorical=False, eval_metric=None, feature_types=None,\n",
       "              gamma=None, grow_policy=None, importance_type=None,\n",
       "              interaction_constraints=None, learning_rate=0.1, max_bin=None,\n",
       "              max_cat_threshold=None, max_cat_to_onehot=None,\n",
       "              max_delta_step=None, max_depth=5, max_leaves=None,\n",
       "              min_child_weight=None, missing=nan, monotone_constraints=None,\n",
       "              multi_strategy=None, n_estimators=1000, n_jobs=None,\n",
       "              num_parallel_tree=None, random_state=123, ...)</pre><b>In a Jupyter environment, please rerun this cell to show the HTML representation or trust the notebook. <br />On GitHub, the HTML representation is unable to render, please try loading this page with nbviewer.org.</b></div><div class=\"sk-container\" hidden><div class=\"sk-item\"><div class=\"sk-estimator fitted sk-toggleable\"><input class=\"sk-toggleable__control sk-hidden--visually\" id=\"sk-estimator-id-2\" type=\"checkbox\" checked><label for=\"sk-estimator-id-2\" class=\"sk-toggleable__label fitted sk-toggleable__label-arrow fitted\">&nbsp;XGBClassifier<span class=\"sk-estimator-doc-link fitted\">i<span>Fitted</span></span></label><div class=\"sk-toggleable__content fitted\"><pre>XGBClassifier(base_score=None, booster=None, callbacks=None,\n",
       "              colsample_bylevel=None, colsample_bynode=None,\n",
       "              colsample_bytree=None, device=None, early_stopping_rounds=5,\n",
       "              enable_categorical=False, eval_metric=None, feature_types=None,\n",
       "              gamma=None, grow_policy=None, importance_type=None,\n",
       "              interaction_constraints=None, learning_rate=0.1, max_bin=None,\n",
       "              max_cat_threshold=None, max_cat_to_onehot=None,\n",
       "              max_delta_step=None, max_depth=5, max_leaves=None,\n",
       "              min_child_weight=None, missing=nan, monotone_constraints=None,\n",
       "              multi_strategy=None, n_estimators=1000, n_jobs=None,\n",
       "              num_parallel_tree=None, random_state=123, ...)</pre></div> </div></div></div></div>"
      ],
      "text/plain": [
       "XGBClassifier(base_score=None, booster=None, callbacks=None,\n",
       "              colsample_bylevel=None, colsample_bynode=None,\n",
       "              colsample_bytree=None, device=None, early_stopping_rounds=5,\n",
       "              enable_categorical=False, eval_metric=None, feature_types=None,\n",
       "              gamma=None, grow_policy=None, importance_type=None,\n",
       "              interaction_constraints=None, learning_rate=0.1, max_bin=None,\n",
       "              max_cat_threshold=None, max_cat_to_onehot=None,\n",
       "              max_delta_step=None, max_depth=5, max_leaves=None,\n",
       "              min_child_weight=None, missing=nan, monotone_constraints=None,\n",
       "              multi_strategy=None, n_estimators=1000, n_jobs=None,\n",
       "              num_parallel_tree=None, random_state=123, ...)"
      ]
     },
     "execution_count": 61,
     "metadata": {},
     "output_type": "execute_result"
    }
   ],
   "source": [
    "model = XGBClassifier(\n",
    "    random_state=123,\n",
    "    n_estimators=1000,\n",
    "    max_depth=5,\n",
    "    learning_rate=0.1,\n",
    "    early_stopping_rounds=5,\n",
    ")\n",
    "\n",
    "model.fit(X_train, y_train, eval_set=[(X_train, y_train), (X_val, y_val)])"
   ]
  },
  {
   "cell_type": "code",
   "execution_count": 62,
   "metadata": {},
   "outputs": [
    {
     "data": {
      "image/png": "[encoded data removed]",
      "text/plain": [
       "<Figure size 800x500 with 1 Axes>"
      ]
     },
     "metadata": {},
     "output_type": "display_data"
    }
   ],
   "source": [
    "results = model.evals_result()\n",
    "\n",
    "plt.figure(figsize=(8,5))\n",
    "plt.title(\"График функции потерь при увеличении до 1000 деревьев\\тс использованием early_stopping_rounds.\")\n",
    "plt.plot(results[\"validation_0\"][\"logloss\"], label=\"Training loss\", color=color_1, linewidth=linewidth)\n",
    "plt.plot(results[\"validation_1\"][\"logloss\"], label=\"Validation loss\", color=color_2, linewidth=linewidth)\n",
    "plt.axvline(model.best_iteration, color=\"orange\", label=\"Optimal tree number\", linewidth=5)\n",
    "plt.xlabel(\"Number of trees\")\n",
    "plt.ylabel(\"Loss\")\n",
    "plt.legend()\n",
    "plt.show()"
   ]
  },
  {
   "cell_type": "code",
   "execution_count": 63,
   "metadata": {},
   "outputs": [
    {
     "data": {
      "text/plain": [
       "192"
      ]
     },
     "execution_count": 63,
     "metadata": {},
     "output_type": "execute_result"
    }
   ],
   "source": [
    "model.best_iteration"
   ]
  },
  {
   "cell_type": "markdown",
   "metadata": {},
   "source": [
    "При добавлении гиперпараметра early_stopping_rounds, в данном случае равному 5 (так рекомендуется в литературе),\\\n",
    "мы получаем лучший результат при 192 итерации при заявленной 1000."
   ]
  },
  {
   "cell_type": "code",
   "execution_count": 64,
   "metadata": {},
   "outputs": [
    {
     "name": "stdout",
     "output_type": "stream",
     "text": [
      "Параметры модели: base_score=None, booster=None, callbacks=None,\n",
      "              colsample_bylevel=None, colsample_bynode=None,\n",
      "              colsample_bytree=None, device=None, early_stopping_rounds=None,\n",
      "              enable_categorical=False, eval_metric=None, feature_types=None,\n",
      "              gamma=None, grow_policy=None, importance_type=None,\n",
      "              interaction_constraints=None, learning_rate=0.1, max_bin=None,\n",
      "              max_cat_threshold=None, max_cat_to_onehot=None,\n",
      "              max_delta_step=None, max_depth=5, max_leaves=None,\n",
      "              min_child_weight=None, missing=nan, monotone_constraints=None,\n",
      "              multi_strategy=None, n_estimators=192, n_jobs=None,\n",
      "              num_parallel_tree=None, random_state=123, ...\n",
      "Точность на валидационной выборке: 0.987803\n"
     ]
    }
   ],
   "source": [
    "model = XGBClassifier(\n",
    "    random_state=123,\n",
    "    n_estimators=192,\n",
    "    max_depth=5,\n",
    "    learning_rate=0.1,\n",
    ")\n",
    "accuracy_ = AccuracyMetric(model, X_train, y_train, X_test, y_test)\n",
    "accuracy_.print_test_metrica()"
   ]
  },
  {
   "cell_type": "code",
   "execution_count": 65,
   "metadata": {},
   "outputs": [
    {
     "data": {
      "text/plain": [
       "np.float64(0.987803)"
      ]
     },
     "execution_count": 65,
     "metadata": {},
     "output_type": "execute_result"
    }
   ],
   "source": [
    "accuracy_test = accuracy_.get_accuracy_test()\n",
    "total_result.setdefault('XGBClassifier', accuracy_test)"
   ]
  },
  {
   "cell_type": "code",
   "execution_count": 66,
   "metadata": {},
   "outputs": [
    {
     "data": {
      "text/html": [
       "<div>\n",
       "<style scoped>\n",
       "    .dataframe tbody tr th:only-of-type {\n",
       "        vertical-align: middle;\n",
       "    }\n",
       "\n",
       "    .dataframe tbody tr th {\n",
       "        vertical-align: top;\n",
       "    }\n",
       "\n",
       "    .dataframe thead th {\n",
       "        text-align: right;\n",
       "    }\n",
       "</style>\n",
       "<table border=\"1\" class=\"dataframe\">\n",
       "  <thead>\n",
       "    <tr style=\"text-align: right;\">\n",
       "      <th></th>\n",
       "      <th>accuracy</th>\n",
       "    </tr>\n",
       "  </thead>\n",
       "  <tbody>\n",
       "    <tr>\n",
       "      <th>DecisionTreeClassifier</th>\n",
       "      <td>0.981515</td>\n",
       "    </tr>\n",
       "    <tr>\n",
       "      <th>RandomForestClassifier</th>\n",
       "      <td>0.989066</td>\n",
       "    </tr>\n",
       "    <tr>\n",
       "      <th>XGBClassifier</th>\n",
       "      <td>0.987803</td>\n",
       "    </tr>\n",
       "  </tbody>\n",
       "</table>\n",
       "</div>"
      ],
      "text/plain": [
       "                        accuracy\n",
       "DecisionTreeClassifier  0.981515\n",
       "RandomForestClassifier  0.989066\n",
       "XGBClassifier           0.987803"
      ]
     },
     "execution_count": 66,
     "metadata": {},
     "output_type": "execute_result"
    }
   ],
   "source": [
    "pd.DataFrame.from_dict(total_result, 'index', columns=['accuracy'])"
   ]
  },
  {
   "cell_type": "markdown",
   "metadata": {},
   "source": [
    "*Вывод*:\\\n",
    "Лучший результат показала модель RandomForestClassifier с результатом метрики balanced accuracy: 0.989066\\\n",
    "С гиперпараметрами работать необходимо для улучшения метрик."
   ]
  }
 ],
 "metadata": {
  "kernelspec": {
   "display_name": "venv",
   "language": "python",
   "name": "python3"
  },
  "language_info": {
   "codemirror_mode": {
    "name": "ipython",
    "version": 3
   },
   "file_extension": ".py",
   "mimetype": "text/x-python",
   "name": "python",
   "nbconvert_exporter": "python",
   "pygments_lexer": "ipython3",
   "version": "3.10.12"
  }
 },
 "nbformat": 4,
 "nbformat_minor": 2
}
