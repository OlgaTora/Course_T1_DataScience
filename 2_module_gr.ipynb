{
 "cells": [
  {
   "cell_type": "markdown",
   "metadata": {},
   "source": [
    "<div class=\"alert alert-warning\">\n",
    "\n",
    "***Задание***\n",
    "\n",
    "В рамках этого итогового задания мы будем прогнозировать сердечную недостаточность.\n",
    "\n",
    "Плана по выполнению задания не будет. \n",
    "Но есть несколько требований: \n",
    "- оберните весь конвейер преобразований в Pipeline\n",
    "- подберите оптимальный вариант прогнозной модели с помощью GridSearchCV\n",
    "- примените обученный на тренировочных данных конвейер к тестовым данным, никак не предобрабатывая их, а лишь загрузив из файла и отделив целевой признак от остальных\n",
    "- получите на тестовой части качество не ниже 0.87 по метрике ROCAUC\\\n",
    "Пояснение: если пропуски в новых данных и будут, то только в тех колонках, где они есть в тренировочной части."
   ]
  },
  {
   "cell_type": "markdown",
   "metadata": {},
   "source": [
    "Информация по признакам:\n",
    "- Age: age of the patient [years]\n",
    "- Sex: sex of the patient [M: Male, F: Female]\n",
    "- ChestPainType: chest pain type [TA: Typical Angina, ATA: Atypical Angina, NAP: Non-Anginal Pain, ASY: Asymptomatic]\n",
    "- RestingBP: resting blood pressure [mm Hg]\n",
    "- Cholesterol: serum cholesterol [mm/dl]\n",
    "- FastingBS: fasting blood sugar [1: if FastingBS > 120 mg/dl, 0: otherwise]\n",
    "- RestingECG: resting electrocardiogram results [Normal: Normal, ST: having ST-T wave abnormality (T wave inversions and/or ST elevation or depression of > 0.05 mV), LVH: showing probable or definite left ventricular hypertrophy by Estes' criteria]\n",
    "- MaxHR: maximum heart rate achieved [Numeric value between 60 and 202]\n",
    "- ExerciseAngina: exercise-induced angina [Y: Yes, N: No]\n",
    "- Oldpeak: oldpeak = ST [Numeric value measured in depression]\n",
    "- ST_Slope: the slope of the peak exercise ST segment [Up: upsloping, Flat: flat, Down: downsloping]\n",
    "- HeartDisease: output class [1: heart disease, 0: Normal]"
   ]
  },
  {
   "cell_type": "code",
   "execution_count": 1,
   "metadata": {},
   "outputs": [],
   "source": [
    "import pandas as pd\n",
    "import numpy as np\n",
    "import matplotlib.pyplot as plt\n",
    "import seaborn as sns\n",
    "import missingno as msno\n",
    "\n",
    "from sklearn.model_selection import train_test_split, GridSearchCV, StratifiedKFold\n",
    "from sklearn.preprocessing import StandardScaler, OneHotEncoder, FunctionTransformer\n",
    "from sklearn.pipeline import Pipeline\n",
    "from sklearn.compose import ColumnTransformer\n",
    "from sklearn.linear_model import LogisticRegression\n",
    "from sklearn.ensemble import RandomForestClassifier\n",
    "from sklearn.metrics import roc_auc_score, roc_curve, classification_report\n",
    "from scipy import stats\n",
    "from sklearn.base import TransformerMixin, BaseEstimator, OneToOneFeatureMixin\n",
    "\n",
    "from xgboost import XGBClassifier\n",
    "from phik.report import plot_correlation_matrix\n",
    "from phik import report\n",
    "# pd.set_option(\"display.max_columns\", None)\n",
    "\n",
    "plt.rcParams[\"figure.figsize\"] = (5, 4)\n",
    "plt.rcParams['font.size'] = 10\n",
    "plt.style.use('dark_background')\n",
    "param_plt = {\"linewidth\": 3, \"color\": \"red\", \"linestyle\": \"dotted\"}"
   ]
  },
  {
   "cell_type": "markdown",
   "metadata": {},
   "source": [
    "## Загрузка данных"
   ]
  },
  {
   "cell_type": "code",
   "execution_count": 2,
   "metadata": {},
   "outputs": [],
   "source": [
    "try:\n",
    "    df_train = pd.read_csv(\"heart_adapt_train.csv\", delimiter=\",\")\n",
    "    df_test = pd.read_csv(\"heart_adapt_test.csv\", delimiter=\",\")\n",
    "except FileNotFoundError:\n",
    "    print(\"You have to load the file to the directory before opening it.\")"
   ]
  },
  {
   "cell_type": "code",
   "execution_count": 3,
   "metadata": {},
   "outputs": [
    {
     "name": "stdout",
     "output_type": "stream",
     "text": [
      "<class 'pandas.core.frame.DataFrame'>\n",
      "RangeIndex: 589 entries, 0 to 588\n",
      "Data columns (total 12 columns):\n",
      " #   Column          Non-Null Count  Dtype  \n",
      "---  ------          --------------  -----  \n",
      " 0   Age             533 non-null    float64\n",
      " 1   Sex             589 non-null    object \n",
      " 2   ChestPainType   589 non-null    object \n",
      " 3   RestingBP       588 non-null    float64\n",
      " 4   Cholesterol     462 non-null    float64\n",
      " 5   FastingBS       589 non-null    int64  \n",
      " 6   RestingECG      589 non-null    object \n",
      " 7   MaxHR           589 non-null    int64  \n",
      " 8   ExerciseAngina  589 non-null    object \n",
      " 9   Oldpeak         589 non-null    float64\n",
      " 10  ST_Slope        589 non-null    object \n",
      " 11  HeartDisease    589 non-null    int64  \n",
      "dtypes: float64(4), int64(3), object(5)\n",
      "memory usage: 55.3+ KB\n"
     ]
    }
   ],
   "source": [
    "df_train.info()"
   ]
  },
  {
   "cell_type": "code",
   "execution_count": 4,
   "metadata": {},
   "outputs": [
    {
     "data": {
      "text/plain": [
       "Index(['age', 'sex', 'chestpaintype', 'restingbp', 'cholesterol', 'fastingbs',\n",
       "       'restingecg', 'maxhr', 'exerciseangina', 'oldpeak', 'st_slope',\n",
       "       'heartdisease'],\n",
       "      dtype='object')"
      ]
     },
     "execution_count": 4,
     "metadata": {},
     "output_type": "execute_result"
    }
   ],
   "source": [
    "df_train.columns = df_train.columns.str.lower()\n",
    "df_train.columns"
   ]
  },
  {
   "cell_type": "code",
   "execution_count": 5,
   "metadata": {},
   "outputs": [
    {
     "name": "stdout",
     "output_type": "stream",
     "text": [
      "Количество дубликатов: 0\n"
     ]
    }
   ],
   "source": [
    "print(f\"Количество дубликатов: {df_train[df_train.duplicated()].shape[0]}\")"
   ]
  },
  {
   "cell_type": "code",
   "execution_count": 6,
   "metadata": {},
   "outputs": [
    {
     "data": {
      "text/html": [
       "<div>\n",
       "<style scoped>\n",
       "    .dataframe tbody tr th:only-of-type {\n",
       "        vertical-align: middle;\n",
       "    }\n",
       "\n",
       "    .dataframe tbody tr th {\n",
       "        vertical-align: top;\n",
       "    }\n",
       "\n",
       "    .dataframe thead th {\n",
       "        text-align: right;\n",
       "    }\n",
       "</style>\n",
       "<table border=\"1\" class=\"dataframe\">\n",
       "  <thead>\n",
       "    <tr style=\"text-align: right;\">\n",
       "      <th></th>\n",
       "      <th>age</th>\n",
       "      <th>sex</th>\n",
       "      <th>chestpaintype</th>\n",
       "      <th>restingbp</th>\n",
       "      <th>cholesterol</th>\n",
       "      <th>fastingbs</th>\n",
       "      <th>restingecg</th>\n",
       "      <th>maxhr</th>\n",
       "      <th>exerciseangina</th>\n",
       "      <th>oldpeak</th>\n",
       "      <th>st_slope</th>\n",
       "      <th>heartdisease</th>\n",
       "    </tr>\n",
       "  </thead>\n",
       "  <tbody>\n",
       "    <tr>\n",
       "      <th>0</th>\n",
       "      <td>74.0</td>\n",
       "      <td>M</td>\n",
       "      <td>NAP</td>\n",
       "      <td>138.0</td>\n",
       "      <td>NaN</td>\n",
       "      <td>0</td>\n",
       "      <td>Normal</td>\n",
       "      <td>116</td>\n",
       "      <td>N</td>\n",
       "      <td>0.2</td>\n",
       "      <td>Up</td>\n",
       "      <td>0</td>\n",
       "    </tr>\n",
       "    <tr>\n",
       "      <th>1</th>\n",
       "      <td>58.0</td>\n",
       "      <td>M</td>\n",
       "      <td>NAP</td>\n",
       "      <td>132.0</td>\n",
       "      <td>224.0</td>\n",
       "      <td>0</td>\n",
       "      <td>LVH</td>\n",
       "      <td>173</td>\n",
       "      <td>N</td>\n",
       "      <td>3.2</td>\n",
       "      <td>Up</td>\n",
       "      <td>1</td>\n",
       "    </tr>\n",
       "    <tr>\n",
       "      <th>2</th>\n",
       "      <td>44.0</td>\n",
       "      <td>M</td>\n",
       "      <td>ATA</td>\n",
       "      <td>150.0</td>\n",
       "      <td>288.0</td>\n",
       "      <td>0</td>\n",
       "      <td>Normal</td>\n",
       "      <td>150</td>\n",
       "      <td>Y</td>\n",
       "      <td>3.0</td>\n",
       "      <td>Flat</td>\n",
       "      <td>1</td>\n",
       "    </tr>\n",
       "    <tr>\n",
       "      <th>3</th>\n",
       "      <td>50.0</td>\n",
       "      <td>M</td>\n",
       "      <td>ASY</td>\n",
       "      <td>144.0</td>\n",
       "      <td>349.0</td>\n",
       "      <td>0</td>\n",
       "      <td>LVH</td>\n",
       "      <td>120</td>\n",
       "      <td>Y</td>\n",
       "      <td>1.0</td>\n",
       "      <td>Up</td>\n",
       "      <td>1</td>\n",
       "    </tr>\n",
       "    <tr>\n",
       "      <th>4</th>\n",
       "      <td>NaN</td>\n",
       "      <td>M</td>\n",
       "      <td>ASY</td>\n",
       "      <td>145.0</td>\n",
       "      <td>248.0</td>\n",
       "      <td>0</td>\n",
       "      <td>Normal</td>\n",
       "      <td>96</td>\n",
       "      <td>Y</td>\n",
       "      <td>2.0</td>\n",
       "      <td>Flat</td>\n",
       "      <td>1</td>\n",
       "    </tr>\n",
       "  </tbody>\n",
       "</table>\n",
       "</div>"
      ],
      "text/plain": [
       "    age sex chestpaintype  restingbp  cholesterol  fastingbs restingecg  \\\n",
       "0  74.0   M           NAP      138.0          NaN          0     Normal   \n",
       "1  58.0   M           NAP      132.0        224.0          0        LVH   \n",
       "2  44.0   M           ATA      150.0        288.0          0     Normal   \n",
       "3  50.0   M           ASY      144.0        349.0          0        LVH   \n",
       "4   NaN   M           ASY      145.0        248.0          0     Normal   \n",
       "\n",
       "   maxhr exerciseangina  oldpeak st_slope  heartdisease  \n",
       "0    116              N      0.2       Up             0  \n",
       "1    173              N      3.2       Up             1  \n",
       "2    150              Y      3.0     Flat             1  \n",
       "3    120              Y      1.0       Up             1  \n",
       "4     96              Y      2.0     Flat             1  "
      ]
     },
     "execution_count": 6,
     "metadata": {},
     "output_type": "execute_result"
    }
   ],
   "source": [
    "df_train.head()"
   ]
  },
  {
   "cell_type": "markdown",
   "metadata": {},
   "source": [
    "Итого, в датасете 12 столбцов (7 числовых и 5 категориальных) и 589 строк."
   ]
  },
  {
   "cell_type": "markdown",
   "metadata": {},
   "source": [
    "## Описательный анализ данных"
   ]
  },
  {
   "cell_type": "markdown",
   "metadata": {},
   "source": [
    "Рассмотрим числовые столбцы."
   ]
  },
  {
   "cell_type": "code",
   "execution_count": 7,
   "metadata": {},
   "outputs": [],
   "source": [
    "num_features = df_train.select_dtypes(include=\"number\").drop(columns=['heartdisease'])"
   ]
  },
  {
   "cell_type": "code",
   "execution_count": 8,
   "metadata": {},
   "outputs": [
    {
     "data": {
      "text/html": [
       "<div>\n",
       "<style scoped>\n",
       "    .dataframe tbody tr th:only-of-type {\n",
       "        vertical-align: middle;\n",
       "    }\n",
       "\n",
       "    .dataframe tbody tr th {\n",
       "        vertical-align: top;\n",
       "    }\n",
       "\n",
       "    .dataframe thead th {\n",
       "        text-align: right;\n",
       "    }\n",
       "</style>\n",
       "<table border=\"1\" class=\"dataframe\">\n",
       "  <thead>\n",
       "    <tr style=\"text-align: right;\">\n",
       "      <th></th>\n",
       "      <th>age</th>\n",
       "      <th>restingbp</th>\n",
       "      <th>cholesterol</th>\n",
       "      <th>fastingbs</th>\n",
       "      <th>maxhr</th>\n",
       "      <th>oldpeak</th>\n",
       "      <th>heartdisease</th>\n",
       "    </tr>\n",
       "  </thead>\n",
       "  <tbody>\n",
       "    <tr>\n",
       "      <th>count</th>\n",
       "      <td>533.000000</td>\n",
       "      <td>588.000000</td>\n",
       "      <td>462.000000</td>\n",
       "      <td>589.000000</td>\n",
       "      <td>589.000000</td>\n",
       "      <td>589.000000</td>\n",
       "      <td>589.000000</td>\n",
       "    </tr>\n",
       "    <tr>\n",
       "      <th>mean</th>\n",
       "      <td>54.195122</td>\n",
       "      <td>133.358844</td>\n",
       "      <td>245.632035</td>\n",
       "      <td>0.258065</td>\n",
       "      <td>134.893039</td>\n",
       "      <td>0.937521</td>\n",
       "      <td>0.646859</td>\n",
       "    </tr>\n",
       "    <tr>\n",
       "      <th>std</th>\n",
       "      <td>9.532661</td>\n",
       "      <td>18.851852</td>\n",
       "      <td>58.599184</td>\n",
       "      <td>0.437942</td>\n",
       "      <td>24.942596</td>\n",
       "      <td>1.071318</td>\n",
       "      <td>0.478352</td>\n",
       "    </tr>\n",
       "    <tr>\n",
       "      <th>min</th>\n",
       "      <td>28.000000</td>\n",
       "      <td>80.000000</td>\n",
       "      <td>85.000000</td>\n",
       "      <td>0.000000</td>\n",
       "      <td>63.000000</td>\n",
       "      <td>-2.600000</td>\n",
       "      <td>0.000000</td>\n",
       "    </tr>\n",
       "    <tr>\n",
       "      <th>25%</th>\n",
       "      <td>48.000000</td>\n",
       "      <td>120.000000</td>\n",
       "      <td>209.000000</td>\n",
       "      <td>0.000000</td>\n",
       "      <td>117.000000</td>\n",
       "      <td>0.000000</td>\n",
       "      <td>0.000000</td>\n",
       "    </tr>\n",
       "    <tr>\n",
       "      <th>50%</th>\n",
       "      <td>55.000000</td>\n",
       "      <td>130.000000</td>\n",
       "      <td>240.000000</td>\n",
       "      <td>0.000000</td>\n",
       "      <td>135.000000</td>\n",
       "      <td>0.800000</td>\n",
       "      <td>1.000000</td>\n",
       "    </tr>\n",
       "    <tr>\n",
       "      <th>75%</th>\n",
       "      <td>61.000000</td>\n",
       "      <td>144.000000</td>\n",
       "      <td>279.750000</td>\n",
       "      <td>1.000000</td>\n",
       "      <td>154.000000</td>\n",
       "      <td>1.600000</td>\n",
       "      <td>1.000000</td>\n",
       "    </tr>\n",
       "    <tr>\n",
       "      <th>max</th>\n",
       "      <td>77.000000</td>\n",
       "      <td>200.000000</td>\n",
       "      <td>603.000000</td>\n",
       "      <td>1.000000</td>\n",
       "      <td>195.000000</td>\n",
       "      <td>5.000000</td>\n",
       "      <td>1.000000</td>\n",
       "    </tr>\n",
       "  </tbody>\n",
       "</table>\n",
       "</div>"
      ],
      "text/plain": [
       "              age   restingbp  cholesterol   fastingbs       maxhr  \\\n",
       "count  533.000000  588.000000   462.000000  589.000000  589.000000   \n",
       "mean    54.195122  133.358844   245.632035    0.258065  134.893039   \n",
       "std      9.532661   18.851852    58.599184    0.437942   24.942596   \n",
       "min     28.000000   80.000000    85.000000    0.000000   63.000000   \n",
       "25%     48.000000  120.000000   209.000000    0.000000  117.000000   \n",
       "50%     55.000000  130.000000   240.000000    0.000000  135.000000   \n",
       "75%     61.000000  144.000000   279.750000    1.000000  154.000000   \n",
       "max     77.000000  200.000000   603.000000    1.000000  195.000000   \n",
       "\n",
       "          oldpeak  heartdisease  \n",
       "count  589.000000    589.000000  \n",
       "mean     0.937521      0.646859  \n",
       "std      1.071318      0.478352  \n",
       "min     -2.600000      0.000000  \n",
       "25%      0.000000      0.000000  \n",
       "50%      0.800000      1.000000  \n",
       "75%      1.600000      1.000000  \n",
       "max      5.000000      1.000000  "
      ]
     },
     "execution_count": 8,
     "metadata": {},
     "output_type": "execute_result"
    }
   ],
   "source": [
    "df_train.describe()"
   ]
  },
  {
   "cell_type": "markdown",
   "metadata": {},
   "source": [
    "Посмотрим бинарный столбец."
   ]
  },
  {
   "cell_type": "code",
   "execution_count": 9,
   "metadata": {},
   "outputs": [
    {
     "data": {
      "image/png": "[encoded data removed]",
      "text/plain": [
       "<Figure size 500x400 with 1 Axes>"
      ]
     },
     "metadata": {},
     "output_type": "display_data"
    }
   ],
   "source": [
    "mask = df_train.fastingbs==1\n",
    "plt.title(\"Распределение уровня сахара в крови по пациентам\")\n",
    "ax_1 = sns.countplot(x=df_train.loc[mask].fastingbs, color=\"darkred\", stat=\"count\")\n",
    "ax_2 = sns.countplot(x=df_train.loc[~mask].fastingbs, color=\"red\", stat=\"count\")\n",
    "ax_1.bar_label(ax_1.containers[0])\n",
    "ax_2.bar_label(ax_2.containers[1])\n",
    "plt.legend(labels=[\"повышенный\", \"в норме\"])\n",
    "plt.show()"
   ]
  },
  {
   "cell_type": "markdown",
   "metadata": {},
   "source": [
    "Видно, что среди пациентов людей с повышенным сахаром меньше в  3 раза, чем с нормальным.\\\n",
    "Посмотрим другие числовые признаки."
   ]
  },
  {
   "cell_type": "code",
   "execution_count": 10,
   "metadata": {},
   "outputs": [
    {
     "data": {
      "text/html": [
       "<div>\n",
       "<style scoped>\n",
       "    .dataframe tbody tr th:only-of-type {\n",
       "        vertical-align: middle;\n",
       "    }\n",
       "\n",
       "    .dataframe tbody tr th {\n",
       "        vertical-align: top;\n",
       "    }\n",
       "\n",
       "    .dataframe thead th {\n",
       "        text-align: right;\n",
       "    }\n",
       "</style>\n",
       "<table border=\"1\" class=\"dataframe\">\n",
       "  <thead>\n",
       "    <tr style=\"text-align: right;\">\n",
       "      <th></th>\n",
       "      <th>age</th>\n",
       "      <th>restingbp</th>\n",
       "      <th>cholesterol</th>\n",
       "      <th>fastingbs</th>\n",
       "      <th>maxhr</th>\n",
       "      <th>oldpeak</th>\n",
       "    </tr>\n",
       "  </thead>\n",
       "  <tbody>\n",
       "    <tr>\n",
       "      <th>var</th>\n",
       "      <td>90.9</td>\n",
       "      <td>355.4</td>\n",
       "      <td>3433.9</td>\n",
       "      <td>0.2</td>\n",
       "      <td>622.1</td>\n",
       "      <td>1.1</td>\n",
       "    </tr>\n",
       "    <tr>\n",
       "      <th>unique</th>\n",
       "      <td>49.0</td>\n",
       "      <td>61.0</td>\n",
       "      <td>189.0</td>\n",
       "      <td>2.0</td>\n",
       "      <td>112.0</td>\n",
       "      <td>47.0</td>\n",
       "    </tr>\n",
       "  </tbody>\n",
       "</table>\n",
       "</div>"
      ],
      "text/plain": [
       "         age  restingbp  cholesterol  fastingbs  maxhr  oldpeak\n",
       "var     90.9      355.4       3433.9        0.2  622.1      1.1\n",
       "unique  49.0       61.0        189.0        2.0  112.0     47.0"
      ]
     },
     "execution_count": 10,
     "metadata": {},
     "output_type": "execute_result"
    }
   ],
   "source": [
    "var_ = num_features.var().round(1).to_frame(name=\"var\")\n",
    "unique = num_features.nunique().to_frame(name=\"unique\")\n",
    "pd.concat([var_, unique], join=\"outer\", axis=1).T"
   ]
  },
  {
   "cell_type": "code",
   "execution_count": 11,
   "metadata": {},
   "outputs": [
    {
     "data": {
      "text/html": [
       "<div>\n",
       "<style scoped>\n",
       "    .dataframe tbody tr th:only-of-type {\n",
       "        vertical-align: middle;\n",
       "    }\n",
       "\n",
       "    .dataframe tbody tr th {\n",
       "        vertical-align: top;\n",
       "    }\n",
       "\n",
       "    .dataframe thead th {\n",
       "        text-align: right;\n",
       "    }\n",
       "</style>\n",
       "<table border=\"1\" class=\"dataframe\">\n",
       "  <thead>\n",
       "    <tr style=\"text-align: right;\">\n",
       "      <th></th>\n",
       "      <th>age</th>\n",
       "      <th>restingbp</th>\n",
       "      <th>cholesterol</th>\n",
       "      <th>fastingbs</th>\n",
       "      <th>maxhr</th>\n",
       "      <th>oldpeak</th>\n",
       "    </tr>\n",
       "  </thead>\n",
       "  <tbody>\n",
       "    <tr>\n",
       "      <th>min</th>\n",
       "      <td>28.0</td>\n",
       "      <td>80.0</td>\n",
       "      <td>85.000</td>\n",
       "      <td>0.0</td>\n",
       "      <td>63.0</td>\n",
       "      <td>-2.6</td>\n",
       "    </tr>\n",
       "    <tr>\n",
       "      <th>max</th>\n",
       "      <td>77.0</td>\n",
       "      <td>200.0</td>\n",
       "      <td>603.000</td>\n",
       "      <td>1.0</td>\n",
       "      <td>195.0</td>\n",
       "      <td>5.0</td>\n",
       "    </tr>\n",
       "    <tr>\n",
       "      <th>outlier-</th>\n",
       "      <td>41.5</td>\n",
       "      <td>108.0</td>\n",
       "      <td>173.625</td>\n",
       "      <td>-0.5</td>\n",
       "      <td>98.5</td>\n",
       "      <td>-0.8</td>\n",
       "    </tr>\n",
       "    <tr>\n",
       "      <th>outlier+</th>\n",
       "      <td>67.5</td>\n",
       "      <td>156.0</td>\n",
       "      <td>315.125</td>\n",
       "      <td>1.5</td>\n",
       "      <td>172.5</td>\n",
       "      <td>2.4</td>\n",
       "    </tr>\n",
       "  </tbody>\n",
       "</table>\n",
       "</div>"
      ],
      "text/plain": [
       "           age  restingbp  cholesterol  fastingbs  maxhr  oldpeak\n",
       "min       28.0       80.0       85.000        0.0   63.0     -2.6\n",
       "max       77.0      200.0      603.000        1.0  195.0      5.0\n",
       "outlier-  41.5      108.0      173.625       -0.5   98.5     -0.8\n",
       "outlier+  67.5      156.0      315.125        1.5  172.5      2.4"
      ]
     },
     "execution_count": 11,
     "metadata": {},
     "output_type": "execute_result"
    }
   ],
   "source": [
    "IQR = pd.DataFrame(\n",
    "    {\n",
    "        \"min\": num_features.min(),\n",
    "        \"max\": num_features.max(),\n",
    "        \"Q1\": num_features.quantile(0.25),\n",
    "        \"Q3\": num_features.quantile(0.75),\n",
    "    }\n",
    ")\n",
    "IQR[\"iqr\"] = IQR[\"Q3\"] - IQR[\"Q1\"]\n",
    "IQR[\"outlier-\"] = IQR[\"Q3\"] - IQR[\"iqr\"] * 1.5\n",
    "IQR[\"outlier+\"] = IQR[\"Q1\"] + IQR[\"iqr\"] * 1.5\n",
    "IQR.drop(columns=[\"Q1\", \"Q3\", \"iqr\"], axis=1, inplace=True)\n",
    "IQR.T"
   ]
  },
  {
   "cell_type": "markdown",
   "metadata": {},
   "source": [
    "Посмотрим на выбросы визуально."
   ]
  },
  {
   "cell_type": "code",
   "execution_count": 12,
   "metadata": {},
   "outputs": [
    {
     "data": {
      "image/png": "[encoded data removed]",
      "text/plain": [
       "<Figure size 1500x400 with 5 Axes>"
      ]
     },
     "metadata": {},
     "output_type": "display_data"
    }
   ],
   "source": [
    "fig, ax = plt.subplots(1, 5, figsize=(15, 4))\n",
    "fig.suptitle(\"Выбросы по числовым признакам\")\n",
    "i = 0\n",
    "\n",
    "for feat in num_features.drop(columns=[\"fastingbs\"]):\n",
    "    sns.boxplot(num_features, x=feat, ax=ax[i], color=\"darkred\", linecolor=\"red\")\n",
    "    i += 1\n",
    "\n",
    "plt.show()"
   ]
  },
  {
   "cell_type": "code",
   "execution_count": 13,
   "metadata": {},
   "outputs": [
    {
     "data": {
      "text/html": [
       "<div>\n",
       "<style scoped>\n",
       "    .dataframe tbody tr th:only-of-type {\n",
       "        vertical-align: middle;\n",
       "    }\n",
       "\n",
       "    .dataframe tbody tr th {\n",
       "        vertical-align: top;\n",
       "    }\n",
       "\n",
       "    .dataframe thead th {\n",
       "        text-align: right;\n",
       "    }\n",
       "</style>\n",
       "<table border=\"1\" class=\"dataframe\">\n",
       "  <thead>\n",
       "    <tr style=\"text-align: right;\">\n",
       "      <th></th>\n",
       "      <th>age</th>\n",
       "      <th>sex</th>\n",
       "      <th>chestpaintype</th>\n",
       "      <th>restingbp</th>\n",
       "      <th>cholesterol</th>\n",
       "      <th>fastingbs</th>\n",
       "      <th>restingecg</th>\n",
       "      <th>maxhr</th>\n",
       "      <th>exerciseangina</th>\n",
       "      <th>oldpeak</th>\n",
       "      <th>st_slope</th>\n",
       "      <th>heartdisease</th>\n",
       "    </tr>\n",
       "  </thead>\n",
       "  <tbody>\n",
       "    <tr>\n",
       "      <th>286</th>\n",
       "      <td>64.0</td>\n",
       "      <td>F</td>\n",
       "      <td>ASY</td>\n",
       "      <td>200.0</td>\n",
       "      <td>NaN</td>\n",
       "      <td>0</td>\n",
       "      <td>Normal</td>\n",
       "      <td>140</td>\n",
       "      <td>Y</td>\n",
       "      <td>1.0</td>\n",
       "      <td>Flat</td>\n",
       "      <td>1</td>\n",
       "    </tr>\n",
       "    <tr>\n",
       "      <th>335</th>\n",
       "      <td>61.0</td>\n",
       "      <td>M</td>\n",
       "      <td>NAP</td>\n",
       "      <td>200.0</td>\n",
       "      <td>NaN</td>\n",
       "      <td>1</td>\n",
       "      <td>ST</td>\n",
       "      <td>70</td>\n",
       "      <td>N</td>\n",
       "      <td>0.0</td>\n",
       "      <td>Flat</td>\n",
       "      <td>1</td>\n",
       "    </tr>\n",
       "    <tr>\n",
       "      <th>471</th>\n",
       "      <td>54.0</td>\n",
       "      <td>M</td>\n",
       "      <td>ATA</td>\n",
       "      <td>192.0</td>\n",
       "      <td>283.0</td>\n",
       "      <td>0</td>\n",
       "      <td>LVH</td>\n",
       "      <td>195</td>\n",
       "      <td>N</td>\n",
       "      <td>0.0</td>\n",
       "      <td>Up</td>\n",
       "      <td>1</td>\n",
       "    </tr>\n",
       "    <tr>\n",
       "      <th>483</th>\n",
       "      <td>54.0</td>\n",
       "      <td>M</td>\n",
       "      <td>ASY</td>\n",
       "      <td>200.0</td>\n",
       "      <td>198.0</td>\n",
       "      <td>0</td>\n",
       "      <td>Normal</td>\n",
       "      <td>142</td>\n",
       "      <td>Y</td>\n",
       "      <td>2.0</td>\n",
       "      <td>Flat</td>\n",
       "      <td>1</td>\n",
       "    </tr>\n",
       "    <tr>\n",
       "      <th>554</th>\n",
       "      <td>56.0</td>\n",
       "      <td>F</td>\n",
       "      <td>ASY</td>\n",
       "      <td>200.0</td>\n",
       "      <td>288.0</td>\n",
       "      <td>1</td>\n",
       "      <td>LVH</td>\n",
       "      <td>133</td>\n",
       "      <td>Y</td>\n",
       "      <td>4.0</td>\n",
       "      <td>Down</td>\n",
       "      <td>1</td>\n",
       "    </tr>\n",
       "  </tbody>\n",
       "</table>\n",
       "</div>"
      ],
      "text/plain": [
       "      age sex chestpaintype  restingbp  cholesterol  fastingbs restingecg  \\\n",
       "286  64.0   F           ASY      200.0          NaN          0     Normal   \n",
       "335  61.0   M           NAP      200.0          NaN          1         ST   \n",
       "471  54.0   M           ATA      192.0        283.0          0        LVH   \n",
       "483  54.0   M           ASY      200.0        198.0          0     Normal   \n",
       "554  56.0   F           ASY      200.0        288.0          1        LVH   \n",
       "\n",
       "     maxhr exerciseangina  oldpeak st_slope  heartdisease  \n",
       "286    140              Y      1.0     Flat             1  \n",
       "335     70              N      0.0     Flat             1  \n",
       "471    195              N      0.0       Up             1  \n",
       "483    142              Y      2.0     Flat             1  \n",
       "554    133              Y      4.0     Down             1  "
      ]
     },
     "execution_count": 13,
     "metadata": {},
     "output_type": "execute_result"
    }
   ],
   "source": [
    "df_train.loc[df_train.restingbp > 190]"
   ]
  },
  {
   "cell_type": "markdown",
   "metadata": {},
   "source": [
    "Видно, что это не выбросы, такое давление реальное и эти люди имеют проблемы с сердцем."
   ]
  },
  {
   "cell_type": "code",
   "execution_count": 14,
   "metadata": {},
   "outputs": [
    {
     "data": {
      "text/html": [
       "<div>\n",
       "<style scoped>\n",
       "    .dataframe tbody tr th:only-of-type {\n",
       "        vertical-align: middle;\n",
       "    }\n",
       "\n",
       "    .dataframe tbody tr th {\n",
       "        vertical-align: top;\n",
       "    }\n",
       "\n",
       "    .dataframe thead th {\n",
       "        text-align: right;\n",
       "    }\n",
       "</style>\n",
       "<table border=\"1\" class=\"dataframe\">\n",
       "  <thead>\n",
       "    <tr style=\"text-align: right;\">\n",
       "      <th></th>\n",
       "      <th>age</th>\n",
       "      <th>sex</th>\n",
       "      <th>chestpaintype</th>\n",
       "      <th>restingbp</th>\n",
       "      <th>cholesterol</th>\n",
       "      <th>fastingbs</th>\n",
       "      <th>restingecg</th>\n",
       "      <th>maxhr</th>\n",
       "      <th>exerciseangina</th>\n",
       "      <th>oldpeak</th>\n",
       "      <th>st_slope</th>\n",
       "      <th>heartdisease</th>\n",
       "    </tr>\n",
       "  </thead>\n",
       "  <tbody>\n",
       "    <tr>\n",
       "      <th>48</th>\n",
       "      <td>NaN</td>\n",
       "      <td>M</td>\n",
       "      <td>ASY</td>\n",
       "      <td>95.0</td>\n",
       "      <td>NaN</td>\n",
       "      <td>1</td>\n",
       "      <td>Normal</td>\n",
       "      <td>182</td>\n",
       "      <td>N</td>\n",
       "      <td>0.7</td>\n",
       "      <td>Down</td>\n",
       "      <td>1</td>\n",
       "    </tr>\n",
       "    <tr>\n",
       "      <th>190</th>\n",
       "      <td>51.0</td>\n",
       "      <td>M</td>\n",
       "      <td>NAP</td>\n",
       "      <td>94.0</td>\n",
       "      <td>227.0</td>\n",
       "      <td>0</td>\n",
       "      <td>Normal</td>\n",
       "      <td>154</td>\n",
       "      <td>Y</td>\n",
       "      <td>0.0</td>\n",
       "      <td>Up</td>\n",
       "      <td>0</td>\n",
       "    </tr>\n",
       "    <tr>\n",
       "      <th>205</th>\n",
       "      <td>38.0</td>\n",
       "      <td>M</td>\n",
       "      <td>ASY</td>\n",
       "      <td>92.0</td>\n",
       "      <td>117.0</td>\n",
       "      <td>0</td>\n",
       "      <td>Normal</td>\n",
       "      <td>134</td>\n",
       "      <td>Y</td>\n",
       "      <td>2.5</td>\n",
       "      <td>Flat</td>\n",
       "      <td>1</td>\n",
       "    </tr>\n",
       "    <tr>\n",
       "      <th>233</th>\n",
       "      <td>34.0</td>\n",
       "      <td>M</td>\n",
       "      <td>ATA</td>\n",
       "      <td>98.0</td>\n",
       "      <td>220.0</td>\n",
       "      <td>0</td>\n",
       "      <td>Normal</td>\n",
       "      <td>150</td>\n",
       "      <td>N</td>\n",
       "      <td>0.0</td>\n",
       "      <td>Up</td>\n",
       "      <td>0</td>\n",
       "    </tr>\n",
       "    <tr>\n",
       "      <th>269</th>\n",
       "      <td>32.0</td>\n",
       "      <td>M</td>\n",
       "      <td>TA</td>\n",
       "      <td>95.0</td>\n",
       "      <td>NaN</td>\n",
       "      <td>1</td>\n",
       "      <td>Normal</td>\n",
       "      <td>127</td>\n",
       "      <td>N</td>\n",
       "      <td>0.7</td>\n",
       "      <td>Up</td>\n",
       "      <td>1</td>\n",
       "    </tr>\n",
       "    <tr>\n",
       "      <th>284</th>\n",
       "      <td>40.0</td>\n",
       "      <td>M</td>\n",
       "      <td>ASY</td>\n",
       "      <td>95.0</td>\n",
       "      <td>NaN</td>\n",
       "      <td>1</td>\n",
       "      <td>ST</td>\n",
       "      <td>144</td>\n",
       "      <td>N</td>\n",
       "      <td>0.0</td>\n",
       "      <td>Up</td>\n",
       "      <td>1</td>\n",
       "    </tr>\n",
       "    <tr>\n",
       "      <th>355</th>\n",
       "      <td>NaN</td>\n",
       "      <td>M</td>\n",
       "      <td>ASY</td>\n",
       "      <td>80.0</td>\n",
       "      <td>NaN</td>\n",
       "      <td>0</td>\n",
       "      <td>Normal</td>\n",
       "      <td>141</td>\n",
       "      <td>Y</td>\n",
       "      <td>2.0</td>\n",
       "      <td>Down</td>\n",
       "      <td>0</td>\n",
       "    </tr>\n",
       "    <tr>\n",
       "      <th>524</th>\n",
       "      <td>51.0</td>\n",
       "      <td>M</td>\n",
       "      <td>ASY</td>\n",
       "      <td>95.0</td>\n",
       "      <td>NaN</td>\n",
       "      <td>1</td>\n",
       "      <td>Normal</td>\n",
       "      <td>126</td>\n",
       "      <td>N</td>\n",
       "      <td>2.2</td>\n",
       "      <td>Flat</td>\n",
       "      <td>1</td>\n",
       "    </tr>\n",
       "  </tbody>\n",
       "</table>\n",
       "</div>"
      ],
      "text/plain": [
       "      age sex chestpaintype  restingbp  cholesterol  fastingbs restingecg  \\\n",
       "48    NaN   M           ASY       95.0          NaN          1     Normal   \n",
       "190  51.0   M           NAP       94.0        227.0          0     Normal   \n",
       "205  38.0   M           ASY       92.0        117.0          0     Normal   \n",
       "233  34.0   M           ATA       98.0        220.0          0     Normal   \n",
       "269  32.0   M            TA       95.0          NaN          1     Normal   \n",
       "284  40.0   M           ASY       95.0          NaN          1         ST   \n",
       "355   NaN   M           ASY       80.0          NaN          0     Normal   \n",
       "524  51.0   M           ASY       95.0          NaN          1     Normal   \n",
       "\n",
       "     maxhr exerciseangina  oldpeak st_slope  heartdisease  \n",
       "48     182              N      0.7     Down             1  \n",
       "190    154              Y      0.0       Up             0  \n",
       "205    134              Y      2.5     Flat             1  \n",
       "233    150              N      0.0       Up             0  \n",
       "269    127              N      0.7       Up             1  \n",
       "284    144              N      0.0       Up             1  \n",
       "355    141              Y      2.0     Down             0  \n",
       "524    126              N      2.2     Flat             1  "
      ]
     },
     "execution_count": 14,
     "metadata": {},
     "output_type": "execute_result"
    }
   ],
   "source": [
    "df_train.loc[df_train.restingbp < 100]"
   ]
  },
  {
   "cell_type": "markdown",
   "metadata": {},
   "source": [
    "Низкое давление тоже имеет место быть, и эти люди также могут иметь проблемы с сердцем."
   ]
  },
  {
   "cell_type": "code",
   "execution_count": 15,
   "metadata": {},
   "outputs": [
    {
     "data": {
      "text/plain": [
       "12"
      ]
     },
     "execution_count": 15,
     "metadata": {},
     "output_type": "execute_result"
    }
   ],
   "source": [
    "df_train.loc[df_train.oldpeak < 0].shape[1]"
   ]
  },
  {
   "cell_type": "markdown",
   "metadata": {},
   "source": [
    "Сложно сказать, являются ли эти значения выбросами, так как не известна шкала измерений"
   ]
  },
  {
   "cell_type": "code",
   "execution_count": 16,
   "metadata": {},
   "outputs": [
    {
     "data": {
      "text/html": [
       "<div>\n",
       "<style scoped>\n",
       "    .dataframe tbody tr th:only-of-type {\n",
       "        vertical-align: middle;\n",
       "    }\n",
       "\n",
       "    .dataframe tbody tr th {\n",
       "        vertical-align: top;\n",
       "    }\n",
       "\n",
       "    .dataframe thead th {\n",
       "        text-align: right;\n",
       "    }\n",
       "</style>\n",
       "<table border=\"1\" class=\"dataframe\">\n",
       "  <thead>\n",
       "    <tr style=\"text-align: right;\">\n",
       "      <th></th>\n",
       "      <th>age</th>\n",
       "      <th>sex</th>\n",
       "      <th>chestpaintype</th>\n",
       "      <th>restingbp</th>\n",
       "      <th>cholesterol</th>\n",
       "      <th>fastingbs</th>\n",
       "      <th>restingecg</th>\n",
       "      <th>maxhr</th>\n",
       "      <th>exerciseangina</th>\n",
       "      <th>oldpeak</th>\n",
       "      <th>st_slope</th>\n",
       "      <th>heartdisease</th>\n",
       "    </tr>\n",
       "  </thead>\n",
       "  <tbody>\n",
       "    <tr>\n",
       "      <th>75</th>\n",
       "      <td>56.0</td>\n",
       "      <td>M</td>\n",
       "      <td>ASY</td>\n",
       "      <td>120.0</td>\n",
       "      <td>85.0</td>\n",
       "      <td>0</td>\n",
       "      <td>Normal</td>\n",
       "      <td>140</td>\n",
       "      <td>N</td>\n",
       "      <td>0.0</td>\n",
       "      <td>Up</td>\n",
       "      <td>0</td>\n",
       "    </tr>\n",
       "    <tr>\n",
       "      <th>96</th>\n",
       "      <td>56.0</td>\n",
       "      <td>F</td>\n",
       "      <td>ASY</td>\n",
       "      <td>134.0</td>\n",
       "      <td>409.0</td>\n",
       "      <td>0</td>\n",
       "      <td>LVH</td>\n",
       "      <td>150</td>\n",
       "      <td>Y</td>\n",
       "      <td>1.9</td>\n",
       "      <td>Flat</td>\n",
       "      <td>1</td>\n",
       "    </tr>\n",
       "    <tr>\n",
       "      <th>123</th>\n",
       "      <td>32.0</td>\n",
       "      <td>M</td>\n",
       "      <td>ASY</td>\n",
       "      <td>118.0</td>\n",
       "      <td>529.0</td>\n",
       "      <td>0</td>\n",
       "      <td>Normal</td>\n",
       "      <td>130</td>\n",
       "      <td>N</td>\n",
       "      <td>0.0</td>\n",
       "      <td>Flat</td>\n",
       "      <td>1</td>\n",
       "    </tr>\n",
       "    <tr>\n",
       "      <th>182</th>\n",
       "      <td>54.0</td>\n",
       "      <td>M</td>\n",
       "      <td>ASY</td>\n",
       "      <td>130.0</td>\n",
       "      <td>603.0</td>\n",
       "      <td>1</td>\n",
       "      <td>Normal</td>\n",
       "      <td>125</td>\n",
       "      <td>Y</td>\n",
       "      <td>1.0</td>\n",
       "      <td>Flat</td>\n",
       "      <td>1</td>\n",
       "    </tr>\n",
       "    <tr>\n",
       "      <th>193</th>\n",
       "      <td>63.0</td>\n",
       "      <td>F</td>\n",
       "      <td>ASY</td>\n",
       "      <td>150.0</td>\n",
       "      <td>407.0</td>\n",
       "      <td>0</td>\n",
       "      <td>LVH</td>\n",
       "      <td>154</td>\n",
       "      <td>N</td>\n",
       "      <td>4.0</td>\n",
       "      <td>Flat</td>\n",
       "      <td>1</td>\n",
       "    </tr>\n",
       "    <tr>\n",
       "      <th>197</th>\n",
       "      <td>44.0</td>\n",
       "      <td>M</td>\n",
       "      <td>ASY</td>\n",
       "      <td>135.0</td>\n",
       "      <td>491.0</td>\n",
       "      <td>0</td>\n",
       "      <td>Normal</td>\n",
       "      <td>135</td>\n",
       "      <td>N</td>\n",
       "      <td>0.0</td>\n",
       "      <td>Flat</td>\n",
       "      <td>1</td>\n",
       "    </tr>\n",
       "    <tr>\n",
       "      <th>312</th>\n",
       "      <td>53.0</td>\n",
       "      <td>M</td>\n",
       "      <td>NAP</td>\n",
       "      <td>145.0</td>\n",
       "      <td>518.0</td>\n",
       "      <td>0</td>\n",
       "      <td>Normal</td>\n",
       "      <td>130</td>\n",
       "      <td>N</td>\n",
       "      <td>0.0</td>\n",
       "      <td>Flat</td>\n",
       "      <td>1</td>\n",
       "    </tr>\n",
       "    <tr>\n",
       "      <th>512</th>\n",
       "      <td>52.0</td>\n",
       "      <td>M</td>\n",
       "      <td>ASY</td>\n",
       "      <td>140.0</td>\n",
       "      <td>404.0</td>\n",
       "      <td>0</td>\n",
       "      <td>Normal</td>\n",
       "      <td>124</td>\n",
       "      <td>Y</td>\n",
       "      <td>2.0</td>\n",
       "      <td>Flat</td>\n",
       "      <td>1</td>\n",
       "    </tr>\n",
       "  </tbody>\n",
       "</table>\n",
       "</div>"
      ],
      "text/plain": [
       "      age sex chestpaintype  restingbp  cholesterol  fastingbs restingecg  \\\n",
       "75   56.0   M           ASY      120.0         85.0          0     Normal   \n",
       "96   56.0   F           ASY      134.0        409.0          0        LVH   \n",
       "123  32.0   M           ASY      118.0        529.0          0     Normal   \n",
       "182  54.0   M           ASY      130.0        603.0          1     Normal   \n",
       "193  63.0   F           ASY      150.0        407.0          0        LVH   \n",
       "197  44.0   M           ASY      135.0        491.0          0     Normal   \n",
       "312  53.0   M           NAP      145.0        518.0          0     Normal   \n",
       "512  52.0   M           ASY      140.0        404.0          0     Normal   \n",
       "\n",
       "     maxhr exerciseangina  oldpeak st_slope  heartdisease  \n",
       "75     140              N      0.0       Up             0  \n",
       "96     150              Y      1.9     Flat             1  \n",
       "123    130              N      0.0     Flat             1  \n",
       "182    125              Y      1.0     Flat             1  \n",
       "193    154              N      4.0     Flat             1  \n",
       "197    135              N      0.0     Flat             1  \n",
       "312    130              N      0.0     Flat             1  \n",
       "512    124              Y      2.0     Flat             1  "
      ]
     },
     "execution_count": 16,
     "metadata": {},
     "output_type": "execute_result"
    }
   ],
   "source": [
    "df_train.loc[(df_train.cholesterol < 100)| (df_train.cholesterol > 400)]"
   ]
  },
  {
   "cell_type": "markdown",
   "metadata": {},
   "source": [
    "И те и другие значения имеют место быть, из этих данных видно, что очень ысокий холестерин = проблемы с сердцем."
   ]
  },
  {
   "cell_type": "markdown",
   "metadata": {},
   "source": [
    "Вывод:\n",
    "- В признаках есть 1 бинарный столбец: fastingbs (75% значений - 0);\n",
    "- Столбец age скорее всего нормально распределен, возраст от 28 до 77 лет в данных, есть пропуски;\n",
    "- Столбец restingbp (давление) тоже похож на нормальное распределение, данные от 80 до 200, есть небольшие выбросы;\n",
    "- Столбец cholesterol есть выбросы и пропуски;\n",
    "- Столбец maxhr распределен нормально;\n",
    "- Столбец oldpeak содержит отрицательные значения, есть небольшие выбросы.\\\n",
    "В целом, в числовых данных много уникальных значений и почти все столбцы содержат выбросы."
   ]
  },
  {
   "cell_type": "markdown",
   "metadata": {},
   "source": [
    "Посмотрим категориальные признаки."
   ]
  },
  {
   "cell_type": "code",
   "execution_count": 17,
   "metadata": {},
   "outputs": [],
   "source": [
    "cat_features = df_train.select_dtypes(include=\"object\")"
   ]
  },
  {
   "cell_type": "code",
   "execution_count": 18,
   "metadata": {},
   "outputs": [
    {
     "data": {
      "text/html": [
       "<div>\n",
       "<style scoped>\n",
       "    .dataframe tbody tr th:only-of-type {\n",
       "        vertical-align: middle;\n",
       "    }\n",
       "\n",
       "    .dataframe tbody tr th {\n",
       "        vertical-align: top;\n",
       "    }\n",
       "\n",
       "    .dataframe thead th {\n",
       "        text-align: right;\n",
       "    }\n",
       "</style>\n",
       "<table border=\"1\" class=\"dataframe\">\n",
       "  <thead>\n",
       "    <tr style=\"text-align: right;\">\n",
       "      <th></th>\n",
       "      <th>sex</th>\n",
       "      <th>chestpaintype</th>\n",
       "      <th>restingecg</th>\n",
       "      <th>exerciseangina</th>\n",
       "      <th>st_slope</th>\n",
       "    </tr>\n",
       "  </thead>\n",
       "  <tbody>\n",
       "    <tr>\n",
       "      <th>count</th>\n",
       "      <td>589</td>\n",
       "      <td>589</td>\n",
       "      <td>589</td>\n",
       "      <td>589</td>\n",
       "      <td>589</td>\n",
       "    </tr>\n",
       "    <tr>\n",
       "      <th>unique</th>\n",
       "      <td>2</td>\n",
       "      <td>4</td>\n",
       "      <td>3</td>\n",
       "      <td>2</td>\n",
       "      <td>3</td>\n",
       "    </tr>\n",
       "    <tr>\n",
       "      <th>top</th>\n",
       "      <td>M</td>\n",
       "      <td>ASY</td>\n",
       "      <td>Normal</td>\n",
       "      <td>N</td>\n",
       "      <td>Flat</td>\n",
       "    </tr>\n",
       "    <tr>\n",
       "      <th>freq</th>\n",
       "      <td>477</td>\n",
       "      <td>348</td>\n",
       "      <td>345</td>\n",
       "      <td>325</td>\n",
       "      <td>325</td>\n",
       "    </tr>\n",
       "  </tbody>\n",
       "</table>\n",
       "</div>"
      ],
      "text/plain": [
       "        sex chestpaintype restingecg exerciseangina st_slope\n",
       "count   589           589        589            589      589\n",
       "unique    2             4          3              2        3\n",
       "top       M           ASY     Normal              N     Flat\n",
       "freq    477           348        345            325      325"
      ]
     },
     "execution_count": 18,
     "metadata": {},
     "output_type": "execute_result"
    }
   ],
   "source": [
    "df_train.describe(include=\"object\")"
   ]
  },
  {
   "cell_type": "code",
   "execution_count": 19,
   "metadata": {},
   "outputs": [
    {
     "name": "stdout",
     "output_type": "stream",
     "text": [
      "Столбец sex\n",
      "M    47700\n",
      "F    11200\n",
      "Name: sex, dtype: int64\n",
      "\n",
      "Столбец chestpaintype\n",
      "ASY    34800\n",
      "NAP    11700\n",
      "ATA     9600\n",
      "TA      2800\n",
      "Name: chestpaintype, dtype: int64\n",
      "\n",
      "Столбец restingecg\n",
      "Normal    34500\n",
      "LVH       12600\n",
      "ST        11800\n",
      "Name: restingecg, dtype: int64\n",
      "\n",
      "Столбец exerciseangina\n",
      "N    32500\n",
      "Y    26400\n",
      "Name: exerciseangina, dtype: int64\n",
      "\n",
      "Столбец st_slope\n",
      "Flat    32500\n",
      "Up      22400\n",
      "Down     4000\n",
      "Name: st_slope, dtype: int64\n",
      "\n"
     ]
    }
   ],
   "source": [
    "for col in cat_features:\n",
    "    print(\n",
    "        f\"Столбец {col}\\n{100* (df_train[col].value_counts()).round(5)}\",\n",
    "        end=\"\\n\\n\",\n",
    "    )"
   ]
  },
  {
   "cell_type": "markdown",
   "metadata": {},
   "source": [
    "Посмотрим на категориальные столбцы визульально."
   ]
  },
  {
   "cell_type": "code",
   "execution_count": 20,
   "metadata": {},
   "outputs": [
    {
     "data": {
      "image/png": "[encoded data removed]",
      "text/plain": [
       "<Figure size 1500x400 with 5 Axes>"
      ]
     },
     "metadata": {},
     "output_type": "display_data"
    }
   ],
   "source": [
    "fig, ax = plt.subplots(1, 5, figsize=(15, 4))\n",
    "fig.suptitle(\"Значения по категориальным признакам\")\n",
    "i = 0\n",
    "\n",
    "for feat in cat_features:\n",
    "    pl = sns.countplot(\n",
    "        cat_features,\n",
    "        x=feat,\n",
    "        color=\"darkred\",\n",
    "        ax=ax[i],\n",
    "        stat=\"percent\",\n",
    "        order=cat_features[feat].value_counts().index,\n",
    "    )\n",
    "    ax[i].set_title(feat)\n",
    "    pl.bar_label(pl.containers[0], fmt=\"%.f%%\")\n",
    "    i += 1\n",
    "plt.show()"
   ]
  },
  {
   "cell_type": "markdown",
   "metadata": {},
   "source": [
    " В столбцах exerciseangina и st_slope есть значение с одинаковой долей. Проверим, есть ли у них связь."
   ]
  },
  {
   "cell_type": "code",
   "execution_count": 21,
   "metadata": {},
   "outputs": [
    {
     "name": "stdout",
     "output_type": "stream",
     "text": [
      "P-value = 8.472372477281624e-27\n"
     ]
    },
    {
     "data": {
      "text/html": [
       "<div>\n",
       "<style scoped>\n",
       "    .dataframe tbody tr th:only-of-type {\n",
       "        vertical-align: middle;\n",
       "    }\n",
       "\n",
       "    .dataframe tbody tr th {\n",
       "        vertical-align: top;\n",
       "    }\n",
       "\n",
       "    .dataframe thead th {\n",
       "        text-align: right;\n",
       "    }\n",
       "</style>\n",
       "<table border=\"1\" class=\"dataframe\">\n",
       "  <thead>\n",
       "    <tr style=\"text-align: right;\">\n",
       "      <th>st_slope</th>\n",
       "      <th>Down</th>\n",
       "      <th>Flat</th>\n",
       "      <th>Up</th>\n",
       "    </tr>\n",
       "    <tr>\n",
       "      <th>exerciseangina</th>\n",
       "      <th></th>\n",
       "      <th></th>\n",
       "      <th></th>\n",
       "    </tr>\n",
       "  </thead>\n",
       "  <tbody>\n",
       "    <tr>\n",
       "      <th>N</th>\n",
       "      <td>10</td>\n",
       "      <td>128</td>\n",
       "      <td>187</td>\n",
       "    </tr>\n",
       "    <tr>\n",
       "      <th>Y</th>\n",
       "      <td>30</td>\n",
       "      <td>197</td>\n",
       "      <td>37</td>\n",
       "    </tr>\n",
       "  </tbody>\n",
       "</table>\n",
       "</div>"
      ],
      "text/plain": [
       "st_slope        Down  Flat   Up\n",
       "exerciseangina                 \n",
       "N                 10   128  187\n",
       "Y                 30   197   37"
      ]
     },
     "execution_count": 21,
     "metadata": {},
     "output_type": "execute_result"
    }
   ],
   "source": [
    "crosstab = pd.crosstab(df_train.exerciseangina, df_train.st_slope)\n",
    "print(f'P-value = {stats.chi2_contingency(crosstab)[1]}')\n",
    "crosstab"
   ]
  },
  {
   "cell_type": "markdown",
   "metadata": {},
   "source": [
    "Небольшая корреляция между признаками есть."
   ]
  },
  {
   "cell_type": "markdown",
   "metadata": {},
   "source": [
    "Посмотрим на таргет."
   ]
  },
  {
   "cell_type": "code",
   "execution_count": 22,
   "metadata": {},
   "outputs": [
    {
     "data": {
      "text/plain": [
       "1    381\n",
       "0    208\n",
       "Name: heartdisease, dtype: int64"
      ]
     },
     "execution_count": 22,
     "metadata": {},
     "output_type": "execute_result"
    }
   ],
   "source": [
    "df_train.heartdisease.value_counts()"
   ]
  },
  {
   "cell_type": "code",
   "execution_count": 23,
   "metadata": {},
   "outputs": [
    {
     "data": {
      "image/png": "[encoded data removed]",
      "text/plain": [
       "<Figure size 500x400 with 2 Axes>"
      ]
     },
     "metadata": {},
     "output_type": "display_data"
    }
   ],
   "source": [
    "pig, ax = plt.subplots(1, 2)\n",
    "plt.suptitle(\"Распределение целевой переменной по классам.\")\n",
    "sns.countplot(x=df_train.heartdisease, color=\"darkred\", stat=\"count\", ax=ax[0])\n",
    "ax[0].bar_label(ax[0].containers[0])\n",
    "ax[1] = plt.pie(\n",
    "    df_train.heartdisease.value_counts(),\n",
    "    radius=1.5,\n",
    "    autopct=\"%.0f%%\",\n",
    "    colors=[\"red\", \"darkred\"],\n",
    "    labels=['heart disease','no heart disease'],\n",
    "    startangle=140,\n",
    "    explode=(0.15, 0)\n",
    ")\n",
    "plt.show()"
   ]
  },
  {
   "cell_type": "markdown",
   "metadata": {},
   "source": [
    "Классы несколько разбалансированы, будем использовать балансировку внутри моделей."
   ]
  },
  {
   "cell_type": "code",
   "execution_count": 24,
   "metadata": {},
   "outputs": [
    {
     "data": {
      "text/html": [
       "<style type=\"text/css\">\n",
       "#T_d1915_row0_col0 {\n",
       "  background-color: #ff7600;\n",
       "  color: #f1f1f1;\n",
       "}\n",
       "#T_d1915_row1_col0 {\n",
       "  background-color: #ff5800;\n",
       "  color: #f1f1f1;\n",
       "}\n",
       "#T_d1915_row2_col0 {\n",
       "  background-color: #ff5e00;\n",
       "  color: #f1f1f1;\n",
       "}\n",
       "#T_d1915_row3_col0 {\n",
       "  background-color: #ff7c00;\n",
       "  color: #f1f1f1;\n",
       "}\n",
       "#T_d1915_row4_col0 {\n",
       "  background-color: #ff0000;\n",
       "  color: #f1f1f1;\n",
       "}\n",
       "#T_d1915_row5_col0 {\n",
       "  background-color: #ff8900;\n",
       "  color: #f1f1f1;\n",
       "}\n",
       "#T_d1915_row6_col0 {\n",
       "  background-color: #ffff00;\n",
       "  color: #000000;\n",
       "}\n",
       "</style>\n",
       "<table id=\"T_d1915\">\n",
       "  <thead>\n",
       "    <tr>\n",
       "      <th class=\"blank level0\" >&nbsp;</th>\n",
       "      <th id=\"T_d1915_level0_col0\" class=\"col_heading level0 col0\" >heartdisease</th>\n",
       "    </tr>\n",
       "  </thead>\n",
       "  <tbody>\n",
       "    <tr>\n",
       "      <th id=\"T_d1915_level0_row0\" class=\"row_heading level0 row0\" >age</th>\n",
       "      <td id=\"T_d1915_row0_col0\" class=\"data row0 col0\" >0.249890</td>\n",
       "    </tr>\n",
       "    <tr>\n",
       "      <th id=\"T_d1915_level0_row1\" class=\"row_heading level0 row1\" >restingbp</th>\n",
       "      <td id=\"T_d1915_row1_col0\" class=\"data row1 col0\" >0.084532</td>\n",
       "    </tr>\n",
       "    <tr>\n",
       "      <th id=\"T_d1915_level0_row2\" class=\"row_heading level0 row2\" >cholesterol</th>\n",
       "      <td id=\"T_d1915_row2_col0\" class=\"data row2 col0\" >0.115754</td>\n",
       "    </tr>\n",
       "    <tr>\n",
       "      <th id=\"T_d1915_level0_row3\" class=\"row_heading level0 row3\" >fastingbs</th>\n",
       "      <td id=\"T_d1915_row3_col0\" class=\"data row3 col0\" >0.281518</td>\n",
       "    </tr>\n",
       "    <tr>\n",
       "      <th id=\"T_d1915_level0_row4\" class=\"row_heading level0 row4\" >maxhr</th>\n",
       "      <td id=\"T_d1915_row4_col0\" class=\"data row4 col0\" >-0.399714</td>\n",
       "    </tr>\n",
       "    <tr>\n",
       "      <th id=\"T_d1915_level0_row5\" class=\"row_heading level0 row5\" >oldpeak</th>\n",
       "      <td id=\"T_d1915_row5_col0\" class=\"data row5 col0\" >0.351456</td>\n",
       "    </tr>\n",
       "    <tr>\n",
       "      <th id=\"T_d1915_level0_row6\" class=\"row_heading level0 row6\" >heartdisease</th>\n",
       "      <td id=\"T_d1915_row6_col0\" class=\"data row6 col0\" >1.000000</td>\n",
       "    </tr>\n",
       "  </tbody>\n",
       "</table>\n"
      ],
      "text/plain": [
       "<pandas.io.formats.style.Styler at 0x7130f72ab8e0>"
      ]
     },
     "execution_count": 24,
     "metadata": {},
     "output_type": "execute_result"
    }
   ],
   "source": [
    "pd.DataFrame(df_train.corr(numeric_only=True)['heartdisease']).style.background_gradient(cmap='autumn')"
   ]
  },
  {
   "cell_type": "markdown",
   "metadata": {},
   "source": [
    "Целевой признак имеет слабую корреляцию с признаками: age, fastingbs, maxhr, oldpeak."
   ]
  },
  {
   "cell_type": "code",
   "execution_count": 25,
   "metadata": {},
   "outputs": [
    {
     "name": "stdout",
     "output_type": "stream",
     "text": [
      "interval columns not set, guessing: ['age', 'restingbp', 'cholesterol', 'fastingbs', 'maxhr', 'oldpeak', 'heartdisease']\n"
     ]
    },
    {
     "data": {
      "image/png": "[encoded data removed]",
      "text/plain": [
       "<Figure size 700x500 with 2 Axes>"
      ]
     },
     "metadata": {},
     "output_type": "display_data"
    }
   ],
   "source": [
    "phik_overview = df_train.phik_matrix()\n",
    "\n",
    "plot_correlation_matrix(\n",
    "    phik_overview.values,\n",
    "    x_labels=phik_overview.columns,\n",
    "    y_labels=phik_overview.index,\n",
    "    vmin=0,\n",
    "    vmax=1,\n",
    "    color_map=\"Reds\",\n",
    "    title=r\"Матрица корреляции $\\phi_K$\",\n",
    "    fontsize_factor=0.8,\n",
    ")\n",
    "plt.xticks(rotation=75)\n",
    "plt.show()"
   ]
  },
  {
   "cell_type": "markdown",
   "metadata": {},
   "source": [
    "Вывод:\n",
    "1. В столбцах нет пропусков;\n",
    "2. Столбец sex содержит 2 значения, мужчин больше (80%);\n",
    "3. chestpaintype содержит 4 значения, из них самое частое: ASY (59%);\n",
    "4. restingecg содержит 3 значения, самое частое: Normal (58%);\n",
    "5. exerciseangina содержит 2 значения;\n",
    "6. st_slope содержит 3 значения, самое частое Flat встречается также часто (55% ), как и в предыдущем столбце;\n",
    "7. у ряда признаков средняя корреляция друг с другом:\n",
    "- oldpeak - exersizeangina\n",
    "- stslope - maxhr\n",
    "- maxhr - exersizeangina\n",
    "- age - maxhr\n",
    "- chestpaintype - exersizeangina"
   ]
  },
  {
   "cell_type": "markdown",
   "metadata": {},
   "source": [
    "## Предобработка данных"
   ]
  },
  {
   "cell_type": "markdown",
   "metadata": {},
   "source": [
    "Удалим дубликаты."
   ]
  },
  {
   "cell_type": "code",
   "execution_count": 26,
   "metadata": {},
   "outputs": [
    {
     "name": "stdout",
     "output_type": "stream",
     "text": [
      "Количество дубликатов: 0\n"
     ]
    }
   ],
   "source": [
    "print(f\"Количество дубликатов: {df_train[df_train.duplicated()].shape[0]}\")\n",
    "df_train = df_train.drop_duplicates().reset_index(drop=True)"
   ]
  },
  {
   "cell_type": "markdown",
   "metadata": {},
   "source": [
    "Отделим целевую переменную."
   ]
  },
  {
   "cell_type": "code",
   "execution_count": 27,
   "metadata": {},
   "outputs": [],
   "source": [
    "X = df_train.drop(columns='heartdisease')\n",
    "y = df_train['heartdisease']"
   ]
  },
  {
   "cell_type": "markdown",
   "metadata": {},
   "source": [
    "##### Заполнение пропусков"
   ]
  },
  {
   "cell_type": "code",
   "execution_count": 28,
   "metadata": {},
   "outputs": [
    {
     "data": {
      "text/plain": [
       "<Axes: >"
      ]
     },
     "execution_count": 28,
     "metadata": {},
     "output_type": "execute_result"
    },
    {
     "data": {
      "image/png": "[encoded data removed]",
      "text/plain": [
       "<Figure size 800x400 with 3 Axes>"
      ]
     },
     "metadata": {},
     "output_type": "display_data"
    }
   ],
   "source": [
    "msno.bar(df_train, color='darkred', figsize=(8,4), fontsize=10)"
   ]
  },
  {
   "cell_type": "code",
   "execution_count": 29,
   "metadata": {},
   "outputs": [
    {
     "data": {
      "text/plain": [
       "age             56\n",
       "restingbp        1\n",
       "cholesterol    127\n",
       "dtype: int64"
      ]
     },
     "execution_count": 29,
     "metadata": {},
     "output_type": "execute_result"
    }
   ],
   "source": [
    "miss_columns = [col for col in X.columns if X[col].isnull().any()]\n",
    "X[miss_columns].isna().sum()"
   ]
  },
  {
   "cell_type": "code",
   "execution_count": 30,
   "metadata": {},
   "outputs": [
    {
     "data": {
      "text/html": [
       "<div>\n",
       "<style scoped>\n",
       "    .dataframe tbody tr th:only-of-type {\n",
       "        vertical-align: middle;\n",
       "    }\n",
       "\n",
       "    .dataframe tbody tr th {\n",
       "        vertical-align: top;\n",
       "    }\n",
       "\n",
       "    .dataframe thead th {\n",
       "        text-align: right;\n",
       "    }\n",
       "</style>\n",
       "<table border=\"1\" class=\"dataframe\">\n",
       "  <thead>\n",
       "    <tr style=\"text-align: right;\">\n",
       "      <th></th>\n",
       "      <th>age</th>\n",
       "      <th>sex</th>\n",
       "      <th>chestpaintype</th>\n",
       "      <th>restingbp</th>\n",
       "      <th>cholesterol</th>\n",
       "      <th>fastingbs</th>\n",
       "      <th>restingecg</th>\n",
       "      <th>maxhr</th>\n",
       "      <th>exerciseangina</th>\n",
       "      <th>oldpeak</th>\n",
       "      <th>st_slope</th>\n",
       "    </tr>\n",
       "  </thead>\n",
       "  <tbody>\n",
       "    <tr>\n",
       "      <th>232</th>\n",
       "      <td>55.0</td>\n",
       "      <td>M</td>\n",
       "      <td>NAP</td>\n",
       "      <td>NaN</td>\n",
       "      <td>NaN</td>\n",
       "      <td>0</td>\n",
       "      <td>Normal</td>\n",
       "      <td>155</td>\n",
       "      <td>N</td>\n",
       "      <td>1.5</td>\n",
       "      <td>Flat</td>\n",
       "    </tr>\n",
       "  </tbody>\n",
       "</table>\n",
       "</div>"
      ],
      "text/plain": [
       "      age sex chestpaintype  restingbp  cholesterol  fastingbs restingecg  \\\n",
       "232  55.0   M           NAP        NaN          NaN          0     Normal   \n",
       "\n",
       "     maxhr exerciseangina  oldpeak st_slope  \n",
       "232    155              N      1.5     Flat  "
      ]
     },
     "execution_count": 30,
     "metadata": {},
     "output_type": "execute_result"
    }
   ],
   "source": [
    "X.loc[X.restingbp.isna()]"
   ]
  },
  {
   "cell_type": "markdown",
   "metadata": {},
   "source": [
    "Одно значение можно заполнить медианой."
   ]
  },
  {
   "cell_type": "code",
   "execution_count": 31,
   "metadata": {},
   "outputs": [
    {
     "data": {
      "text/plain": [
       "(47.6, 57.4]     197\n",
       "(57.4, 67.2]     178\n",
       "(37.8, 47.6]      93\n",
       "(67.2, 77.0]      35\n",
       "(27.95, 37.8]     30\n",
       "Name: age, dtype: int64"
      ]
     },
     "execution_count": 31,
     "metadata": {},
     "output_type": "execute_result"
    }
   ],
   "source": [
    "X.age.value_counts(bins=5)"
   ]
  },
  {
   "cell_type": "markdown",
   "metadata": {},
   "source": [
    "Предположим, что между возрастом и давлением есть корреляция.\\\n",
    "Н0: связи нет,\\\n",
    "Н1: связь есть"
   ]
  },
  {
   "cell_type": "code",
   "execution_count": 32,
   "metadata": {},
   "outputs": [
    {
     "name": "stdout",
     "output_type": "stream",
     "text": [
      "Корреляция между age и restingbp равна: 0.29477, p: 0.000000000003984\n",
      "Отклоняем H0\n"
     ]
    }
   ],
   "source": [
    "correlation, pvalue = stats.pearsonr(\n",
    "    X.loc[(X.age.notna() & X.restingbp.notna())].age,\n",
    "    X.loc[(X.age.notna() & X.restingbp.notna())].restingbp,\n",
    ")\n",
    "print(f\"Корреляция между age и restingbp равна: {correlation:.5f}, p: {pvalue:.15f}\")\n",
    "alpha = 0.05\n",
    "print(\"Отклоняем H0\") if pvalue < alpha else print(\"Подтверждается H0\")"
   ]
  },
  {
   "cell_type": "markdown",
   "metadata": {},
   "source": [
    "Поле age можно заполнить на основании давления."
   ]
  },
  {
   "cell_type": "markdown",
   "metadata": {},
   "source": [
    "Холестерин согласно матрице корреляции связан только с 2мя признаками: пол и возраст.\\\n",
    "Заменим пропуски на их основании, объединив их в группы.\\\n",
    "Если какие-то пропуски останутся, то их заменим средним."
   ]
  },
  {
   "cell_type": "markdown",
   "metadata": {},
   "source": [
    "Попробуем заменить пропуски в cholesterol и посмотреть, что получится."
   ]
  },
  {
   "cell_type": "code",
   "execution_count": 33,
   "metadata": {},
   "outputs": [],
   "source": [
    "X[\"age_cut\"] = pd.cut(X.age, 10).apply(lambda x: str(x))\n",
    "grouped = X.groupby([\"age_cut\", \"sex\"], as_index=False).agg(\n",
    "    median_cholesterol=(\"cholesterol\", \"median\")\n",
    ")\n",
    "grouped[\"age_sex\"] = grouped.sex + grouped.age_cut.astype(\"object\")\n",
    "X.drop(columns=['age_cut'], inplace=True)"
   ]
  },
  {
   "cell_type": "code",
   "execution_count": 34,
   "metadata": {},
   "outputs": [],
   "source": [
    "def bins_tranform(elem):\n",
    "    result = elem[1:].strip(']').strip('(').split(',')\n",
    "    return float(result[0]), float(result[1])"
   ]
  },
  {
   "cell_type": "code",
   "execution_count": 35,
   "metadata": {},
   "outputs": [
    {
     "data": {
      "text/plain": [
       "14"
      ]
     },
     "execution_count": 35,
     "metadata": {},
     "output_type": "execute_result"
    }
   ],
   "source": [
    "X_copy = X.copy()\n",
    "for el in grouped[\"age_sex\"]:\n",
    "    low_bound, high_bound = bins_tranform(el)\n",
    "    X_copy.loc[\n",
    "        (X_copy.sex == el[0])\n",
    "        & (X_copy.age < high_bound)\n",
    "        & (X_copy.age >= low_bound)\n",
    "        & (X_copy.cholesterol.isna()),\n",
    "        \"cholesterol\",\n",
    "    ] = grouped.loc[grouped.age_sex == el, \"median_cholesterol\"].values[0]\n",
    "X_copy.cholesterol.isna().sum()"
   ]
  },
  {
   "cell_type": "code",
   "execution_count": 36,
   "metadata": {},
   "outputs": [
    {
     "data": {
      "text/plain": [
       "<Axes: xlabel='cholesterol', ylabel='Count'>"
      ]
     },
     "execution_count": 36,
     "metadata": {},
     "output_type": "execute_result"
    },
    {
     "data": {
      "image/png": "[encoded data removed]",
      "text/plain": [
       "<Figure size 500x500 with 1 Axes>"
      ]
     },
     "metadata": {},
     "output_type": "display_data"
    }
   ],
   "source": [
    "bins = 40\n",
    "sns.displot(X_copy.cholesterol, alpha=.5, color='g', bins=bins, kde=True)\n",
    "sns.histplot(df_train.cholesterol, color='red', alpha=.5, bins=bins)"
   ]
  },
  {
   "cell_type": "markdown",
   "metadata": {},
   "source": [
    "Получившееся распределение больше похоже на нормальное.\\\n",
    "Напишем это преобразвание в отдельном классе."
   ]
  },
  {
   "cell_type": "code",
   "execution_count": 37,
   "metadata": {},
   "outputs": [],
   "source": [
    "# группировки для работы с классом, написаны не в init, так как делим потом на фолды\n",
    "grouped_age = X.groupby([\"restingbp\"], as_index=False).agg(median_age=(\"age\", \"median\"))\n",
    "\n",
    "X[\"age_cut\"] = pd.cut(X.age, 10).apply(lambda x: str(x))\n",
    "grouped_cholesterol = X.groupby([\"age_cut\", \"sex\"], as_index=False).agg(\n",
    "    median_cholesterol=(\"cholesterol\", \"median\")\n",
    ")\n",
    "X.drop(columns=['age_cut'], inplace=True)\n",
    "grouped_cholesterol[\"age_sex\"] = (\n",
    "    grouped_cholesterol.sex + grouped_cholesterol.age_cut.astype(\"object\")\n",
    ")"
   ]
  },
  {
   "cell_type": "markdown",
   "metadata": {},
   "source": [
    "Подготовим класс для заполнения пропусков в столбцах age, restingbp и cholesterol.\\\n",
    "Также в нем проведем кодирование столбца sex (так как это удобнее для columns transformer)"
   ]
  },
  {
   "cell_type": "code",
   "execution_count": 38,
   "metadata": {},
   "outputs": [],
   "source": [
    "class SpecialImputer(TransformerMixin, BaseEstimator, OneToOneFeatureMixin):\n",
    "    \"\"\"Class imputer for num features\"\"\"\n",
    "\n",
    "    def __init__(self, grouped_age, grouped_cholesterol):\n",
    "        self.grouped_age = grouped_age\n",
    "        self.grouped_cholesterol = grouped_cholesterol\n",
    "\n",
    "    def fit(self, X, y=None):\n",
    "        self.n_features_in_ = X.shape[1]\n",
    "        return self\n",
    "\n",
    "    def transform(self, X) -> pd.DataFrame:\n",
    "        for el in grouped_cholesterol[\"age_sex\"]:\n",
    "            low_bound, high_bound = bins_tranform(el)\n",
    "            X.loc[\n",
    "                (X.sex == el[0])\n",
    "                & (X.age < high_bound)\n",
    "                & (X.age >= low_bound)\n",
    "                & (X.cholesterol.isna()),\n",
    "                \"cholesterol\",\n",
    "            ] = grouped_cholesterol.loc[\n",
    "                grouped_cholesterol.age_sex == el, \"median_cholesterol\"\n",
    "            ].values[0]\n",
    "        dct = {'M':0, 'F':1}\n",
    "        X['sex'] = X['sex'].map(dct)\n",
    "        X = X.fillna(X.median(numeric_only=True))\n",
    "        return X\n",
    "\n",
    "    def bins_tranform(elem) -> tuple:\n",
    "        result = elem[1:].strip(\"]\").strip(\"(\").split(\",\")\n",
    "        return float(result[0]), float(result[1])"
   ]
  },
  {
   "cell_type": "markdown",
   "metadata": {},
   "source": [
    "Напишем функцию для преобразования столбцов в нижний регистр,\\\n",
    "так как это удобнее для работы с данными."
   ]
  },
  {
   "cell_type": "code",
   "execution_count": 39,
   "metadata": {},
   "outputs": [],
   "source": [
    "def columns2lower(X):\n",
    "    \"\"\"Function for get lower names of columns\"\"\"\n",
    "    X.columns = X.columns.str.lower()\n",
    "    return X"
   ]
  },
  {
   "cell_type": "markdown",
   "metadata": {},
   "source": [
    "Разделим данные на обучающую и валидационную выборки."
   ]
  },
  {
   "cell_type": "code",
   "execution_count": 40,
   "metadata": {},
   "outputs": [],
   "source": [
    "X_train, X_val, y_train, y_val = train_test_split(X, y, random_state=123, test_size=0.2)"
   ]
  },
  {
   "cell_type": "code",
   "execution_count": 41,
   "metadata": {},
   "outputs": [
    {
     "data": {
      "text/plain": [
       "((471, 11), (471,))"
      ]
     },
     "execution_count": 41,
     "metadata": {},
     "output_type": "execute_result"
    }
   ],
   "source": [
    "X_train.shape, y_train.shape"
   ]
  },
  {
   "cell_type": "markdown",
   "metadata": {},
   "source": [
    "#### Построение модели."
   ]
  },
  {
   "cell_type": "code",
   "execution_count": 42,
   "metadata": {},
   "outputs": [],
   "source": [
    "# зададим параметры \n",
    "cv = StratifiedKFold(n_splits=5)\n",
    "scoring = 'roc_auc'\n",
    "estimators = (50, 151, 50)"
   ]
  },
  {
   "cell_type": "code",
   "execution_count": 43,
   "metadata": {},
   "outputs": [],
   "source": [
    "pipe = Pipeline(\n",
    "    [\n",
    "        (\"columns lower\", FunctionTransformer(columns2lower, feature_names_out='one-to-one')),\n",
    "        (\n",
    "            \"preproc\",\n",
    "            ColumnTransformer(\n",
    "                transformers=[\n",
    "                    (\n",
    "                        \"special transformer\",\n",
    "                        SpecialImputer(grouped_age, grouped_cholesterol),\n",
    "                        [\"restingbp\", \"age\", \"sex\", \"cholesterol\"],\n",
    "                    ),\n",
    "                    (\n",
    "                        \"encoder_cat\",\n",
    "                        OneHotEncoder(drop=\"first\"),\n",
    "                        [\"chestpaintype\", \"restingecg\", \"exerciseangina\", \"st_slope\"],\n",
    "                    ),\n",
    "                ]\n",
    "            ),\n",
    "        ),\n",
    "        (\"scaler\", StandardScaler()),\n",
    "        (\n",
    "            \"clf\",\n",
    "            None,\n",
    "        ),\n",
    "    ]\n",
    ")\n",
    "models = [\n",
    "    {\n",
    "        \"clf\": (\n",
    "            LogisticRegression(\n",
    "                solver=\"liblinear\", random_state=123, class_weight=\"balanced\"\n",
    "            ),\n",
    "        ),\n",
    "        \"clf__C\": (1, 10),\n",
    "    },\n",
    "    {\n",
    "        \"clf\": (RandomForestClassifier(random_state=123, class_weight=\"balanced\"),),\n",
    "        \"clf__max_depth\": [2, 4, 7],\n",
    "        \"clf__min_samples_leaf\": (1, 6, 2),\n",
    "        \"clf__min_samples_split\": (2, 8, 2),\n",
    "        \"clf__n_estimators\": estimators,\n",
    "    },\n",
    "    {\n",
    "        \"clf\": (XGBClassifier(random_state=123),),\n",
    "        \"clf__max_depth\": (5, 16, 5),\n",
    "        \"clf__learning_rate\": [0.01, 0.05, 0.1],\n",
    "        \"clf__n_estimators\": estimators,\n",
    "    },\n",
    "]\n",
    "\n",
    "params = [{**model} for model in models]\n",
    "grid_search = GridSearchCV(pipe, param_grid=params, cv=cv, scoring=scoring, n_jobs=-1)"
   ]
  },
  {
   "cell_type": "code",
   "execution_count": 44,
   "metadata": {},
   "outputs": [
    {
     "data": {
      "text/html": [
       "<style>#sk-container-id-1 {\n",
       "  /* Definition of color scheme common for light and dark mode */\n",
       "  --sklearn-color-text: black;\n",
       "  --sklearn-color-line: gray;\n",
       "  /* Definition of color scheme for unfitted estimators */\n",
       "  --sklearn-color-unfitted-level-0: #fff5e6;\n",
       "  --sklearn-color-unfitted-level-1: #f6e4d2;\n",
       "  --sklearn-color-unfitted-level-2: #ffe0b3;\n",
       "  --sklearn-color-unfitted-level-3: chocolate;\n",
       "  /* Definition of color scheme for fitted estimators */\n",
       "  --sklearn-color-fitted-level-0: #f0f8ff;\n",
       "  --sklearn-color-fitted-level-1: #d4ebff;\n",
       "  --sklearn-color-fitted-level-2: #b3dbfd;\n",
       "  --sklearn-color-fitted-level-3: cornflowerblue;\n",
       "\n",
       "  /* Specific color for light theme */\n",
       "  --sklearn-color-text-on-default-background: var(--sg-text-color, var(--theme-code-foreground, var(--jp-content-font-color1, black)));\n",
       "  --sklearn-color-background: var(--sg-background-color, var(--theme-background, var(--jp-layout-color0, white)));\n",
       "  --sklearn-color-border-box: var(--sg-text-color, var(--theme-code-foreground, var(--jp-content-font-color1, black)));\n",
       "  --sklearn-color-icon: #696969;\n",
       "\n",
       "  @media (prefers-color-scheme: dark) {\n",
       "    /* Redefinition of color scheme for dark theme */\n",
       "    --sklearn-color-text-on-default-background: var(--sg-text-color, var(--theme-code-foreground, var(--jp-content-font-color1, white)));\n",
       "    --sklearn-color-background: var(--sg-background-color, var(--theme-background, var(--jp-layout-color0, #111)));\n",
       "    --sklearn-color-border-box: var(--sg-text-color, var(--theme-code-foreground, var(--jp-content-font-color1, white)));\n",
       "    --sklearn-color-icon: #878787;\n",
       "  }\n",
       "}\n",
       "\n",
       "#sk-container-id-1 {\n",
       "  color: var(--sklearn-color-text);\n",
       "}\n",
       "\n",
       "#sk-container-id-1 pre {\n",
       "  padding: 0;\n",
       "}\n",
       "\n",
       "#sk-container-id-1 input.sk-hidden--visually {\n",
       "  border: 0;\n",
       "  clip: rect(1px 1px 1px 1px);\n",
       "  clip: rect(1px, 1px, 1px, 1px);\n",
       "  height: 1px;\n",
       "  margin: -1px;\n",
       "  overflow: hidden;\n",
       "  padding: 0;\n",
       "  position: absolute;\n",
       "  width: 1px;\n",
       "}\n",
       "\n",
       "#sk-container-id-1 div.sk-dashed-wrapped {\n",
       "  border: 1px dashed var(--sklearn-color-line);\n",
       "  margin: 0 0.4em 0.5em 0.4em;\n",
       "  box-sizing: border-box;\n",
       "  padding-bottom: 0.4em;\n",
       "  background-color: var(--sklearn-color-background);\n",
       "}\n",
       "\n",
       "#sk-container-id-1 div.sk-container {\n",
       "  /* jupyter's `normalize.less` sets `[hidden] { display: none; }`\n",
       "     but bootstrap.min.css set `[hidden] { display: none !important; }`\n",
       "     so we also need the `!important` here to be able to override the\n",
       "     default hidden behavior on the sphinx rendered scikit-learn.org.\n",
       "     See: https://github.com/scikit-learn/scikit-learn/issues/21755 */\n",
       "  display: inline-block !important;\n",
       "  position: relative;\n",
       "}\n",
       "\n",
       "#sk-container-id-1 div.sk-text-repr-fallback {\n",
       "  display: none;\n",
       "}\n",
       "\n",
       "div.sk-parallel-item,\n",
       "div.sk-serial,\n",
       "div.sk-item {\n",
       "  /* draw centered vertical line to link estimators */\n",
       "  background-image: linear-gradient(var(--sklearn-color-text-on-default-background), var(--sklearn-color-text-on-default-background));\n",
       "  background-size: 2px 100%;\n",
       "  background-repeat: no-repeat;\n",
       "  background-position: center center;\n",
       "}\n",
       "\n",
       "/* Parallel-specific style estimator block */\n",
       "\n",
       "#sk-container-id-1 div.sk-parallel-item::after {\n",
       "  content: \"\";\n",
       "  width: 100%;\n",
       "  border-bottom: 2px solid var(--sklearn-color-text-on-default-background);\n",
       "  flex-grow: 1;\n",
       "}\n",
       "\n",
       "#sk-container-id-1 div.sk-parallel {\n",
       "  display: flex;\n",
       "  align-items: stretch;\n",
       "  justify-content: center;\n",
       "  background-color: var(--sklearn-color-background);\n",
       "  position: relative;\n",
       "}\n",
       "\n",
       "#sk-container-id-1 div.sk-parallel-item {\n",
       "  display: flex;\n",
       "  flex-direction: column;\n",
       "}\n",
       "\n",
       "#sk-container-id-1 div.sk-parallel-item:first-child::after {\n",
       "  align-self: flex-end;\n",
       "  width: 50%;\n",
       "}\n",
       "\n",
       "#sk-container-id-1 div.sk-parallel-item:last-child::after {\n",
       "  align-self: flex-start;\n",
       "  width: 50%;\n",
       "}\n",
       "\n",
       "#sk-container-id-1 div.sk-parallel-item:only-child::after {\n",
       "  width: 0;\n",
       "}\n",
       "\n",
       "/* Serial-specific style estimator block */\n",
       "\n",
       "#sk-container-id-1 div.sk-serial {\n",
       "  display: flex;\n",
       "  flex-direction: column;\n",
       "  align-items: center;\n",
       "  background-color: var(--sklearn-color-background);\n",
       "  padding-right: 1em;\n",
       "  padding-left: 1em;\n",
       "}\n",
       "\n",
       "\n",
       "/* Toggleable style: style used for estimator/Pipeline/ColumnTransformer box that is\n",
       "clickable and can be expanded/collapsed.\n",
       "- Pipeline and ColumnTransformer use this feature and define the default style\n",
       "- Estimators will overwrite some part of the style using the `sk-estimator` class\n",
       "*/\n",
       "\n",
       "/* Pipeline and ColumnTransformer style (default) */\n",
       "\n",
       "#sk-container-id-1 div.sk-toggleable {\n",
       "  /* Default theme specific background. It is overwritten whether we have a\n",
       "  specific estimator or a Pipeline/ColumnTransformer */\n",
       "  background-color: var(--sklearn-color-background);\n",
       "}\n",
       "\n",
       "/* Toggleable label */\n",
       "#sk-container-id-1 label.sk-toggleable__label {\n",
       "  cursor: pointer;\n",
       "  display: block;\n",
       "  width: 100%;\n",
       "  margin-bottom: 0;\n",
       "  padding: 0.5em;\n",
       "  box-sizing: border-box;\n",
       "  text-align: center;\n",
       "}\n",
       "\n",
       "#sk-container-id-1 label.sk-toggleable__label-arrow:before {\n",
       "  /* Arrow on the left of the label */\n",
       "  content: \"▸\";\n",
       "  float: left;\n",
       "  margin-right: 0.25em;\n",
       "  color: var(--sklearn-color-icon);\n",
       "}\n",
       "\n",
       "#sk-container-id-1 label.sk-toggleable__label-arrow:hover:before {\n",
       "  color: var(--sklearn-color-text);\n",
       "}\n",
       "\n",
       "/* Toggleable content - dropdown */\n",
       "\n",
       "#sk-container-id-1 div.sk-toggleable__content {\n",
       "  max-height: 0;\n",
       "  max-width: 0;\n",
       "  overflow: hidden;\n",
       "  text-align: left;\n",
       "  /* unfitted */\n",
       "  background-color: var(--sklearn-color-unfitted-level-0);\n",
       "}\n",
       "\n",
       "#sk-container-id-1 div.sk-toggleable__content.fitted {\n",
       "  /* fitted */\n",
       "  background-color: var(--sklearn-color-fitted-level-0);\n",
       "}\n",
       "\n",
       "#sk-container-id-1 div.sk-toggleable__content pre {\n",
       "  margin: 0.2em;\n",
       "  border-radius: 0.25em;\n",
       "  color: var(--sklearn-color-text);\n",
       "  /* unfitted */\n",
       "  background-color: var(--sklearn-color-unfitted-level-0);\n",
       "}\n",
       "\n",
       "#sk-container-id-1 div.sk-toggleable__content.fitted pre {\n",
       "  /* unfitted */\n",
       "  background-color: var(--sklearn-color-fitted-level-0);\n",
       "}\n",
       "\n",
       "#sk-container-id-1 input.sk-toggleable__control:checked~div.sk-toggleable__content {\n",
       "  /* Expand drop-down */\n",
       "  max-height: 200px;\n",
       "  max-width: 100%;\n",
       "  overflow: auto;\n",
       "}\n",
       "\n",
       "#sk-container-id-1 input.sk-toggleable__control:checked~label.sk-toggleable__label-arrow:before {\n",
       "  content: \"▾\";\n",
       "}\n",
       "\n",
       "/* Pipeline/ColumnTransformer-specific style */\n",
       "\n",
       "#sk-container-id-1 div.sk-label input.sk-toggleable__control:checked~label.sk-toggleable__label {\n",
       "  color: var(--sklearn-color-text);\n",
       "  background-color: var(--sklearn-color-unfitted-level-2);\n",
       "}\n",
       "\n",
       "#sk-container-id-1 div.sk-label.fitted input.sk-toggleable__control:checked~label.sk-toggleable__label {\n",
       "  background-color: var(--sklearn-color-fitted-level-2);\n",
       "}\n",
       "\n",
       "/* Estimator-specific style */\n",
       "\n",
       "/* Colorize estimator box */\n",
       "#sk-container-id-1 div.sk-estimator input.sk-toggleable__control:checked~label.sk-toggleable__label {\n",
       "  /* unfitted */\n",
       "  background-color: var(--sklearn-color-unfitted-level-2);\n",
       "}\n",
       "\n",
       "#sk-container-id-1 div.sk-estimator.fitted input.sk-toggleable__control:checked~label.sk-toggleable__label {\n",
       "  /* fitted */\n",
       "  background-color: var(--sklearn-color-fitted-level-2);\n",
       "}\n",
       "\n",
       "#sk-container-id-1 div.sk-label label.sk-toggleable__label,\n",
       "#sk-container-id-1 div.sk-label label {\n",
       "  /* The background is the default theme color */\n",
       "  color: var(--sklearn-color-text-on-default-background);\n",
       "}\n",
       "\n",
       "/* On hover, darken the color of the background */\n",
       "#sk-container-id-1 div.sk-label:hover label.sk-toggleable__label {\n",
       "  color: var(--sklearn-color-text);\n",
       "  background-color: var(--sklearn-color-unfitted-level-2);\n",
       "}\n",
       "\n",
       "/* Label box, darken color on hover, fitted */\n",
       "#sk-container-id-1 div.sk-label.fitted:hover label.sk-toggleable__label.fitted {\n",
       "  color: var(--sklearn-color-text);\n",
       "  background-color: var(--sklearn-color-fitted-level-2);\n",
       "}\n",
       "\n",
       "/* Estimator label */\n",
       "\n",
       "#sk-container-id-1 div.sk-label label {\n",
       "  font-family: monospace;\n",
       "  font-weight: bold;\n",
       "  display: inline-block;\n",
       "  line-height: 1.2em;\n",
       "}\n",
       "\n",
       "#sk-container-id-1 div.sk-label-container {\n",
       "  text-align: center;\n",
       "}\n",
       "\n",
       "/* Estimator-specific */\n",
       "#sk-container-id-1 div.sk-estimator {\n",
       "  font-family: monospace;\n",
       "  border: 1px dotted var(--sklearn-color-border-box);\n",
       "  border-radius: 0.25em;\n",
       "  box-sizing: border-box;\n",
       "  margin-bottom: 0.5em;\n",
       "  /* unfitted */\n",
       "  background-color: var(--sklearn-color-unfitted-level-0);\n",
       "}\n",
       "\n",
       "#sk-container-id-1 div.sk-estimator.fitted {\n",
       "  /* fitted */\n",
       "  background-color: var(--sklearn-color-fitted-level-0);\n",
       "}\n",
       "\n",
       "/* on hover */\n",
       "#sk-container-id-1 div.sk-estimator:hover {\n",
       "  /* unfitted */\n",
       "  background-color: var(--sklearn-color-unfitted-level-2);\n",
       "}\n",
       "\n",
       "#sk-container-id-1 div.sk-estimator.fitted:hover {\n",
       "  /* fitted */\n",
       "  background-color: var(--sklearn-color-fitted-level-2);\n",
       "}\n",
       "\n",
       "/* Specification for estimator info (e.g. \"i\" and \"?\") */\n",
       "\n",
       "/* Common style for \"i\" and \"?\" */\n",
       "\n",
       ".sk-estimator-doc-link,\n",
       "a:link.sk-estimator-doc-link,\n",
       "a:visited.sk-estimator-doc-link {\n",
       "  float: right;\n",
       "  font-size: smaller;\n",
       "  line-height: 1em;\n",
       "  font-family: monospace;\n",
       "  background-color: var(--sklearn-color-background);\n",
       "  border-radius: 1em;\n",
       "  height: 1em;\n",
       "  width: 1em;\n",
       "  text-decoration: none !important;\n",
       "  margin-left: 1ex;\n",
       "  /* unfitted */\n",
       "  border: var(--sklearn-color-unfitted-level-1) 1pt solid;\n",
       "  color: var(--sklearn-color-unfitted-level-1);\n",
       "}\n",
       "\n",
       ".sk-estimator-doc-link.fitted,\n",
       "a:link.sk-estimator-doc-link.fitted,\n",
       "a:visited.sk-estimator-doc-link.fitted {\n",
       "  /* fitted */\n",
       "  border: var(--sklearn-color-fitted-level-1) 1pt solid;\n",
       "  color: var(--sklearn-color-fitted-level-1);\n",
       "}\n",
       "\n",
       "/* On hover */\n",
       "div.sk-estimator:hover .sk-estimator-doc-link:hover,\n",
       ".sk-estimator-doc-link:hover,\n",
       "div.sk-label-container:hover .sk-estimator-doc-link:hover,\n",
       ".sk-estimator-doc-link:hover {\n",
       "  /* unfitted */\n",
       "  background-color: var(--sklearn-color-unfitted-level-3);\n",
       "  color: var(--sklearn-color-background);\n",
       "  text-decoration: none;\n",
       "}\n",
       "\n",
       "div.sk-estimator.fitted:hover .sk-estimator-doc-link.fitted:hover,\n",
       ".sk-estimator-doc-link.fitted:hover,\n",
       "div.sk-label-container:hover .sk-estimator-doc-link.fitted:hover,\n",
       ".sk-estimator-doc-link.fitted:hover {\n",
       "  /* fitted */\n",
       "  background-color: var(--sklearn-color-fitted-level-3);\n",
       "  color: var(--sklearn-color-background);\n",
       "  text-decoration: none;\n",
       "}\n",
       "\n",
       "/* Span, style for the box shown on hovering the info icon */\n",
       ".sk-estimator-doc-link span {\n",
       "  display: none;\n",
       "  z-index: 9999;\n",
       "  position: relative;\n",
       "  font-weight: normal;\n",
       "  right: .2ex;\n",
       "  padding: .5ex;\n",
       "  margin: .5ex;\n",
       "  width: min-content;\n",
       "  min-width: 20ex;\n",
       "  max-width: 50ex;\n",
       "  color: var(--sklearn-color-text);\n",
       "  box-shadow: 2pt 2pt 4pt #999;\n",
       "  /* unfitted */\n",
       "  background: var(--sklearn-color-unfitted-level-0);\n",
       "  border: .5pt solid var(--sklearn-color-unfitted-level-3);\n",
       "}\n",
       "\n",
       ".sk-estimator-doc-link.fitted span {\n",
       "  /* fitted */\n",
       "  background: var(--sklearn-color-fitted-level-0);\n",
       "  border: var(--sklearn-color-fitted-level-3);\n",
       "}\n",
       "\n",
       ".sk-estimator-doc-link:hover span {\n",
       "  display: block;\n",
       "}\n",
       "\n",
       "/* \"?\"-specific style due to the `<a>` HTML tag */\n",
       "\n",
       "#sk-container-id-1 a.estimator_doc_link {\n",
       "  float: right;\n",
       "  font-size: 1rem;\n",
       "  line-height: 1em;\n",
       "  font-family: monospace;\n",
       "  background-color: var(--sklearn-color-background);\n",
       "  border-radius: 1rem;\n",
       "  height: 1rem;\n",
       "  width: 1rem;\n",
       "  text-decoration: none;\n",
       "  /* unfitted */\n",
       "  color: var(--sklearn-color-unfitted-level-1);\n",
       "  border: var(--sklearn-color-unfitted-level-1) 1pt solid;\n",
       "}\n",
       "\n",
       "#sk-container-id-1 a.estimator_doc_link.fitted {\n",
       "  /* fitted */\n",
       "  border: var(--sklearn-color-fitted-level-1) 1pt solid;\n",
       "  color: var(--sklearn-color-fitted-level-1);\n",
       "}\n",
       "\n",
       "/* On hover */\n",
       "#sk-container-id-1 a.estimator_doc_link:hover {\n",
       "  /* unfitted */\n",
       "  background-color: var(--sklearn-color-unfitted-level-3);\n",
       "  color: var(--sklearn-color-background);\n",
       "  text-decoration: none;\n",
       "}\n",
       "\n",
       "#sk-container-id-1 a.estimator_doc_link.fitted:hover {\n",
       "  /* fitted */\n",
       "  background-color: var(--sklearn-color-fitted-level-3);\n",
       "}\n",
       "</style><div id=\"sk-container-id-1\" class=\"sk-top-container\"><div class=\"sk-text-repr-fallback\"><pre>GridSearchCV(cv=StratifiedKFold(n_splits=5, random_state=None, shuffle=False),\n",
       "             estimator=Pipeline(steps=[(&#x27;columns lower&#x27;,\n",
       "                                        FunctionTransformer(feature_names_out=&#x27;one-to-one&#x27;,\n",
       "                                                            func=&lt;function columns2lower at 0x71313cae9e10&gt;)),\n",
       "                                       (&#x27;preproc&#x27;,\n",
       "                                        ColumnTransformer(transformers=[(&#x27;special &#x27;\n",
       "                                                                         &#x27;transformer&#x27;,\n",
       "                                                                         SpecialImputer(grouped_age=    restingbp  median_age\n",
       "0        80.0         NaN\n",
       "1        92.0        38.0\n",
       "2        94....\n",
       "                                                max_cat_threshold=None,\n",
       "                                                max_cat_to_onehot=None,\n",
       "                                                max_delta_step=None,\n",
       "                                                max_depth=None, max_leaves=None,\n",
       "                                                min_child_weight=None,\n",
       "                                                missing=nan,\n",
       "                                                monotone_constraints=None,\n",
       "                                                multi_strategy=None,\n",
       "                                                n_estimators=None, n_jobs=None,\n",
       "                                                num_parallel_tree=None,\n",
       "                                                random_state=123, ...),),\n",
       "                          &#x27;clf__learning_rate&#x27;: [0.01, 0.05, 0.1],\n",
       "                          &#x27;clf__max_depth&#x27;: (5, 16, 5),\n",
       "                          &#x27;clf__n_estimators&#x27;: (50, 151, 50)}],\n",
       "             scoring=&#x27;roc_auc&#x27;)</pre><b>In a Jupyter environment, please rerun this cell to show the HTML representation or trust the notebook. <br />On GitHub, the HTML representation is unable to render, please try loading this page with nbviewer.org.</b></div><div class=\"sk-container\" hidden><div class=\"sk-item sk-dashed-wrapped\"><div class=\"sk-label-container\"><div class=\"sk-label fitted sk-toggleable\"><input class=\"sk-toggleable__control sk-hidden--visually\" id=\"sk-estimator-id-1\" type=\"checkbox\" ><label for=\"sk-estimator-id-1\" class=\"sk-toggleable__label fitted sk-toggleable__label-arrow fitted\">&nbsp;&nbsp;GridSearchCV<a class=\"sk-estimator-doc-link fitted\" rel=\"noreferrer\" target=\"_blank\" href=\"https://scikit-learn.org/1.5/modules/generated/sklearn.model_selection.GridSearchCV.html\">?<span>Documentation for GridSearchCV</span></a><span class=\"sk-estimator-doc-link fitted\">i<span>Fitted</span></span></label><div class=\"sk-toggleable__content fitted\"><pre>GridSearchCV(cv=StratifiedKFold(n_splits=5, random_state=None, shuffle=False),\n",
       "             estimator=Pipeline(steps=[(&#x27;columns lower&#x27;,\n",
       "                                        FunctionTransformer(feature_names_out=&#x27;one-to-one&#x27;,\n",
       "                                                            func=&lt;function columns2lower at 0x71313cae9e10&gt;)),\n",
       "                                       (&#x27;preproc&#x27;,\n",
       "                                        ColumnTransformer(transformers=[(&#x27;special &#x27;\n",
       "                                                                         &#x27;transformer&#x27;,\n",
       "                                                                         SpecialImputer(grouped_age=    restingbp  median_age\n",
       "0        80.0         NaN\n",
       "1        92.0        38.0\n",
       "2        94....\n",
       "                                                max_cat_threshold=None,\n",
       "                                                max_cat_to_onehot=None,\n",
       "                                                max_delta_step=None,\n",
       "                                                max_depth=None, max_leaves=None,\n",
       "                                                min_child_weight=None,\n",
       "                                                missing=nan,\n",
       "                                                monotone_constraints=None,\n",
       "                                                multi_strategy=None,\n",
       "                                                n_estimators=None, n_jobs=None,\n",
       "                                                num_parallel_tree=None,\n",
       "                                                random_state=123, ...),),\n",
       "                          &#x27;clf__learning_rate&#x27;: [0.01, 0.05, 0.1],\n",
       "                          &#x27;clf__max_depth&#x27;: (5, 16, 5),\n",
       "                          &#x27;clf__n_estimators&#x27;: (50, 151, 50)}],\n",
       "             scoring=&#x27;roc_auc&#x27;)</pre></div> </div></div><div class=\"sk-parallel\"><div class=\"sk-parallel-item\"><div class=\"sk-item\"><div class=\"sk-label-container\"><div class=\"sk-label fitted sk-toggleable\"><input class=\"sk-toggleable__control sk-hidden--visually\" id=\"sk-estimator-id-2\" type=\"checkbox\" ><label for=\"sk-estimator-id-2\" class=\"sk-toggleable__label fitted sk-toggleable__label-arrow fitted\">best_estimator_: Pipeline</label><div class=\"sk-toggleable__content fitted\"><pre>Pipeline(steps=[(&#x27;columns lower&#x27;,\n",
       "                 FunctionTransformer(feature_names_out=&#x27;one-to-one&#x27;,\n",
       "                                     func=&lt;function columns2lower at 0x71313cae9e10&gt;)),\n",
       "                (&#x27;preproc&#x27;,\n",
       "                 ColumnTransformer(transformers=[(&#x27;special transformer&#x27;,\n",
       "                                                  SpecialImputer(grouped_age=    restingbp  median_age\n",
       "0        80.0         NaN\n",
       "1        92.0        38.0\n",
       "2        94.0        51.0\n",
       "3        95.0        40.0\n",
       "4        98.0        34.0\n",
       "..        ...         ...\n",
       "56      178.0        59.0\n",
       "57      180.0        58.0\n",
       "58      190.0        61.0\n",
       "59      192.0        54.0\n",
       "60      200.0        58.5\n",
       "\n",
       "[6...\n",
       "18    (72.1, 77.0]   F               233.0    F(72.1, 77.0]\n",
       "19    (72.1, 77.0]   M               203.0    M(72.1, 77.0]),\n",
       "                                                  [&#x27;restingbp&#x27;, &#x27;age&#x27;, &#x27;sex&#x27;,\n",
       "                                                   &#x27;cholesterol&#x27;]),\n",
       "                                                 (&#x27;encoder_cat&#x27;,\n",
       "                                                  OneHotEncoder(drop=&#x27;first&#x27;),\n",
       "                                                  [&#x27;chestpaintype&#x27;,\n",
       "                                                   &#x27;restingecg&#x27;,\n",
       "                                                   &#x27;exerciseangina&#x27;,\n",
       "                                                   &#x27;st_slope&#x27;])])),\n",
       "                (&#x27;scaler&#x27;, StandardScaler()),\n",
       "                (&#x27;clf&#x27;,\n",
       "                 RandomForestClassifier(class_weight=&#x27;balanced&#x27;, max_depth=7,\n",
       "                                        min_samples_split=8, n_estimators=151,\n",
       "                                        random_state=123))])</pre></div> </div></div><div class=\"sk-serial\"><div class=\"sk-item\"><div class=\"sk-serial\"><div class=\"sk-item\"><div class=\"sk-estimator fitted sk-toggleable\"><input class=\"sk-toggleable__control sk-hidden--visually\" id=\"sk-estimator-id-3\" type=\"checkbox\" ><label for=\"sk-estimator-id-3\" class=\"sk-toggleable__label fitted sk-toggleable__label-arrow fitted\">&nbsp;FunctionTransformer<a class=\"sk-estimator-doc-link fitted\" rel=\"noreferrer\" target=\"_blank\" href=\"https://scikit-learn.org/1.5/modules/generated/sklearn.preprocessing.FunctionTransformer.html\">?<span>Documentation for FunctionTransformer</span></a></label><div class=\"sk-toggleable__content fitted\"><pre>FunctionTransformer(feature_names_out=&#x27;one-to-one&#x27;,\n",
       "                    func=&lt;function columns2lower at 0x71313cae9e10&gt;)</pre></div> </div></div><div class=\"sk-item sk-dashed-wrapped\"><div class=\"sk-label-container\"><div class=\"sk-label fitted sk-toggleable\"><input class=\"sk-toggleable__control sk-hidden--visually\" id=\"sk-estimator-id-4\" type=\"checkbox\" ><label for=\"sk-estimator-id-4\" class=\"sk-toggleable__label fitted sk-toggleable__label-arrow fitted\">&nbsp;preproc: ColumnTransformer<a class=\"sk-estimator-doc-link fitted\" rel=\"noreferrer\" target=\"_blank\" href=\"https://scikit-learn.org/1.5/modules/generated/sklearn.compose.ColumnTransformer.html\">?<span>Documentation for preproc: ColumnTransformer</span></a></label><div class=\"sk-toggleable__content fitted\"><pre>ColumnTransformer(transformers=[(&#x27;special transformer&#x27;,\n",
       "                                 SpecialImputer(grouped_age=    restingbp  median_age\n",
       "0        80.0         NaN\n",
       "1        92.0        38.0\n",
       "2        94.0        51.0\n",
       "3        95.0        40.0\n",
       "4        98.0        34.0\n",
       "..        ...         ...\n",
       "56      178.0        59.0\n",
       "57      180.0        58.0\n",
       "58      190.0        61.0\n",
       "59      192.0        54.0\n",
       "60      200.0        58.5\n",
       "\n",
       "[61 rows x 2 columns],\n",
       "                                                grouped_cholesterol=           age_cut sex  median_cholesterol          age_sex\n",
       "0   (27.951, 32.9]   F               198.0  F(27.951, 32.9]\n",
       "1   (27.951, 32.9]   M               263.0  M(27.951, 32.9]\n",
       "2     (...\n",
       "13    (57.4, 62.3]   M               234.0    M(57.4, 62.3]\n",
       "14    (62.3, 67.2]   F               276.0    F(62.3, 67.2]\n",
       "15    (62.3, 67.2]   M               252.0    M(62.3, 67.2]\n",
       "16    (67.2, 72.1]   F               238.0    F(67.2, 72.1]\n",
       "17    (67.2, 72.1]   M               212.0    M(67.2, 72.1]\n",
       "18    (72.1, 77.0]   F               233.0    F(72.1, 77.0]\n",
       "19    (72.1, 77.0]   M               203.0    M(72.1, 77.0]),\n",
       "                                 [&#x27;restingbp&#x27;, &#x27;age&#x27;, &#x27;sex&#x27;, &#x27;cholesterol&#x27;]),\n",
       "                                (&#x27;encoder_cat&#x27;, OneHotEncoder(drop=&#x27;first&#x27;),\n",
       "                                 [&#x27;chestpaintype&#x27;, &#x27;restingecg&#x27;,\n",
       "                                  &#x27;exerciseangina&#x27;, &#x27;st_slope&#x27;])])</pre></div> </div></div><div class=\"sk-parallel\"><div class=\"sk-parallel-item\"><div class=\"sk-item\"><div class=\"sk-label-container\"><div class=\"sk-label fitted sk-toggleable\"><input class=\"sk-toggleable__control sk-hidden--visually\" id=\"sk-estimator-id-5\" type=\"checkbox\" ><label for=\"sk-estimator-id-5\" class=\"sk-toggleable__label fitted sk-toggleable__label-arrow fitted\">special transformer</label><div class=\"sk-toggleable__content fitted\"><pre>[&#x27;restingbp&#x27;, &#x27;age&#x27;, &#x27;sex&#x27;, &#x27;cholesterol&#x27;]</pre></div> </div></div><div class=\"sk-serial\"><div class=\"sk-item\"><div class=\"sk-estimator fitted sk-toggleable\"><input class=\"sk-toggleable__control sk-hidden--visually\" id=\"sk-estimator-id-6\" type=\"checkbox\" ><label for=\"sk-estimator-id-6\" class=\"sk-toggleable__label fitted sk-toggleable__label-arrow fitted\">SpecialImputer</label><div class=\"sk-toggleable__content fitted\"><pre>SpecialImputer(grouped_age=    restingbp  median_age\n",
       "0        80.0         NaN\n",
       "1        92.0        38.0\n",
       "2        94.0        51.0\n",
       "3        95.0        40.0\n",
       "4        98.0        34.0\n",
       "..        ...         ...\n",
       "56      178.0        59.0\n",
       "57      180.0        58.0\n",
       "58      190.0        61.0\n",
       "59      192.0        54.0\n",
       "60      200.0        58.5\n",
       "\n",
       "[61 rows x 2 columns],\n",
       "               grouped_cholesterol=           age_cut sex  median_cholesterol          age_sex\n",
       "0   (27.951, 32.9]   F               198.0  F(27.951, 32.9]\n",
       "1   (27.951, 32.9]   M               263.0  M(27.951, 32.9]\n",
       "2     (32.9, 37.8]   F               183.0    F(32.9, 37.8]\n",
       "3     (32.9, 37.8]   M               257.0    M(32.9, 3...\n",
       "8     (47.6, 52.5]   F               261.5    F(47.6, 52.5]\n",
       "9     (47.6, 52.5]   M               233.0    M(47.6, 52.5]\n",
       "10    (52.5, 57.4]   F               274.0    F(52.5, 57.4]\n",
       "11    (52.5, 57.4]   M               242.0    M(52.5, 57.4]\n",
       "12    (57.4, 62.3]   F               263.0    F(57.4, 62.3]\n",
       "13    (57.4, 62.3]   M               234.0    M(57.4, 62.3]\n",
       "14    (62.3, 67.2]   F               276.0    F(62.3, 67.2]\n",
       "15    (62.3, 67.2]   M               252.0    M(62.3, 67.2]\n",
       "16    (67.2, 72.1]   F               238.0    F(67.2, 72.1]\n",
       "17    (67.2, 72.1]   M               212.0    M(67.2, 72.1]\n",
       "18    (72.1, 77.0]   F               233.0    F(72.1, 77.0]\n",
       "19    (72.1, 77.0]   M               203.0    M(72.1, 77.0])</pre></div> </div></div></div></div></div><div class=\"sk-parallel-item\"><div class=\"sk-item\"><div class=\"sk-label-container\"><div class=\"sk-label fitted sk-toggleable\"><input class=\"sk-toggleable__control sk-hidden--visually\" id=\"sk-estimator-id-7\" type=\"checkbox\" ><label for=\"sk-estimator-id-7\" class=\"sk-toggleable__label fitted sk-toggleable__label-arrow fitted\">encoder_cat</label><div class=\"sk-toggleable__content fitted\"><pre>[&#x27;chestpaintype&#x27;, &#x27;restingecg&#x27;, &#x27;exerciseangina&#x27;, &#x27;st_slope&#x27;]</pre></div> </div></div><div class=\"sk-serial\"><div class=\"sk-item\"><div class=\"sk-estimator fitted sk-toggleable\"><input class=\"sk-toggleable__control sk-hidden--visually\" id=\"sk-estimator-id-8\" type=\"checkbox\" ><label for=\"sk-estimator-id-8\" class=\"sk-toggleable__label fitted sk-toggleable__label-arrow fitted\">&nbsp;OneHotEncoder<a class=\"sk-estimator-doc-link fitted\" rel=\"noreferrer\" target=\"_blank\" href=\"https://scikit-learn.org/1.5/modules/generated/sklearn.preprocessing.OneHotEncoder.html\">?<span>Documentation for OneHotEncoder</span></a></label><div class=\"sk-toggleable__content fitted\"><pre>OneHotEncoder(drop=&#x27;first&#x27;)</pre></div> </div></div></div></div></div></div></div><div class=\"sk-item\"><div class=\"sk-estimator fitted sk-toggleable\"><input class=\"sk-toggleable__control sk-hidden--visually\" id=\"sk-estimator-id-9\" type=\"checkbox\" ><label for=\"sk-estimator-id-9\" class=\"sk-toggleable__label fitted sk-toggleable__label-arrow fitted\">&nbsp;StandardScaler<a class=\"sk-estimator-doc-link fitted\" rel=\"noreferrer\" target=\"_blank\" href=\"https://scikit-learn.org/1.5/modules/generated/sklearn.preprocessing.StandardScaler.html\">?<span>Documentation for StandardScaler</span></a></label><div class=\"sk-toggleable__content fitted\"><pre>StandardScaler()</pre></div> </div></div><div class=\"sk-item\"><div class=\"sk-estimator fitted sk-toggleable\"><input class=\"sk-toggleable__control sk-hidden--visually\" id=\"sk-estimator-id-10\" type=\"checkbox\" ><label for=\"sk-estimator-id-10\" class=\"sk-toggleable__label fitted sk-toggleable__label-arrow fitted\">&nbsp;RandomForestClassifier<a class=\"sk-estimator-doc-link fitted\" rel=\"noreferrer\" target=\"_blank\" href=\"https://scikit-learn.org/1.5/modules/generated/sklearn.ensemble.RandomForestClassifier.html\">?<span>Documentation for RandomForestClassifier</span></a></label><div class=\"sk-toggleable__content fitted\"><pre>RandomForestClassifier(class_weight=&#x27;balanced&#x27;, max_depth=7,\n",
       "                       min_samples_split=8, n_estimators=151, random_state=123)</pre></div> </div></div></div></div></div></div></div></div></div></div></div>"
      ],
      "text/plain": [
       "GridSearchCV(cv=StratifiedKFold(n_splits=5, random_state=None, shuffle=False),\n",
       "             estimator=Pipeline(steps=[('columns lower',\n",
       "                                        FunctionTransformer(feature_names_out='one-to-one',\n",
       "                                                            func=<function columns2lower at 0x71313cae9e10>)),\n",
       "                                       ('preproc',\n",
       "                                        ColumnTransformer(transformers=[('special '\n",
       "                                                                         'transformer',\n",
       "                                                                         SpecialImputer(grouped_age=    restingbp  median_age\n",
       "0        80.0         NaN\n",
       "1        92.0        38.0\n",
       "2        94....\n",
       "                                                max_cat_threshold=None,\n",
       "                                                max_cat_to_onehot=None,\n",
       "                                                max_delta_step=None,\n",
       "                                                max_depth=None, max_leaves=None,\n",
       "                                                min_child_weight=None,\n",
       "                                                missing=nan,\n",
       "                                                monotone_constraints=None,\n",
       "                                                multi_strategy=None,\n",
       "                                                n_estimators=None, n_jobs=None,\n",
       "                                                num_parallel_tree=None,\n",
       "                                                random_state=123, ...),),\n",
       "                          'clf__learning_rate': [0.01, 0.05, 0.1],\n",
       "                          'clf__max_depth': (5, 16, 5),\n",
       "                          'clf__n_estimators': (50, 151, 50)}],\n",
       "             scoring='roc_auc')"
      ]
     },
     "execution_count": 44,
     "metadata": {},
     "output_type": "execute_result"
    }
   ],
   "source": [
    "grid_search.fit(X_train, y_train)"
   ]
  },
  {
   "cell_type": "code",
   "execution_count": 45,
   "metadata": {},
   "outputs": [
    {
     "name": "stdout",
     "output_type": "stream",
     "text": [
      "Качество модели на обучающей выборке: 0.980325\n"
     ]
    }
   ],
   "source": [
    "y_pred_train = grid_search.predict_proba(X_train)[:, 1]\n",
    "roc_auc = roc_auc_score(y_train, y_pred_train)\n",
    "print(\n",
    "    f\"Качество модели на обучающей выборке: {round(roc_auc, 6)}\",\n",
    ")"
   ]
  },
  {
   "cell_type": "code",
   "execution_count": 46,
   "metadata": {},
   "outputs": [
    {
     "data": {
      "image/png": "[encoded data removed]",
      "text/plain": [
       "<Figure size 500x400 with 1 Axes>"
      ]
     },
     "metadata": {},
     "output_type": "display_data"
    }
   ],
   "source": [
    "# Выбор важных признаков\n",
    "feature_importances = pd.Series(\n",
    "    grid_search.best_estimator_[3].feature_importances_,\n",
    "    index=[\n",
    "        x.split(\"__\")[-1]\n",
    "        for x in grid_search.best_estimator_[1].get_feature_names_out()\n",
    "    ],\n",
    ").sort_values(ascending=True)\n",
    "plt.title(\"Важные признаки\")\n",
    "feature_importances.plot(kind=\"barh\", **param_plt)\n",
    "plt.show()"
   ]
  },
  {
   "cell_type": "code",
   "execution_count": 47,
   "metadata": {},
   "outputs": [
    {
     "data": {
      "image/png": "[encoded data removed]",
      "text/plain": [
       "<Figure size 500x400 with 1 Axes>"
      ]
     },
     "metadata": {},
     "output_type": "display_data"
    }
   ],
   "source": [
    "fpr, tpr, thresholds = roc_curve(y_train, y_pred_train)\n",
    "plt.title('ROC-AUC на обучающей выборке')\n",
    "plt.plot(fpr, tpr, label=f\"AUC = {roc_auc:.4f}\", **param_plt)\n",
    "plt.legend(loc=\"lower right\")\n",
    "plt.plot([0, 1], [0, 1], linestyle=\"--\")\n",
    "plt.axis(\"tight\")\n",
    "plt.ylabel(\"True Positive Rate\")\n",
    "plt.xlabel(\"False Positive Rate\")\n",
    "plt.show()"
   ]
  },
  {
   "cell_type": "code",
   "execution_count": 48,
   "metadata": {},
   "outputs": [
    {
     "data": {
      "text/html": [
       "<div>\n",
       "<style scoped>\n",
       "    .dataframe tbody tr th:only-of-type {\n",
       "        vertical-align: middle;\n",
       "    }\n",
       "\n",
       "    .dataframe tbody tr th {\n",
       "        vertical-align: top;\n",
       "    }\n",
       "\n",
       "    .dataframe thead th {\n",
       "        text-align: right;\n",
       "    }\n",
       "</style>\n",
       "<table border=\"1\" class=\"dataframe\">\n",
       "  <thead>\n",
       "    <tr style=\"text-align: right;\">\n",
       "      <th></th>\n",
       "      <th>0</th>\n",
       "      <th>1</th>\n",
       "      <th>accuracy</th>\n",
       "      <th>macro avg</th>\n",
       "      <th>weighted avg</th>\n",
       "    </tr>\n",
       "  </thead>\n",
       "  <tbody>\n",
       "    <tr>\n",
       "      <th>precision</th>\n",
       "      <td>0.855422</td>\n",
       "      <td>0.947541</td>\n",
       "      <td>0.915074</td>\n",
       "      <td>0.901481</td>\n",
       "      <td>0.916639</td>\n",
       "    </tr>\n",
       "    <tr>\n",
       "      <th>recall</th>\n",
       "      <td>0.898734</td>\n",
       "      <td>0.923323</td>\n",
       "      <td>0.915074</td>\n",
       "      <td>0.911028</td>\n",
       "      <td>0.915074</td>\n",
       "    </tr>\n",
       "    <tr>\n",
       "      <th>f1-score</th>\n",
       "      <td>0.876543</td>\n",
       "      <td>0.935275</td>\n",
       "      <td>0.915074</td>\n",
       "      <td>0.905909</td>\n",
       "      <td>0.915573</td>\n",
       "    </tr>\n",
       "    <tr>\n",
       "      <th>support</th>\n",
       "      <td>158.000000</td>\n",
       "      <td>313.000000</td>\n",
       "      <td>0.915074</td>\n",
       "      <td>471.000000</td>\n",
       "      <td>471.000000</td>\n",
       "    </tr>\n",
       "  </tbody>\n",
       "</table>\n",
       "</div>"
      ],
      "text/plain": [
       "                    0           1  accuracy   macro avg  weighted avg\n",
       "precision    0.855422    0.947541  0.915074    0.901481      0.916639\n",
       "recall       0.898734    0.923323  0.915074    0.911028      0.915074\n",
       "f1-score     0.876543    0.935275  0.915074    0.905909      0.915573\n",
       "support    158.000000  313.000000  0.915074  471.000000    471.000000"
      ]
     },
     "execution_count": 48,
     "metadata": {},
     "output_type": "execute_result"
    }
   ],
   "source": [
    "pd.DataFrame(\n",
    "    classification_report(y_train, grid_search.predict(X_train), output_dict=True)\n",
    ")"
   ]
  },
  {
   "cell_type": "code",
   "execution_count": 49,
   "metadata": {},
   "outputs": [
    {
     "data": {
      "text/plain": [
       "{'clf': RandomForestClassifier(class_weight='balanced', random_state=123),\n",
       " 'clf__max_depth': 7,\n",
       " 'clf__min_samples_leaf': 1,\n",
       " 'clf__min_samples_split': 8,\n",
       " 'clf__n_estimators': 151}"
      ]
     },
     "execution_count": 49,
     "metadata": {},
     "output_type": "execute_result"
    }
   ],
   "source": [
    "grid_search.best_params_"
   ]
  },
  {
   "cell_type": "code",
   "execution_count": 50,
   "metadata": {},
   "outputs": [],
   "source": [
    "# pd.DataFrame.from_dict(grid_search.cv_results_).transpose()"
   ]
  },
  {
   "cell_type": "code",
   "execution_count": 51,
   "metadata": {},
   "outputs": [
    {
     "name": "stdout",
     "output_type": "stream",
     "text": [
      "Качество модели на валидационной выборке: 0.911765\n"
     ]
    }
   ],
   "source": [
    "y_pred_val = grid_search.predict_proba(X_val)[:, 1]\n",
    "roc_auc_val = roc_auc_score(y_val, y_pred_val)\n",
    "print(\n",
    "    f\"Качество модели на валидационной выборке: {round(roc_auc_val, 6)}\",\n",
    ")"
   ]
  },
  {
   "cell_type": "code",
   "execution_count": 52,
   "metadata": {},
   "outputs": [
    {
     "name": "stdout",
     "output_type": "stream",
     "text": [
      "Качество модели на тестовой выборке: 0.889989\n"
     ]
    }
   ],
   "source": [
    "X_test = df_test.drop(columns='HeartDisease')\n",
    "y_test = df_test['HeartDisease']\n",
    "y_pred_test = grid_search.predict_proba(X_test)[:, 1]\n",
    "roc_auc_test = roc_auc_score(y_test, y_pred_test)\n",
    "print(\n",
    "    f\"Качество модели на тестовой выборке: {round(roc_auc_test, 6)}\",\n",
    ")"
   ]
  },
  {
   "cell_type": "code",
   "execution_count": 53,
   "metadata": {},
   "outputs": [
    {
     "data": {
      "text/html": [
       "<div>\n",
       "<style scoped>\n",
       "    .dataframe tbody tr th:only-of-type {\n",
       "        vertical-align: middle;\n",
       "    }\n",
       "\n",
       "    .dataframe tbody tr th {\n",
       "        vertical-align: top;\n",
       "    }\n",
       "\n",
       "    .dataframe thead th {\n",
       "        text-align: right;\n",
       "    }\n",
       "</style>\n",
       "<table border=\"1\" class=\"dataframe\">\n",
       "  <thead>\n",
       "    <tr style=\"text-align: right;\">\n",
       "      <th></th>\n",
       "      <th>0</th>\n",
       "      <th>1</th>\n",
       "      <th>accuracy</th>\n",
       "      <th>macro avg</th>\n",
       "      <th>weighted avg</th>\n",
       "    </tr>\n",
       "  </thead>\n",
       "  <tbody>\n",
       "    <tr>\n",
       "      <th>precision</th>\n",
       "      <td>0.770270</td>\n",
       "      <td>0.894309</td>\n",
       "      <td>0.847716</td>\n",
       "      <td>0.832290</td>\n",
       "      <td>0.850234</td>\n",
       "    </tr>\n",
       "    <tr>\n",
       "      <th>recall</th>\n",
       "      <td>0.814286</td>\n",
       "      <td>0.866142</td>\n",
       "      <td>0.847716</td>\n",
       "      <td>0.840214</td>\n",
       "      <td>0.847716</td>\n",
       "    </tr>\n",
       "    <tr>\n",
       "      <th>f1-score</th>\n",
       "      <td>0.791667</td>\n",
       "      <td>0.880000</td>\n",
       "      <td>0.847716</td>\n",
       "      <td>0.835833</td>\n",
       "      <td>0.848613</td>\n",
       "    </tr>\n",
       "    <tr>\n",
       "      <th>support</th>\n",
       "      <td>70.000000</td>\n",
       "      <td>127.000000</td>\n",
       "      <td>0.847716</td>\n",
       "      <td>197.000000</td>\n",
       "      <td>197.000000</td>\n",
       "    </tr>\n",
       "  </tbody>\n",
       "</table>\n",
       "</div>"
      ],
      "text/plain": [
       "                   0           1  accuracy   macro avg  weighted avg\n",
       "precision   0.770270    0.894309  0.847716    0.832290      0.850234\n",
       "recall      0.814286    0.866142  0.847716    0.840214      0.847716\n",
       "f1-score    0.791667    0.880000  0.847716    0.835833      0.848613\n",
       "support    70.000000  127.000000  0.847716  197.000000    197.000000"
      ]
     },
     "execution_count": 53,
     "metadata": {},
     "output_type": "execute_result"
    }
   ],
   "source": [
    "pd.DataFrame(\n",
    "    classification_report(y_test, grid_search.predict(X_test), output_dict=True)\n",
    ")"
   ]
  },
  {
   "cell_type": "code",
   "execution_count": 54,
   "metadata": {},
   "outputs": [
    {
     "data": {
      "image/png": "[encoded data removed]",
      "text/plain": [
       "<Figure size 500x400 with 1 Axes>"
      ]
     },
     "metadata": {},
     "output_type": "display_data"
    }
   ],
   "source": [
    "fpr, tpr, thresholds_ = roc_curve(y_test, y_pred_test)\n",
    "plt.title(\"ROC-AUC на тестовой выборке\")\n",
    "plt.plot(fpr, tpr, label=f\"AUC = {roc_auc_test:.4f}\", **param_plt)\n",
    "plt.legend(loc=\"lower right\")\n",
    "plt.plot([0, 1], [0, 1], linestyle=\"--\")\n",
    "plt.axis(\"tight\")\n",
    "plt.ylabel(\"True Positive Rate\")\n",
    "plt.xlabel(\"False Positive Rate\")\n",
    "plt.show()"
   ]
  },
  {
   "cell_type": "markdown",
   "metadata": {},
   "source": [
    "<div class=\"alert alert-warning\">\n",
    "\n",
    "**Вывод:**\n",
    "</br>\n",
    "Лучший результат ROC-AUC = 0.8900 на тестовых данных показала модель RandomForestClassifier с параметрами:\n",
    "- max_depth: 7,\n",
    "- min_samples_leaf: 1,\n",
    "- min_samples_split: 8,\n",
    "- n_estimators: 151.\n",
    "\n",
    "В пайплайне были заполнены пропуски, преобразованы категориальные признаки и выбрана лучшая модель.\n",
    "Самые важные признаки, выделенные моделью, связаны с болью в груди."
   ]
  }
 ],
 "metadata": {
  "kernelspec": {
   "display_name": "venv",
   "language": "python",
   "name": "python3"
  },
  "language_info": {
   "codemirror_mode": {
    "name": "ipython",
    "version": 3
   },
   "file_extension": ".py",
   "mimetype": "text/x-python",
   "name": "python",
   "nbconvert_exporter": "python",
   "pygments_lexer": "ipython3",
   "version": "3.10.12"
  }
 },
 "nbformat": 4,
 "nbformat_minor": 2
}
