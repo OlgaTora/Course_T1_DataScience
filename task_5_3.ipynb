{
 "cells": [
  {
   "cell_type": "markdown",
   "metadata": {},
   "source": [
    "<div class=\"alert alert-info\">\n",
    "<h3>Задание</h3>\n",
    "Основные цели этого задания:\n",
    "\n",
    "- Научиться генерировать негативы.\n",
    "- Научиться настраивать алгоритмы коллаборативной фильтрации.\n",
    "\n",
    "<h4>Задача:</h4>\n",
    "Научиться рекомендовать пользователям фильмы на основе факта просмотра фильмов пользователями. "
   ]
  },
  {
   "cell_type": "code",
   "execution_count": 1,
   "metadata": {},
   "outputs": [],
   "source": [
    "import pandas as pd\n",
    "import numpy as np\n",
    "import matplotlib.pyplot as plt\n",
    "\n",
    "from random import choice, random\n",
    "import scipy.sparse as sp\n",
    "from sklearn.metrics.pairwise import cosine_distances\n",
    "from sklearn.model_selection import train_test_split\n",
    "from sklearn.metrics import mean_squared_error\n",
    "from scipy.sparse.linalg import svds\n",
    "\n",
    "pd.options.display.float_format ='{:,.3f}'.format"
   ]
  },
  {
   "cell_type": "markdown",
   "metadata": {},
   "source": [
    "## <div style=\"border: 1px solid purple; padding: 10px; color: blue\"> Задача 1.</div>\n",
    "Предположим, постановка рейтинга — обязательное по итогам просмотра фильмов действие. Основываясь на этом, сгенерируйте новый целевой признак «факт просмотра фильма пользователем», который будет равен 1 для всех пар пользователь * фильм из подгруженного датасета."
   ]
  },
  {
   "cell_type": "code",
   "execution_count": 2,
   "metadata": {},
   "outputs": [],
   "source": [
    "try:\n",
    "    ratings = pd.read_csv(\"ratings_df_sample_2.csv\")\n",
    "    movies = pd.read_csv(\"movies.csv\")\n",
    "except FileNotFoundError:\n",
    "    print(\"You have to load the file to the directory before opening it.\")"
   ]
  },
  {
   "cell_type": "code",
   "execution_count": 3,
   "metadata": {},
   "outputs": [
    {
     "data": {
      "text/html": [
       "<div>\n",
       "<style scoped>\n",
       "    .dataframe tbody tr th:only-of-type {\n",
       "        vertical-align: middle;\n",
       "    }\n",
       "\n",
       "    .dataframe tbody tr th {\n",
       "        vertical-align: top;\n",
       "    }\n",
       "\n",
       "    .dataframe thead th {\n",
       "        text-align: right;\n",
       "    }\n",
       "</style>\n",
       "<table border=\"1\" class=\"dataframe\">\n",
       "  <thead>\n",
       "    <tr style=\"text-align: right;\">\n",
       "      <th></th>\n",
       "      <th>userId</th>\n",
       "      <th>movieId</th>\n",
       "      <th>rating</th>\n",
       "      <th>timestamp</th>\n",
       "    </tr>\n",
       "  </thead>\n",
       "  <tbody>\n",
       "    <tr>\n",
       "      <th>0</th>\n",
       "      <td>54</td>\n",
       "      <td>2</td>\n",
       "      <td>3.000</td>\n",
       "      <td>974918176</td>\n",
       "    </tr>\n",
       "    <tr>\n",
       "      <th>1</th>\n",
       "      <td>54</td>\n",
       "      <td>32</td>\n",
       "      <td>5.000</td>\n",
       "      <td>974836809</td>\n",
       "    </tr>\n",
       "    <tr>\n",
       "      <th>2</th>\n",
       "      <td>54</td>\n",
       "      <td>47</td>\n",
       "      <td>4.000</td>\n",
       "      <td>974837760</td>\n",
       "    </tr>\n",
       "    <tr>\n",
       "      <th>3</th>\n",
       "      <td>54</td>\n",
       "      <td>50</td>\n",
       "      <td>4.000</td>\n",
       "      <td>974837760</td>\n",
       "    </tr>\n",
       "    <tr>\n",
       "      <th>4</th>\n",
       "      <td>54</td>\n",
       "      <td>223</td>\n",
       "      <td>5.000</td>\n",
       "      <td>974840217</td>\n",
       "    </tr>\n",
       "  </tbody>\n",
       "</table>\n",
       "</div>"
      ],
      "text/plain": [
       "   userId  movieId  rating  timestamp\n",
       "0      54        2   3.000  974918176\n",
       "1      54       32   5.000  974836809\n",
       "2      54       47   4.000  974837760\n",
       "3      54       50   4.000  974837760\n",
       "4      54      223   5.000  974840217"
      ]
     },
     "execution_count": 3,
     "metadata": {},
     "output_type": "execute_result"
    }
   ],
   "source": [
    "ratings.head(5)"
   ]
  },
  {
   "cell_type": "code",
   "execution_count": 4,
   "metadata": {},
   "outputs": [],
   "source": [
    "len_df  = ratings.shape"
   ]
  },
  {
   "cell_type": "code",
   "execution_count": 5,
   "metadata": {},
   "outputs": [
    {
     "name": "stdout",
     "output_type": "stream",
     "text": [
      "Ratings (6040099, 4), movies (27278, 3)\n"
     ]
    }
   ],
   "source": [
    "print(f\"Ratings {len_df}, movies {movies.shape}\")"
   ]
  },
  {
   "cell_type": "code",
   "execution_count": 6,
   "metadata": {},
   "outputs": [],
   "source": [
    "ratings[\"is_viewed\"] = 1"
   ]
  },
  {
   "cell_type": "code",
   "execution_count": 7,
   "metadata": {},
   "outputs": [
    {
     "data": {
      "text/plain": [
       "is_viewed\n",
       "1    6040099\n",
       "Name: count, dtype: int64"
      ]
     },
     "execution_count": 7,
     "metadata": {},
     "output_type": "execute_result"
    }
   ],
   "source": [
    "ratings.is_viewed.value_counts()"
   ]
  },
  {
   "cell_type": "code",
   "execution_count": 8,
   "metadata": {},
   "outputs": [],
   "source": [
    "ratings = ratings.merge(movies, on=\"movieId\")"
   ]
  },
  {
   "cell_type": "code",
   "execution_count": 9,
   "metadata": {},
   "outputs": [
    {
     "data": {
      "text/html": [
       "<div>\n",
       "<style scoped>\n",
       "    .dataframe tbody tr th:only-of-type {\n",
       "        vertical-align: middle;\n",
       "    }\n",
       "\n",
       "    .dataframe tbody tr th {\n",
       "        vertical-align: top;\n",
       "    }\n",
       "\n",
       "    .dataframe thead th {\n",
       "        text-align: right;\n",
       "    }\n",
       "</style>\n",
       "<table border=\"1\" class=\"dataframe\">\n",
       "  <thead>\n",
       "    <tr style=\"text-align: right;\">\n",
       "      <th></th>\n",
       "      <th>userId</th>\n",
       "      <th>movieId</th>\n",
       "      <th>rating</th>\n",
       "      <th>timestamp</th>\n",
       "      <th>is_viewed</th>\n",
       "    </tr>\n",
       "  </thead>\n",
       "  <tbody>\n",
       "    <tr>\n",
       "      <th>count</th>\n",
       "      <td>6,040,099.000</td>\n",
       "      <td>6,040,099.000</td>\n",
       "      <td>6,040,099.000</td>\n",
       "      <td>6,040,099.000</td>\n",
       "      <td>6,040,099.000</td>\n",
       "    </tr>\n",
       "    <tr>\n",
       "      <th>mean</th>\n",
       "      <td>68,804.817</td>\n",
       "      <td>4,822.958</td>\n",
       "      <td>3.554</td>\n",
       "      <td>1,115,774,334.985</td>\n",
       "      <td>1.000</td>\n",
       "    </tr>\n",
       "    <tr>\n",
       "      <th>std</th>\n",
       "      <td>40,102.241</td>\n",
       "      <td>11,368.034</td>\n",
       "      <td>1.003</td>\n",
       "      <td>135,843,321.295</td>\n",
       "      <td>0.000</td>\n",
       "    </tr>\n",
       "    <tr>\n",
       "      <th>min</th>\n",
       "      <td>7.000</td>\n",
       "      <td>1.000</td>\n",
       "      <td>0.500</td>\n",
       "      <td>824,835,410.000</td>\n",
       "      <td>1.000</td>\n",
       "    </tr>\n",
       "    <tr>\n",
       "      <th>25%</th>\n",
       "      <td>34,180.000</td>\n",
       "      <td>919.000</td>\n",
       "      <td>3.000</td>\n",
       "      <td>995,660,158.000</td>\n",
       "      <td>1.000</td>\n",
       "    </tr>\n",
       "    <tr>\n",
       "      <th>50%</th>\n",
       "      <td>68,914.000</td>\n",
       "      <td>1,876.000</td>\n",
       "      <td>4.000</td>\n",
       "      <td>1,111,706,240.000</td>\n",
       "      <td>1.000</td>\n",
       "    </tr>\n",
       "    <tr>\n",
       "      <th>75%</th>\n",
       "      <td>103,281.000</td>\n",
       "      <td>3,448.000</td>\n",
       "      <td>4.000</td>\n",
       "      <td>1,213,151,458.500</td>\n",
       "      <td>1.000</td>\n",
       "    </tr>\n",
       "    <tr>\n",
       "      <th>max</th>\n",
       "      <td>138,493.000</td>\n",
       "      <td>81,845.000</td>\n",
       "      <td>5.000</td>\n",
       "      <td>1,427,780,469.000</td>\n",
       "      <td>1.000</td>\n",
       "    </tr>\n",
       "  </tbody>\n",
       "</table>\n",
       "</div>"
      ],
      "text/plain": [
       "             userId       movieId        rating         timestamp  \\\n",
       "count 6,040,099.000 6,040,099.000 6,040,099.000     6,040,099.000   \n",
       "mean     68,804.817     4,822.958         3.554 1,115,774,334.985   \n",
       "std      40,102.241    11,368.034         1.003   135,843,321.295   \n",
       "min           7.000         1.000         0.500   824,835,410.000   \n",
       "25%      34,180.000       919.000         3.000   995,660,158.000   \n",
       "50%      68,914.000     1,876.000         4.000 1,111,706,240.000   \n",
       "75%     103,281.000     3,448.000         4.000 1,213,151,458.500   \n",
       "max     138,493.000    81,845.000         5.000 1,427,780,469.000   \n",
       "\n",
       "          is_viewed  \n",
       "count 6,040,099.000  \n",
       "mean          1.000  \n",
       "std           0.000  \n",
       "min           1.000  \n",
       "25%           1.000  \n",
       "50%           1.000  \n",
       "75%           1.000  \n",
       "max           1.000  "
      ]
     },
     "execution_count": 9,
     "metadata": {},
     "output_type": "execute_result"
    }
   ],
   "source": [
    "ratings.describe()"
   ]
  },
  {
   "cell_type": "markdown",
   "metadata": {},
   "source": [
    "Перекодируем айди фильма и пользователя, чтобы они шли по порядку."
   ]
  },
  {
   "cell_type": "code",
   "execution_count": 10,
   "metadata": {},
   "outputs": [],
   "source": [
    "ratings[\"userId\"] = pd.factorize(ratings[\"userId\"])[0]\n",
    "ratings[\"movieId\"] = pd.factorize(ratings[\"movieId\"])[0]"
   ]
  },
  {
   "cell_type": "code",
   "execution_count": 11,
   "metadata": {},
   "outputs": [
    {
     "data": {
      "text/plain": [
       "(0, 999)"
      ]
     },
     "execution_count": 11,
     "metadata": {},
     "output_type": "execute_result"
    }
   ],
   "source": [
    "ratings.movieId.min(), ratings.movieId.max()"
   ]
  },
  {
   "cell_type": "markdown",
   "metadata": {},
   "source": [
    "## <div style=\"border: 1px solid purple; padding: 10px; color: blue\"> Задача 2.</div>\n",
    "А откуда взять «нолики»? В наших данных есть только пары пользователь * фильм, в которых пользователь точно смотрел фильм. Но для обучения модели нужны так называемые «негативы», то есть, пары, где пользователь фильм не смотрел. На практике приходится сталкиваться с необходимостью генерировать их вручную, давайте потренируемся это делать."
   ]
  },
  {
   "cell_type": "markdown",
   "metadata": {},
   "source": [
    "2.1. Сначала найдите уникальные id всех пользователей и уникальные id всех фильмов."
   ]
  },
  {
   "cell_type": "code",
   "execution_count": 12,
   "metadata": {},
   "outputs": [
    {
     "name": "stdout",
     "output_type": "stream",
     "text": [
      "Unique users: 20000\n",
      "unique films: 1000\n"
     ]
    }
   ],
   "source": [
    "unique_users = ratings.userId.unique()\n",
    "unique_films = ratings.movieId.unique()\n",
    "print(\n",
    "    f\"Unique users: {unique_users.shape[0]}\\n\\\n",
    "unique films: {unique_films.shape[0]}\"\n",
    ")"
   ]
  },
  {
   "cell_type": "markdown",
   "metadata": {},
   "source": [
    "2.2. С помощью функции random.choice (документация) сгенерируйте случайные пары пользователь * фильм\\\n",
    "2.3. Поскольку среди сгенерированных пар могут быть и такие, что пользователь в них уже смотрел фильм, сгенерируйте побольше пар, например, удвоенное количество строк из источника. Это может занять пару минут."
   ]
  },
  {
   "cell_type": "code",
   "execution_count": 13,
   "metadata": {},
   "outputs": [],
   "source": [
    "random_pairs = pd.DataFrame(\n",
    "    [\n",
    "        (\n",
    "            choice(range(0, unique_users.shape[0])),\n",
    "            choice(range(0, unique_films.shape[0])),\n",
    "        )\n",
    "        for i in range(ratings.shape[0] * 2)\n",
    "    ],\n",
    "    columns=[\"userId\", \"movieId\"],\n",
    ")"
   ]
  },
  {
   "cell_type": "markdown",
   "metadata": {},
   "source": [
    "2.4. Среди сгенерированных пар могут быть и дубликаты, удалите их."
   ]
  },
  {
   "cell_type": "code",
   "execution_count": 14,
   "metadata": {},
   "outputs": [
    {
     "name": "stdout",
     "output_type": "stream",
     "text": [
      "Duplicates sum: 3013290\n"
     ]
    }
   ],
   "source": [
    "print(f'Duplicates sum: {random_pairs[random_pairs.duplicated()].shape[0]}')\n",
    "random_pairs.drop_duplicates(inplace=True, ignore_index=True)"
   ]
  },
  {
   "cell_type": "markdown",
   "metadata": {},
   "source": [
    "2.5. Оставьте среди сгенерированных пар только те, в которых пользователь фильм не смотрел.\\\n",
    "2.6. Возможно, пар получилось больше, чем нужно, выберите из них столько, сколько у нас строк в исходных данных.\\\n",
    "2.7. Добавьте очищенные сгенерированные пары к исходным данным. Значение целевого признака в них будет равно нулю. Убедитесь, что у вас не появились дубликаты в датасете."
   ]
  },
  {
   "cell_type": "markdown",
   "metadata": {},
   "source": [
    "Соединим данные, таким образом, быстрее уберем дубликаты по столбцам с айди пользователя и фильма. "
   ]
  },
  {
   "cell_type": "code",
   "execution_count": 15,
   "metadata": {},
   "outputs": [
    {
     "data": {
      "text/plain": [
       "(15107007, 7)"
      ]
     },
     "execution_count": 15,
     "metadata": {},
     "output_type": "execute_result"
    }
   ],
   "source": [
    "ratings = pd.concat([ratings,random_pairs])\n",
    "ratings.shape"
   ]
  },
  {
   "cell_type": "markdown",
   "metadata": {},
   "source": [
    "Удалим дубликаты по столбцам с айди, оставляя первый дубликат (так как первыми идут исходные данные)"
   ]
  },
  {
   "cell_type": "code",
   "execution_count": 16,
   "metadata": {},
   "outputs": [],
   "source": [
    "ratings.drop_duplicates(\n",
    "    inplace=True, ignore_index=True, subset=[\"userId\", \"movieId\"], keep=\"first\"\n",
    ")"
   ]
  },
  {
   "cell_type": "code",
   "execution_count": 17,
   "metadata": {},
   "outputs": [
    {
     "data": {
      "text/plain": [
       "(12371088, 7)"
      ]
     },
     "execution_count": 17,
     "metadata": {},
     "output_type": "execute_result"
    }
   ],
   "source": [
    "ratings.shape"
   ]
  },
  {
   "cell_type": "code",
   "execution_count": 18,
   "metadata": {},
   "outputs": [
    {
     "data": {
      "text/plain": [
       "(12080198, 7)"
      ]
     },
     "execution_count": 18,
     "metadata": {},
     "output_type": "execute_result"
    }
   ],
   "source": [
    "ratings = ratings.iloc[:(len_df[0] * 2)]\n",
    "ratings.shape"
   ]
  },
  {
   "cell_type": "code",
   "execution_count": 19,
   "metadata": {},
   "outputs": [
    {
     "name": "stdout",
     "output_type": "stream",
     "text": [
      "Duplicates sum: 0\n"
     ]
    }
   ],
   "source": [
    "print(f'Duplicates sum: {ratings[ratings.duplicated()].shape[0]}')"
   ]
  },
  {
   "cell_type": "markdown",
   "metadata": {},
   "source": [
    "Заполним нулями новые пары пользователь-фильм."
   ]
  },
  {
   "cell_type": "code",
   "execution_count": 20,
   "metadata": {},
   "outputs": [],
   "source": [
    "ratings.is_viewed = ratings.is_viewed.fillna(0)"
   ]
  },
  {
   "cell_type": "code",
   "execution_count": 21,
   "metadata": {},
   "outputs": [
    {
     "data": {
      "text/html": [
       "<div>\n",
       "<style scoped>\n",
       "    .dataframe tbody tr th:only-of-type {\n",
       "        vertical-align: middle;\n",
       "    }\n",
       "\n",
       "    .dataframe tbody tr th {\n",
       "        vertical-align: top;\n",
       "    }\n",
       "\n",
       "    .dataframe thead th {\n",
       "        text-align: right;\n",
       "    }\n",
       "</style>\n",
       "<table border=\"1\" class=\"dataframe\">\n",
       "  <thead>\n",
       "    <tr style=\"text-align: right;\">\n",
       "      <th></th>\n",
       "      <th>userId</th>\n",
       "      <th>movieId</th>\n",
       "      <th>rating</th>\n",
       "      <th>timestamp</th>\n",
       "      <th>is_viewed</th>\n",
       "      <th>title</th>\n",
       "      <th>genres</th>\n",
       "    </tr>\n",
       "  </thead>\n",
       "  <tbody>\n",
       "    <tr>\n",
       "      <th>7104358</th>\n",
       "      <td>9026</td>\n",
       "      <td>57</td>\n",
       "      <td>NaN</td>\n",
       "      <td>NaN</td>\n",
       "      <td>0.000</td>\n",
       "      <td>NaN</td>\n",
       "      <td>NaN</td>\n",
       "    </tr>\n",
       "    <tr>\n",
       "      <th>2150869</th>\n",
       "      <td>6183</td>\n",
       "      <td>431</td>\n",
       "      <td>4.500</td>\n",
       "      <td>1,348,686,378.000</td>\n",
       "      <td>1.000</td>\n",
       "      <td>Interview with the Vampire: The Vampire Chroni...</td>\n",
       "      <td>Drama|Horror</td>\n",
       "    </tr>\n",
       "    <tr>\n",
       "      <th>7223874</th>\n",
       "      <td>18222</td>\n",
       "      <td>687</td>\n",
       "      <td>NaN</td>\n",
       "      <td>NaN</td>\n",
       "      <td>0.000</td>\n",
       "      <td>NaN</td>\n",
       "      <td>NaN</td>\n",
       "    </tr>\n",
       "  </tbody>\n",
       "</table>\n",
       "</div>"
      ],
      "text/plain": [
       "         userId  movieId  rating         timestamp  is_viewed  \\\n",
       "7104358    9026       57     NaN               NaN      0.000   \n",
       "2150869    6183      431   4.500 1,348,686,378.000      1.000   \n",
       "7223874   18222      687     NaN               NaN      0.000   \n",
       "\n",
       "                                                     title        genres  \n",
       "7104358                                                NaN           NaN  \n",
       "2150869  Interview with the Vampire: The Vampire Chroni...  Drama|Horror  \n",
       "7223874                                                NaN           NaN  "
      ]
     },
     "execution_count": 21,
     "metadata": {},
     "output_type": "execute_result"
    }
   ],
   "source": [
    "ratings.sample(3)"
   ]
  },
  {
   "cell_type": "markdown",
   "metadata": {},
   "source": [
    "## <div style=\"border: 1px solid purple; padding: 10px; color: blue\"> Задача 3.</div>\n",
    "Подготовьте датасет к обучению: отделите тестовую часть от тренировочной."
   ]
  },
  {
   "cell_type": "code",
   "execution_count": 22,
   "metadata": {},
   "outputs": [],
   "source": [
    "train_data, test_data = train_test_split(ratings, test_size=0.01)"
   ]
  },
  {
   "cell_type": "markdown",
   "metadata": {},
   "source": [
    "## <div style=\"border: 1px solid purple; padding: 10px; color: blue\"> Задача 4.</div>\n",
    "Обучите dummy-model. Пусть она будет возвращать случайную вероятность принадлежности классу 1. Для этого можете использовать функцию random.random (документация). Оцените ее качество какой-то метрикой на свой вкус. Необходимо прогнозировать именно вероятность, чтобы была возможность ранжировать по ней варианты для рекомендации лучшего контента пользователю."
   ]
  },
  {
   "cell_type": "code",
   "execution_count": 23,
   "metadata": {},
   "outputs": [],
   "source": [
    "y_random = [random() for i in range(test_data.shape[0])]"
   ]
  },
  {
   "cell_type": "code",
   "execution_count": 24,
   "metadata": {},
   "outputs": [],
   "source": [
    "test_data[\"predict_random\"] = y_random"
   ]
  },
  {
   "cell_type": "code",
   "execution_count": 25,
   "metadata": {},
   "outputs": [
    {
     "data": {
      "text/html": [
       "<div>\n",
       "<style scoped>\n",
       "    .dataframe tbody tr th:only-of-type {\n",
       "        vertical-align: middle;\n",
       "    }\n",
       "\n",
       "    .dataframe tbody tr th {\n",
       "        vertical-align: top;\n",
       "    }\n",
       "\n",
       "    .dataframe thead th {\n",
       "        text-align: right;\n",
       "    }\n",
       "</style>\n",
       "<table border=\"1\" class=\"dataframe\">\n",
       "  <thead>\n",
       "    <tr style=\"text-align: right;\">\n",
       "      <th></th>\n",
       "      <th>userId</th>\n",
       "      <th>movieId</th>\n",
       "      <th>rating</th>\n",
       "      <th>timestamp</th>\n",
       "      <th>is_viewed</th>\n",
       "      <th>title</th>\n",
       "      <th>genres</th>\n",
       "      <th>predict_random</th>\n",
       "    </tr>\n",
       "  </thead>\n",
       "  <tbody>\n",
       "    <tr>\n",
       "      <th>4749911</th>\n",
       "      <td>14592</td>\n",
       "      <td>167</td>\n",
       "      <td>3.000</td>\n",
       "      <td>938,746,784.000</td>\n",
       "      <td>1.000</td>\n",
       "      <td>Jerry Maguire (1996)</td>\n",
       "      <td>Drama|Romance</td>\n",
       "      <td>0.873</td>\n",
       "    </tr>\n",
       "    <tr>\n",
       "      <th>10391579</th>\n",
       "      <td>6349</td>\n",
       "      <td>351</td>\n",
       "      <td>NaN</td>\n",
       "      <td>NaN</td>\n",
       "      <td>0.000</td>\n",
       "      <td>NaN</td>\n",
       "      <td>NaN</td>\n",
       "      <td>0.828</td>\n",
       "    </tr>\n",
       "    <tr>\n",
       "      <th>11117371</th>\n",
       "      <td>18787</td>\n",
       "      <td>554</td>\n",
       "      <td>NaN</td>\n",
       "      <td>NaN</td>\n",
       "      <td>0.000</td>\n",
       "      <td>NaN</td>\n",
       "      <td>NaN</td>\n",
       "      <td>0.361</td>\n",
       "    </tr>\n",
       "    <tr>\n",
       "      <th>7328153</th>\n",
       "      <td>8565</td>\n",
       "      <td>780</td>\n",
       "      <td>NaN</td>\n",
       "      <td>NaN</td>\n",
       "      <td>0.000</td>\n",
       "      <td>NaN</td>\n",
       "      <td>NaN</td>\n",
       "      <td>0.624</td>\n",
       "    </tr>\n",
       "    <tr>\n",
       "      <th>6538188</th>\n",
       "      <td>17083</td>\n",
       "      <td>750</td>\n",
       "      <td>NaN</td>\n",
       "      <td>NaN</td>\n",
       "      <td>0.000</td>\n",
       "      <td>NaN</td>\n",
       "      <td>NaN</td>\n",
       "      <td>0.079</td>\n",
       "    </tr>\n",
       "  </tbody>\n",
       "</table>\n",
       "</div>"
      ],
      "text/plain": [
       "          userId  movieId  rating       timestamp  is_viewed  \\\n",
       "4749911    14592      167   3.000 938,746,784.000      1.000   \n",
       "10391579    6349      351     NaN             NaN      0.000   \n",
       "11117371   18787      554     NaN             NaN      0.000   \n",
       "7328153     8565      780     NaN             NaN      0.000   \n",
       "6538188    17083      750     NaN             NaN      0.000   \n",
       "\n",
       "                         title         genres  predict_random  \n",
       "4749911   Jerry Maguire (1996)  Drama|Romance           0.873  \n",
       "10391579                   NaN            NaN           0.828  \n",
       "11117371                   NaN            NaN           0.361  \n",
       "7328153                    NaN            NaN           0.624  \n",
       "6538188                    NaN            NaN           0.079  "
      ]
     },
     "execution_count": 25,
     "metadata": {},
     "output_type": "execute_result"
    }
   ],
   "source": [
    "test_data.head()"
   ]
  },
  {
   "cell_type": "markdown",
   "metadata": {},
   "source": [
    "Для оценки моделей используется метрика RMSE, так как она лучше подходит для сравнения качества моделей."
   ]
  },
  {
   "cell_type": "code",
   "execution_count": 26,
   "metadata": {},
   "outputs": [
    {
     "name": "stdout",
     "output_type": "stream",
     "text": [
      "RMSE: 0.5782428510510979\n"
     ]
    }
   ],
   "source": [
    "rmse = np.sqrt(mean_squared_error(test_data[\"predict_random\"], test_data[\"is_viewed\"]))\n",
    "print(f\"RMSE: {rmse}\")"
   ]
  },
  {
   "cell_type": "code",
   "execution_count": 27,
   "metadata": {},
   "outputs": [],
   "source": [
    "results = {}\n",
    "results[\"random\"] = rmse"
   ]
  },
  {
   "cell_type": "markdown",
   "metadata": {},
   "source": [
    "## <div style=\"border: 1px solid purple; padding: 10px; color: blue\"> Задача 5.</div>\n",
    "Реализуйте три алгоритма коллаборативной фильтрации: user-, item-based и алгоритм на основе матричной факторизации. Оцените их качество и адекватность. Если качество недостаточно хорошее, попробуйте варьировать параметры: количество похожих пользователей/фильмов, количество элементов в матрицах при матричном разложении."
   ]
  },
  {
   "cell_type": "markdown",
   "metadata": {},
   "source": [
    "Создадим матрицу user-item. В случае, если нет информации смотрел ли пользователь фильм или нет, возьмем случайные вероятности."
   ]
  },
  {
   "cell_type": "code",
   "execution_count": 28,
   "metadata": {},
   "outputs": [],
   "source": [
    "user_item_matrix = np.random.random(\n",
    "    size=(train_data.userId.nunique(), train_data.movieId.nunique())\n",
    ")"
   ]
  },
  {
   "cell_type": "markdown",
   "metadata": {},
   "source": [
    "Для разложения матрицы необходимо, чтобы тип значений в ней был float."
   ]
  },
  {
   "cell_type": "code",
   "execution_count": 29,
   "metadata": {},
   "outputs": [],
   "source": [
    "for row in train_data.to_dict(orient=\"records\"):\n",
    "    user_item_matrix[row[\"userId\"], row[\"movieId\"]] = float(row[\"is_viewed\"])"
   ]
  },
  {
   "cell_type": "code",
   "execution_count": 30,
   "metadata": {},
   "outputs": [
    {
     "data": {
      "text/plain": [
       "array([[1.        , 1.        , 1.        , ..., 0.        , 0.12244168,\n",
       "        0.67378753],\n",
       "       [1.        , 1.        , 1.        , ..., 0.04939297, 0.        ,\n",
       "        0.        ],\n",
       "       [1.        , 1.        , 1.        , ..., 0.34493458, 0.        ,\n",
       "        0.56101566],\n",
       "       ...,\n",
       "       [0.        , 0.92311035, 0.        , ..., 0.        , 0.        ,\n",
       "        0.73940459],\n",
       "       [0.        , 0.        , 0.48870682, ..., 0.27365426, 1.        ,\n",
       "        0.        ],\n",
       "       [0.72280199, 0.        , 0.        , ..., 0.96493973, 0.99673084,\n",
       "        0.        ]])"
      ]
     },
     "execution_count": 30,
     "metadata": {},
     "output_type": "execute_result"
    }
   ],
   "source": [
    "user_item_matrix"
   ]
  },
  {
   "cell_type": "markdown",
   "metadata": {},
   "source": [
    "### Алгоритм user-based"
   ]
  },
  {
   "cell_type": "markdown",
   "metadata": {},
   "source": [
    "Определим количество схожих фильмов и пользователей."
   ]
  },
  {
   "cell_type": "code",
   "execution_count": 31,
   "metadata": {},
   "outputs": [],
   "source": [
    "top=10"
   ]
  },
  {
   "cell_type": "code",
   "execution_count": 32,
   "metadata": {},
   "outputs": [],
   "source": [
    "user_similarity = cosine_distances(user_item_matrix)"
   ]
  },
  {
   "cell_type": "code",
   "execution_count": 33,
   "metadata": {},
   "outputs": [],
   "source": [
    "top_similar_users = []\n",
    "for i in range(train_data.userId.nunique()):\n",
    "    neighbors = (user_similarity[i]).argsort()[1 : top + 1]\n",
    "    top_similar_users.append(user_item_matrix[neighbors])\n",
    "top_similar_users = np.array(top_similar_users)"
   ]
  },
  {
   "cell_type": "markdown",
   "metadata": {},
   "source": [
    "Возьмем среднее значение по ближайшим пользователям."
   ]
  },
  {
   "cell_type": "code",
   "execution_count": 34,
   "metadata": {},
   "outputs": [],
   "source": [
    "pred_user_based = top_similar_users.mean(axis=1)"
   ]
  },
  {
   "cell_type": "code",
   "execution_count": 35,
   "metadata": {},
   "outputs": [],
   "source": [
    "test_data[\"predict_user_based\"] = test_data.apply(\n",
    "    lambda f: pred_user_based[f[\"userId\"], f[\"movieId\"]], axis=1\n",
    ")"
   ]
  },
  {
   "cell_type": "code",
   "execution_count": 36,
   "metadata": {},
   "outputs": [
    {
     "name": "stdout",
     "output_type": "stream",
     "text": [
      "RMSE: 0.6561431096712502\n"
     ]
    }
   ],
   "source": [
    "rmse = np.sqrt(\n",
    "    mean_squared_error(test_data[\"predict_user_based\"], test_data[\"is_viewed\"])\n",
    ")\n",
    "print(f\"RMSE: {rmse}\")"
   ]
  },
  {
   "cell_type": "code",
   "execution_count": 37,
   "metadata": {},
   "outputs": [],
   "source": [
    "results['predict_user_based'] = rmse"
   ]
  },
  {
   "cell_type": "markdown",
   "metadata": {},
   "source": [
    "### Алгоритм item-based"
   ]
  },
  {
   "cell_type": "code",
   "execution_count": 38,
   "metadata": {},
   "outputs": [],
   "source": [
    "movies_similarity = cosine_distances(user_item_matrix.T)"
   ]
  },
  {
   "cell_type": "code",
   "execution_count": 39,
   "metadata": {},
   "outputs": [],
   "source": [
    "top_similar_ratings = []\n",
    "for i in range(train_data.movieId.nunique()):\n",
    "    neighbors = (movies_similarity[i]).argsort()[1 : top + 1]\n",
    "    top_similar_ratings.append(user_item_matrix.T[neighbors])\n",
    "\n",
    "top_similar_ratings = np.array(top_similar_ratings)"
   ]
  },
  {
   "cell_type": "code",
   "execution_count": 40,
   "metadata": {},
   "outputs": [],
   "source": [
    "pred_item_based = top_similar_ratings.mean(1).T"
   ]
  },
  {
   "cell_type": "code",
   "execution_count": 41,
   "metadata": {},
   "outputs": [],
   "source": [
    "test_data[\"predict_item_based\"] = test_data.apply(\n",
    "    lambda f: pred_item_based[f[\"userId\"], f[\"movieId\"]], axis=1\n",
    ")"
   ]
  },
  {
   "cell_type": "code",
   "execution_count": 42,
   "metadata": {},
   "outputs": [
    {
     "name": "stdout",
     "output_type": "stream",
     "text": [
      "RMSE: 0.6004838915132379\n"
     ]
    }
   ],
   "source": [
    "rmse = np.sqrt(\n",
    "    mean_squared_error(test_data[\"predict_item_based\"], test_data[\"is_viewed\"])\n",
    ")\n",
    "print(f\"RMSE: {rmse}\")"
   ]
  },
  {
   "cell_type": "code",
   "execution_count": 43,
   "metadata": {},
   "outputs": [],
   "source": [
    "results[\"predict_item_based\"] = rmse"
   ]
  },
  {
   "cell_type": "markdown",
   "metadata": {},
   "source": [
    "### Алгоритм на основе матричного разложения"
   ]
  },
  {
   "cell_type": "code",
   "execution_count": 44,
   "metadata": {},
   "outputs": [],
   "source": [
    "u, s, vh = svds(user_item_matrix, k=top)"
   ]
  },
  {
   "cell_type": "code",
   "execution_count": 45,
   "metadata": {},
   "outputs": [],
   "source": [
    "users = np.dot(u, np.diag(s))\n",
    "items = vh.T"
   ]
  },
  {
   "cell_type": "code",
   "execution_count": 46,
   "metadata": {},
   "outputs": [
    {
     "data": {
      "text/plain": [
       "(10, 10)"
      ]
     },
     "execution_count": 46,
     "metadata": {},
     "output_type": "execute_result"
    }
   ],
   "source": [
    "np.diag(s).shape"
   ]
  },
  {
   "cell_type": "code",
   "execution_count": 47,
   "metadata": {},
   "outputs": [],
   "source": [
    "test_data['svd_predictions'] = test_data.apply(\n",
    "    lambda f: np.dot(users[f['userId']], items[f['movieId']]), axis = 1\n",
    ")u"
   ]
  },
  {
   "cell_type": "code",
   "execution_count": 48,
   "metadata": {},
   "outputs": [
    {
     "name": "stdout",
     "output_type": "stream",
     "text": [
      "RMSE: 0.4060473050163802\n"
     ]
    }
   ],
   "source": [
    "rmse = np.sqrt(mean_squared_error(test_data[\"svd_predictions\"], test_data[\"is_viewed\"]))\n",
    "print(f\"RMSE: {rmse}\")"
   ]
  },
  {
   "cell_type": "code",
   "execution_count": 49,
   "metadata": {},
   "outputs": [],
   "source": [
    "results[\"svd_predictions\"] = rmse"
   ]
  },
  {
   "cell_type": "markdown",
   "metadata": {},
   "source": [
    "## <div style=\"border: 1px solid purple; padding: 10px; color: blue\"> Задача 6.</div>\n",
    "Опишите вывод, содержащий информацию о том, какой алгоритм проявил себя лучше всего."
   ]
  },
  {
   "cell_type": "code",
   "execution_count": 50,
   "metadata": {},
   "outputs": [
    {
     "data": {
      "text/html": [
       "<div>\n",
       "<style scoped>\n",
       "    .dataframe tbody tr th:only-of-type {\n",
       "        vertical-align: middle;\n",
       "    }\n",
       "\n",
       "    .dataframe tbody tr th {\n",
       "        vertical-align: top;\n",
       "    }\n",
       "\n",
       "    .dataframe thead th {\n",
       "        text-align: right;\n",
       "    }\n",
       "</style>\n",
       "<table border=\"1\" class=\"dataframe\">\n",
       "  <thead>\n",
       "    <tr style=\"text-align: right;\">\n",
       "      <th></th>\n",
       "      <th>index</th>\n",
       "      <th>result</th>\n",
       "    </tr>\n",
       "  </thead>\n",
       "  <tbody>\n",
       "    <tr>\n",
       "      <th>3</th>\n",
       "      <td>svd_predictions</td>\n",
       "      <td>0.406</td>\n",
       "    </tr>\n",
       "    <tr>\n",
       "      <th>0</th>\n",
       "      <td>random</td>\n",
       "      <td>0.578</td>\n",
       "    </tr>\n",
       "    <tr>\n",
       "      <th>2</th>\n",
       "      <td>predict_item_based</td>\n",
       "      <td>0.600</td>\n",
       "    </tr>\n",
       "    <tr>\n",
       "      <th>1</th>\n",
       "      <td>predict_user_based</td>\n",
       "      <td>0.656</td>\n",
       "    </tr>\n",
       "  </tbody>\n",
       "</table>\n",
       "</div>"
      ],
      "text/plain": [
       "                index  result\n",
       "3     svd_predictions   0.406\n",
       "0              random   0.578\n",
       "2  predict_item_based   0.600\n",
       "1  predict_user_based   0.656"
      ]
     },
     "execution_count": 50,
     "metadata": {},
     "output_type": "execute_result"
    }
   ],
   "source": [
    "pd.DataFrame.from_dict(\n",
    "    results, orient=\"index\", columns=[\"result\"]\n",
    ").reset_index().sort_values(by=\"result\")"
   ]
  },
  {
   "cell_type": "markdown",
   "metadata": {},
   "source": [
    "<div class=\"alert alert-info\">\n",
    "<h3>Вывод</h3>\n",
    "\n",
    "Лучше всех проявил себя алгоритм на основе матричного разложения."
   ]
  }
 ],
 "metadata": {
  "kernelspec": {
   "display_name": "venv",
   "language": "python",
   "name": "python3"
  },
  "language_info": {
   "codemirror_mode": {
    "name": "ipython",
    "version": 3
   },
   "file_extension": ".py",
   "mimetype": "text/x-python",
   "name": "python",
   "nbconvert_exporter": "python",
   "pygments_lexer": "ipython3",
   "version": "3.10.12"
  }
 },
 "nbformat": 4,
 "nbformat_minor": 2
}
